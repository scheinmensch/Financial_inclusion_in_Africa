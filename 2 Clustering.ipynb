{
 "cells": [
  {
   "cell_type": "markdown",
   "id": "dc973a54-9e19-4ad7-ad88-d637c179f812",
   "metadata": {},
   "source": [
    "# Basics"
   ]
  },
  {
   "cell_type": "code",
   "execution_count": 1,
   "id": "858573b6-5675-4d6a-907f-856cd3cf4de0",
   "metadata": {},
   "outputs": [],
   "source": [
    "# import libraries\n",
    "\n",
    "import pandas as pd\n",
    "import numpy as np\n",
    "import seaborn as sns\n",
    "import matplotlib.pyplot as plt\n",
    "from sklearn.model_selection import train_test_split, GridSearchCV, RandomizedSearchCV\n",
    "from sklearn.metrics import accuracy_score, classification_report, confusion_matrix\n",
    "from sklearn.tree import DecisionTreeClassifier, plot_tree\n",
    "from sklearn.linear_model import LogisticRegression, SGDClassifier\n",
    "from sklearn.cluster import KMeans\n",
    "import warnings\n",
    "warnings.filterwarnings('ignore')\n",
    "\n",
    "RSEED=33\n",
    "\n",
    "c = ['#599190', '#EDAFB8', '#666A86', '#95B8D1', '#E8DDB5']\n",
    "color_cfm = ['#EAF2F2', '#D9E8E8', '#CCDFDF', '#BCD6D5', \"#AACBCA\", '#9AC1C1', '#83B3B2', '#77ABAA', '#6BA4A3', '#5F9C9A', '#599190']"
   ]
  },
  {
   "cell_type": "code",
   "execution_count": 2,
   "id": "5a80b8f7-49b5-480c-8877-62c247ddc8e5",
   "metadata": {},
   "outputs": [],
   "source": [
    "# load data\n",
    "\n",
    "original_train = pd.read_csv('data/Train.csv')\n",
    "original_test = pd.read_csv('data/Test.csv')\n",
    "variables = pd.read_csv('data/VariableDefinitions.csv')"
   ]
  },
  {
   "cell_type": "markdown",
   "id": "e6f63f1c-305d-4696-8b57-1d9cc71373ce",
   "metadata": {},
   "source": [
    "## Clustering\n",
    "\n",
    "I'll try to find some clusters of \"typical\" bank account holders with a clustering algorithm now. I'll use Kmodes since it can handle categorical data too. "
   ]
  },
  {
   "cell_type": "code",
   "execution_count": 3,
   "id": "aece3436-6e75-42e4-a5b0-d4901061c775",
   "metadata": {
    "tags": []
   },
   "outputs": [],
   "source": [
    "#preprocess data for unsupervised learning (clustering), bank_account holders only\n",
    "\n",
    "from sklearn import preprocessing\n",
    "\n",
    "bank_customers = original_train.loc[(original_train.bank_account == \"Yes\")]\n",
    "bank_customers_scaled = bank_customers.drop(['country', 'year', 'uniqueid'], axis=1)\n",
    "scaler = preprocessing.MinMaxScaler()\n",
    "bank_customers_scaled[['age','household']] = scaler.fit_transform(bank_customers[['age_of_respondent','household_size']])"
   ]
  },
  {
   "cell_type": "code",
   "execution_count": 4,
   "id": "dfd82dbf-3462-430e-bb80-f4f574617d73",
   "metadata": {},
   "outputs": [],
   "source": [
    "# remove bank account status to obtain clusters not influenced by this (all in the data frame have bank accounts anyways)\n",
    "\n",
    "bank_customers_scaled2 = bank_customers_scaled.drop(['bank_account'], axis=1)"
   ]
  },
  {
   "cell_type": "code",
   "execution_count": 5,
   "id": "ce9db33f-f4d9-4472-9618-6647d4d0a6ab",
   "metadata": {
    "tags": []
   },
   "outputs": [],
   "source": [
    "# import the necessary package\n",
    "\n",
    "from kmodes.kprototypes import KPrototypes"
   ]
  },
  {
   "cell_type": "code",
   "execution_count": 6,
   "id": "806ba08d-1cf5-4b34-802f-a5a2f34ea5fa",
   "metadata": {
    "tags": []
   },
   "outputs": [],
   "source": [
    "# in order to find the perfect number of clusters, I'll use the elbow method\n",
    "# since this step here takes too long when restarting the kernel I just run it once\n",
    "\n",
    "# cost = []\n",
    "# K = range(1,6)\n",
    "# for num_clusters in list(K):\n",
    "#     kproto = KPrototypes (n_clusters=num_clusters, init = \"Cao\", n_init = 5, verbose=1)\n",
    "#     kproto.fit_predict(bank_customers, categorical=[0,1,4,5,6,7,8])\n",
    "#     cost.append(kproto.cost_)"
   ]
  },
  {
   "cell_type": "code",
   "execution_count": 7,
   "id": "677e594f-6aff-4999-92a8-59162f3a5cb1",
   "metadata": {},
   "outputs": [],
   "source": [
    "# I save the cost computed in the previous step in a variable\n",
    "\n",
    "K = range(1,6)\n",
    "cost = [861.9096379127745,\n",
    " 706.6471529581682,\n",
    " 626.3374351760665,\n",
    " 581.6180868797991,\n",
    " 556.8295447906916]"
   ]
  },
  {
   "cell_type": "code",
   "execution_count": 8,
   "id": "d6c330d3-9f29-4a16-90b2-4bcd5a602871",
   "metadata": {},
   "outputs": [
    {
     "data": {
      "image/png": "[encoded data removed]",
      "text/plain": [
       "<Figure size 640x480 with 1 Axes>"
      ]
     },
     "metadata": {},
     "output_type": "display_data"
    }
   ],
   "source": [
    "# I plot the cost agains number of clusters\n",
    "plt.plot(K, cost, 'bx-')\n",
    "plt.xlabel('No. of clusters')\n",
    "plt.ylabel('Cost')\n",
    "plt.title('Elbow Method For Optimal k')\n",
    "plt.show()"
   ]
  },
  {
   "cell_type": "code",
   "execution_count": 9,
   "id": "aeebb4c0-2a2d-4aa4-91aa-1abd4d597d6e",
   "metadata": {},
   "outputs": [],
   "source": [
    "# optimal k is 4\n",
    "# now I run the clustering\n",
    "# clusters are stored in variable \"clusters\"\n",
    "\n",
    "kproto = KPrototypes(n_clusters=4, init='Cao')\n",
    "clusters = kproto.fit_predict(bank_customers_scaled2, categorical=[0,1,4,5,6,7,8])"
   ]
  },
  {
   "cell_type": "code",
   "execution_count": 10,
   "id": "c4d7b697-f7f3-4565-8359-bd0f9ca329f4",
   "metadata": {},
   "outputs": [],
   "source": [
    "# reset index\n",
    "bank_customers.reset_index(drop=True, inplace=True)"
   ]
  },
  {
   "cell_type": "code",
   "execution_count": 11,
   "id": "8dd31026-abeb-4a87-b8f4-7be79c52022d",
   "metadata": {},
   "outputs": [],
   "source": [
    "# convert clusters to series\n",
    "df_cluster = pd.Series(clusters, name='Cluster')\n",
    "\n",
    "# concatenate clusters and bank_customers to obtain a dataframe with the original data and a new column \"clusters\"\n",
    "df_clustered = pd.concat([bank_customers, df_cluster], axis=1)"
   ]
  },
  {
   "cell_type": "code",
   "execution_count": 12,
   "id": "1c73fbac-9251-4479-bf5e-550d2f67f0d5",
   "metadata": {},
   "outputs": [
    {
     "data": {
      "text/html": [
       "<div>\n",
       "<style scoped>\n",
       "    .dataframe tbody tr th:only-of-type {\n",
       "        vertical-align: middle;\n",
       "    }\n",
       "\n",
       "    .dataframe tbody tr th {\n",
       "        vertical-align: top;\n",
       "    }\n",
       "\n",
       "    .dataframe thead th {\n",
       "        text-align: right;\n",
       "    }\n",
       "</style>\n",
       "<table border=\"1\" class=\"dataframe\">\n",
       "  <thead>\n",
       "    <tr style=\"text-align: right;\">\n",
       "      <th></th>\n",
       "      <th>Segment</th>\n",
       "      <th>Cluster</th>\n",
       "      <th>location_type</th>\n",
       "      <th>cellphone_access</th>\n",
       "      <th>household_size</th>\n",
       "      <th>age_of_respondent</th>\n",
       "      <th>gender_of_respondent</th>\n",
       "      <th>relationship_with_head</th>\n",
       "      <th>marital_status</th>\n",
       "      <th>education_level</th>\n",
       "      <th>job_type</th>\n",
       "    </tr>\n",
       "  </thead>\n",
       "  <tbody>\n",
       "    <tr>\n",
       "      <th>0</th>\n",
       "      <td>First</td>\n",
       "      <td>304</td>\n",
       "      <td>Rural</td>\n",
       "      <td>Yes</td>\n",
       "      <td>3.115132</td>\n",
       "      <td>70.891447</td>\n",
       "      <td>Male</td>\n",
       "      <td>Head of Household</td>\n",
       "      <td>Married/Living together</td>\n",
       "      <td>Primary education</td>\n",
       "      <td>Farming and Fishing</td>\n",
       "    </tr>\n",
       "    <tr>\n",
       "      <th>1</th>\n",
       "      <td>Fourth</td>\n",
       "      <td>630</td>\n",
       "      <td>Rural</td>\n",
       "      <td>Yes</td>\n",
       "      <td>3.868254</td>\n",
       "      <td>52.604762</td>\n",
       "      <td>Male</td>\n",
       "      <td>Head of Household</td>\n",
       "      <td>Married/Living together</td>\n",
       "      <td>Primary education</td>\n",
       "      <td>Farming and Fishing</td>\n",
       "    </tr>\n",
       "    <tr>\n",
       "      <th>2</th>\n",
       "      <td>Second</td>\n",
       "      <td>1105</td>\n",
       "      <td>Rural</td>\n",
       "      <td>Yes</td>\n",
       "      <td>4.149321</td>\n",
       "      <td>38.500452</td>\n",
       "      <td>Male</td>\n",
       "      <td>Head of Household</td>\n",
       "      <td>Married/Living together</td>\n",
       "      <td>Primary education</td>\n",
       "      <td>Self employed</td>\n",
       "    </tr>\n",
       "    <tr>\n",
       "      <th>3</th>\n",
       "      <td>Third</td>\n",
       "      <td>1273</td>\n",
       "      <td>Urban</td>\n",
       "      <td>Yes</td>\n",
       "      <td>3.214454</td>\n",
       "      <td>26.641005</td>\n",
       "      <td>Female</td>\n",
       "      <td>Head of Household</td>\n",
       "      <td>Single/Never Married</td>\n",
       "      <td>Secondary education</td>\n",
       "      <td>Self employed</td>\n",
       "    </tr>\n",
       "  </tbody>\n",
       "</table>\n",
       "</div>"
      ],
      "text/plain": [
       "  Segment  Cluster location_type cellphone_access  household_size  \\\n",
       "0   First      304         Rural              Yes        3.115132   \n",
       "1  Fourth      630         Rural              Yes        3.868254   \n",
       "2  Second     1105         Rural              Yes        4.149321   \n",
       "3   Third     1273         Urban              Yes        3.214454   \n",
       "\n",
       "   age_of_respondent gender_of_respondent relationship_with_head  \\\n",
       "0          70.891447                 Male      Head of Household   \n",
       "1          52.604762                 Male      Head of Household   \n",
       "2          38.500452                 Male      Head of Household   \n",
       "3          26.641005               Female      Head of Household   \n",
       "\n",
       "            marital_status      education_level             job_type  \n",
       "0  Married/Living together    Primary education  Farming and Fishing  \n",
       "1  Married/Living together    Primary education  Farming and Fishing  \n",
       "2  Married/Living together    Primary education        Self employed  \n",
       "3     Single/Never Married  Secondary education        Self employed  "
      ]
     },
     "execution_count": 12,
     "metadata": {},
     "output_type": "execute_result"
    }
   ],
   "source": [
    "# map segments to clusters\n",
    "df_clustered['Segment'] = df_clustered['Cluster'].map({0:'First', 1:'Second', 2:'Third', 3: 'Fourth'})\n",
    "\n",
    "# save segments as categorical data\n",
    "df_clustered['Segment'] = df_clustered['Segment'].astype('category')\n",
    "\n",
    "# group by segment and aggregate data (mean for numerical, mode for categorical)\n",
    "df_clustered.groupby('Segment').agg(\n",
    "    {'Cluster':'count',\n",
    "    'location_type': lambda x: x.value_counts().index[0],\n",
    "    'cellphone_access': lambda x: x.value_counts().index[0],\n",
    "    'household_size': 'mean',\n",
    "    'age_of_respondent': 'mean',\n",
    "    'gender_of_respondent': lambda x: x.value_counts().index[0],\n",
    "    'relationship_with_head': lambda x: x.value_counts().index[0],\n",
    "    'marital_status': lambda x: x.value_counts().index[0],\n",
    "    'education_level': lambda x: x.value_counts().index[0],\n",
    "    'job_type': lambda x: x.value_counts().index[0],\n",
    "    }\n",
    ").reset_index()"
   ]
  }
 ],
 "metadata": {
  "kernelspec": {
   "display_name": "Python 3 (ipykernel)",
   "language": "python",
   "name": "python3"
  },
  "language_info": {
   "codemirror_mode": {
    "name": "ipython",
    "version": 3
   },
   "file_extension": ".py",
   "mimetype": "text/x-python",
   "name": "python",
   "nbconvert_exporter": "python",
   "pygments_lexer": "ipython3",
   "version": "3.9.8"
  }
 },
 "nbformat": 4,
 "nbformat_minor": 5
}
