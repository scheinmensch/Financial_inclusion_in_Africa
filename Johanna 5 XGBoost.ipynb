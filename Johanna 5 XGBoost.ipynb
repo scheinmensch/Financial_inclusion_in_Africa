{
 "cells": [
  {
   "cell_type": "markdown",
   "id": "52ddf755-f8c2-4571-9015-6ae870765907",
   "metadata": {},
   "source": [
    "# Business Understanding\n",
    "\n",
    "Access to bank accounts enable households to save and make payments while also helping businesses build up their credit-worthiness and improve their access to loans, insurance, and related services. Therefore, access to bank accounts is an essential contributor to long-term economic growth.\n",
    "\n",
    "The objective of this project is to create a machine learning model to predict which individuals are most likely to have or use a bank account. The models and solutions developed can provide an indication of the state of financial inclusion in Kenya, Rwanda, Tanzania and Uganda, while providing insights into some of the key factors driving individuals’ financial security.\n",
    "\n",
    "## Stakeholder and Evaluation metric\n",
    "\n",
    "*TBA*"
   ]
  },
  {
   "cell_type": "markdown",
   "id": "dc973a54-9e19-4ad7-ad88-d637c179f812",
   "metadata": {},
   "source": [
    "# Basics"
   ]
  },
  {
   "cell_type": "code",
   "execution_count": 1,
   "id": "858573b6-5675-4d6a-907f-856cd3cf4de0",
   "metadata": {},
   "outputs": [],
   "source": [
    "# import libraries\n",
    "\n",
    "import pandas as pd\n",
    "import numpy as np\n",
    "import seaborn as sns\n",
    "import matplotlib.pyplot as plt\n",
    "from sklearn.model_selection import train_test_split, GridSearchCV, RandomizedSearchCV\n",
    "from sklearn.metrics import accuracy_score, classification_report, confusion_matrix\n",
    "from sklearn.tree import DecisionTreeClassifier, plot_tree\n",
    "from sklearn.linear_model import LogisticRegression, SGDClassifier\n",
    "from sklearn.cluster import KMeans\n",
    "\n",
    "RSEED=33"
   ]
  },
  {
   "cell_type": "code",
   "execution_count": 2,
   "id": "5a80b8f7-49b5-480c-8877-62c247ddc8e5",
   "metadata": {},
   "outputs": [],
   "source": [
    "# load data\n",
    "\n",
    "original_train = pd.read_csv('data/Train.csv')\n",
    "original_test = pd.read_csv('data/Test.csv')\n",
    "variables = pd.read_csv('data/VariableDefinitions.csv')"
   ]
  },
  {
   "cell_type": "code",
   "execution_count": 3,
   "id": "70e1b82d-6bbb-4fbf-b911-8c5ecaf5bf4b",
   "metadata": {},
   "outputs": [
    {
     "data": {
      "text/html": [
       "<div>\n",
       "<style scoped>\n",
       "    .dataframe tbody tr th:only-of-type {\n",
       "        vertical-align: middle;\n",
       "    }\n",
       "\n",
       "    .dataframe tbody tr th {\n",
       "        vertical-align: top;\n",
       "    }\n",
       "\n",
       "    .dataframe thead th {\n",
       "        text-align: right;\n",
       "    }\n",
       "</style>\n",
       "<table border=\"1\" class=\"dataframe\">\n",
       "  <thead>\n",
       "    <tr style=\"text-align: right;\">\n",
       "      <th></th>\n",
       "      <th>Variable Definitions</th>\n",
       "      <th>Unnamed: 1</th>\n",
       "    </tr>\n",
       "  </thead>\n",
       "  <tbody>\n",
       "    <tr>\n",
       "      <th>0</th>\n",
       "      <td>country</td>\n",
       "      <td>Country interviewee is in.</td>\n",
       "    </tr>\n",
       "    <tr>\n",
       "      <th>1</th>\n",
       "      <td>year</td>\n",
       "      <td>Year survey was done in.</td>\n",
       "    </tr>\n",
       "    <tr>\n",
       "      <th>2</th>\n",
       "      <td>uniqueid</td>\n",
       "      <td>Unique identifier for each interviewee</td>\n",
       "    </tr>\n",
       "    <tr>\n",
       "      <th>3</th>\n",
       "      <td>location_type</td>\n",
       "      <td>Type of location: Rural, Urban</td>\n",
       "    </tr>\n",
       "    <tr>\n",
       "      <th>4</th>\n",
       "      <td>cellphone_access</td>\n",
       "      <td>If interviewee has access to a cellphone: Yes, No</td>\n",
       "    </tr>\n",
       "    <tr>\n",
       "      <th>5</th>\n",
       "      <td>household_size</td>\n",
       "      <td>Number of people living in one house</td>\n",
       "    </tr>\n",
       "    <tr>\n",
       "      <th>6</th>\n",
       "      <td>age_of_respondent</td>\n",
       "      <td>The age of the interviewee</td>\n",
       "    </tr>\n",
       "    <tr>\n",
       "      <th>7</th>\n",
       "      <td>gender_of_respondent</td>\n",
       "      <td>Gender of interviewee: Male, Female</td>\n",
       "    </tr>\n",
       "    <tr>\n",
       "      <th>8</th>\n",
       "      <td>relationship_with_head</td>\n",
       "      <td>The interviewee’s relationship with the head o...</td>\n",
       "    </tr>\n",
       "    <tr>\n",
       "      <th>9</th>\n",
       "      <td>marital_status</td>\n",
       "      <td>The martial status of the interviewee: Married...</td>\n",
       "    </tr>\n",
       "    <tr>\n",
       "      <th>10</th>\n",
       "      <td>education_level</td>\n",
       "      <td>Highest level of education: No formal educatio...</td>\n",
       "    </tr>\n",
       "    <tr>\n",
       "      <th>11</th>\n",
       "      <td>job_type</td>\n",
       "      <td>Type of job interviewee has: Farming and Fishi...</td>\n",
       "    </tr>\n",
       "  </tbody>\n",
       "</table>\n",
       "</div>"
      ],
      "text/plain": [
       "      Variable Definitions                                         Unnamed: 1\n",
       "0                  country                         Country interviewee is in.\n",
       "1                     year                           Year survey was done in.\n",
       "2                 uniqueid             Unique identifier for each interviewee\n",
       "3            location_type                     Type of location: Rural, Urban\n",
       "4         cellphone_access  If interviewee has access to a cellphone: Yes, No\n",
       "5           household_size               Number of people living in one house\n",
       "6        age_of_respondent                         The age of the interviewee\n",
       "7     gender_of_respondent                Gender of interviewee: Male, Female\n",
       "8   relationship_with_head  The interviewee’s relationship with the head o...\n",
       "9           marital_status  The martial status of the interviewee: Married...\n",
       "10         education_level  Highest level of education: No formal educatio...\n",
       "11                job_type  Type of job interviewee has: Farming and Fishi..."
      ]
     },
     "execution_count": 3,
     "metadata": {},
     "output_type": "execute_result"
    }
   ],
   "source": [
    "variables"
   ]
  },
  {
   "cell_type": "code",
   "execution_count": 4,
   "id": "63644ec3-1a05-49b4-814f-bd64571eb5dc",
   "metadata": {},
   "outputs": [
    {
     "data": {
      "text/html": [
       "<div>\n",
       "<style scoped>\n",
       "    .dataframe tbody tr th:only-of-type {\n",
       "        vertical-align: middle;\n",
       "    }\n",
       "\n",
       "    .dataframe tbody tr th {\n",
       "        vertical-align: top;\n",
       "    }\n",
       "\n",
       "    .dataframe thead th {\n",
       "        text-align: right;\n",
       "    }\n",
       "</style>\n",
       "<table border=\"1\" class=\"dataframe\">\n",
       "  <thead>\n",
       "    <tr style=\"text-align: right;\">\n",
       "      <th></th>\n",
       "      <th>country</th>\n",
       "      <th>year</th>\n",
       "      <th>uniqueid</th>\n",
       "      <th>bank_account</th>\n",
       "      <th>location</th>\n",
       "      <th>cellphone</th>\n",
       "      <th>household</th>\n",
       "      <th>age</th>\n",
       "      <th>gender</th>\n",
       "      <th>status_household</th>\n",
       "      <th>marital_status</th>\n",
       "      <th>education</th>\n",
       "      <th>job</th>\n",
       "    </tr>\n",
       "  </thead>\n",
       "  <tbody>\n",
       "    <tr>\n",
       "      <th>0</th>\n",
       "      <td>Kenya</td>\n",
       "      <td>2018</td>\n",
       "      <td>uniqueid_1</td>\n",
       "      <td>Yes</td>\n",
       "      <td>Rural</td>\n",
       "      <td>Yes</td>\n",
       "      <td>3</td>\n",
       "      <td>24</td>\n",
       "      <td>Female</td>\n",
       "      <td>Spouse</td>\n",
       "      <td>Married/Living together</td>\n",
       "      <td>Secondary education</td>\n",
       "      <td>Self employed</td>\n",
       "    </tr>\n",
       "    <tr>\n",
       "      <th>1</th>\n",
       "      <td>Kenya</td>\n",
       "      <td>2018</td>\n",
       "      <td>uniqueid_2</td>\n",
       "      <td>No</td>\n",
       "      <td>Rural</td>\n",
       "      <td>No</td>\n",
       "      <td>5</td>\n",
       "      <td>70</td>\n",
       "      <td>Female</td>\n",
       "      <td>Head of Household</td>\n",
       "      <td>Widowed</td>\n",
       "      <td>No formal education</td>\n",
       "      <td>Government Dependent</td>\n",
       "    </tr>\n",
       "  </tbody>\n",
       "</table>\n",
       "</div>"
      ],
      "text/plain": [
       "  country  year    uniqueid bank_account location cellphone  household  age  \\\n",
       "0   Kenya  2018  uniqueid_1          Yes    Rural       Yes          3   24   \n",
       "1   Kenya  2018  uniqueid_2           No    Rural        No          5   70   \n",
       "\n",
       "   gender   status_household           marital_status            education  \\\n",
       "0  Female             Spouse  Married/Living together  Secondary education   \n",
       "1  Female  Head of Household                  Widowed  No formal education   \n",
       "\n",
       "                    job  \n",
       "0         Self employed  \n",
       "1  Government Dependent  "
      ]
     },
     "execution_count": 4,
     "metadata": {},
     "output_type": "execute_result"
    }
   ],
   "source": [
    "original_train.columns = [\"country\", \"year\", \"uniqueid\", \"bank_account\", \"location\", \"cellphone\", \"household\", \"age\", \"gender\", \"status_household\", \"marital_status\", \"education\", \"job\"]\n",
    "original_train.head(2)"
   ]
  },
  {
   "cell_type": "code",
   "execution_count": 5,
   "id": "b02b15de-0757-42ac-9a26-6dea6c23ac2c",
   "metadata": {},
   "outputs": [
    {
     "data": {
      "text/plain": [
       "(23524, 13)"
      ]
     },
     "execution_count": 5,
     "metadata": {},
     "output_type": "execute_result"
    }
   ],
   "source": [
    "original_train.shape"
   ]
  },
  {
   "cell_type": "code",
   "execution_count": 6,
   "id": "160e36c2-39a5-43c0-adfb-c80487e0a45f",
   "metadata": {
    "tags": []
   },
   "outputs": [
    {
     "data": {
      "text/plain": [
       "country             0\n",
       "year                0\n",
       "uniqueid            0\n",
       "bank_account        0\n",
       "location            0\n",
       "cellphone           0\n",
       "household           0\n",
       "age                 0\n",
       "gender              0\n",
       "status_household    0\n",
       "marital_status      0\n",
       "education           0\n",
       "job                 0\n",
       "dtype: int64"
      ]
     },
     "execution_count": 6,
     "metadata": {},
     "output_type": "execute_result"
    }
   ],
   "source": [
    "# check for missing values \n",
    "\n",
    "original_train.isnull().sum()"
   ]
  },
  {
   "cell_type": "code",
   "execution_count": 7,
   "id": "489a29c8-f045-405c-bb23-e791d161e4e2",
   "metadata": {
    "tags": []
   },
   "outputs": [
    {
     "data": {
      "text/plain": [
       "country             0\n",
       "year                0\n",
       "uniqueid            0\n",
       "bank_account        0\n",
       "location            0\n",
       "cellphone           0\n",
       "household           0\n",
       "age                 0\n",
       "gender              0\n",
       "status_household    0\n",
       "marital_status      0\n",
       "education           0\n",
       "job                 0\n",
       "dtype: int64"
      ]
     },
     "execution_count": 7,
     "metadata": {},
     "output_type": "execute_result"
    }
   ],
   "source": [
    "original_train.isna().sum()"
   ]
  },
  {
   "cell_type": "code",
   "execution_count": 8,
   "id": "574dca77-7d1f-4c19-8359-cfdd44682282",
   "metadata": {},
   "outputs": [
    {
     "data": {
      "text/plain": [
       "country                4\n",
       "year                   3\n",
       "uniqueid            8735\n",
       "bank_account           2\n",
       "location               2\n",
       "cellphone              2\n",
       "household             20\n",
       "age                   85\n",
       "gender                 2\n",
       "status_household       6\n",
       "marital_status         5\n",
       "education              6\n",
       "job                   10\n",
       "dtype: int64"
      ]
     },
     "execution_count": 8,
     "metadata": {},
     "output_type": "execute_result"
    }
   ],
   "source": [
    "# check for unique values (to detect duplicates)\n",
    "\n",
    "original_train.nunique()"
   ]
  },
  {
   "cell_type": "code",
   "execution_count": 9,
   "id": "d608c527-ed7f-4fee-8162-de0e33acf3f1",
   "metadata": {},
   "outputs": [
    {
     "data": {
      "text/plain": [
       "14789"
      ]
     },
     "execution_count": 9,
     "metadata": {},
     "output_type": "execute_result"
    }
   ],
   "source": [
    "original_train['uniqueid'].duplicated().sum()"
   ]
  },
  {
   "cell_type": "code",
   "execution_count": 10,
   "id": "5084e334-f60e-400a-a6c3-66dbfacea1ce",
   "metadata": {},
   "outputs": [
    {
     "name": "stdout",
     "output_type": "stream",
     "text": [
      "<class 'pandas.core.frame.DataFrame'>\n",
      "RangeIndex: 23524 entries, 0 to 23523\n",
      "Data columns (total 13 columns):\n",
      " #   Column            Non-Null Count  Dtype \n",
      "---  ------            --------------  ----- \n",
      " 0   country           23524 non-null  object\n",
      " 1   year              23524 non-null  int64 \n",
      " 2   uniqueid          23524 non-null  object\n",
      " 3   bank_account      23524 non-null  object\n",
      " 4   location          23524 non-null  object\n",
      " 5   cellphone         23524 non-null  object\n",
      " 6   household         23524 non-null  int64 \n",
      " 7   age               23524 non-null  int64 \n",
      " 8   gender            23524 non-null  object\n",
      " 9   status_household  23524 non-null  object\n",
      " 10  marital_status    23524 non-null  object\n",
      " 11  education         23524 non-null  object\n",
      " 12  job               23524 non-null  object\n",
      "dtypes: int64(3), object(10)\n",
      "memory usage: 2.3+ MB\n"
     ]
    }
   ],
   "source": [
    "original_train.info()"
   ]
  },
  {
   "cell_type": "markdown",
   "id": "e559aa57-312f-4bc7-814d-4c3fcafa7329",
   "metadata": {},
   "source": [
    "# EDA\n",
    "\n",
    "## Hypotheses \n",
    "\n",
    "Likeliness to have a bank account:\n",
    "\n",
    "- country: more developed country higher than less developed country (Kenya, Tanzania, Rwanda, Uganda according to HDI)\n",
    "- location_type: urban more likely than rural \n",
    "- cellphone_access: cellphone more likely than no cellphone\n",
    "- household_size: the bigger the household, the less likely that this individual has a bank account (househould shares one account)\n",
    "- age: younger more likely than older \n",
    "- gender: men/women balanced \n",
    "- relationship_with_head: head of household more likely than anyone else in family \n",
    "- marital_status: many different effects equal each other so the impact is low \n",
    "- education: higher education more likely than lower \n",
    "- job_level: higher job level more likely than lower \n",
    "- irrelevant: uniqueid, year"
   ]
  },
  {
   "cell_type": "code",
   "execution_count": 11,
   "id": "8bf65d8b-79b5-467d-bf06-f899cf55f418",
   "metadata": {},
   "outputs": [
    {
     "data": {
      "text/html": [
       "<div>\n",
       "<style scoped>\n",
       "    .dataframe tbody tr th:only-of-type {\n",
       "        vertical-align: middle;\n",
       "    }\n",
       "\n",
       "    .dataframe tbody tr th {\n",
       "        vertical-align: top;\n",
       "    }\n",
       "\n",
       "    .dataframe thead th {\n",
       "        text-align: right;\n",
       "    }\n",
       "</style>\n",
       "<table border=\"1\" class=\"dataframe\">\n",
       "  <thead>\n",
       "    <tr style=\"text-align: right;\">\n",
       "      <th></th>\n",
       "      <th>year</th>\n",
       "      <th>household</th>\n",
       "      <th>age</th>\n",
       "    </tr>\n",
       "  </thead>\n",
       "  <tbody>\n",
       "    <tr>\n",
       "      <th>count</th>\n",
       "      <td>23524.000000</td>\n",
       "      <td>23524.000000</td>\n",
       "      <td>23524.000000</td>\n",
       "    </tr>\n",
       "    <tr>\n",
       "      <th>mean</th>\n",
       "      <td>2016.975939</td>\n",
       "      <td>3.797483</td>\n",
       "      <td>38.805220</td>\n",
       "    </tr>\n",
       "    <tr>\n",
       "      <th>std</th>\n",
       "      <td>0.847371</td>\n",
       "      <td>2.227613</td>\n",
       "      <td>16.520569</td>\n",
       "    </tr>\n",
       "    <tr>\n",
       "      <th>min</th>\n",
       "      <td>2016.000000</td>\n",
       "      <td>1.000000</td>\n",
       "      <td>16.000000</td>\n",
       "    </tr>\n",
       "    <tr>\n",
       "      <th>25%</th>\n",
       "      <td>2016.000000</td>\n",
       "      <td>2.000000</td>\n",
       "      <td>26.000000</td>\n",
       "    </tr>\n",
       "    <tr>\n",
       "      <th>50%</th>\n",
       "      <td>2017.000000</td>\n",
       "      <td>3.000000</td>\n",
       "      <td>35.000000</td>\n",
       "    </tr>\n",
       "    <tr>\n",
       "      <th>75%</th>\n",
       "      <td>2018.000000</td>\n",
       "      <td>5.000000</td>\n",
       "      <td>49.000000</td>\n",
       "    </tr>\n",
       "    <tr>\n",
       "      <th>max</th>\n",
       "      <td>2018.000000</td>\n",
       "      <td>21.000000</td>\n",
       "      <td>100.000000</td>\n",
       "    </tr>\n",
       "  </tbody>\n",
       "</table>\n",
       "</div>"
      ],
      "text/plain": [
       "               year     household           age\n",
       "count  23524.000000  23524.000000  23524.000000\n",
       "mean    2016.975939      3.797483     38.805220\n",
       "std        0.847371      2.227613     16.520569\n",
       "min     2016.000000      1.000000     16.000000\n",
       "25%     2016.000000      2.000000     26.000000\n",
       "50%     2017.000000      3.000000     35.000000\n",
       "75%     2018.000000      5.000000     49.000000\n",
       "max     2018.000000     21.000000    100.000000"
      ]
     },
     "execution_count": 11,
     "metadata": {},
     "output_type": "execute_result"
    }
   ],
   "source": [
    "original_train.describe()"
   ]
  },
  {
   "cell_type": "code",
   "execution_count": 12,
   "id": "87bac710-c0e4-44a7-b01d-303119d2e1b7",
   "metadata": {},
   "outputs": [
    {
     "data": {
      "text/plain": [
       "No     0.859208\n",
       "Yes    0.140792\n",
       "Name: bank_account, dtype: float64"
      ]
     },
     "execution_count": 12,
     "metadata": {},
     "output_type": "execute_result"
    }
   ],
   "source": [
    "original_train['bank_account'].value_counts(normalize=True)"
   ]
  },
  {
   "cell_type": "code",
   "execution_count": 13,
   "id": "7a7028d1-7a61-47ec-95d2-4bee85edc00a",
   "metadata": {},
   "outputs": [
    {
     "data": {
      "image/png": "[encoded data removed]",
      "text/plain": [
       "<Figure size 500x300 with 1 Axes>"
      ]
     },
     "metadata": {},
     "output_type": "display_data"
    }
   ],
   "source": [
    "plt.figure(figsize=(5, 3))\n",
    "original_train.household.hist() \n",
    "plt.xlabel('Household  size');"
   ]
  },
  {
   "cell_type": "code",
   "execution_count": 14,
   "id": "9bbc20e0-5de9-412c-a0af-842f4f8f2ccc",
   "metadata": {},
   "outputs": [
    {
     "data": {
      "image/png": "[encoded data removed]",
      "text/plain": [
       "<Figure size 500x300 with 1 Axes>"
      ]
     },
     "metadata": {},
     "output_type": "display_data"
    }
   ],
   "source": [
    "plt.figure(figsize=(5, 3))\n",
    "original_train.age.hist() \n",
    "plt.xlabel('Age');"
   ]
  },
  {
   "cell_type": "code",
   "execution_count": 15,
   "id": "0b79d05a-7e3e-45ad-8c5d-5fa0b8b70fbc",
   "metadata": {},
   "outputs": [],
   "source": [
    "### add more plots about distributions here, see notebook \"Johanna\""
   ]
  },
  {
   "cell_type": "code",
   "execution_count": 16,
   "id": "ce2f8f4a-d89f-4d26-a5ae-036c7f88ac74",
   "metadata": {},
   "outputs": [
    {
     "data": {
      "text/plain": [
       "<seaborn.axisgrid.FacetGrid at 0x15c405310>"
      ]
     },
     "execution_count": 16,
     "metadata": {},
     "output_type": "execute_result"
    },
    {
     "data": {
      "image/png": "[encoded data removed]",
      "text/plain": [
       "<Figure size 200x200 with 1 Axes>"
      ]
     },
     "metadata": {},
     "output_type": "display_data"
    }
   ],
   "source": [
    "sns.catplot(x=\"bank_account\", kind=\"count\", data=original_train, height=2)"
   ]
  },
  {
   "cell_type": "code",
   "execution_count": 17,
   "id": "5dbd4760-8178-409c-a35d-ff08a298b152",
   "metadata": {
    "tags": []
   },
   "outputs": [
    {
     "name": "stdout",
     "output_type": "stream",
     "text": [
      "Rwanda      0.37\n",
      "Tanzania    0.28\n",
      "Kenya       0.26\n",
      "Uganda      0.09\n",
      "Name: country, dtype: float64\n",
      "Rural    0.61\n",
      "Urban    0.39\n",
      "Name: location, dtype: float64\n",
      "Yes    0.74\n",
      "No     0.26\n",
      "Name: cellphone, dtype: float64\n",
      "Female    0.59\n",
      "Male      0.41\n",
      "Name: gender, dtype: float64\n",
      "Head of Household      0.55\n",
      "Spouse                 0.28\n",
      "Child                  0.09\n",
      "Parent                 0.05\n",
      "Other relative         0.03\n",
      "Other non-relatives    0.01\n",
      "Name: status_household, dtype: float64\n",
      "Married/Living together    0.46\n",
      "Single/Never Married       0.34\n",
      "Widowed                    0.12\n",
      "Divorced/Seperated         0.09\n",
      "Dont know                  0.00\n",
      "Name: marital_status, dtype: float64\n",
      "Primary education                  0.54\n",
      "No formal education                0.19\n",
      "Secondary education                0.18\n",
      "Tertiary education                 0.05\n",
      "Vocational/Specialised training    0.03\n",
      "Other/Dont know/RTA                0.00\n",
      "Name: education, dtype: float64\n",
      "Self employed                   0.27\n",
      "Informally employed             0.24\n",
      "Farming and Fishing             0.23\n",
      "Remittance Dependent            0.11\n",
      "Other Income                    0.05\n",
      "Formally employed Private       0.04\n",
      "No Income                       0.03\n",
      "Formally employed Government    0.02\n",
      "Government Dependent            0.01\n",
      "Dont Know/Refuse to answer      0.01\n",
      "Name: job, dtype: float64\n"
     ]
    }
   ],
   "source": [
    "features = ['country','location', 'cellphone','gender', 'status_household', 'marital_status','education', 'job']\n",
    "\n",
    "for i in features:\n",
    "    print(original_train[i].value_counts(normalize=True).round(2))"
   ]
  },
  {
   "cell_type": "code",
   "execution_count": 18,
   "id": "7b478da4-d3a6-4331-89da-035cbf71c252",
   "metadata": {},
   "outputs": [],
   "source": [
    "d = {}\n",
    "for i in features:\n",
    "    d[i] = pd.crosstab(original_train[i], original_train['bank_account'], normalize='index').mul(100).round(2)"
   ]
  },
  {
   "cell_type": "code",
   "execution_count": 19,
   "id": "d44b4808-553b-4b2c-bc4f-fbf4808922e8",
   "metadata": {},
   "outputs": [
    {
     "data": {
      "text/html": [
       "<div>\n",
       "<style scoped>\n",
       "    .dataframe tbody tr th:only-of-type {\n",
       "        vertical-align: middle;\n",
       "    }\n",
       "\n",
       "    .dataframe tbody tr th {\n",
       "        vertical-align: top;\n",
       "    }\n",
       "\n",
       "    .dataframe thead th {\n",
       "        text-align: right;\n",
       "    }\n",
       "</style>\n",
       "<table border=\"1\" class=\"dataframe\">\n",
       "  <thead>\n",
       "    <tr style=\"text-align: right;\">\n",
       "      <th>bank_account</th>\n",
       "      <th>No</th>\n",
       "      <th>Yes</th>\n",
       "    </tr>\n",
       "    <tr>\n",
       "      <th>country</th>\n",
       "      <th></th>\n",
       "      <th></th>\n",
       "    </tr>\n",
       "  </thead>\n",
       "  <tbody>\n",
       "    <tr>\n",
       "      <th>Kenya</th>\n",
       "      <td>74.93</td>\n",
       "      <td>25.07</td>\n",
       "    </tr>\n",
       "    <tr>\n",
       "      <th>Rwanda</th>\n",
       "      <td>88.52</td>\n",
       "      <td>11.48</td>\n",
       "    </tr>\n",
       "    <tr>\n",
       "      <th>Tanzania</th>\n",
       "      <td>90.83</td>\n",
       "      <td>9.17</td>\n",
       "    </tr>\n",
       "    <tr>\n",
       "      <th>Uganda</th>\n",
       "      <td>91.39</td>\n",
       "      <td>8.61</td>\n",
       "    </tr>\n",
       "  </tbody>\n",
       "</table>\n",
       "</div>"
      ],
      "text/plain": [
       "bank_account     No    Yes\n",
       "country                   \n",
       "Kenya         74.93  25.07\n",
       "Rwanda        88.52  11.48\n",
       "Tanzania      90.83   9.17\n",
       "Uganda        91.39   8.61"
      ]
     },
     "execution_count": 19,
     "metadata": {},
     "output_type": "execute_result"
    }
   ],
   "source": [
    "d['country']"
   ]
  },
  {
   "cell_type": "code",
   "execution_count": 20,
   "id": "2dcd89f0-75c1-4118-bede-ad067a45bca3",
   "metadata": {},
   "outputs": [
    {
     "data": {
      "image/png": "[encoded data removed]",
      "text/plain": [
       "<Figure size 400x200 with 1 Axes>"
      ]
     },
     "metadata": {},
     "output_type": "display_data"
    }
   ],
   "source": [
    "d['country'].plot.bar(figsize=(4,2), rot=0);"
   ]
  },
  {
   "cell_type": "code",
   "execution_count": 21,
   "id": "b76090c7-d3fb-43a6-98ee-094ecd41b60e",
   "metadata": {},
   "outputs": [
    {
     "data": {
      "text/html": [
       "<div>\n",
       "<style scoped>\n",
       "    .dataframe tbody tr th:only-of-type {\n",
       "        vertical-align: middle;\n",
       "    }\n",
       "\n",
       "    .dataframe tbody tr th {\n",
       "        vertical-align: top;\n",
       "    }\n",
       "\n",
       "    .dataframe thead th {\n",
       "        text-align: right;\n",
       "    }\n",
       "</style>\n",
       "<table border=\"1\" class=\"dataframe\">\n",
       "  <thead>\n",
       "    <tr style=\"text-align: right;\">\n",
       "      <th>bank_account</th>\n",
       "      <th>No</th>\n",
       "      <th>Yes</th>\n",
       "    </tr>\n",
       "    <tr>\n",
       "      <th>location</th>\n",
       "      <th></th>\n",
       "      <th></th>\n",
       "    </tr>\n",
       "  </thead>\n",
       "  <tbody>\n",
       "    <tr>\n",
       "      <th>Rural</th>\n",
       "      <td>88.35</td>\n",
       "      <td>11.65</td>\n",
       "    </tr>\n",
       "    <tr>\n",
       "      <th>Urban</th>\n",
       "      <td>82.13</td>\n",
       "      <td>17.87</td>\n",
       "    </tr>\n",
       "  </tbody>\n",
       "</table>\n",
       "</div>"
      ],
      "text/plain": [
       "bank_account     No    Yes\n",
       "location                  \n",
       "Rural         88.35  11.65\n",
       "Urban         82.13  17.87"
      ]
     },
     "execution_count": 21,
     "metadata": {},
     "output_type": "execute_result"
    }
   ],
   "source": [
    "d['location']"
   ]
  },
  {
   "cell_type": "code",
   "execution_count": 22,
   "id": "5bba517a-5135-4ae1-8dc1-674fb9bbefdf",
   "metadata": {},
   "outputs": [
    {
     "data": {
      "image/png": "[encoded data removed]",
      "text/plain": [
       "<Figure size 400x200 with 1 Axes>"
      ]
     },
     "metadata": {},
     "output_type": "display_data"
    }
   ],
   "source": [
    "d['location'].plot.bar(figsize=(4,2), rot=0);"
   ]
  },
  {
   "cell_type": "code",
   "execution_count": 23,
   "id": "fc87d8ca-96d7-4183-89e4-85a47d9e0ddc",
   "metadata": {},
   "outputs": [
    {
     "data": {
      "text/html": [
       "<div>\n",
       "<style scoped>\n",
       "    .dataframe tbody tr th:only-of-type {\n",
       "        vertical-align: middle;\n",
       "    }\n",
       "\n",
       "    .dataframe tbody tr th {\n",
       "        vertical-align: top;\n",
       "    }\n",
       "\n",
       "    .dataframe thead th {\n",
       "        text-align: right;\n",
       "    }\n",
       "</style>\n",
       "<table border=\"1\" class=\"dataframe\">\n",
       "  <thead>\n",
       "    <tr style=\"text-align: right;\">\n",
       "      <th>bank_account</th>\n",
       "      <th>No</th>\n",
       "      <th>Yes</th>\n",
       "    </tr>\n",
       "    <tr>\n",
       "      <th>cellphone</th>\n",
       "      <th></th>\n",
       "      <th></th>\n",
       "    </tr>\n",
       "  </thead>\n",
       "  <tbody>\n",
       "    <tr>\n",
       "      <th>No</th>\n",
       "      <td>98.29</td>\n",
       "      <td>1.71</td>\n",
       "    </tr>\n",
       "    <tr>\n",
       "      <th>Yes</th>\n",
       "      <td>81.62</td>\n",
       "      <td>18.38</td>\n",
       "    </tr>\n",
       "  </tbody>\n",
       "</table>\n",
       "</div>"
      ],
      "text/plain": [
       "bank_account     No    Yes\n",
       "cellphone                 \n",
       "No            98.29   1.71\n",
       "Yes           81.62  18.38"
      ]
     },
     "execution_count": 23,
     "metadata": {},
     "output_type": "execute_result"
    }
   ],
   "source": [
    "d['cellphone']"
   ]
  },
  {
   "cell_type": "code",
   "execution_count": 24,
   "id": "394d910a-48e8-48a6-a387-0a15d74d23d5",
   "metadata": {},
   "outputs": [
    {
     "data": {
      "image/png": "[encoded data removed]",
      "text/plain": [
       "<Figure size 400x200 with 1 Axes>"
      ]
     },
     "metadata": {},
     "output_type": "display_data"
    }
   ],
   "source": [
    "d['cellphone'].plot.bar(figsize=(4,2), rot=0);"
   ]
  },
  {
   "cell_type": "code",
   "execution_count": 25,
   "id": "885d990b-79a5-49ac-b159-2769e7e4ba40",
   "metadata": {},
   "outputs": [
    {
     "data": {
      "text/html": [
       "<div>\n",
       "<style scoped>\n",
       "    .dataframe tbody tr th:only-of-type {\n",
       "        vertical-align: middle;\n",
       "    }\n",
       "\n",
       "    .dataframe tbody tr th {\n",
       "        vertical-align: top;\n",
       "    }\n",
       "\n",
       "    .dataframe thead th {\n",
       "        text-align: right;\n",
       "    }\n",
       "</style>\n",
       "<table border=\"1\" class=\"dataframe\">\n",
       "  <thead>\n",
       "    <tr style=\"text-align: right;\">\n",
       "      <th>bank_account</th>\n",
       "      <th>No</th>\n",
       "      <th>Yes</th>\n",
       "    </tr>\n",
       "    <tr>\n",
       "      <th>gender</th>\n",
       "      <th></th>\n",
       "      <th></th>\n",
       "    </tr>\n",
       "  </thead>\n",
       "  <tbody>\n",
       "    <tr>\n",
       "      <th>Female</th>\n",
       "      <td>89.32</td>\n",
       "      <td>10.68</td>\n",
       "    </tr>\n",
       "    <tr>\n",
       "      <th>Male</th>\n",
       "      <td>81.03</td>\n",
       "      <td>18.97</td>\n",
       "    </tr>\n",
       "  </tbody>\n",
       "</table>\n",
       "</div>"
      ],
      "text/plain": [
       "bank_account     No    Yes\n",
       "gender                    \n",
       "Female        89.32  10.68\n",
       "Male          81.03  18.97"
      ]
     },
     "execution_count": 25,
     "metadata": {},
     "output_type": "execute_result"
    }
   ],
   "source": [
    "d['gender']"
   ]
  },
  {
   "cell_type": "code",
   "execution_count": 26,
   "id": "41aede82-f7b4-4ea6-bf57-b37ca85ee51e",
   "metadata": {},
   "outputs": [
    {
     "data": {
      "image/png": "[encoded data removed]",
      "text/plain": [
       "<Figure size 400x200 with 1 Axes>"
      ]
     },
     "metadata": {},
     "output_type": "display_data"
    }
   ],
   "source": [
    "d['gender'].plot.bar(figsize=(4,2), rot=0);"
   ]
  },
  {
   "cell_type": "code",
   "execution_count": 27,
   "id": "b90c35e8-c878-4eed-805f-3a7a2a8fe116",
   "metadata": {},
   "outputs": [
    {
     "data": {
      "text/html": [
       "<div>\n",
       "<style scoped>\n",
       "    .dataframe tbody tr th:only-of-type {\n",
       "        vertical-align: middle;\n",
       "    }\n",
       "\n",
       "    .dataframe tbody tr th {\n",
       "        vertical-align: top;\n",
       "    }\n",
       "\n",
       "    .dataframe thead th {\n",
       "        text-align: right;\n",
       "    }\n",
       "</style>\n",
       "<table border=\"1\" class=\"dataframe\">\n",
       "  <thead>\n",
       "    <tr style=\"text-align: right;\">\n",
       "      <th>bank_account</th>\n",
       "      <th>No</th>\n",
       "      <th>Yes</th>\n",
       "    </tr>\n",
       "    <tr>\n",
       "      <th>status_household</th>\n",
       "      <th></th>\n",
       "      <th></th>\n",
       "    </tr>\n",
       "  </thead>\n",
       "  <tbody>\n",
       "    <tr>\n",
       "      <th>Child</th>\n",
       "      <td>91.34</td>\n",
       "      <td>8.66</td>\n",
       "    </tr>\n",
       "    <tr>\n",
       "      <th>Head of Household</th>\n",
       "      <td>82.29</td>\n",
       "      <td>17.71</td>\n",
       "    </tr>\n",
       "    <tr>\n",
       "      <th>Other non-relatives</th>\n",
       "      <td>89.47</td>\n",
       "      <td>10.53</td>\n",
       "    </tr>\n",
       "    <tr>\n",
       "      <th>Other relative</th>\n",
       "      <td>90.12</td>\n",
       "      <td>9.88</td>\n",
       "    </tr>\n",
       "    <tr>\n",
       "      <th>Parent</th>\n",
       "      <td>94.01</td>\n",
       "      <td>5.99</td>\n",
       "    </tr>\n",
       "    <tr>\n",
       "      <th>Spouse</th>\n",
       "      <td>89.34</td>\n",
       "      <td>10.66</td>\n",
       "    </tr>\n",
       "  </tbody>\n",
       "</table>\n",
       "</div>"
      ],
      "text/plain": [
       "bank_account            No    Yes\n",
       "status_household                 \n",
       "Child                91.34   8.66\n",
       "Head of Household    82.29  17.71\n",
       "Other non-relatives  89.47  10.53\n",
       "Other relative       90.12   9.88\n",
       "Parent               94.01   5.99\n",
       "Spouse               89.34  10.66"
      ]
     },
     "execution_count": 27,
     "metadata": {},
     "output_type": "execute_result"
    }
   ],
   "source": [
    "d['status_household']"
   ]
  },
  {
   "cell_type": "code",
   "execution_count": 28,
   "id": "a3d6d99d-11dd-4aa5-9147-93410cb9a5eb",
   "metadata": {},
   "outputs": [
    {
     "data": {
      "image/png": "[encoded data removed]",
      "text/plain": [
       "<Figure size 400x200 with 1 Axes>"
      ]
     },
     "metadata": {},
     "output_type": "display_data"
    }
   ],
   "source": [
    "d['status_household'].plot.bar(figsize=(4,2), rot=90);"
   ]
  },
  {
   "cell_type": "code",
   "execution_count": 29,
   "id": "00c1fd13-641b-46df-bc31-0ea930c0bbda",
   "metadata": {},
   "outputs": [
    {
     "data": {
      "text/html": [
       "<div>\n",
       "<style scoped>\n",
       "    .dataframe tbody tr th:only-of-type {\n",
       "        vertical-align: middle;\n",
       "    }\n",
       "\n",
       "    .dataframe tbody tr th {\n",
       "        vertical-align: top;\n",
       "    }\n",
       "\n",
       "    .dataframe thead th {\n",
       "        text-align: right;\n",
       "    }\n",
       "</style>\n",
       "<table border=\"1\" class=\"dataframe\">\n",
       "  <thead>\n",
       "    <tr style=\"text-align: right;\">\n",
       "      <th>bank_account</th>\n",
       "      <th>No</th>\n",
       "      <th>Yes</th>\n",
       "    </tr>\n",
       "    <tr>\n",
       "      <th>marital_status</th>\n",
       "      <th></th>\n",
       "      <th></th>\n",
       "    </tr>\n",
       "  </thead>\n",
       "  <tbody>\n",
       "    <tr>\n",
       "      <th>Divorced/Seperated</th>\n",
       "      <td>88.73</td>\n",
       "      <td>11.27</td>\n",
       "    </tr>\n",
       "    <tr>\n",
       "      <th>Dont know</th>\n",
       "      <td>75.00</td>\n",
       "      <td>25.00</td>\n",
       "    </tr>\n",
       "    <tr>\n",
       "      <th>Married/Living together</th>\n",
       "      <td>82.64</td>\n",
       "      <td>17.36</td>\n",
       "    </tr>\n",
       "    <tr>\n",
       "      <th>Single/Never Married</th>\n",
       "      <td>87.90</td>\n",
       "      <td>12.10</td>\n",
       "    </tr>\n",
       "    <tr>\n",
       "      <th>Widowed</th>\n",
       "      <td>90.99</td>\n",
       "      <td>9.01</td>\n",
       "    </tr>\n",
       "  </tbody>\n",
       "</table>\n",
       "</div>"
      ],
      "text/plain": [
       "bank_account                No    Yes\n",
       "marital_status                       \n",
       "Divorced/Seperated       88.73  11.27\n",
       "Dont know                75.00  25.00\n",
       "Married/Living together  82.64  17.36\n",
       "Single/Never Married     87.90  12.10\n",
       "Widowed                  90.99   9.01"
      ]
     },
     "execution_count": 29,
     "metadata": {},
     "output_type": "execute_result"
    }
   ],
   "source": [
    "d['marital_status'].head(10)"
   ]
  },
  {
   "cell_type": "code",
   "execution_count": 30,
   "id": "6f6232e9-9665-4250-9cf1-a023c3dd4cd6",
   "metadata": {},
   "outputs": [
    {
     "data": {
      "image/png": "[encoded data removed]",
      "text/plain": [
       "<Figure size 400x200 with 1 Axes>"
      ]
     },
     "metadata": {},
     "output_type": "display_data"
    }
   ],
   "source": [
    "d['marital_status'].plot.bar(figsize=(4,2), rot=90);"
   ]
  },
  {
   "cell_type": "code",
   "execution_count": 31,
   "id": "b8da45b4-8df7-4a16-84f2-d5d81291c9ff",
   "metadata": {},
   "outputs": [
    {
     "data": {
      "text/html": [
       "<div>\n",
       "<style scoped>\n",
       "    .dataframe tbody tr th:only-of-type {\n",
       "        vertical-align: middle;\n",
       "    }\n",
       "\n",
       "    .dataframe tbody tr th {\n",
       "        vertical-align: top;\n",
       "    }\n",
       "\n",
       "    .dataframe thead th {\n",
       "        text-align: right;\n",
       "    }\n",
       "</style>\n",
       "<table border=\"1\" class=\"dataframe\">\n",
       "  <thead>\n",
       "    <tr style=\"text-align: right;\">\n",
       "      <th>bank_account</th>\n",
       "      <th>No</th>\n",
       "      <th>Yes</th>\n",
       "    </tr>\n",
       "    <tr>\n",
       "      <th>education</th>\n",
       "      <th></th>\n",
       "      <th></th>\n",
       "    </tr>\n",
       "  </thead>\n",
       "  <tbody>\n",
       "    <tr>\n",
       "      <th>No formal education</th>\n",
       "      <td>96.10</td>\n",
       "      <td>3.90</td>\n",
       "    </tr>\n",
       "    <tr>\n",
       "      <th>Other/Dont know/RTA</th>\n",
       "      <td>68.57</td>\n",
       "      <td>31.43</td>\n",
       "    </tr>\n",
       "    <tr>\n",
       "      <th>Primary education</th>\n",
       "      <td>91.45</td>\n",
       "      <td>8.55</td>\n",
       "    </tr>\n",
       "    <tr>\n",
       "      <th>Secondary education</th>\n",
       "      <td>76.72</td>\n",
       "      <td>23.28</td>\n",
       "    </tr>\n",
       "    <tr>\n",
       "      <th>Tertiary education</th>\n",
       "      <td>48.92</td>\n",
       "      <td>51.08</td>\n",
       "    </tr>\n",
       "    <tr>\n",
       "      <th>Vocational/Specialised training</th>\n",
       "      <td>42.96</td>\n",
       "      <td>57.04</td>\n",
       "    </tr>\n",
       "  </tbody>\n",
       "</table>\n",
       "</div>"
      ],
      "text/plain": [
       "bank_account                        No    Yes\n",
       "education                                    \n",
       "No formal education              96.10   3.90\n",
       "Other/Dont know/RTA              68.57  31.43\n",
       "Primary education                91.45   8.55\n",
       "Secondary education              76.72  23.28\n",
       "Tertiary education               48.92  51.08\n",
       "Vocational/Specialised training  42.96  57.04"
      ]
     },
     "execution_count": 31,
     "metadata": {},
     "output_type": "execute_result"
    }
   ],
   "source": [
    "d['education']"
   ]
  },
  {
   "cell_type": "code",
   "execution_count": 32,
   "id": "3f37aa6b-b49e-4a94-b871-2cf6ddb335e3",
   "metadata": {},
   "outputs": [
    {
     "data": {
      "image/png": "[encoded data removed]",
      "text/plain": [
       "<Figure size 400x200 with 1 Axes>"
      ]
     },
     "metadata": {},
     "output_type": "display_data"
    }
   ],
   "source": [
    "d['education'].plot.bar(figsize=(4,2), rot=90);"
   ]
  },
  {
   "cell_type": "code",
   "execution_count": 33,
   "id": "80b469f7-1017-4275-9673-b92ed14674fb",
   "metadata": {},
   "outputs": [
    {
     "data": {
      "text/html": [
       "<div>\n",
       "<style scoped>\n",
       "    .dataframe tbody tr th:only-of-type {\n",
       "        vertical-align: middle;\n",
       "    }\n",
       "\n",
       "    .dataframe tbody tr th {\n",
       "        vertical-align: top;\n",
       "    }\n",
       "\n",
       "    .dataframe thead th {\n",
       "        text-align: right;\n",
       "    }\n",
       "</style>\n",
       "<table border=\"1\" class=\"dataframe\">\n",
       "  <thead>\n",
       "    <tr style=\"text-align: right;\">\n",
       "      <th>bank_account</th>\n",
       "      <th>No</th>\n",
       "      <th>Yes</th>\n",
       "    </tr>\n",
       "    <tr>\n",
       "      <th>job</th>\n",
       "      <th></th>\n",
       "      <th></th>\n",
       "    </tr>\n",
       "  </thead>\n",
       "  <tbody>\n",
       "    <tr>\n",
       "      <th>Dont Know/Refuse to answer</th>\n",
       "      <td>88.89</td>\n",
       "      <td>11.11</td>\n",
       "    </tr>\n",
       "    <tr>\n",
       "      <th>Farming and Fishing</th>\n",
       "      <td>88.33</td>\n",
       "      <td>11.67</td>\n",
       "    </tr>\n",
       "    <tr>\n",
       "      <th>Formally employed Government</th>\n",
       "      <td>22.48</td>\n",
       "      <td>77.52</td>\n",
       "    </tr>\n",
       "    <tr>\n",
       "      <th>Formally employed Private</th>\n",
       "      <td>45.88</td>\n",
       "      <td>54.12</td>\n",
       "    </tr>\n",
       "    <tr>\n",
       "      <th>Government Dependent</th>\n",
       "      <td>79.76</td>\n",
       "      <td>20.24</td>\n",
       "    </tr>\n",
       "    <tr>\n",
       "      <th>Informally employed</th>\n",
       "      <td>92.05</td>\n",
       "      <td>7.95</td>\n",
       "    </tr>\n",
       "    <tr>\n",
       "      <th>No Income</th>\n",
       "      <td>97.93</td>\n",
       "      <td>2.07</td>\n",
       "    </tr>\n",
       "    <tr>\n",
       "      <th>Other Income</th>\n",
       "      <td>81.85</td>\n",
       "      <td>18.15</td>\n",
       "    </tr>\n",
       "    <tr>\n",
       "      <th>Remittance Dependent</th>\n",
       "      <td>90.50</td>\n",
       "      <td>9.50</td>\n",
       "    </tr>\n",
       "    <tr>\n",
       "      <th>Self employed</th>\n",
       "      <td>86.83</td>\n",
       "      <td>13.17</td>\n",
       "    </tr>\n",
       "  </tbody>\n",
       "</table>\n",
       "</div>"
      ],
      "text/plain": [
       "bank_account                     No    Yes\n",
       "job                                       \n",
       "Dont Know/Refuse to answer    88.89  11.11\n",
       "Farming and Fishing           88.33  11.67\n",
       "Formally employed Government  22.48  77.52\n",
       "Formally employed Private     45.88  54.12\n",
       "Government Dependent          79.76  20.24\n",
       "Informally employed           92.05   7.95\n",
       "No Income                     97.93   2.07\n",
       "Other Income                  81.85  18.15\n",
       "Remittance Dependent          90.50   9.50\n",
       "Self employed                 86.83  13.17"
      ]
     },
     "execution_count": 33,
     "metadata": {},
     "output_type": "execute_result"
    }
   ],
   "source": [
    "d['job']"
   ]
  },
  {
   "cell_type": "code",
   "execution_count": 34,
   "id": "b0560af8-f91c-489e-a3b2-121f016ad05f",
   "metadata": {},
   "outputs": [
    {
     "data": {
      "image/png": "[encoded data removed]",
      "text/plain": [
       "<Figure size 400x200 with 1 Axes>"
      ]
     },
     "metadata": {},
     "output_type": "display_data"
    }
   ],
   "source": [
    "d['job'].plot.bar(figsize=(4,2), rot=90);"
   ]
  },
  {
   "cell_type": "code",
   "execution_count": 35,
   "id": "03d64aea-bd8d-46c0-9acb-e1e53070467a",
   "metadata": {},
   "outputs": [
    {
     "data": {
      "text/html": [
       "<div>\n",
       "<style scoped>\n",
       "    .dataframe tbody tr th:only-of-type {\n",
       "        vertical-align: middle;\n",
       "    }\n",
       "\n",
       "    .dataframe tbody tr th {\n",
       "        vertical-align: top;\n",
       "    }\n",
       "\n",
       "    .dataframe thead th {\n",
       "        text-align: right;\n",
       "    }\n",
       "</style>\n",
       "<table border=\"1\" class=\"dataframe\">\n",
       "  <thead>\n",
       "    <tr style=\"text-align: right;\">\n",
       "      <th>education</th>\n",
       "      <th>No formal education</th>\n",
       "      <th>Other/Dont know/RTA</th>\n",
       "      <th>Primary education</th>\n",
       "      <th>Secondary education</th>\n",
       "      <th>Tertiary education</th>\n",
       "      <th>Vocational/Specialised training</th>\n",
       "    </tr>\n",
       "    <tr>\n",
       "      <th>job</th>\n",
       "      <th></th>\n",
       "      <th></th>\n",
       "      <th></th>\n",
       "      <th></th>\n",
       "      <th></th>\n",
       "      <th></th>\n",
       "    </tr>\n",
       "  </thead>\n",
       "  <tbody>\n",
       "    <tr>\n",
       "      <th>Dont Know/Refuse to answer</th>\n",
       "      <td>14.29</td>\n",
       "      <td>0.00</td>\n",
       "      <td>59.52</td>\n",
       "      <td>23.81</td>\n",
       "      <td>1.59</td>\n",
       "      <td>0.79</td>\n",
       "    </tr>\n",
       "    <tr>\n",
       "      <th>Farming and Fishing</th>\n",
       "      <td>25.82</td>\n",
       "      <td>0.00</td>\n",
       "      <td>55.25</td>\n",
       "      <td>16.21</td>\n",
       "      <td>0.97</td>\n",
       "      <td>1.75</td>\n",
       "    </tr>\n",
       "    <tr>\n",
       "      <th>Formally employed Government</th>\n",
       "      <td>1.03</td>\n",
       "      <td>0.52</td>\n",
       "      <td>10.85</td>\n",
       "      <td>33.59</td>\n",
       "      <td>31.27</td>\n",
       "      <td>22.74</td>\n",
       "    </tr>\n",
       "    <tr>\n",
       "      <th>Formally employed Private</th>\n",
       "      <td>3.13</td>\n",
       "      <td>0.19</td>\n",
       "      <td>31.00</td>\n",
       "      <td>25.12</td>\n",
       "      <td>21.23</td>\n",
       "      <td>19.34</td>\n",
       "    </tr>\n",
       "    <tr>\n",
       "      <th>Government Dependent</th>\n",
       "      <td>53.04</td>\n",
       "      <td>0.40</td>\n",
       "      <td>37.25</td>\n",
       "      <td>3.64</td>\n",
       "      <td>3.24</td>\n",
       "      <td>2.43</td>\n",
       "    </tr>\n",
       "    <tr>\n",
       "      <th>Informally employed</th>\n",
       "      <td>20.19</td>\n",
       "      <td>0.29</td>\n",
       "      <td>60.87</td>\n",
       "      <td>14.11</td>\n",
       "      <td>3.14</td>\n",
       "      <td>1.39</td>\n",
       "    </tr>\n",
       "    <tr>\n",
       "      <th>No Income</th>\n",
       "      <td>18.50</td>\n",
       "      <td>0.48</td>\n",
       "      <td>49.92</td>\n",
       "      <td>22.49</td>\n",
       "      <td>7.50</td>\n",
       "      <td>1.12</td>\n",
       "    </tr>\n",
       "    <tr>\n",
       "      <th>Other Income</th>\n",
       "      <td>17.04</td>\n",
       "      <td>0.28</td>\n",
       "      <td>47.78</td>\n",
       "      <td>26.39</td>\n",
       "      <td>4.35</td>\n",
       "      <td>4.17</td>\n",
       "    </tr>\n",
       "    <tr>\n",
       "      <th>Remittance Dependent</th>\n",
       "      <td>19.55</td>\n",
       "      <td>0.08</td>\n",
       "      <td>37.87</td>\n",
       "      <td>31.78</td>\n",
       "      <td>6.89</td>\n",
       "      <td>3.84</td>\n",
       "    </tr>\n",
       "    <tr>\n",
       "      <th>Self employed</th>\n",
       "      <td>15.54</td>\n",
       "      <td>0.09</td>\n",
       "      <td>63.01</td>\n",
       "      <td>13.80</td>\n",
       "      <td>4.74</td>\n",
       "      <td>2.83</td>\n",
       "    </tr>\n",
       "  </tbody>\n",
       "</table>\n",
       "</div>"
      ],
      "text/plain": [
       "education                     No formal education  Other/Dont know/RTA  \\\n",
       "job                                                                      \n",
       "Dont Know/Refuse to answer                  14.29                 0.00   \n",
       "Farming and Fishing                         25.82                 0.00   \n",
       "Formally employed Government                 1.03                 0.52   \n",
       "Formally employed Private                    3.13                 0.19   \n",
       "Government Dependent                        53.04                 0.40   \n",
       "Informally employed                         20.19                 0.29   \n",
       "No Income                                   18.50                 0.48   \n",
       "Other Income                                17.04                 0.28   \n",
       "Remittance Dependent                        19.55                 0.08   \n",
       "Self employed                               15.54                 0.09   \n",
       "\n",
       "education                     Primary education  Secondary education  \\\n",
       "job                                                                    \n",
       "Dont Know/Refuse to answer                59.52                23.81   \n",
       "Farming and Fishing                       55.25                16.21   \n",
       "Formally employed Government              10.85                33.59   \n",
       "Formally employed Private                 31.00                25.12   \n",
       "Government Dependent                      37.25                 3.64   \n",
       "Informally employed                       60.87                14.11   \n",
       "No Income                                 49.92                22.49   \n",
       "Other Income                              47.78                26.39   \n",
       "Remittance Dependent                      37.87                31.78   \n",
       "Self employed                             63.01                13.80   \n",
       "\n",
       "education                     Tertiary education  \\\n",
       "job                                                \n",
       "Dont Know/Refuse to answer                  1.59   \n",
       "Farming and Fishing                         0.97   \n",
       "Formally employed Government               31.27   \n",
       "Formally employed Private                  21.23   \n",
       "Government Dependent                        3.24   \n",
       "Informally employed                         3.14   \n",
       "No Income                                   7.50   \n",
       "Other Income                                4.35   \n",
       "Remittance Dependent                        6.89   \n",
       "Self employed                               4.74   \n",
       "\n",
       "education                     Vocational/Specialised training  \n",
       "job                                                            \n",
       "Dont Know/Refuse to answer                               0.79  \n",
       "Farming and Fishing                                      1.75  \n",
       "Formally employed Government                            22.74  \n",
       "Formally employed Private                               19.34  \n",
       "Government Dependent                                     2.43  \n",
       "Informally employed                                      1.39  \n",
       "No Income                                                1.12  \n",
       "Other Income                                             4.17  \n",
       "Remittance Dependent                                     3.84  \n",
       "Self employed                                            2.83  "
      ]
     },
     "execution_count": 35,
     "metadata": {},
     "output_type": "execute_result"
    }
   ],
   "source": [
    "df_edu_job = pd.crosstab(original_train['job'], original_train['education'], normalize='index').mul(100).round(2)\n",
    "df_edu_job.head(10)"
   ]
  },
  {
   "cell_type": "code",
   "execution_count": 36,
   "id": "695616d2-5686-4262-993f-64dada1e0c04",
   "metadata": {},
   "outputs": [
    {
     "data": {
      "text/plain": [
       "<AxesSubplot:xlabel='job'>"
      ]
     },
     "execution_count": 36,
     "metadata": {},
     "output_type": "execute_result"
    },
    {
     "data": {
      "image/png": "[encoded data removed]",
      "text/plain": [
       "<Figure size 800x400 with 1 Axes>"
      ]
     },
     "metadata": {},
     "output_type": "display_data"
    }
   ],
   "source": [
    "df_edu_job.plot.bar(figsize=(8,4), rot=90)"
   ]
  },
  {
   "cell_type": "markdown",
   "id": "a6033c9b-9889-4ee0-b57f-c92b6f62c537",
   "metadata": {},
   "source": [
    "### Data Cleaning, Preprocessing #1"
   ]
  },
  {
   "cell_type": "code",
   "execution_count": 37,
   "id": "ca086b7c-9834-464b-8b19-315047323099",
   "metadata": {},
   "outputs": [
    {
     "data": {
      "text/html": [
       "<div>\n",
       "<style scoped>\n",
       "    .dataframe tbody tr th:only-of-type {\n",
       "        vertical-align: middle;\n",
       "    }\n",
       "\n",
       "    .dataframe tbody tr th {\n",
       "        vertical-align: top;\n",
       "    }\n",
       "\n",
       "    .dataframe thead th {\n",
       "        text-align: right;\n",
       "    }\n",
       "</style>\n",
       "<table border=\"1\" class=\"dataframe\">\n",
       "  <thead>\n",
       "    <tr style=\"text-align: right;\">\n",
       "      <th></th>\n",
       "      <th>country</th>\n",
       "      <th>year</th>\n",
       "      <th>uniqueid</th>\n",
       "      <th>bank_account</th>\n",
       "      <th>location</th>\n",
       "      <th>cellphone</th>\n",
       "      <th>household</th>\n",
       "      <th>age</th>\n",
       "      <th>gender</th>\n",
       "      <th>status_household</th>\n",
       "      <th>marital_status</th>\n",
       "      <th>education</th>\n",
       "      <th>job</th>\n",
       "    </tr>\n",
       "  </thead>\n",
       "  <tbody>\n",
       "    <tr>\n",
       "      <th>0</th>\n",
       "      <td>Kenya</td>\n",
       "      <td>2018</td>\n",
       "      <td>uniqueid_1</td>\n",
       "      <td>Yes</td>\n",
       "      <td>Rural</td>\n",
       "      <td>Yes</td>\n",
       "      <td>3</td>\n",
       "      <td>24</td>\n",
       "      <td>Female</td>\n",
       "      <td>Spouse</td>\n",
       "      <td>Married/Living together</td>\n",
       "      <td>Secondary education</td>\n",
       "      <td>Self employed</td>\n",
       "    </tr>\n",
       "    <tr>\n",
       "      <th>1</th>\n",
       "      <td>Kenya</td>\n",
       "      <td>2018</td>\n",
       "      <td>uniqueid_2</td>\n",
       "      <td>No</td>\n",
       "      <td>Rural</td>\n",
       "      <td>No</td>\n",
       "      <td>5</td>\n",
       "      <td>70</td>\n",
       "      <td>Female</td>\n",
       "      <td>Head of Household</td>\n",
       "      <td>Widowed</td>\n",
       "      <td>No formal education</td>\n",
       "      <td>Government Dependent</td>\n",
       "    </tr>\n",
       "  </tbody>\n",
       "</table>\n",
       "</div>"
      ],
      "text/plain": [
       "  country  year    uniqueid bank_account location cellphone  household  age  \\\n",
       "0   Kenya  2018  uniqueid_1          Yes    Rural       Yes          3   24   \n",
       "1   Kenya  2018  uniqueid_2           No    Rural        No          5   70   \n",
       "\n",
       "   gender   status_household           marital_status            education  \\\n",
       "0  Female             Spouse  Married/Living together  Secondary education   \n",
       "1  Female  Head of Household                  Widowed  No formal education   \n",
       "\n",
       "                    job  \n",
       "0         Self employed  \n",
       "1  Government Dependent  "
      ]
     },
     "execution_count": 37,
     "metadata": {},
     "output_type": "execute_result"
    }
   ],
   "source": [
    "original_train.head(2)"
   ]
  },
  {
   "cell_type": "code",
   "execution_count": 38,
   "id": "adceac32-152e-41a7-b971-112005856312",
   "metadata": {
    "tags": []
   },
   "outputs": [],
   "source": [
    "from sklearn.preprocessing import LabelEncoder\n",
    "from sklearn.preprocessing import MinMaxScaler\n",
    "from sklearn import metrics"
   ]
  },
  {
   "cell_type": "code",
   "execution_count": 39,
   "id": "ec35c4dc-8a60-4d60-a39f-9df6830582da",
   "metadata": {},
   "outputs": [],
   "source": [
    "#convert target variable to numeric\n",
    "le = LabelEncoder()\n",
    "original_train['bank_account'] = le.fit_transform(original_train['bank_account'])"
   ]
  },
  {
   "cell_type": "code",
   "execution_count": 40,
   "id": "3b15163f-64a8-4053-9560-18590049e639",
   "metadata": {},
   "outputs": [],
   "source": [
    "#Separate training features from target\n",
    "X_train = original_train.drop(['bank_account'], axis=1)\n",
    "y_train = original_train['bank_account']"
   ]
  },
  {
   "cell_type": "code",
   "execution_count": 41,
   "id": "61ce7d38-6244-46fb-a03e-f62cdce409cb",
   "metadata": {},
   "outputs": [],
   "source": [
    "X_train = X_train.drop([\"uniqueid\", \"year\"], axis=1)\n",
    "\n",
    "country_dummies = pd.get_dummies(X_train['country'], prefix='country', drop_first=True)\n",
    "location_dummies = pd.get_dummies(X_train['location'], prefix='location', drop_first=True)\n",
    "cellphone_dummies = pd.get_dummies(X_train['cellphone'], prefix='cellphone', drop_first=True)\n",
    "gender_dummies = pd.get_dummies(X_train['gender'], prefix='gender', drop_first=True)\n",
    "marital_status_dummies = pd.get_dummies(X_train['marital_status'], prefix='marital_status', drop_first=True)\n",
    "job_dummies = pd.get_dummies(X_train['job'], prefix='job', drop_first=True)\n",
    "status_household_dummies = pd.get_dummies(X_train['status_household'], prefix='status_household', drop_first=True)\n",
    "\n",
    "X_train = pd.concat([X_train, country_dummies, location_dummies, cellphone_dummies, gender_dummies, marital_status_dummies, job_dummies, status_household_dummies], axis=1)\n",
    "\n",
    "edu_mapping = {'No formal education': 0, \n",
    "               'Primary education' : 2, \n",
    "               'Other/Dont know/RTA': 1,\n",
    "               'Vocational/Specialised training': 4, \n",
    "               'Secondary education': 3, \n",
    "               'Tertiary education' : 5}\n",
    "\n",
    "X_train = X_train.assign(edu_cat = X_train.education.map(edu_mapping))\n",
    "\n",
    "X_train = X_train.drop(['country', 'location', 'cellphone', 'gender', 'marital_status', 'education', 'job', 'status_household'], axis=1)"
   ]
  },
  {
   "cell_type": "code",
   "execution_count": 42,
   "id": "79aa9ef8-9ec3-4cdb-9b58-b4f0202084b4",
   "metadata": {
    "tags": []
   },
   "outputs": [],
   "source": [
    "X_Train, X_Val, y_Train, y_Val = train_test_split(X_train, y_train, stratify = y_train, \n",
    "                                                  test_size = 0.3, random_state=RSEED)"
   ]
  },
  {
   "cell_type": "code",
   "execution_count": 43,
   "id": "eec789ff-db57-4d57-9ac7-6a5e3814ea55",
   "metadata": {},
   "outputs": [
    {
     "name": "stdout",
     "output_type": "stream",
     "text": [
      "Counter({0: 14148, 1: 2318})\n"
     ]
    }
   ],
   "source": [
    "from imblearn.under_sampling import RandomUnderSampler \n",
    "from imblearn.over_sampling import SMOTE\n",
    "from collections import Counter\n",
    "from numpy import where\n",
    "\n",
    "counter = Counter(y_Train)\n",
    "print(counter)"
   ]
  },
  {
   "cell_type": "code",
   "execution_count": 44,
   "id": "05d44666-a835-4372-af3e-38502de1e01c",
   "metadata": {},
   "outputs": [],
   "source": [
    "over = SMOTE(sampling_strategy=0.3, random_state=RSEED)"
   ]
  },
  {
   "cell_type": "code",
   "execution_count": 45,
   "id": "bdd44d52-1abb-4f5f-a7f9-4546709b5325",
   "metadata": {},
   "outputs": [],
   "source": [
    "X_Train, y_Train = over.fit_resample(X_Train, y_Train)"
   ]
  },
  {
   "cell_type": "code",
   "execution_count": 46,
   "id": "60be5a1a-5164-46ee-8830-edc280143603",
   "metadata": {},
   "outputs": [
    {
     "name": "stdout",
     "output_type": "stream",
     "text": [
      "Counter({0: 14148, 1: 4244})\n"
     ]
    }
   ],
   "source": [
    "counter = Counter(y_Train)\n",
    "print(counter)"
   ]
  },
  {
   "cell_type": "code",
   "execution_count": 47,
   "id": "5aa4f974-95d3-4868-987f-7ed14e11cba4",
   "metadata": {},
   "outputs": [],
   "source": [
    "scaler = MinMaxScaler(feature_range=(0, 1))\n",
    "processed_X_Train = pd.DataFrame(scaler.fit_transform(X_Train),index=X_Train.index, columns=X_Train.columns)"
   ]
  },
  {
   "cell_type": "code",
   "execution_count": 48,
   "id": "3f74ce99-6a60-4b7b-92bb-52e9d8e4ce61",
   "metadata": {},
   "outputs": [],
   "source": [
    "processed_X_Val = pd.DataFrame(scaler.transform(X_Val),index=X_Val.index, columns=X_Val.columns)"
   ]
  },
  {
   "cell_type": "code",
   "execution_count": 49,
   "id": "e266b291-e2a3-491f-9079-480cc8fc2a0f",
   "metadata": {},
   "outputs": [
    {
     "data": {
      "text/html": [
       "<div>\n",
       "<style scoped>\n",
       "    .dataframe tbody tr th:only-of-type {\n",
       "        vertical-align: middle;\n",
       "    }\n",
       "\n",
       "    .dataframe tbody tr th {\n",
       "        vertical-align: top;\n",
       "    }\n",
       "\n",
       "    .dataframe thead th {\n",
       "        text-align: right;\n",
       "    }\n",
       "</style>\n",
       "<table border=\"1\" class=\"dataframe\">\n",
       "  <thead>\n",
       "    <tr style=\"text-align: right;\">\n",
       "      <th></th>\n",
       "      <th>household</th>\n",
       "      <th>age</th>\n",
       "      <th>country_Rwanda</th>\n",
       "      <th>country_Tanzania</th>\n",
       "      <th>country_Uganda</th>\n",
       "      <th>location_Urban</th>\n",
       "      <th>cellphone_Yes</th>\n",
       "      <th>gender_Male</th>\n",
       "      <th>marital_status_Dont know</th>\n",
       "      <th>marital_status_Married/Living together</th>\n",
       "      <th>...</th>\n",
       "      <th>job_No Income</th>\n",
       "      <th>job_Other Income</th>\n",
       "      <th>job_Remittance Dependent</th>\n",
       "      <th>job_Self employed</th>\n",
       "      <th>status_household_Head of Household</th>\n",
       "      <th>status_household_Other non-relatives</th>\n",
       "      <th>status_household_Other relative</th>\n",
       "      <th>status_household_Parent</th>\n",
       "      <th>status_household_Spouse</th>\n",
       "      <th>edu_cat</th>\n",
       "    </tr>\n",
       "  </thead>\n",
       "  <tbody>\n",
       "    <tr>\n",
       "      <th>22542</th>\n",
       "      <td>0.263158</td>\n",
       "      <td>0.642857</td>\n",
       "      <td>0.0</td>\n",
       "      <td>0.0</td>\n",
       "      <td>1.0</td>\n",
       "      <td>0.0</td>\n",
       "      <td>1.0</td>\n",
       "      <td>0.0</td>\n",
       "      <td>0.0</td>\n",
       "      <td>1.0</td>\n",
       "      <td>...</td>\n",
       "      <td>0.0</td>\n",
       "      <td>0.0</td>\n",
       "      <td>0.0</td>\n",
       "      <td>1.0</td>\n",
       "      <td>1.0</td>\n",
       "      <td>0.0</td>\n",
       "      <td>0.0</td>\n",
       "      <td>0.0</td>\n",
       "      <td>0.0</td>\n",
       "      <td>0.0</td>\n",
       "    </tr>\n",
       "    <tr>\n",
       "      <th>3683</th>\n",
       "      <td>0.000000</td>\n",
       "      <td>0.464286</td>\n",
       "      <td>0.0</td>\n",
       "      <td>0.0</td>\n",
       "      <td>0.0</td>\n",
       "      <td>1.0</td>\n",
       "      <td>1.0</td>\n",
       "      <td>0.0</td>\n",
       "      <td>0.0</td>\n",
       "      <td>0.0</td>\n",
       "      <td>...</td>\n",
       "      <td>0.0</td>\n",
       "      <td>0.0</td>\n",
       "      <td>0.0</td>\n",
       "      <td>1.0</td>\n",
       "      <td>1.0</td>\n",
       "      <td>0.0</td>\n",
       "      <td>0.0</td>\n",
       "      <td>0.0</td>\n",
       "      <td>0.0</td>\n",
       "      <td>0.4</td>\n",
       "    </tr>\n",
       "    <tr>\n",
       "      <th>19199</th>\n",
       "      <td>0.052632</td>\n",
       "      <td>0.130952</td>\n",
       "      <td>0.0</td>\n",
       "      <td>1.0</td>\n",
       "      <td>0.0</td>\n",
       "      <td>1.0</td>\n",
       "      <td>1.0</td>\n",
       "      <td>1.0</td>\n",
       "      <td>0.0</td>\n",
       "      <td>0.0</td>\n",
       "      <td>...</td>\n",
       "      <td>0.0</td>\n",
       "      <td>0.0</td>\n",
       "      <td>0.0</td>\n",
       "      <td>1.0</td>\n",
       "      <td>1.0</td>\n",
       "      <td>0.0</td>\n",
       "      <td>0.0</td>\n",
       "      <td>0.0</td>\n",
       "      <td>0.0</td>\n",
       "      <td>0.6</td>\n",
       "    </tr>\n",
       "    <tr>\n",
       "      <th>14130</th>\n",
       "      <td>0.157895</td>\n",
       "      <td>0.226190</td>\n",
       "      <td>1.0</td>\n",
       "      <td>0.0</td>\n",
       "      <td>0.0</td>\n",
       "      <td>0.0</td>\n",
       "      <td>1.0</td>\n",
       "      <td>0.0</td>\n",
       "      <td>0.0</td>\n",
       "      <td>1.0</td>\n",
       "      <td>...</td>\n",
       "      <td>0.0</td>\n",
       "      <td>0.0</td>\n",
       "      <td>0.0</td>\n",
       "      <td>0.0</td>\n",
       "      <td>0.0</td>\n",
       "      <td>0.0</td>\n",
       "      <td>0.0</td>\n",
       "      <td>0.0</td>\n",
       "      <td>1.0</td>\n",
       "      <td>0.0</td>\n",
       "    </tr>\n",
       "    <tr>\n",
       "      <th>16634</th>\n",
       "      <td>0.052632</td>\n",
       "      <td>0.202381</td>\n",
       "      <td>0.0</td>\n",
       "      <td>1.0</td>\n",
       "      <td>0.0</td>\n",
       "      <td>1.0</td>\n",
       "      <td>1.0</td>\n",
       "      <td>0.0</td>\n",
       "      <td>0.0</td>\n",
       "      <td>0.0</td>\n",
       "      <td>...</td>\n",
       "      <td>0.0</td>\n",
       "      <td>0.0</td>\n",
       "      <td>0.0</td>\n",
       "      <td>1.0</td>\n",
       "      <td>0.0</td>\n",
       "      <td>0.0</td>\n",
       "      <td>0.0</td>\n",
       "      <td>1.0</td>\n",
       "      <td>0.0</td>\n",
       "      <td>0.4</td>\n",
       "    </tr>\n",
       "    <tr>\n",
       "      <th>...</th>\n",
       "      <td>...</td>\n",
       "      <td>...</td>\n",
       "      <td>...</td>\n",
       "      <td>...</td>\n",
       "      <td>...</td>\n",
       "      <td>...</td>\n",
       "      <td>...</td>\n",
       "      <td>...</td>\n",
       "      <td>...</td>\n",
       "      <td>...</td>\n",
       "      <td>...</td>\n",
       "      <td>...</td>\n",
       "      <td>...</td>\n",
       "      <td>...</td>\n",
       "      <td>...</td>\n",
       "      <td>...</td>\n",
       "      <td>...</td>\n",
       "      <td>...</td>\n",
       "      <td>...</td>\n",
       "      <td>...</td>\n",
       "      <td>...</td>\n",
       "    </tr>\n",
       "    <tr>\n",
       "      <th>7085</th>\n",
       "      <td>0.157895</td>\n",
       "      <td>0.238095</td>\n",
       "      <td>1.0</td>\n",
       "      <td>0.0</td>\n",
       "      <td>0.0</td>\n",
       "      <td>0.0</td>\n",
       "      <td>0.0</td>\n",
       "      <td>0.0</td>\n",
       "      <td>0.0</td>\n",
       "      <td>0.0</td>\n",
       "      <td>...</td>\n",
       "      <td>0.0</td>\n",
       "      <td>0.0</td>\n",
       "      <td>0.0</td>\n",
       "      <td>0.0</td>\n",
       "      <td>1.0</td>\n",
       "      <td>0.0</td>\n",
       "      <td>0.0</td>\n",
       "      <td>0.0</td>\n",
       "      <td>0.0</td>\n",
       "      <td>0.4</td>\n",
       "    </tr>\n",
       "    <tr>\n",
       "      <th>21179</th>\n",
       "      <td>0.157895</td>\n",
       "      <td>0.142857</td>\n",
       "      <td>0.0</td>\n",
       "      <td>1.0</td>\n",
       "      <td>0.0</td>\n",
       "      <td>1.0</td>\n",
       "      <td>0.0</td>\n",
       "      <td>0.0</td>\n",
       "      <td>0.0</td>\n",
       "      <td>0.0</td>\n",
       "      <td>...</td>\n",
       "      <td>0.0</td>\n",
       "      <td>0.0</td>\n",
       "      <td>0.0</td>\n",
       "      <td>1.0</td>\n",
       "      <td>0.0</td>\n",
       "      <td>0.0</td>\n",
       "      <td>0.0</td>\n",
       "      <td>0.0</td>\n",
       "      <td>1.0</td>\n",
       "      <td>0.0</td>\n",
       "    </tr>\n",
       "    <tr>\n",
       "      <th>14315</th>\n",
       "      <td>0.000000</td>\n",
       "      <td>0.095238</td>\n",
       "      <td>1.0</td>\n",
       "      <td>0.0</td>\n",
       "      <td>0.0</td>\n",
       "      <td>0.0</td>\n",
       "      <td>0.0</td>\n",
       "      <td>1.0</td>\n",
       "      <td>0.0</td>\n",
       "      <td>0.0</td>\n",
       "      <td>...</td>\n",
       "      <td>0.0</td>\n",
       "      <td>0.0</td>\n",
       "      <td>0.0</td>\n",
       "      <td>0.0</td>\n",
       "      <td>1.0</td>\n",
       "      <td>0.0</td>\n",
       "      <td>0.0</td>\n",
       "      <td>0.0</td>\n",
       "      <td>0.0</td>\n",
       "      <td>0.4</td>\n",
       "    </tr>\n",
       "    <tr>\n",
       "      <th>13042</th>\n",
       "      <td>0.210526</td>\n",
       "      <td>0.297619</td>\n",
       "      <td>1.0</td>\n",
       "      <td>0.0</td>\n",
       "      <td>0.0</td>\n",
       "      <td>0.0</td>\n",
       "      <td>1.0</td>\n",
       "      <td>0.0</td>\n",
       "      <td>0.0</td>\n",
       "      <td>1.0</td>\n",
       "      <td>...</td>\n",
       "      <td>0.0</td>\n",
       "      <td>0.0</td>\n",
       "      <td>0.0</td>\n",
       "      <td>0.0</td>\n",
       "      <td>0.0</td>\n",
       "      <td>0.0</td>\n",
       "      <td>0.0</td>\n",
       "      <td>0.0</td>\n",
       "      <td>1.0</td>\n",
       "      <td>0.6</td>\n",
       "    </tr>\n",
       "    <tr>\n",
       "      <th>13768</th>\n",
       "      <td>0.368421</td>\n",
       "      <td>0.214286</td>\n",
       "      <td>1.0</td>\n",
       "      <td>0.0</td>\n",
       "      <td>0.0</td>\n",
       "      <td>0.0</td>\n",
       "      <td>1.0</td>\n",
       "      <td>0.0</td>\n",
       "      <td>0.0</td>\n",
       "      <td>0.0</td>\n",
       "      <td>...</td>\n",
       "      <td>0.0</td>\n",
       "      <td>0.0</td>\n",
       "      <td>0.0</td>\n",
       "      <td>0.0</td>\n",
       "      <td>0.0</td>\n",
       "      <td>0.0</td>\n",
       "      <td>0.0</td>\n",
       "      <td>1.0</td>\n",
       "      <td>0.0</td>\n",
       "      <td>0.0</td>\n",
       "    </tr>\n",
       "  </tbody>\n",
       "</table>\n",
       "<p>7058 rows × 27 columns</p>\n",
       "</div>"
      ],
      "text/plain": [
       "       household       age  country_Rwanda  country_Tanzania  country_Uganda  \\\n",
       "22542   0.263158  0.642857             0.0               0.0             1.0   \n",
       "3683    0.000000  0.464286             0.0               0.0             0.0   \n",
       "19199   0.052632  0.130952             0.0               1.0             0.0   \n",
       "14130   0.157895  0.226190             1.0               0.0             0.0   \n",
       "16634   0.052632  0.202381             0.0               1.0             0.0   \n",
       "...          ...       ...             ...               ...             ...   \n",
       "7085    0.157895  0.238095             1.0               0.0             0.0   \n",
       "21179   0.157895  0.142857             0.0               1.0             0.0   \n",
       "14315   0.000000  0.095238             1.0               0.0             0.0   \n",
       "13042   0.210526  0.297619             1.0               0.0             0.0   \n",
       "13768   0.368421  0.214286             1.0               0.0             0.0   \n",
       "\n",
       "       location_Urban  cellphone_Yes  gender_Male  marital_status_Dont know  \\\n",
       "22542             0.0            1.0          0.0                       0.0   \n",
       "3683              1.0            1.0          0.0                       0.0   \n",
       "19199             1.0            1.0          1.0                       0.0   \n",
       "14130             0.0            1.0          0.0                       0.0   \n",
       "16634             1.0            1.0          0.0                       0.0   \n",
       "...               ...            ...          ...                       ...   \n",
       "7085              0.0            0.0          0.0                       0.0   \n",
       "21179             1.0            0.0          0.0                       0.0   \n",
       "14315             0.0            0.0          1.0                       0.0   \n",
       "13042             0.0            1.0          0.0                       0.0   \n",
       "13768             0.0            1.0          0.0                       0.0   \n",
       "\n",
       "       marital_status_Married/Living together  ...  job_No Income  \\\n",
       "22542                                     1.0  ...            0.0   \n",
       "3683                                      0.0  ...            0.0   \n",
       "19199                                     0.0  ...            0.0   \n",
       "14130                                     1.0  ...            0.0   \n",
       "16634                                     0.0  ...            0.0   \n",
       "...                                       ...  ...            ...   \n",
       "7085                                      0.0  ...            0.0   \n",
       "21179                                     0.0  ...            0.0   \n",
       "14315                                     0.0  ...            0.0   \n",
       "13042                                     1.0  ...            0.0   \n",
       "13768                                     0.0  ...            0.0   \n",
       "\n",
       "       job_Other Income  job_Remittance Dependent  job_Self employed  \\\n",
       "22542               0.0                       0.0                1.0   \n",
       "3683                0.0                       0.0                1.0   \n",
       "19199               0.0                       0.0                1.0   \n",
       "14130               0.0                       0.0                0.0   \n",
       "16634               0.0                       0.0                1.0   \n",
       "...                 ...                       ...                ...   \n",
       "7085                0.0                       0.0                0.0   \n",
       "21179               0.0                       0.0                1.0   \n",
       "14315               0.0                       0.0                0.0   \n",
       "13042               0.0                       0.0                0.0   \n",
       "13768               0.0                       0.0                0.0   \n",
       "\n",
       "       status_household_Head of Household  \\\n",
       "22542                                 1.0   \n",
       "3683                                  1.0   \n",
       "19199                                 1.0   \n",
       "14130                                 0.0   \n",
       "16634                                 0.0   \n",
       "...                                   ...   \n",
       "7085                                  1.0   \n",
       "21179                                 0.0   \n",
       "14315                                 1.0   \n",
       "13042                                 0.0   \n",
       "13768                                 0.0   \n",
       "\n",
       "       status_household_Other non-relatives  status_household_Other relative  \\\n",
       "22542                                   0.0                              0.0   \n",
       "3683                                    0.0                              0.0   \n",
       "19199                                   0.0                              0.0   \n",
       "14130                                   0.0                              0.0   \n",
       "16634                                   0.0                              0.0   \n",
       "...                                     ...                              ...   \n",
       "7085                                    0.0                              0.0   \n",
       "21179                                   0.0                              0.0   \n",
       "14315                                   0.0                              0.0   \n",
       "13042                                   0.0                              0.0   \n",
       "13768                                   0.0                              0.0   \n",
       "\n",
       "       status_household_Parent  status_household_Spouse  edu_cat  \n",
       "22542                      0.0                      0.0      0.0  \n",
       "3683                       0.0                      0.0      0.4  \n",
       "19199                      0.0                      0.0      0.6  \n",
       "14130                      0.0                      1.0      0.0  \n",
       "16634                      1.0                      0.0      0.4  \n",
       "...                        ...                      ...      ...  \n",
       "7085                       0.0                      0.0      0.4  \n",
       "21179                      0.0                      1.0      0.0  \n",
       "14315                      0.0                      0.0      0.4  \n",
       "13042                      0.0                      1.0      0.6  \n",
       "13768                      1.0                      0.0      0.0  \n",
       "\n",
       "[7058 rows x 27 columns]"
      ]
     },
     "execution_count": 49,
     "metadata": {},
     "output_type": "execute_result"
    }
   ],
   "source": [
    "processed_X_Val"
   ]
  },
  {
   "cell_type": "markdown",
   "id": "89624bca-0cac-45d8-8d76-c915f6ec5d88",
   "metadata": {},
   "source": [
    "# Model 1 Decision Tree"
   ]
  },
  {
   "cell_type": "code",
   "execution_count": 50,
   "id": "261e0aaa-95ea-4b57-a5bb-30c682cf991b",
   "metadata": {},
   "outputs": [
    {
     "data": {
      "text/plain": [
       "DecisionTreeClassifier(max_depth=15, random_state=33)"
      ]
     },
     "execution_count": 50,
     "metadata": {},
     "output_type": "execute_result"
    }
   ],
   "source": [
    "Tree = DecisionTreeClassifier(criterion='gini', max_depth=15, random_state=RSEED)\n",
    "Tree.fit(processed_X_Train, y_Train) "
   ]
  },
  {
   "cell_type": "code",
   "execution_count": 105,
   "id": "ac0734d6-c864-4fd1-ac2d-90d98797501d",
   "metadata": {},
   "outputs": [],
   "source": [
    "y_pred_Train_tree = Tree.predict(processed_X_Train)\n",
    "y_pred_Val_tree = Tree.predict(processed_X_Val)\n",
    "y_pred_Val_tree_proba = Tree.predict_proba(processed_X_Val)"
   ]
  },
  {
   "cell_type": "code",
   "execution_count": 106,
   "id": "49d79b74-ca3a-4add-ad96-491531966de8",
   "metadata": {},
   "outputs": [],
   "source": [
    "y_pred_Val_tree_proba = y_pred_Val_tree_proba[:, 1]"
   ]
  },
  {
   "cell_type": "code",
   "execution_count": 52,
   "id": "7b5fc326-e3a2-40ab-b6dc-c02da11526bf",
   "metadata": {},
   "outputs": [
    {
     "name": "stdout",
     "output_type": "stream",
     "text": [
      "Accuracy Train:  0.9305132666376685\n",
      "Accuracy Test:  0.8451402663644092\n",
      "F1-score Train:  0.8430361090641122\n",
      "F1-score Test:  0.45322661330665326\n",
      "Recall Train:  0.8086710650329878\n",
      "Recall Test:  0.4557344064386318\n"
     ]
    }
   ],
   "source": [
    "print('Accuracy Train: ',metrics.accuracy_score(y_Train, y_pred_Train_tree))\n",
    "print('Accuracy Test: ',metrics.accuracy_score(y_Val, y_pred_Val_tree))\n",
    "print('F1-score Train: ',metrics.f1_score(y_Train, y_pred_Train_tree, pos_label=1))\n",
    "print('F1-score Test: ',metrics.f1_score(y_Val, y_pred_Val_tree, pos_label=1))\n",
    "print('Recall Train: ',metrics.recall_score(y_Train, y_pred_Train_tree, pos_label=1))\n",
    "print('Recall Test: ',metrics.recall_score(y_Val, y_pred_Val_tree, pos_label=1))"
   ]
  },
  {
   "cell_type": "code",
   "execution_count": 53,
   "id": "bedf5075-2de0-4d59-9451-75310856d811",
   "metadata": {},
   "outputs": [],
   "source": [
    "cfm_tree = metrics.confusion_matrix(y_Val, y_pred_Val_tree)"
   ]
  },
  {
   "cell_type": "code",
   "execution_count": 202,
   "id": "508a8188-3168-44dc-81c3-dd9330eaf224",
   "metadata": {},
   "outputs": [
    {
     "data": {
      "image/png": "[encoded data removed]",
      "text/plain": [
       "<Figure size 640x480 with 2 Axes>"
      ]
     },
     "metadata": {},
     "output_type": "display_data"
    }
   ],
   "source": [
    "group_names = ['True Neg','False Pos','False Neg','True Pos']\n",
    "group_counts = ['{0:0.0f}'.format(value) for value in\n",
    "                cfm_tree.flatten()]\n",
    "group_percentages = ['{0:.2%}'.format(value) for value in\n",
    "                     cfm_tree.flatten()/np.sum(cfm_tree)]\n",
    "labels = [f'{v1}\\n{v2}\\n{v3}' for v1, v2, v3 in\n",
    "          zip(group_names,group_counts,group_percentages)]\n",
    "labels = np.asarray(labels).reshape(2,2)\n",
    "sns.heatmap(cfm_tree, annot=labels, fmt='', cmap=color_cfm);"
   ]
  },
  {
   "cell_type": "code",
   "execution_count": 55,
   "id": "098e7ac3-dd16-476f-8152-3a4228e4f968",
   "metadata": {},
   "outputs": [
    {
     "data": {
      "image/png": "[encoded data removed]",
      "text/plain": [
       "<Figure size 640x480 with 1 Axes>"
      ]
     },
     "metadata": {},
     "output_type": "display_data"
    }
   ],
   "source": [
    "def plot_feature_importances(model):\n",
    "    n_features = X_Train.shape[1]\n",
    "    plt.barh(np.arange(n_features),model.feature_importances_, align=\"center\")\n",
    "    plt.yticks(np.arange(n_features),X_train.columns)\n",
    "    plt.ylim(-1,n_features)\n",
    "    \n",
    "plot_feature_importances(Tree)"
   ]
  },
  {
   "cell_type": "markdown",
   "id": "601e133a-f1cb-4426-a98e-89cd3122a003",
   "metadata": {},
   "source": [
    "# XGB"
   ]
  },
  {
   "cell_type": "code",
   "execution_count": 56,
   "id": "8f66a12d-ca25-49a0-a9f5-7fae836e95a8",
   "metadata": {},
   "outputs": [],
   "source": [
    "from numpy import mean\n",
    "from sklearn.datasets import make_classification\n",
    "from sklearn.model_selection import cross_val_score\n",
    "from sklearn.model_selection import RepeatedStratifiedKFold\n",
    "from xgboost import XGBClassifier"
   ]
  },
  {
   "cell_type": "code",
   "execution_count": 144,
   "id": "a0ec4ae0-9e82-46f3-bcc0-79877f20e79b",
   "metadata": {},
   "outputs": [],
   "source": [
    "xgb = XGBClassifier(subsample= 0.5,scale_pos_weight=3,min_child_weight=7,max_depth= 6,learning_rate= 0.25, gamma= 0.3, colsample_bytree= 0.4)"
   ]
  },
  {
   "cell_type": "code",
   "execution_count": 145,
   "id": "0d7a1bfc-6132-4190-9a78-894b450ade63",
   "metadata": {
    "tags": []
   },
   "outputs": [
    {
     "data": {
      "text/plain": [
       "XGBClassifier(base_score=None, booster=None, callbacks=None,\n",
       "              colsample_bylevel=None, colsample_bynode=None,\n",
       "              colsample_bytree=0.4, early_stopping_rounds=None,\n",
       "              enable_categorical=False, eval_metric=None, feature_types=None,\n",
       "              gamma=0.3, gpu_id=None, grow_policy=None, importance_type=None,\n",
       "              interaction_constraints=None, learning_rate=0.25, max_bin=None,\n",
       "              max_cat_threshold=None, max_cat_to_onehot=None,\n",
       "              max_delta_step=None, max_depth=6, max_leaves=None,\n",
       "              min_child_weight=7, missing=nan, monotone_constraints=None,\n",
       "              n_estimators=100, n_jobs=None, num_parallel_tree=None,\n",
       "              predictor=None, random_state=None, ...)"
      ]
     },
     "execution_count": 145,
     "metadata": {},
     "output_type": "execute_result"
    }
   ],
   "source": [
    "xgb.fit(processed_X_Train, y_Train) "
   ]
  },
  {
   "cell_type": "code",
   "execution_count": 146,
   "id": "938763fb-1894-4d29-9750-82fc4ea1fa36",
   "metadata": {},
   "outputs": [],
   "source": [
    "y_pred_Train_xgb = xgb.predict(processed_X_Train)\n",
    "y_pred_Val_xgb = xgb.predict(processed_X_Val)\n",
    "y_pred_Val_xgb_proba = xgb.predict_proba(processed_X_Val)"
   ]
  },
  {
   "cell_type": "code",
   "execution_count": 147,
   "id": "3eeeb759-3f65-46b7-a75e-e67d804d74bf",
   "metadata": {
    "tags": []
   },
   "outputs": [],
   "source": [
    "y_pred_Val_xgb_proba = y_pred_Val_xgb_proba[:, 1]"
   ]
  },
  {
   "cell_type": "code",
   "execution_count": 148,
   "id": "020b7a2e-925e-4392-b484-ebc20a2ce7b5",
   "metadata": {},
   "outputs": [
    {
     "name": "stdout",
     "output_type": "stream",
     "text": [
      "Accuracy Train:  0.8464549804262723\n",
      "Accuracy Test:  0.8197789742136583\n",
      "F1-score Train:  0.7142857142857143\n",
      "F1-score Test:  0.508500772797527\n",
      "Recall Train:  0.8317624882186616\n",
      "Recall Test:  0.6619718309859155\n"
     ]
    }
   ],
   "source": [
    "print('Accuracy Train: ',metrics.accuracy_score(y_Train, y_pred_Train_xgb))\n",
    "print('Accuracy Test: ',metrics.accuracy_score(y_Val, y_pred_Val_xgb))\n",
    "print('F1-score Train: ',metrics.f1_score(y_Train, y_pred_Train_xgb, pos_label=1))\n",
    "print('F1-score Test: ',metrics.f1_score(y_Val, y_pred_Val_xgb, pos_label=1))\n",
    "print('Recall Train: ',metrics.recall_score(y_Train, y_pred_Train_xgb, pos_label=1))\n",
    "print('Recall Test: ',metrics.recall_score(y_Val, y_pred_Val_xgb, pos_label=1))"
   ]
  },
  {
   "cell_type": "code",
   "execution_count": 61,
   "id": "f34a8315-2a33-4189-bd41-971eca83aa35",
   "metadata": {},
   "outputs": [],
   "source": [
    "cfm_xgb = metrics.confusion_matrix(y_Val, y_pred_Val_xgb)"
   ]
  },
  {
   "cell_type": "code",
   "execution_count": 200,
   "id": "e2990a55-0842-47c5-8900-3f4bbb4024e9",
   "metadata": {},
   "outputs": [
    {
     "data": {
      "image/png": "[encoded data removed]",
      "text/plain": [
       "<Figure size 640x480 with 2 Axes>"
      ]
     },
     "metadata": {},
     "output_type": "display_data"
    }
   ],
   "source": [
    "color_cfm = ['#eaf2f2', '#d9e8e8', '#ccdfdf', '#bcd6d5', \"#aacbca\", '#9ac1c1', '#83b3b2', '#77abaa', '#6ba4a3', '#5f9c9a', '#599190']\n",
    "\n",
    "group_names = ['True Neg','False Pos','False Neg','True Pos']\n",
    "group_counts = ['{0:0.0f}'.format(value) for value in\n",
    "                cfm_xgb.flatten()]\n",
    "group_percentages = ['{0:.2%}'.format(value) for value in\n",
    "                     cfm_xgb.flatten()/np.sum(cfm_xgb)]\n",
    "labels = [f'{v1}\\n{v2}\\n{v3}' for v1, v2, v3 in\n",
    "          zip(group_names,group_counts,group_percentages)]\n",
    "labels = np.asarray(labels).reshape(2,2)\n",
    "sns.heatmap(cfm_xgb, annot=labels, fmt='', cmap = color_cfm);"
   ]
  },
  {
   "cell_type": "code",
   "execution_count": 205,
   "id": "b75d130a-de75-4ec8-bffc-4463475dee8e",
   "metadata": {},
   "outputs": [
    {
     "data": {
      "image/png": "[encoded data removed]",
      "text/plain": [
       "<Figure size 640x480 with 2 Axes>"
      ]
     },
     "metadata": {},
     "output_type": "display_data"
    }
   ],
   "source": [
    "group_names = ['True Neg','False Pos','False Neg','True Pos']\n",
    "group_counts = ['{0:0.0f}'.format(value) for value in\n",
    "                cfm_xgb.flatten()]\n",
    "group_percentages = ['{0:.2%}'.format(value) for value in\n",
    "                     cfm_xgb.flatten()/np.sum(cfm_xgb)]\n",
    "labels = [f'{v1}\\n{v2}\\n{v3}' for v1, v2, v3 in\n",
    "          zip(group_names,group_counts,group_percentages)]\n",
    "labels = np.asarray(labels).reshape(2,2)\n",
    "sns.heatmap(cfm_xgb, annot=labels, fmt='', cmap = color_cfm);"
   ]
  },
  {
   "cell_type": "markdown",
   "id": "c5dfbefd-1e77-4ad0-869a-b89a4801653b",
   "metadata": {},
   "source": [
    "### with own threshold"
   ]
  },
  {
   "cell_type": "code",
   "execution_count": 121,
   "id": "5acd0902-e591-46a6-8c12-93f83646caab",
   "metadata": {},
   "outputs": [],
   "source": [
    "def own_prediction(probabilities, threshold):\n",
    "    new_list = []\n",
    "    for i in probabilities:\n",
    "        if i >= threshold:\n",
    "            new_list.append(1)\n",
    "        else:\n",
    "            new_list.append(0)\n",
    "    return new_list"
   ]
  },
  {
   "cell_type": "code",
   "execution_count": 134,
   "id": "841eb1f4-7a81-49fc-aa9b-2bba7150c16c",
   "metadata": {},
   "outputs": [],
   "source": [
    "own_y_pred_Val_xgb = own_prediction(y_pred_Val_xgb_proba, 0.3)"
   ]
  },
  {
   "cell_type": "code",
   "execution_count": 135,
   "id": "ff9f86f3-811a-4104-bf53-a18a8453f24c",
   "metadata": {},
   "outputs": [
    {
     "name": "stdout",
     "output_type": "stream",
     "text": [
      "Accuracy Train:  0.8464549804262723\n",
      "Accuracy Test:  0.7133748937376028\n",
      "F1-score Train:  0.7142857142857143\n",
      "F1-score Test:  0.44681432868471427\n",
      "Recall Train:  0.8317624882186616\n",
      "Recall Test:  0.8219315895372233\n"
     ]
    }
   ],
   "source": [
    "print('Accuracy Train: ',metrics.accuracy_score(y_Train, y_pred_Train_xgb))\n",
    "print('Accuracy Test: ',metrics.accuracy_score(y_Val, own_y_pred_Val_xgb))\n",
    "print('F1-score Train: ',metrics.f1_score(y_Train, y_pred_Train_xgb, pos_label=1))\n",
    "print('F1-score Test: ',metrics.f1_score(y_Val, own_y_pred_Val_xgb, pos_label=1))\n",
    "print('Recall Train: ',metrics.recall_score(y_Train, y_pred_Train_xgb, pos_label=1))\n",
    "print('Recall Test: ',metrics.recall_score(y_Val, own_y_pred_Val_xgb, pos_label=1))"
   ]
  },
  {
   "cell_type": "code",
   "execution_count": 136,
   "id": "cfa51ad8-cb65-4b92-b0c0-4667d9f15a5c",
   "metadata": {
    "tags": []
   },
   "outputs": [],
   "source": [
    "cfm_xgb_own_trs = metrics.confusion_matrix(y_Val, own_y_pred_Val_xgb)"
   ]
  },
  {
   "cell_type": "code",
   "execution_count": 204,
   "id": "ddbbde60-b739-4c63-95d6-478f3879a956",
   "metadata": {},
   "outputs": [
    {
     "data": {
      "image/png": "[encoded data removed]",
      "text/plain": [
       "<Figure size 640x480 with 2 Axes>"
      ]
     },
     "metadata": {},
     "output_type": "display_data"
    }
   ],
   "source": [
    "group_names = ['True Neg','False Pos','False Neg','True Pos']\n",
    "group_counts = ['{0:0.0f}'.format(value) for value in\n",
    "                cfm_xgb_own_trs.flatten()]\n",
    "group_percentages = ['{0:.2%}'.format(value) for value in\n",
    "                     cfm_xgb_own_trs.flatten()/np.sum(cfm_xgb_own_trs)]\n",
    "labels = [f'{v1}\\n{v2}\\n{v3}' for v1, v2, v3 in\n",
    "          zip(group_names,group_counts,group_percentages)]\n",
    "labels = np.asarray(labels).reshape(2,2)\n",
    "sns.heatmap(cfm_xgb_own_trs, annot=labels, fmt='', cmap= color_cfm);"
   ]
  },
  {
   "cell_type": "markdown",
   "id": "5f1ef974-ccef-4f17-91b1-ac78f6365895",
   "metadata": {},
   "source": [
    "### Hyper Parameter Tuning"
   ]
  },
  {
   "cell_type": "code",
   "execution_count": 63,
   "id": "9fafbc1d-1339-47da-8363-1e7a4a652974",
   "metadata": {},
   "outputs": [],
   "source": [
    "params = {\n",
    "    \"learning_rate\" : [0.05,0.10,0.15,0.20,0.25,0.30],\n",
    "    \"max_depth\" : [ 3, 4, 5, 6, 8, 10, 12, 15],\n",
    "    \"min_child_weight\" : [ 1, 3, 5, 7 ],\n",
    "    \"gamma\": [ 0.0, 0.1, 0.2 , 0.3, 0.4 ],\n",
    "    \"colsample_bytree\" : [ 0.3, 0.4, 0.5 , 0.7 ],\n",
    "    \"subsample\" : [0.5, 1],\n",
    "    \"scale_pos_weight\" : [1, 3, 6, 10, 15]\n",
    "    }"
   ]
  },
  {
   "cell_type": "code",
   "execution_count": 64,
   "id": "9a9661c5-72ee-43ad-b295-27b10a6643df",
   "metadata": {},
   "outputs": [],
   "source": [
    "rs_model=RandomizedSearchCV(xgb,param_distributions=params,n_iter=5,scoring='f1',n_jobs=-1,cv=5,verbose=3)"
   ]
  },
  {
   "cell_type": "code",
   "execution_count": 65,
   "id": "d31d97cd-fbc7-4781-931b-af0bd4cde267",
   "metadata": {},
   "outputs": [
    {
     "name": "stdout",
     "output_type": "stream",
     "text": [
      "Fitting 5 folds for each of 5 candidates, totalling 25 fits\n"
     ]
    },
    {
     "data": {
      "text/plain": [
       "RandomizedSearchCV(cv=5,\n",
       "                   estimator=XGBClassifier(base_score=None, booster=None,\n",
       "                                           callbacks=None,\n",
       "                                           colsample_bylevel=None,\n",
       "                                           colsample_bynode=None,\n",
       "                                           colsample_bytree=0.4,\n",
       "                                           early_stopping_rounds=None,\n",
       "                                           enable_categorical=False,\n",
       "                                           eval_metric=None, feature_types=None,\n",
       "                                           gamma=0.3, gpu_id=None,\n",
       "                                           grow_policy=None,\n",
       "                                           importance_type=None,\n",
       "                                           interaction_constraints=None,\n",
       "                                           learning_rate=0...\n",
       "                                           num_parallel_tree=None,\n",
       "                                           predictor=None, random_state=None, ...),\n",
       "                   n_iter=5, n_jobs=-1,\n",
       "                   param_distributions={'colsample_bytree': [0.3, 0.4, 0.5,\n",
       "                                                             0.7],\n",
       "                                        'gamma': [0.0, 0.1, 0.2, 0.3, 0.4],\n",
       "                                        'learning_rate': [0.05, 0.1, 0.15, 0.2,\n",
       "                                                          0.25, 0.3],\n",
       "                                        'max_depth': [3, 4, 5, 6, 8, 10, 12,\n",
       "                                                      15],\n",
       "                                        'min_child_weight': [1, 3, 5, 7],\n",
       "                                        'scale_pos_weight': [1, 3, 6, 10, 15],\n",
       "                                        'subsample': [0.5, 1]},\n",
       "                   scoring='f1', verbose=3)"
      ]
     },
     "execution_count": 65,
     "metadata": {},
     "output_type": "execute_result"
    }
   ],
   "source": [
    "rs_model.fit(processed_X_Train,y_Train)"
   ]
  },
  {
   "cell_type": "code",
   "execution_count": 66,
   "id": "58e93a14-a83b-4d51-afad-f0595885d35a",
   "metadata": {},
   "outputs": [
    {
     "data": {
      "text/plain": [
       "{'subsample': 1,\n",
       " 'scale_pos_weight': 10,\n",
       " 'min_child_weight': 3,\n",
       " 'max_depth': 15,\n",
       " 'learning_rate': 0.15,\n",
       " 'gamma': 0.3,\n",
       " 'colsample_bytree': 0.7}"
      ]
     },
     "execution_count": 66,
     "metadata": {},
     "output_type": "execute_result"
    }
   ],
   "source": [
    "rs_model.best_params_"
   ]
  },
  {
   "cell_type": "code",
   "execution_count": 138,
   "id": "4e54a88f-3d19-462c-89c5-39b392ff2b2b",
   "metadata": {},
   "outputs": [
    {
     "name": "stdout",
     "output_type": "stream",
     "text": [
      "0.7840127635960044\n"
     ]
    }
   ],
   "source": [
    "cv = RepeatedStratifiedKFold(n_splits=10, n_repeats=3, random_state=RSEED)\n",
    "scores = cross_val_score(xgb, processed_X_Train, y_Train, scoring='recall', cv=cv, n_jobs=-1)\n",
    "print(np.mean(scores))"
   ]
  },
  {
   "cell_type": "markdown",
   "id": "8c32078b-73fe-44e5-b4d7-5f6eb31efa49",
   "metadata": {},
   "source": [
    "### ROC AUC CURVE and Thresholding"
   ]
  },
  {
   "cell_type": "code",
   "execution_count": 83,
   "id": "8c7773a4-529c-4a52-a19f-7c35c6ab21e2",
   "metadata": {},
   "outputs": [
    {
     "data": {
      "text/plain": [
       "0.8478491330569167"
      ]
     },
     "execution_count": 83,
     "metadata": {},
     "output_type": "execute_result"
    }
   ],
   "source": [
    "from sklearn.metrics import roc_auc_score, roc_curve\n",
    "xgb_auc = roc_auc_score(y_Val, y_pred_Val_xgb_proba)\n",
    "xgb_auc"
   ]
  },
  {
   "cell_type": "code",
   "execution_count": 84,
   "id": "0d0959d9-e501-497b-ad09-498f8defdc06",
   "metadata": {},
   "outputs": [],
   "source": [
    "fpr, tpr, thresholds = roc_curve(y_Val, y_pred_Val_xgb_proba)"
   ]
  },
  {
   "cell_type": "code",
   "execution_count": 107,
   "id": "82173cbd-ea0a-4223-b4e3-4666cb0276a5",
   "metadata": {},
   "outputs": [],
   "source": [
    "fprbl, tprbl, thresholdsbl = roc_curve(y_Val, y_pred_Val_tree_proba)"
   ]
  },
  {
   "cell_type": "code",
   "execution_count": 211,
   "id": "26dbe405-06b3-484a-9b05-f36e786f4cc8",
   "metadata": {},
   "outputs": [
    {
     "data": {
      "image/png": "[encoded data removed]",
      "text/plain": [
       "<Figure size 640x480 with 1 Axes>"
      ]
     },
     "metadata": {},
     "output_type": "display_data"
    }
   ],
   "source": [
    "pyplot.plot(fprbl, tprbl, linestyle='--', label='Baseline', color='#599190')\n",
    "pyplot.plot(fpr, tpr, label='XGB', color = '#edafb8')\n",
    "pyplot.xlabel('False Positive Rate')\n",
    "pyplot.ylabel('True Positive Rate')\n",
    "pyplot.legend()\n",
    "pyplot.show()"
   ]
  },
  {
   "cell_type": "code",
   "execution_count": 111,
   "id": "e68a15e8-6b01-4ad0-a3ea-f66e45eeef83",
   "metadata": {},
   "outputs": [
    {
     "name": "stdout",
     "output_type": "stream",
     "text": [
      "Best Threshold=0.638383, F-Score=0.525\n"
     ]
    }
   ],
   "source": [
    "from sklearn.metrics import precision_recall_curve\n",
    "precision, recall, thresholds = precision_recall_curve(y_Val, y_pred_Val_xgb_proba)\n",
    "fscore = (2 * precision * recall) / (precision + recall)\n",
    "ix=argmax(fscore)\n",
    "print('Best Threshold=%f, F-Score=%.3f' % (thresholds[ix], fscore[ix]))"
   ]
  },
  {
   "cell_type": "code",
   "execution_count": 116,
   "id": "6891163b-2622-46d1-a825-4f2d4999fdd6",
   "metadata": {},
   "outputs": [
    {
     "data": {
      "image/png": "[encoded data removed]",
      "text/plain": [
       "<Figure size 640x480 with 1 Axes>"
      ]
     },
     "metadata": {},
     "output_type": "display_data"
    }
   ],
   "source": [
    "pyplot.plot(fprbl, tprbl, linestyle='--', label='Baseline')\n",
    "pyplot.plot(fpr, tpr, label='XGB')\n",
    "pyplot.scatter(fpr[ix], tpr[ix], marker='o', color='black', label='Best')\n",
    "pyplot.xlabel('False Positive Rate')\n",
    "pyplot.ylabel('True Positive Rate')\n",
    "pyplot.legend()\n",
    "pyplot.show()"
   ]
  },
  {
   "cell_type": "code",
   "execution_count": 114,
   "id": "fe1fbb9f-0b3b-44c1-b860-af70fdcc8484",
   "metadata": {},
   "outputs": [],
   "source": [
    "def to_labels(pos_probs, threshold):\n",
    " return (pos_probs >= threshold).astype('int')"
   ]
  },
  {
   "cell_type": "code",
   "execution_count": 115,
   "id": "e48f9374-3b82-47af-9cff-aa649a1bf188",
   "metadata": {},
   "outputs": [
    {
     "name": "stdout",
     "output_type": "stream",
     "text": [
      "Threshold=0.638, F-Score=0.52529\n"
     ]
    }
   ],
   "source": [
    "thresholds = np.arange(0, 1, 0.001)\n",
    "scores = [metrics.f1_score(y_Val, to_labels(y_pred_Val_xgb_proba, t)) for t in thresholds]\n",
    "ix = argmax(scores)\n",
    "print('Threshold=%.3f, F-Score=%.5f' % (thresholds[ix], scores[ix]))"
   ]
  },
  {
   "cell_type": "markdown",
   "id": "74d8800c-7aaa-4d40-9466-8001880f16d4",
   "metadata": {},
   "source": [
    "### Feature importance and feature selection"
   ]
  },
  {
   "cell_type": "code",
   "execution_count": 69,
   "id": "eeb5435a-f7e0-4002-a306-2fb4dfd83fb5",
   "metadata": {},
   "outputs": [
    {
     "data": {
      "image/png": "[encoded data removed]",
      "text/plain": [
       "<Figure size 640x480 with 1 Axes>"
      ]
     },
     "metadata": {},
     "output_type": "display_data"
    }
   ],
   "source": [
    "from xgboost import plot_importance\n",
    "from matplotlib import pyplot\n",
    "\n",
    "plot_importance(xgb)\n",
    "pyplot.show()"
   ]
  },
  {
   "cell_type": "code",
   "execution_count": 70,
   "id": "b3399b08-afe8-49a2-852c-5803d32231ae",
   "metadata": {},
   "outputs": [],
   "source": [
    "from sklearn.inspection import permutation_importance\n",
    "perm_importance = permutation_importance(xgb, X_Val, y_Val, n_repeats=30, random_state=RSEED, scoring = \"recall\")"
   ]
  },
  {
   "cell_type": "code",
   "execution_count": 71,
   "id": "8895fe4f-58c5-4699-b714-2c6094db6e6e",
   "metadata": {},
   "outputs": [
    {
     "data": {
      "text/plain": [
       "Text(0.5, 0, 'Permutation Importance')"
      ]
     },
     "execution_count": 71,
     "metadata": {},
     "output_type": "execute_result"
    },
    {
     "data": {
      "image/png": "[encoded data removed]",
      "text/plain": [
       "<Figure size 640x480 with 1 Axes>"
      ]
     },
     "metadata": {},
     "output_type": "display_data"
    }
   ],
   "source": [
    "sorted_idx = perm_importance.importances_mean.argsort()\n",
    "plt.barh(X_Val.columns[sorted_idx], perm_importance.importances_mean[sorted_idx])\n",
    "plt.xlabel(\"Permutation Importance\")"
   ]
  },
  {
   "cell_type": "code",
   "execution_count": 72,
   "id": "4451246e-ae31-4dbc-a144-3a51a56c1d40",
   "metadata": {
    "collapsed": true,
    "jupyter": {
     "outputs_hidden": true
    },
    "tags": []
   },
   "outputs": [
    {
     "name": "stderr",
     "output_type": "stream",
     "text": [
      "/Users/johannakruger/neuefische/ml_project/.venv/lib/python3.9/site-packages/sklearn/base.py:443: UserWarning: X has feature names, but SelectFromModel was fitted without feature names\n",
      "  warnings.warn(\n",
      "/Users/johannakruger/neuefische/ml_project/.venv/lib/python3.9/site-packages/sklearn/base.py:443: UserWarning: X has feature names, but SelectFromModel was fitted without feature names\n",
      "  warnings.warn(\n",
      "/Users/johannakruger/neuefische/ml_project/.venv/lib/python3.9/site-packages/sklearn/base.py:443: UserWarning: X has feature names, but SelectFromModel was fitted without feature names\n",
      "  warnings.warn(\n"
     ]
    },
    {
     "name": "stdout",
     "output_type": "stream",
     "text": [
      "Thresh=0.000, n=27, Recall: 8.65%\n"
     ]
    },
    {
     "name": "stderr",
     "output_type": "stream",
     "text": [
      "/Users/johannakruger/neuefische/ml_project/.venv/lib/python3.9/site-packages/sklearn/base.py:443: UserWarning: X has feature names, but SelectFromModel was fitted without feature names\n",
      "  warnings.warn(\n",
      "/Users/johannakruger/neuefische/ml_project/.venv/lib/python3.9/site-packages/sklearn/base.py:443: UserWarning: X has feature names, but SelectFromModel was fitted without feature names\n",
      "  warnings.warn(\n"
     ]
    },
    {
     "name": "stdout",
     "output_type": "stream",
     "text": [
      "Thresh=0.012, n=26, Recall: 8.65%\n"
     ]
    },
    {
     "name": "stderr",
     "output_type": "stream",
     "text": [
      "/Users/johannakruger/neuefische/ml_project/.venv/lib/python3.9/site-packages/sklearn/base.py:443: UserWarning: X has feature names, but SelectFromModel was fitted without feature names\n",
      "  warnings.warn(\n",
      "/Users/johannakruger/neuefische/ml_project/.venv/lib/python3.9/site-packages/sklearn/base.py:443: UserWarning: X has feature names, but SelectFromModel was fitted without feature names\n",
      "  warnings.warn(\n"
     ]
    },
    {
     "name": "stdout",
     "output_type": "stream",
     "text": [
      "Thresh=0.013, n=25, Recall: 16.10%\n"
     ]
    },
    {
     "name": "stderr",
     "output_type": "stream",
     "text": [
      "/Users/johannakruger/neuefische/ml_project/.venv/lib/python3.9/site-packages/sklearn/base.py:443: UserWarning: X has feature names, but SelectFromModel was fitted without feature names\n",
      "  warnings.warn(\n",
      "/Users/johannakruger/neuefische/ml_project/.venv/lib/python3.9/site-packages/sklearn/base.py:443: UserWarning: X has feature names, but SelectFromModel was fitted without feature names\n",
      "  warnings.warn(\n"
     ]
    },
    {
     "name": "stdout",
     "output_type": "stream",
     "text": [
      "Thresh=0.015, n=24, Recall: 19.42%\n"
     ]
    },
    {
     "name": "stderr",
     "output_type": "stream",
     "text": [
      "/Users/johannakruger/neuefische/ml_project/.venv/lib/python3.9/site-packages/sklearn/base.py:443: UserWarning: X has feature names, but SelectFromModel was fitted without feature names\n",
      "  warnings.warn(\n",
      "/Users/johannakruger/neuefische/ml_project/.venv/lib/python3.9/site-packages/sklearn/base.py:443: UserWarning: X has feature names, but SelectFromModel was fitted without feature names\n",
      "  warnings.warn(\n"
     ]
    },
    {
     "name": "stdout",
     "output_type": "stream",
     "text": [
      "Thresh=0.016, n=23, Recall: 22.43%\n"
     ]
    },
    {
     "name": "stderr",
     "output_type": "stream",
     "text": [
      "/Users/johannakruger/neuefische/ml_project/.venv/lib/python3.9/site-packages/sklearn/base.py:443: UserWarning: X has feature names, but SelectFromModel was fitted without feature names\n",
      "  warnings.warn(\n",
      "/Users/johannakruger/neuefische/ml_project/.venv/lib/python3.9/site-packages/sklearn/base.py:443: UserWarning: X has feature names, but SelectFromModel was fitted without feature names\n",
      "  warnings.warn(\n"
     ]
    },
    {
     "name": "stdout",
     "output_type": "stream",
     "text": [
      "Thresh=0.017, n=22, Recall: 11.57%\n"
     ]
    },
    {
     "name": "stderr",
     "output_type": "stream",
     "text": [
      "/Users/johannakruger/neuefische/ml_project/.venv/lib/python3.9/site-packages/sklearn/base.py:443: UserWarning: X has feature names, but SelectFromModel was fitted without feature names\n",
      "  warnings.warn(\n",
      "/Users/johannakruger/neuefische/ml_project/.venv/lib/python3.9/site-packages/sklearn/base.py:443: UserWarning: X has feature names, but SelectFromModel was fitted without feature names\n",
      "  warnings.warn(\n"
     ]
    },
    {
     "name": "stdout",
     "output_type": "stream",
     "text": [
      "Thresh=0.017, n=21, Recall: 17.20%\n"
     ]
    },
    {
     "name": "stderr",
     "output_type": "stream",
     "text": [
      "/Users/johannakruger/neuefische/ml_project/.venv/lib/python3.9/site-packages/sklearn/base.py:443: UserWarning: X has feature names, but SelectFromModel was fitted without feature names\n",
      "  warnings.warn(\n",
      "/Users/johannakruger/neuefische/ml_project/.venv/lib/python3.9/site-packages/sklearn/base.py:443: UserWarning: X has feature names, but SelectFromModel was fitted without feature names\n",
      "  warnings.warn(\n"
     ]
    },
    {
     "name": "stdout",
     "output_type": "stream",
     "text": [
      "Thresh=0.018, n=20, Recall: 13.98%\n"
     ]
    },
    {
     "name": "stderr",
     "output_type": "stream",
     "text": [
      "/Users/johannakruger/neuefische/ml_project/.venv/lib/python3.9/site-packages/sklearn/base.py:443: UserWarning: X has feature names, but SelectFromModel was fitted without feature names\n",
      "  warnings.warn(\n",
      "/Users/johannakruger/neuefische/ml_project/.venv/lib/python3.9/site-packages/sklearn/base.py:443: UserWarning: X has feature names, but SelectFromModel was fitted without feature names\n",
      "  warnings.warn(\n"
     ]
    },
    {
     "name": "stdout",
     "output_type": "stream",
     "text": [
      "Thresh=0.019, n=19, Recall: 16.40%\n"
     ]
    },
    {
     "name": "stderr",
     "output_type": "stream",
     "text": [
      "/Users/johannakruger/neuefische/ml_project/.venv/lib/python3.9/site-packages/sklearn/base.py:443: UserWarning: X has feature names, but SelectFromModel was fitted without feature names\n",
      "  warnings.warn(\n",
      "/Users/johannakruger/neuefische/ml_project/.venv/lib/python3.9/site-packages/sklearn/base.py:443: UserWarning: X has feature names, but SelectFromModel was fitted without feature names\n",
      "  warnings.warn(\n"
     ]
    },
    {
     "name": "stdout",
     "output_type": "stream",
     "text": [
      "Thresh=0.019, n=18, Recall: 20.62%\n"
     ]
    },
    {
     "name": "stderr",
     "output_type": "stream",
     "text": [
      "/Users/johannakruger/neuefische/ml_project/.venv/lib/python3.9/site-packages/sklearn/base.py:443: UserWarning: X has feature names, but SelectFromModel was fitted without feature names\n",
      "  warnings.warn(\n",
      "/Users/johannakruger/neuefische/ml_project/.venv/lib/python3.9/site-packages/sklearn/base.py:443: UserWarning: X has feature names, but SelectFromModel was fitted without feature names\n",
      "  warnings.warn(\n"
     ]
    },
    {
     "name": "stdout",
     "output_type": "stream",
     "text": [
      "Thresh=0.021, n=17, Recall: 76.46%\n"
     ]
    },
    {
     "name": "stderr",
     "output_type": "stream",
     "text": [
      "/Users/johannakruger/neuefische/ml_project/.venv/lib/python3.9/site-packages/sklearn/base.py:443: UserWarning: X has feature names, but SelectFromModel was fitted without feature names\n",
      "  warnings.warn(\n",
      "/Users/johannakruger/neuefische/ml_project/.venv/lib/python3.9/site-packages/sklearn/base.py:443: UserWarning: X has feature names, but SelectFromModel was fitted without feature names\n",
      "  warnings.warn(\n"
     ]
    },
    {
     "name": "stdout",
     "output_type": "stream",
     "text": [
      "Thresh=0.022, n=16, Recall: 77.16%\n"
     ]
    },
    {
     "name": "stderr",
     "output_type": "stream",
     "text": [
      "/Users/johannakruger/neuefische/ml_project/.venv/lib/python3.9/site-packages/sklearn/base.py:443: UserWarning: X has feature names, but SelectFromModel was fitted without feature names\n",
      "  warnings.warn(\n",
      "/Users/johannakruger/neuefische/ml_project/.venv/lib/python3.9/site-packages/sklearn/base.py:443: UserWarning: X has feature names, but SelectFromModel was fitted without feature names\n",
      "  warnings.warn(\n"
     ]
    },
    {
     "name": "stdout",
     "output_type": "stream",
     "text": [
      "Thresh=0.024, n=15, Recall: 76.56%\n"
     ]
    },
    {
     "name": "stderr",
     "output_type": "stream",
     "text": [
      "/Users/johannakruger/neuefische/ml_project/.venv/lib/python3.9/site-packages/sklearn/base.py:443: UserWarning: X has feature names, but SelectFromModel was fitted without feature names\n",
      "  warnings.warn(\n",
      "/Users/johannakruger/neuefische/ml_project/.venv/lib/python3.9/site-packages/sklearn/base.py:443: UserWarning: X has feature names, but SelectFromModel was fitted without feature names\n",
      "  warnings.warn(\n"
     ]
    },
    {
     "name": "stdout",
     "output_type": "stream",
     "text": [
      "Thresh=0.026, n=14, Recall: 79.68%\n"
     ]
    },
    {
     "name": "stderr",
     "output_type": "stream",
     "text": [
      "/Users/johannakruger/neuefische/ml_project/.venv/lib/python3.9/site-packages/sklearn/base.py:443: UserWarning: X has feature names, but SelectFromModel was fitted without feature names\n",
      "  warnings.warn(\n",
      "/Users/johannakruger/neuefische/ml_project/.venv/lib/python3.9/site-packages/sklearn/base.py:443: UserWarning: X has feature names, but SelectFromModel was fitted without feature names\n",
      "  warnings.warn(\n"
     ]
    },
    {
     "name": "stdout",
     "output_type": "stream",
     "text": [
      "Thresh=0.028, n=13, Recall: 79.07%\n"
     ]
    },
    {
     "name": "stderr",
     "output_type": "stream",
     "text": [
      "/Users/johannakruger/neuefische/ml_project/.venv/lib/python3.9/site-packages/sklearn/base.py:443: UserWarning: X has feature names, but SelectFromModel was fitted without feature names\n",
      "  warnings.warn(\n",
      "/Users/johannakruger/neuefische/ml_project/.venv/lib/python3.9/site-packages/sklearn/base.py:443: UserWarning: X has feature names, but SelectFromModel was fitted without feature names\n",
      "  warnings.warn(\n"
     ]
    },
    {
     "name": "stdout",
     "output_type": "stream",
     "text": [
      "Thresh=0.028, n=12, Recall: 79.78%\n"
     ]
    },
    {
     "name": "stderr",
     "output_type": "stream",
     "text": [
      "/Users/johannakruger/neuefische/ml_project/.venv/lib/python3.9/site-packages/sklearn/base.py:443: UserWarning: X has feature names, but SelectFromModel was fitted without feature names\n",
      "  warnings.warn(\n",
      "/Users/johannakruger/neuefische/ml_project/.venv/lib/python3.9/site-packages/sklearn/base.py:443: UserWarning: X has feature names, but SelectFromModel was fitted without feature names\n",
      "  warnings.warn(\n"
     ]
    },
    {
     "name": "stdout",
     "output_type": "stream",
     "text": [
      "Thresh=0.038, n=11, Recall: 81.69%\n"
     ]
    },
    {
     "name": "stderr",
     "output_type": "stream",
     "text": [
      "/Users/johannakruger/neuefische/ml_project/.venv/lib/python3.9/site-packages/sklearn/base.py:443: UserWarning: X has feature names, but SelectFromModel was fitted without feature names\n",
      "  warnings.warn(\n",
      "/Users/johannakruger/neuefische/ml_project/.venv/lib/python3.9/site-packages/sklearn/base.py:443: UserWarning: X has feature names, but SelectFromModel was fitted without feature names\n",
      "  warnings.warn(\n"
     ]
    },
    {
     "name": "stdout",
     "output_type": "stream",
     "text": [
      "Thresh=0.040, n=10, Recall: 81.59%\n"
     ]
    },
    {
     "name": "stderr",
     "output_type": "stream",
     "text": [
      "/Users/johannakruger/neuefische/ml_project/.venv/lib/python3.9/site-packages/sklearn/base.py:443: UserWarning: X has feature names, but SelectFromModel was fitted without feature names\n",
      "  warnings.warn(\n",
      "/Users/johannakruger/neuefische/ml_project/.venv/lib/python3.9/site-packages/sklearn/base.py:443: UserWarning: X has feature names, but SelectFromModel was fitted without feature names\n",
      "  warnings.warn(\n"
     ]
    },
    {
     "name": "stdout",
     "output_type": "stream",
     "text": [
      "Thresh=0.043, n=9, Recall: 81.99%\n"
     ]
    },
    {
     "name": "stderr",
     "output_type": "stream",
     "text": [
      "/Users/johannakruger/neuefische/ml_project/.venv/lib/python3.9/site-packages/sklearn/base.py:443: UserWarning: X has feature names, but SelectFromModel was fitted without feature names\n",
      "  warnings.warn(\n",
      "/Users/johannakruger/neuefische/ml_project/.venv/lib/python3.9/site-packages/sklearn/base.py:443: UserWarning: X has feature names, but SelectFromModel was fitted without feature names\n",
      "  warnings.warn(\n"
     ]
    },
    {
     "name": "stdout",
     "output_type": "stream",
     "text": [
      "Thresh=0.052, n=8, Recall: 81.69%\n"
     ]
    },
    {
     "name": "stderr",
     "output_type": "stream",
     "text": [
      "/Users/johannakruger/neuefische/ml_project/.venv/lib/python3.9/site-packages/sklearn/base.py:443: UserWarning: X has feature names, but SelectFromModel was fitted without feature names\n",
      "  warnings.warn(\n",
      "/Users/johannakruger/neuefische/ml_project/.venv/lib/python3.9/site-packages/sklearn/base.py:443: UserWarning: X has feature names, but SelectFromModel was fitted without feature names\n",
      "  warnings.warn(\n"
     ]
    },
    {
     "name": "stdout",
     "output_type": "stream",
     "text": [
      "Thresh=0.055, n=7, Recall: 79.48%\n"
     ]
    },
    {
     "name": "stderr",
     "output_type": "stream",
     "text": [
      "/Users/johannakruger/neuefische/ml_project/.venv/lib/python3.9/site-packages/sklearn/base.py:443: UserWarning: X has feature names, but SelectFromModel was fitted without feature names\n",
      "  warnings.warn(\n",
      "/Users/johannakruger/neuefische/ml_project/.venv/lib/python3.9/site-packages/sklearn/base.py:443: UserWarning: X has feature names, but SelectFromModel was fitted without feature names\n",
      "  warnings.warn(\n"
     ]
    },
    {
     "name": "stdout",
     "output_type": "stream",
     "text": [
      "Thresh=0.056, n=6, Recall: 92.76%\n"
     ]
    },
    {
     "name": "stderr",
     "output_type": "stream",
     "text": [
      "/Users/johannakruger/neuefische/ml_project/.venv/lib/python3.9/site-packages/sklearn/base.py:443: UserWarning: X has feature names, but SelectFromModel was fitted without feature names\n",
      "  warnings.warn(\n",
      "/Users/johannakruger/neuefische/ml_project/.venv/lib/python3.9/site-packages/sklearn/base.py:443: UserWarning: X has feature names, but SelectFromModel was fitted without feature names\n",
      "  warnings.warn(\n"
     ]
    },
    {
     "name": "stdout",
     "output_type": "stream",
     "text": [
      "Thresh=0.060, n=5, Recall: 92.76%\n"
     ]
    },
    {
     "name": "stderr",
     "output_type": "stream",
     "text": [
      "/Users/johannakruger/neuefische/ml_project/.venv/lib/python3.9/site-packages/sklearn/base.py:443: UserWarning: X has feature names, but SelectFromModel was fitted without feature names\n",
      "  warnings.warn(\n",
      "/Users/johannakruger/neuefische/ml_project/.venv/lib/python3.9/site-packages/sklearn/base.py:443: UserWarning: X has feature names, but SelectFromModel was fitted without feature names\n",
      "  warnings.warn(\n",
      "/Users/johannakruger/neuefische/ml_project/.venv/lib/python3.9/site-packages/sklearn/base.py:443: UserWarning: X has feature names, but SelectFromModel was fitted without feature names\n",
      "  warnings.warn(\n",
      "/Users/johannakruger/neuefische/ml_project/.venv/lib/python3.9/site-packages/sklearn/base.py:443: UserWarning: X has feature names, but SelectFromModel was fitted without feature names\n",
      "  warnings.warn(\n"
     ]
    },
    {
     "name": "stdout",
     "output_type": "stream",
     "text": [
      "Thresh=0.081, n=4, Recall: 92.76%\n",
      "Thresh=0.088, n=3, Recall: 24.45%\n",
      "Thresh=0.090, n=2, Recall: 6.94%\n",
      "Thresh=0.102, n=1, Recall: 0.00%\n"
     ]
    },
    {
     "name": "stderr",
     "output_type": "stream",
     "text": [
      "/Users/johannakruger/neuefische/ml_project/.venv/lib/python3.9/site-packages/sklearn/base.py:443: UserWarning: X has feature names, but SelectFromModel was fitted without feature names\n",
      "  warnings.warn(\n",
      "/Users/johannakruger/neuefische/ml_project/.venv/lib/python3.9/site-packages/sklearn/base.py:443: UserWarning: X has feature names, but SelectFromModel was fitted without feature names\n",
      "  warnings.warn(\n",
      "/Users/johannakruger/neuefische/ml_project/.venv/lib/python3.9/site-packages/sklearn/base.py:443: UserWarning: X has feature names, but SelectFromModel was fitted without feature names\n",
      "  warnings.warn(\n"
     ]
    }
   ],
   "source": [
    "from sklearn.feature_selection import SelectFromModel\n",
    "from numpy import sort\n",
    "\n",
    "thresholds = sort(xgb.feature_importances_)\n",
    "for thresh in thresholds:\n",
    "    # select features using threshold\n",
    "    selection = SelectFromModel(xgb, threshold=thresh, prefit=True)\n",
    "    select_X_Train = selection.transform(processed_X_Train)\n",
    "    # train model\n",
    "    selection_model = XGBClassifier()\n",
    "    selection_model.fit(select_X_Train, y_Train)\n",
    "    # eval model\n",
    "    select_X_Val = selection.transform(X_Val)\n",
    "    y_pred_eval = selection_model.predict(select_X_Val)\n",
    "    predictions = [round(value) for value in y_pred_eval]\n",
    "    Recall = metrics.recall_score(y_Val, predictions)\n",
    "    print(\"Thresh=%.3f, n=%d, Recall: %.2f%%\" % (thresh, select_X_Train.shape[1], Recall*100.0))"
   ]
  },
  {
   "cell_type": "code",
   "execution_count": 73,
   "id": "6217197f-3c9c-47d8-a574-1a5198ee813f",
   "metadata": {},
   "outputs": [
    {
     "name": "stderr",
     "output_type": "stream",
     "text": [
      "/Users/johannakruger/neuefische/ml_project/.venv/lib/python3.9/site-packages/sklearn/base.py:443: UserWarning: X has feature names, but SelectFromModel was fitted without feature names\n",
      "  warnings.warn(\n"
     ]
    }
   ],
   "source": [
    "selection = SelectFromModel(xgb, threshold=0.021, prefit=True)\n",
    "select_X_Train = selection.transform(processed_X_Train)"
   ]
  },
  {
   "cell_type": "code",
   "execution_count": 74,
   "id": "3a081dc0-c795-44f2-a6ae-8f61a76e9582",
   "metadata": {},
   "outputs": [
    {
     "data": {
      "text/plain": [
       "XGBClassifier(base_score=None, booster=None, callbacks=None,\n",
       "              colsample_bylevel=None, colsample_bynode=None,\n",
       "              colsample_bytree=None, early_stopping_rounds=None,\n",
       "              enable_categorical=False, eval_metric=None, feature_types=None,\n",
       "              gamma=None, gpu_id=None, grow_policy=None, importance_type=None,\n",
       "              interaction_constraints=None, learning_rate=None, max_bin=None,\n",
       "              max_cat_threshold=None, max_cat_to_onehot=None,\n",
       "              max_delta_step=None, max_depth=None, max_leaves=None,\n",
       "              min_child_weight=None, missing=nan, monotone_constraints=None,\n",
       "              n_estimators=100, n_jobs=None, num_parallel_tree=None,\n",
       "              predictor=None, random_state=None, ...)"
      ]
     },
     "execution_count": 74,
     "metadata": {},
     "output_type": "execute_result"
    }
   ],
   "source": [
    "selection_xgb = XGBClassifier()\n",
    "selection_xgb.fit(select_X_Train, y_Train)"
   ]
  },
  {
   "cell_type": "code",
   "execution_count": 76,
   "id": "0361b559-e33f-4a18-be5b-2c4982ce0a19",
   "metadata": {},
   "outputs": [
    {
     "name": "stderr",
     "output_type": "stream",
     "text": [
      "/Users/johannakruger/neuefische/ml_project/.venv/lib/python3.9/site-packages/sklearn/base.py:443: UserWarning: X has feature names, but SelectFromModel was fitted without feature names\n",
      "  warnings.warn(\n"
     ]
    }
   ],
   "source": [
    "select_X_Val = selection.transform(X_Val)"
   ]
  },
  {
   "cell_type": "markdown",
   "id": "4d8e6d7c-90c5-4c5a-9725-2204588d2c71",
   "metadata": {},
   "source": [
    "# Error Analysis"
   ]
  },
  {
   "cell_type": "code",
   "execution_count": 117,
   "id": "e492e5a9-739a-4ba9-9e75-ab5123246d08",
   "metadata": {},
   "outputs": [],
   "source": [
    "index = X_Val.index"
   ]
  },
  {
   "cell_type": "code",
   "execution_count": 118,
   "id": "54850f11-390e-4566-8982-66812fcf7322",
   "metadata": {
    "tags": []
   },
   "outputs": [],
   "source": [
    "yhats = pd.Series(y_pred_Val_xgb, name =\"Y_hats\", index=index)"
   ]
  },
  {
   "cell_type": "code",
   "execution_count": 119,
   "id": "1ea46b8f-f03d-4481-b826-0855420c0f9a",
   "metadata": {},
   "outputs": [],
   "source": [
    "X_Val_err_an = pd.concat([X_Val, yhats, y_Val], axis=1)"
   ]
  },
  {
   "cell_type": "code",
   "execution_count": 120,
   "id": "4d39a3a9-f07c-4241-9bd4-1e0e4072128c",
   "metadata": {},
   "outputs": [],
   "source": [
    "def error_analysis(row):\n",
    "    if row['bank_account'] == 0 and row['Y_hats'] == 0:\n",
    "        return \"TN\"\n",
    "    if row['bank_account'] == 1 and row['Y_hats'] == 1:\n",
    "        return \"TP\"\n",
    "    if row['bank_account'] == 0 and row['Y_hats'] == 1:\n",
    "        return \"FP\"\n",
    "    if row['bank_account'] == 1 and row['Y_hats'] == 0:\n",
    "        return \"FN\""
   ]
  },
  {
   "cell_type": "code",
   "execution_count": 121,
   "id": "326b9696-1b73-45bf-b58a-467d41604555",
   "metadata": {},
   "outputs": [],
   "source": [
    "X_Val_err_an['error_analysis'] = X_Val_err_an.apply(lambda row: error_analysis(row), axis=1)"
   ]
  },
  {
   "cell_type": "code",
   "execution_count": 122,
   "id": "f204764c-3717-4f4d-b717-11a921839946",
   "metadata": {},
   "outputs": [
    {
     "data": {
      "text/html": [
       "<div>\n",
       "<style scoped>\n",
       "    .dataframe tbody tr th:only-of-type {\n",
       "        vertical-align: middle;\n",
       "    }\n",
       "\n",
       "    .dataframe tbody tr th {\n",
       "        vertical-align: top;\n",
       "    }\n",
       "\n",
       "    .dataframe thead th {\n",
       "        text-align: right;\n",
       "    }\n",
       "</style>\n",
       "<table border=\"1\" class=\"dataframe\">\n",
       "  <thead>\n",
       "    <tr style=\"text-align: right;\">\n",
       "      <th></th>\n",
       "      <th>household</th>\n",
       "      <th>age</th>\n",
       "      <th>country_Rwanda</th>\n",
       "      <th>country_Tanzania</th>\n",
       "      <th>country_Uganda</th>\n",
       "      <th>location_Urban</th>\n",
       "      <th>cellphone_Yes</th>\n",
       "      <th>gender_Male</th>\n",
       "      <th>marital_status_Dont know</th>\n",
       "      <th>marital_status_Married/Living together</th>\n",
       "      <th>...</th>\n",
       "      <th>job_Remittance Dependent</th>\n",
       "      <th>job_Self employed</th>\n",
       "      <th>status_household_Head of Household</th>\n",
       "      <th>status_household_Other non-relatives</th>\n",
       "      <th>status_household_Other relative</th>\n",
       "      <th>status_household_Parent</th>\n",
       "      <th>status_household_Spouse</th>\n",
       "      <th>edu_cat</th>\n",
       "      <th>Y_hats</th>\n",
       "      <th>bank_account</th>\n",
       "    </tr>\n",
       "  </thead>\n",
       "  <tbody>\n",
       "    <tr>\n",
       "      <th>count</th>\n",
       "      <td>658.000000</td>\n",
       "      <td>658.000000</td>\n",
       "      <td>658.000000</td>\n",
       "      <td>658.000000</td>\n",
       "      <td>658.000000</td>\n",
       "      <td>658.000000</td>\n",
       "      <td>658.000000</td>\n",
       "      <td>658.000000</td>\n",
       "      <td>658.0</td>\n",
       "      <td>658.000000</td>\n",
       "      <td>...</td>\n",
       "      <td>658.000000</td>\n",
       "      <td>658.000000</td>\n",
       "      <td>658.000000</td>\n",
       "      <td>658.000000</td>\n",
       "      <td>658.000000</td>\n",
       "      <td>658.000000</td>\n",
       "      <td>658.000000</td>\n",
       "      <td>658.000000</td>\n",
       "      <td>658.0</td>\n",
       "      <td>658.0</td>\n",
       "    </tr>\n",
       "    <tr>\n",
       "      <th>mean</th>\n",
       "      <td>3.337386</td>\n",
       "      <td>39.249240</td>\n",
       "      <td>0.255319</td>\n",
       "      <td>0.199088</td>\n",
       "      <td>0.045593</td>\n",
       "      <td>0.542553</td>\n",
       "      <td>0.990881</td>\n",
       "      <td>0.575988</td>\n",
       "      <td>0.0</td>\n",
       "      <td>0.547112</td>\n",
       "      <td>...</td>\n",
       "      <td>0.059271</td>\n",
       "      <td>0.273556</td>\n",
       "      <td>0.726444</td>\n",
       "      <td>0.004559</td>\n",
       "      <td>0.010638</td>\n",
       "      <td>0.016717</td>\n",
       "      <td>0.186930</td>\n",
       "      <td>3.420973</td>\n",
       "      <td>1.0</td>\n",
       "      <td>1.0</td>\n",
       "    </tr>\n",
       "    <tr>\n",
       "      <th>std</th>\n",
       "      <td>2.083895</td>\n",
       "      <td>13.366234</td>\n",
       "      <td>0.436372</td>\n",
       "      <td>0.399618</td>\n",
       "      <td>0.208759</td>\n",
       "      <td>0.498565</td>\n",
       "      <td>0.095127</td>\n",
       "      <td>0.494568</td>\n",
       "      <td>0.0</td>\n",
       "      <td>0.498154</td>\n",
       "      <td>...</td>\n",
       "      <td>0.236310</td>\n",
       "      <td>0.446123</td>\n",
       "      <td>0.446123</td>\n",
       "      <td>0.067420</td>\n",
       "      <td>0.102670</td>\n",
       "      <td>0.128308</td>\n",
       "      <td>0.390152</td>\n",
       "      <td>1.169365</td>\n",
       "      <td>0.0</td>\n",
       "      <td>0.0</td>\n",
       "    </tr>\n",
       "    <tr>\n",
       "      <th>min</th>\n",
       "      <td>1.000000</td>\n",
       "      <td>19.000000</td>\n",
       "      <td>0.000000</td>\n",
       "      <td>0.000000</td>\n",
       "      <td>0.000000</td>\n",
       "      <td>0.000000</td>\n",
       "      <td>0.000000</td>\n",
       "      <td>0.000000</td>\n",
       "      <td>0.0</td>\n",
       "      <td>0.000000</td>\n",
       "      <td>...</td>\n",
       "      <td>0.000000</td>\n",
       "      <td>0.000000</td>\n",
       "      <td>0.000000</td>\n",
       "      <td>0.000000</td>\n",
       "      <td>0.000000</td>\n",
       "      <td>0.000000</td>\n",
       "      <td>0.000000</td>\n",
       "      <td>0.000000</td>\n",
       "      <td>1.0</td>\n",
       "      <td>1.0</td>\n",
       "    </tr>\n",
       "    <tr>\n",
       "      <th>25%</th>\n",
       "      <td>2.000000</td>\n",
       "      <td>29.000000</td>\n",
       "      <td>0.000000</td>\n",
       "      <td>0.000000</td>\n",
       "      <td>0.000000</td>\n",
       "      <td>0.000000</td>\n",
       "      <td>1.000000</td>\n",
       "      <td>0.000000</td>\n",
       "      <td>0.0</td>\n",
       "      <td>0.000000</td>\n",
       "      <td>...</td>\n",
       "      <td>0.000000</td>\n",
       "      <td>0.000000</td>\n",
       "      <td>0.000000</td>\n",
       "      <td>0.000000</td>\n",
       "      <td>0.000000</td>\n",
       "      <td>0.000000</td>\n",
       "      <td>0.000000</td>\n",
       "      <td>3.000000</td>\n",
       "      <td>1.0</td>\n",
       "      <td>1.0</td>\n",
       "    </tr>\n",
       "    <tr>\n",
       "      <th>50%</th>\n",
       "      <td>3.000000</td>\n",
       "      <td>36.000000</td>\n",
       "      <td>0.000000</td>\n",
       "      <td>0.000000</td>\n",
       "      <td>0.000000</td>\n",
       "      <td>1.000000</td>\n",
       "      <td>1.000000</td>\n",
       "      <td>1.000000</td>\n",
       "      <td>0.0</td>\n",
       "      <td>1.000000</td>\n",
       "      <td>...</td>\n",
       "      <td>0.000000</td>\n",
       "      <td>0.000000</td>\n",
       "      <td>1.000000</td>\n",
       "      <td>0.000000</td>\n",
       "      <td>0.000000</td>\n",
       "      <td>0.000000</td>\n",
       "      <td>0.000000</td>\n",
       "      <td>3.000000</td>\n",
       "      <td>1.0</td>\n",
       "      <td>1.0</td>\n",
       "    </tr>\n",
       "    <tr>\n",
       "      <th>75%</th>\n",
       "      <td>5.000000</td>\n",
       "      <td>46.000000</td>\n",
       "      <td>1.000000</td>\n",
       "      <td>0.000000</td>\n",
       "      <td>0.000000</td>\n",
       "      <td>1.000000</td>\n",
       "      <td>1.000000</td>\n",
       "      <td>1.000000</td>\n",
       "      <td>0.0</td>\n",
       "      <td>1.000000</td>\n",
       "      <td>...</td>\n",
       "      <td>0.000000</td>\n",
       "      <td>1.000000</td>\n",
       "      <td>1.000000</td>\n",
       "      <td>0.000000</td>\n",
       "      <td>0.000000</td>\n",
       "      <td>0.000000</td>\n",
       "      <td>0.000000</td>\n",
       "      <td>4.000000</td>\n",
       "      <td>1.0</td>\n",
       "      <td>1.0</td>\n",
       "    </tr>\n",
       "    <tr>\n",
       "      <th>max</th>\n",
       "      <td>17.000000</td>\n",
       "      <td>88.000000</td>\n",
       "      <td>1.000000</td>\n",
       "      <td>1.000000</td>\n",
       "      <td>1.000000</td>\n",
       "      <td>1.000000</td>\n",
       "      <td>1.000000</td>\n",
       "      <td>1.000000</td>\n",
       "      <td>0.0</td>\n",
       "      <td>1.000000</td>\n",
       "      <td>...</td>\n",
       "      <td>1.000000</td>\n",
       "      <td>1.000000</td>\n",
       "      <td>1.000000</td>\n",
       "      <td>1.000000</td>\n",
       "      <td>1.000000</td>\n",
       "      <td>1.000000</td>\n",
       "      <td>1.000000</td>\n",
       "      <td>5.000000</td>\n",
       "      <td>1.0</td>\n",
       "      <td>1.0</td>\n",
       "    </tr>\n",
       "  </tbody>\n",
       "</table>\n",
       "<p>8 rows × 29 columns</p>\n",
       "</div>"
      ],
      "text/plain": [
       "        household         age  country_Rwanda  country_Tanzania  \\\n",
       "count  658.000000  658.000000      658.000000        658.000000   \n",
       "mean     3.337386   39.249240        0.255319          0.199088   \n",
       "std      2.083895   13.366234        0.436372          0.399618   \n",
       "min      1.000000   19.000000        0.000000          0.000000   \n",
       "25%      2.000000   29.000000        0.000000          0.000000   \n",
       "50%      3.000000   36.000000        0.000000          0.000000   \n",
       "75%      5.000000   46.000000        1.000000          0.000000   \n",
       "max     17.000000   88.000000        1.000000          1.000000   \n",
       "\n",
       "       country_Uganda  location_Urban  cellphone_Yes  gender_Male  \\\n",
       "count      658.000000      658.000000     658.000000   658.000000   \n",
       "mean         0.045593        0.542553       0.990881     0.575988   \n",
       "std          0.208759        0.498565       0.095127     0.494568   \n",
       "min          0.000000        0.000000       0.000000     0.000000   \n",
       "25%          0.000000        0.000000       1.000000     0.000000   \n",
       "50%          0.000000        1.000000       1.000000     1.000000   \n",
       "75%          0.000000        1.000000       1.000000     1.000000   \n",
       "max          1.000000        1.000000       1.000000     1.000000   \n",
       "\n",
       "       marital_status_Dont know  marital_status_Married/Living together  ...  \\\n",
       "count                     658.0                              658.000000  ...   \n",
       "mean                        0.0                                0.547112  ...   \n",
       "std                         0.0                                0.498154  ...   \n",
       "min                         0.0                                0.000000  ...   \n",
       "25%                         0.0                                0.000000  ...   \n",
       "50%                         0.0                                1.000000  ...   \n",
       "75%                         0.0                                1.000000  ...   \n",
       "max                         0.0                                1.000000  ...   \n",
       "\n",
       "       job_Remittance Dependent  job_Self employed  \\\n",
       "count                658.000000         658.000000   \n",
       "mean                   0.059271           0.273556   \n",
       "std                    0.236310           0.446123   \n",
       "min                    0.000000           0.000000   \n",
       "25%                    0.000000           0.000000   \n",
       "50%                    0.000000           0.000000   \n",
       "75%                    0.000000           1.000000   \n",
       "max                    1.000000           1.000000   \n",
       "\n",
       "       status_household_Head of Household  \\\n",
       "count                          658.000000   \n",
       "mean                             0.726444   \n",
       "std                              0.446123   \n",
       "min                              0.000000   \n",
       "25%                              0.000000   \n",
       "50%                              1.000000   \n",
       "75%                              1.000000   \n",
       "max                              1.000000   \n",
       "\n",
       "       status_household_Other non-relatives  status_household_Other relative  \\\n",
       "count                            658.000000                       658.000000   \n",
       "mean                               0.004559                         0.010638   \n",
       "std                                0.067420                         0.102670   \n",
       "min                                0.000000                         0.000000   \n",
       "25%                                0.000000                         0.000000   \n",
       "50%                                0.000000                         0.000000   \n",
       "75%                                0.000000                         0.000000   \n",
       "max                                1.000000                         1.000000   \n",
       "\n",
       "       status_household_Parent  status_household_Spouse     edu_cat  Y_hats  \\\n",
       "count               658.000000               658.000000  658.000000   658.0   \n",
       "mean                  0.016717                 0.186930    3.420973     1.0   \n",
       "std                   0.128308                 0.390152    1.169365     0.0   \n",
       "min                   0.000000                 0.000000    0.000000     1.0   \n",
       "25%                   0.000000                 0.000000    3.000000     1.0   \n",
       "50%                   0.000000                 0.000000    3.000000     1.0   \n",
       "75%                   0.000000                 0.000000    4.000000     1.0   \n",
       "max                   1.000000                 1.000000    5.000000     1.0   \n",
       "\n",
       "       bank_account  \n",
       "count         658.0  \n",
       "mean            1.0  \n",
       "std             0.0  \n",
       "min             1.0  \n",
       "25%             1.0  \n",
       "50%             1.0  \n",
       "75%             1.0  \n",
       "max             1.0  \n",
       "\n",
       "[8 rows x 29 columns]"
      ]
     },
     "execution_count": 122,
     "metadata": {},
     "output_type": "execute_result"
    }
   ],
   "source": [
    "TP = X_Val_err_an.loc[(X_Val_err_an.error_analysis == \"TP\")]\n",
    "TP.describe()"
   ]
  },
  {
   "cell_type": "code",
   "execution_count": 123,
   "id": "338be87f-16a8-4388-8c81-f78c2d69d2ab",
   "metadata": {
    "tags": []
   },
   "outputs": [
    {
     "data": {
      "text/html": [
       "<div>\n",
       "<style scoped>\n",
       "    .dataframe tbody tr th:only-of-type {\n",
       "        vertical-align: middle;\n",
       "    }\n",
       "\n",
       "    .dataframe tbody tr th {\n",
       "        vertical-align: top;\n",
       "    }\n",
       "\n",
       "    .dataframe thead th {\n",
       "        text-align: right;\n",
       "    }\n",
       "</style>\n",
       "<table border=\"1\" class=\"dataframe\">\n",
       "  <thead>\n",
       "    <tr style=\"text-align: right;\">\n",
       "      <th></th>\n",
       "      <th>household</th>\n",
       "      <th>age</th>\n",
       "      <th>country_Rwanda</th>\n",
       "      <th>country_Tanzania</th>\n",
       "      <th>country_Uganda</th>\n",
       "      <th>location_Urban</th>\n",
       "      <th>cellphone_Yes</th>\n",
       "      <th>gender_Male</th>\n",
       "      <th>marital_status_Dont know</th>\n",
       "      <th>marital_status_Married/Living together</th>\n",
       "      <th>...</th>\n",
       "      <th>job_Remittance Dependent</th>\n",
       "      <th>job_Self employed</th>\n",
       "      <th>status_household_Head of Household</th>\n",
       "      <th>status_household_Other non-relatives</th>\n",
       "      <th>status_household_Other relative</th>\n",
       "      <th>status_household_Parent</th>\n",
       "      <th>status_household_Spouse</th>\n",
       "      <th>edu_cat</th>\n",
       "      <th>Y_hats</th>\n",
       "      <th>bank_account</th>\n",
       "    </tr>\n",
       "  </thead>\n",
       "  <tbody>\n",
       "    <tr>\n",
       "      <th>count</th>\n",
       "      <td>336.000000</td>\n",
       "      <td>336.000000</td>\n",
       "      <td>336.000000</td>\n",
       "      <td>336.000000</td>\n",
       "      <td>336.000000</td>\n",
       "      <td>336.000000</td>\n",
       "      <td>336.000000</td>\n",
       "      <td>336.000000</td>\n",
       "      <td>336.0</td>\n",
       "      <td>336.000000</td>\n",
       "      <td>...</td>\n",
       "      <td>336.000000</td>\n",
       "      <td>336.000000</td>\n",
       "      <td>336.000000</td>\n",
       "      <td>336.000000</td>\n",
       "      <td>336.000000</td>\n",
       "      <td>336.000000</td>\n",
       "      <td>336.000000</td>\n",
       "      <td>336.000000</td>\n",
       "      <td>336.0</td>\n",
       "      <td>336.0</td>\n",
       "    </tr>\n",
       "    <tr>\n",
       "      <th>mean</th>\n",
       "      <td>3.937500</td>\n",
       "      <td>42.226190</td>\n",
       "      <td>0.440476</td>\n",
       "      <td>0.187500</td>\n",
       "      <td>0.056548</td>\n",
       "      <td>0.339286</td>\n",
       "      <td>0.928571</td>\n",
       "      <td>0.428571</td>\n",
       "      <td>0.0</td>\n",
       "      <td>0.488095</td>\n",
       "      <td>...</td>\n",
       "      <td>0.101190</td>\n",
       "      <td>0.202381</td>\n",
       "      <td>0.616071</td>\n",
       "      <td>0.017857</td>\n",
       "      <td>0.026786</td>\n",
       "      <td>0.026786</td>\n",
       "      <td>0.250000</td>\n",
       "      <td>1.970238</td>\n",
       "      <td>0.0</td>\n",
       "      <td>1.0</td>\n",
       "    </tr>\n",
       "    <tr>\n",
       "      <th>std</th>\n",
       "      <td>2.334484</td>\n",
       "      <td>17.078468</td>\n",
       "      <td>0.497185</td>\n",
       "      <td>0.390894</td>\n",
       "      <td>0.231321</td>\n",
       "      <td>0.474173</td>\n",
       "      <td>0.257923</td>\n",
       "      <td>0.495610</td>\n",
       "      <td>0.0</td>\n",
       "      <td>0.500604</td>\n",
       "      <td>...</td>\n",
       "      <td>0.302031</td>\n",
       "      <td>0.402374</td>\n",
       "      <td>0.487066</td>\n",
       "      <td>0.132630</td>\n",
       "      <td>0.161697</td>\n",
       "      <td>0.161697</td>\n",
       "      <td>0.433659</td>\n",
       "      <td>0.967691</td>\n",
       "      <td>0.0</td>\n",
       "      <td>0.0</td>\n",
       "    </tr>\n",
       "    <tr>\n",
       "      <th>min</th>\n",
       "      <td>1.000000</td>\n",
       "      <td>16.000000</td>\n",
       "      <td>0.000000</td>\n",
       "      <td>0.000000</td>\n",
       "      <td>0.000000</td>\n",
       "      <td>0.000000</td>\n",
       "      <td>0.000000</td>\n",
       "      <td>0.000000</td>\n",
       "      <td>0.0</td>\n",
       "      <td>0.000000</td>\n",
       "      <td>...</td>\n",
       "      <td>0.000000</td>\n",
       "      <td>0.000000</td>\n",
       "      <td>0.000000</td>\n",
       "      <td>0.000000</td>\n",
       "      <td>0.000000</td>\n",
       "      <td>0.000000</td>\n",
       "      <td>0.000000</td>\n",
       "      <td>0.000000</td>\n",
       "      <td>0.0</td>\n",
       "      <td>1.0</td>\n",
       "    </tr>\n",
       "    <tr>\n",
       "      <th>25%</th>\n",
       "      <td>2.000000</td>\n",
       "      <td>29.000000</td>\n",
       "      <td>0.000000</td>\n",
       "      <td>0.000000</td>\n",
       "      <td>0.000000</td>\n",
       "      <td>0.000000</td>\n",
       "      <td>1.000000</td>\n",
       "      <td>0.000000</td>\n",
       "      <td>0.0</td>\n",
       "      <td>0.000000</td>\n",
       "      <td>...</td>\n",
       "      <td>0.000000</td>\n",
       "      <td>0.000000</td>\n",
       "      <td>0.000000</td>\n",
       "      <td>0.000000</td>\n",
       "      <td>0.000000</td>\n",
       "      <td>0.000000</td>\n",
       "      <td>0.000000</td>\n",
       "      <td>2.000000</td>\n",
       "      <td>0.0</td>\n",
       "      <td>1.0</td>\n",
       "    </tr>\n",
       "    <tr>\n",
       "      <th>50%</th>\n",
       "      <td>4.000000</td>\n",
       "      <td>37.000000</td>\n",
       "      <td>0.000000</td>\n",
       "      <td>0.000000</td>\n",
       "      <td>0.000000</td>\n",
       "      <td>0.000000</td>\n",
       "      <td>1.000000</td>\n",
       "      <td>0.000000</td>\n",
       "      <td>0.0</td>\n",
       "      <td>0.000000</td>\n",
       "      <td>...</td>\n",
       "      <td>0.000000</td>\n",
       "      <td>0.000000</td>\n",
       "      <td>1.000000</td>\n",
       "      <td>0.000000</td>\n",
       "      <td>0.000000</td>\n",
       "      <td>0.000000</td>\n",
       "      <td>0.000000</td>\n",
       "      <td>2.000000</td>\n",
       "      <td>0.0</td>\n",
       "      <td>1.0</td>\n",
       "    </tr>\n",
       "    <tr>\n",
       "      <th>75%</th>\n",
       "      <td>5.000000</td>\n",
       "      <td>53.250000</td>\n",
       "      <td>1.000000</td>\n",
       "      <td>0.000000</td>\n",
       "      <td>0.000000</td>\n",
       "      <td>1.000000</td>\n",
       "      <td>1.000000</td>\n",
       "      <td>1.000000</td>\n",
       "      <td>0.0</td>\n",
       "      <td>1.000000</td>\n",
       "      <td>...</td>\n",
       "      <td>0.000000</td>\n",
       "      <td>0.000000</td>\n",
       "      <td>1.000000</td>\n",
       "      <td>0.000000</td>\n",
       "      <td>0.000000</td>\n",
       "      <td>0.000000</td>\n",
       "      <td>0.250000</td>\n",
       "      <td>2.000000</td>\n",
       "      <td>0.0</td>\n",
       "      <td>1.0</td>\n",
       "    </tr>\n",
       "    <tr>\n",
       "      <th>max</th>\n",
       "      <td>13.000000</td>\n",
       "      <td>95.000000</td>\n",
       "      <td>1.000000</td>\n",
       "      <td>1.000000</td>\n",
       "      <td>1.000000</td>\n",
       "      <td>1.000000</td>\n",
       "      <td>1.000000</td>\n",
       "      <td>1.000000</td>\n",
       "      <td>0.0</td>\n",
       "      <td>1.000000</td>\n",
       "      <td>...</td>\n",
       "      <td>1.000000</td>\n",
       "      <td>1.000000</td>\n",
       "      <td>1.000000</td>\n",
       "      <td>1.000000</td>\n",
       "      <td>1.000000</td>\n",
       "      <td>1.000000</td>\n",
       "      <td>1.000000</td>\n",
       "      <td>5.000000</td>\n",
       "      <td>0.0</td>\n",
       "      <td>1.0</td>\n",
       "    </tr>\n",
       "  </tbody>\n",
       "</table>\n",
       "<p>8 rows × 29 columns</p>\n",
       "</div>"
      ],
      "text/plain": [
       "        household         age  country_Rwanda  country_Tanzania  \\\n",
       "count  336.000000  336.000000      336.000000        336.000000   \n",
       "mean     3.937500   42.226190        0.440476          0.187500   \n",
       "std      2.334484   17.078468        0.497185          0.390894   \n",
       "min      1.000000   16.000000        0.000000          0.000000   \n",
       "25%      2.000000   29.000000        0.000000          0.000000   \n",
       "50%      4.000000   37.000000        0.000000          0.000000   \n",
       "75%      5.000000   53.250000        1.000000          0.000000   \n",
       "max     13.000000   95.000000        1.000000          1.000000   \n",
       "\n",
       "       country_Uganda  location_Urban  cellphone_Yes  gender_Male  \\\n",
       "count      336.000000      336.000000     336.000000   336.000000   \n",
       "mean         0.056548        0.339286       0.928571     0.428571   \n",
       "std          0.231321        0.474173       0.257923     0.495610   \n",
       "min          0.000000        0.000000       0.000000     0.000000   \n",
       "25%          0.000000        0.000000       1.000000     0.000000   \n",
       "50%          0.000000        0.000000       1.000000     0.000000   \n",
       "75%          0.000000        1.000000       1.000000     1.000000   \n",
       "max          1.000000        1.000000       1.000000     1.000000   \n",
       "\n",
       "       marital_status_Dont know  marital_status_Married/Living together  ...  \\\n",
       "count                     336.0                              336.000000  ...   \n",
       "mean                        0.0                                0.488095  ...   \n",
       "std                         0.0                                0.500604  ...   \n",
       "min                         0.0                                0.000000  ...   \n",
       "25%                         0.0                                0.000000  ...   \n",
       "50%                         0.0                                0.000000  ...   \n",
       "75%                         0.0                                1.000000  ...   \n",
       "max                         0.0                                1.000000  ...   \n",
       "\n",
       "       job_Remittance Dependent  job_Self employed  \\\n",
       "count                336.000000         336.000000   \n",
       "mean                   0.101190           0.202381   \n",
       "std                    0.302031           0.402374   \n",
       "min                    0.000000           0.000000   \n",
       "25%                    0.000000           0.000000   \n",
       "50%                    0.000000           0.000000   \n",
       "75%                    0.000000           0.000000   \n",
       "max                    1.000000           1.000000   \n",
       "\n",
       "       status_household_Head of Household  \\\n",
       "count                          336.000000   \n",
       "mean                             0.616071   \n",
       "std                              0.487066   \n",
       "min                              0.000000   \n",
       "25%                              0.000000   \n",
       "50%                              1.000000   \n",
       "75%                              1.000000   \n",
       "max                              1.000000   \n",
       "\n",
       "       status_household_Other non-relatives  status_household_Other relative  \\\n",
       "count                            336.000000                       336.000000   \n",
       "mean                               0.017857                         0.026786   \n",
       "std                                0.132630                         0.161697   \n",
       "min                                0.000000                         0.000000   \n",
       "25%                                0.000000                         0.000000   \n",
       "50%                                0.000000                         0.000000   \n",
       "75%                                0.000000                         0.000000   \n",
       "max                                1.000000                         1.000000   \n",
       "\n",
       "       status_household_Parent  status_household_Spouse     edu_cat  Y_hats  \\\n",
       "count               336.000000               336.000000  336.000000   336.0   \n",
       "mean                  0.026786                 0.250000    1.970238     0.0   \n",
       "std                   0.161697                 0.433659    0.967691     0.0   \n",
       "min                   0.000000                 0.000000    0.000000     0.0   \n",
       "25%                   0.000000                 0.000000    2.000000     0.0   \n",
       "50%                   0.000000                 0.000000    2.000000     0.0   \n",
       "75%                   0.000000                 0.250000    2.000000     0.0   \n",
       "max                   1.000000                 1.000000    5.000000     0.0   \n",
       "\n",
       "       bank_account  \n",
       "count         336.0  \n",
       "mean            1.0  \n",
       "std             0.0  \n",
       "min             1.0  \n",
       "25%             1.0  \n",
       "50%             1.0  \n",
       "75%             1.0  \n",
       "max             1.0  \n",
       "\n",
       "[8 rows x 29 columns]"
      ]
     },
     "execution_count": 123,
     "metadata": {},
     "output_type": "execute_result"
    }
   ],
   "source": [
    "FN = X_Val_err_an.loc[(X_Val_err_an.error_analysis == \"FN\")]\n",
    "FN.describe()"
   ]
  },
  {
   "cell_type": "code",
   "execution_count": 124,
   "id": "9d632678-119a-406d-8cf8-48349c9b1d65",
   "metadata": {},
   "outputs": [
    {
     "data": {
      "text/html": [
       "<div>\n",
       "<style scoped>\n",
       "    .dataframe tbody tr th:only-of-type {\n",
       "        vertical-align: middle;\n",
       "    }\n",
       "\n",
       "    .dataframe tbody tr th {\n",
       "        vertical-align: top;\n",
       "    }\n",
       "\n",
       "    .dataframe thead th {\n",
       "        text-align: right;\n",
       "    }\n",
       "</style>\n",
       "<table border=\"1\" class=\"dataframe\">\n",
       "  <thead>\n",
       "    <tr style=\"text-align: right;\">\n",
       "      <th></th>\n",
       "      <th>household</th>\n",
       "      <th>age</th>\n",
       "      <th>country_Rwanda</th>\n",
       "      <th>country_Tanzania</th>\n",
       "      <th>country_Uganda</th>\n",
       "      <th>location_Urban</th>\n",
       "      <th>cellphone_Yes</th>\n",
       "      <th>gender_Male</th>\n",
       "      <th>marital_status_Dont know</th>\n",
       "      <th>marital_status_Married/Living together</th>\n",
       "      <th>...</th>\n",
       "      <th>job_Self employed</th>\n",
       "      <th>status_household_Head of Household</th>\n",
       "      <th>status_household_Other non-relatives</th>\n",
       "      <th>status_household_Other relative</th>\n",
       "      <th>status_household_Parent</th>\n",
       "      <th>status_household_Spouse</th>\n",
       "      <th>edu_cat</th>\n",
       "      <th>Y_hats</th>\n",
       "      <th>bank_account</th>\n",
       "      <th>error_analysis</th>\n",
       "    </tr>\n",
       "  </thead>\n",
       "  <tbody>\n",
       "    <tr>\n",
       "      <th>22542</th>\n",
       "      <td>6</td>\n",
       "      <td>70</td>\n",
       "      <td>0</td>\n",
       "      <td>0</td>\n",
       "      <td>1</td>\n",
       "      <td>0</td>\n",
       "      <td>1</td>\n",
       "      <td>0</td>\n",
       "      <td>0</td>\n",
       "      <td>1</td>\n",
       "      <td>...</td>\n",
       "      <td>1</td>\n",
       "      <td>1</td>\n",
       "      <td>0</td>\n",
       "      <td>0</td>\n",
       "      <td>0</td>\n",
       "      <td>0</td>\n",
       "      <td>0</td>\n",
       "      <td>0</td>\n",
       "      <td>0</td>\n",
       "      <td>TN</td>\n",
       "    </tr>\n",
       "    <tr>\n",
       "      <th>19199</th>\n",
       "      <td>2</td>\n",
       "      <td>27</td>\n",
       "      <td>0</td>\n",
       "      <td>1</td>\n",
       "      <td>0</td>\n",
       "      <td>1</td>\n",
       "      <td>1</td>\n",
       "      <td>1</td>\n",
       "      <td>0</td>\n",
       "      <td>0</td>\n",
       "      <td>...</td>\n",
       "      <td>1</td>\n",
       "      <td>1</td>\n",
       "      <td>0</td>\n",
       "      <td>0</td>\n",
       "      <td>0</td>\n",
       "      <td>0</td>\n",
       "      <td>3</td>\n",
       "      <td>0</td>\n",
       "      <td>0</td>\n",
       "      <td>TN</td>\n",
       "    </tr>\n",
       "  </tbody>\n",
       "</table>\n",
       "<p>2 rows × 30 columns</p>\n",
       "</div>"
      ],
      "text/plain": [
       "       household  age  country_Rwanda  country_Tanzania  country_Uganda  \\\n",
       "22542          6   70               0                 0               1   \n",
       "19199          2   27               0                 1               0   \n",
       "\n",
       "       location_Urban  cellphone_Yes  gender_Male  marital_status_Dont know  \\\n",
       "22542               0              1            0                         0   \n",
       "19199               1              1            1                         0   \n",
       "\n",
       "       marital_status_Married/Living together  ...  job_Self employed  \\\n",
       "22542                                       1  ...                  1   \n",
       "19199                                       0  ...                  1   \n",
       "\n",
       "       status_household_Head of Household  \\\n",
       "22542                                   1   \n",
       "19199                                   1   \n",
       "\n",
       "       status_household_Other non-relatives  status_household_Other relative  \\\n",
       "22542                                     0                                0   \n",
       "19199                                     0                                0   \n",
       "\n",
       "       status_household_Parent  status_household_Spouse  edu_cat  Y_hats  \\\n",
       "22542                        0                        0        0       0   \n",
       "19199                        0                        0        3       0   \n",
       "\n",
       "       bank_account  error_analysis  \n",
       "22542             0              TN  \n",
       "19199             0              TN  \n",
       "\n",
       "[2 rows x 30 columns]"
      ]
     },
     "execution_count": 124,
     "metadata": {},
     "output_type": "execute_result"
    }
   ],
   "source": [
    "TN = X_Val_err_an.loc[(X_Val_err_an.error_analysis == \"TN\")]\n",
    "TN.head(2)"
   ]
  },
  {
   "cell_type": "code",
   "execution_count": 125,
   "id": "9cdf37ac-9da3-4597-8c0c-f0459eb8f4a0",
   "metadata": {
    "tags": []
   },
   "outputs": [
    {
     "data": {
      "text/html": [
       "<div>\n",
       "<style scoped>\n",
       "    .dataframe tbody tr th:only-of-type {\n",
       "        vertical-align: middle;\n",
       "    }\n",
       "\n",
       "    .dataframe tbody tr th {\n",
       "        vertical-align: top;\n",
       "    }\n",
       "\n",
       "    .dataframe thead th {\n",
       "        text-align: right;\n",
       "    }\n",
       "</style>\n",
       "<table border=\"1\" class=\"dataframe\">\n",
       "  <thead>\n",
       "    <tr style=\"text-align: right;\">\n",
       "      <th></th>\n",
       "      <th>household</th>\n",
       "      <th>age</th>\n",
       "      <th>country_Rwanda</th>\n",
       "      <th>country_Tanzania</th>\n",
       "      <th>country_Uganda</th>\n",
       "      <th>location_Urban</th>\n",
       "      <th>cellphone_Yes</th>\n",
       "      <th>gender_Male</th>\n",
       "      <th>marital_status_Dont know</th>\n",
       "      <th>marital_status_Married/Living together</th>\n",
       "      <th>...</th>\n",
       "      <th>job_Self employed</th>\n",
       "      <th>status_household_Head of Household</th>\n",
       "      <th>status_household_Other non-relatives</th>\n",
       "      <th>status_household_Other relative</th>\n",
       "      <th>status_household_Parent</th>\n",
       "      <th>status_household_Spouse</th>\n",
       "      <th>edu_cat</th>\n",
       "      <th>Y_hats</th>\n",
       "      <th>bank_account</th>\n",
       "      <th>error_analysis</th>\n",
       "    </tr>\n",
       "  </thead>\n",
       "  <tbody>\n",
       "    <tr>\n",
       "      <th>19053</th>\n",
       "      <td>1</td>\n",
       "      <td>22</td>\n",
       "      <td>0</td>\n",
       "      <td>1</td>\n",
       "      <td>0</td>\n",
       "      <td>0</td>\n",
       "      <td>1</td>\n",
       "      <td>1</td>\n",
       "      <td>0</td>\n",
       "      <td>0</td>\n",
       "      <td>...</td>\n",
       "      <td>0</td>\n",
       "      <td>1</td>\n",
       "      <td>0</td>\n",
       "      <td>0</td>\n",
       "      <td>0</td>\n",
       "      <td>0</td>\n",
       "      <td>5</td>\n",
       "      <td>1</td>\n",
       "      <td>0</td>\n",
       "      <td>FP</td>\n",
       "    </tr>\n",
       "    <tr>\n",
       "      <th>4223</th>\n",
       "      <td>3</td>\n",
       "      <td>26</td>\n",
       "      <td>0</td>\n",
       "      <td>0</td>\n",
       "      <td>0</td>\n",
       "      <td>0</td>\n",
       "      <td>1</td>\n",
       "      <td>0</td>\n",
       "      <td>0</td>\n",
       "      <td>1</td>\n",
       "      <td>...</td>\n",
       "      <td>1</td>\n",
       "      <td>0</td>\n",
       "      <td>0</td>\n",
       "      <td>1</td>\n",
       "      <td>0</td>\n",
       "      <td>0</td>\n",
       "      <td>2</td>\n",
       "      <td>1</td>\n",
       "      <td>0</td>\n",
       "      <td>FP</td>\n",
       "    </tr>\n",
       "  </tbody>\n",
       "</table>\n",
       "<p>2 rows × 30 columns</p>\n",
       "</div>"
      ],
      "text/plain": [
       "       household  age  country_Rwanda  country_Tanzania  country_Uganda  \\\n",
       "19053          1   22               0                 1               0   \n",
       "4223           3   26               0                 0               0   \n",
       "\n",
       "       location_Urban  cellphone_Yes  gender_Male  marital_status_Dont know  \\\n",
       "19053               0              1            1                         0   \n",
       "4223                0              1            0                         0   \n",
       "\n",
       "       marital_status_Married/Living together  ...  job_Self employed  \\\n",
       "19053                                       0  ...                  0   \n",
       "4223                                        1  ...                  1   \n",
       "\n",
       "       status_household_Head of Household  \\\n",
       "19053                                   1   \n",
       "4223                                    0   \n",
       "\n",
       "       status_household_Other non-relatives  status_household_Other relative  \\\n",
       "19053                                     0                                0   \n",
       "4223                                      0                                1   \n",
       "\n",
       "       status_household_Parent  status_household_Spouse  edu_cat  Y_hats  \\\n",
       "19053                        0                        0        5       1   \n",
       "4223                         0                        0        2       1   \n",
       "\n",
       "       bank_account  error_analysis  \n",
       "19053             0              FP  \n",
       "4223              0              FP  \n",
       "\n",
       "[2 rows x 30 columns]"
      ]
     },
     "execution_count": 125,
     "metadata": {},
     "output_type": "execute_result"
    }
   ],
   "source": [
    "FP = X_Val_err_an.loc[(X_Val_err_an.error_analysis == \"FP\")]\n",
    "FP.head(2)"
   ]
  },
  {
   "cell_type": "code",
   "execution_count": null,
   "id": "04f421ea-5461-4543-98c3-86fc15b4ed68",
   "metadata": {},
   "outputs": [],
   "source": []
  }
 ],
 "metadata": {
  "kernelspec": {
   "display_name": "Python 3 (ipykernel)",
   "language": "python",
   "name": "python3"
  },
  "language_info": {
   "codemirror_mode": {
    "name": "ipython",
    "version": 3
   },
   "file_extension": ".py",
   "mimetype": "text/x-python",
   "name": "python",
   "nbconvert_exporter": "python",
   "pygments_lexer": "ipython3",
   "version": "3.9.8"
  }
 },
 "nbformat": 4,
 "nbformat_minor": 5
}
