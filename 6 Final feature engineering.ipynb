{
 "cells": [
  {
   "cell_type": "markdown",
   "id": "dc973a54-9e19-4ad7-ad88-d637c179f812",
   "metadata": {},
   "source": [
    "# Basics"
   ]
  },
  {
   "cell_type": "code",
   "execution_count": 1,
   "id": "858573b6-5675-4d6a-907f-856cd3cf4de0",
   "metadata": {},
   "outputs": [],
   "source": [
    "# import libraries\n",
    "\n",
    "import pandas as pd\n",
    "import numpy as np\n",
    "import seaborn as sns\n",
    "import matplotlib.pyplot as plt\n",
    "from sklearn.model_selection import train_test_split, GridSearchCV, RandomizedSearchCV\n",
    "from sklearn.metrics import accuracy_score, classification_report, confusion_matrix\n",
    "from sklearn.tree import DecisionTreeClassifier, plot_tree\n",
    "from sklearn.linear_model import LogisticRegression, SGDClassifier\n",
    "from sklearn.cluster import KMeans\n",
    "\n",
    "RSEED=33\n",
    "\n",
    "c = ['#599190', '#EDAFB8', '#666A86', '#95B8D1', '#E8DDB5']\n",
    "color_cfm = ['#EAF2F2', '#D9E8E8', '#CCDFDF', '#BCD6D5', \"#AACBCA\", '#9AC1C1', '#83B3B2', '#77ABAA', '#6BA4A3', '#5F9C9A', '#599190']"
   ]
  },
  {
   "cell_type": "code",
   "execution_count": 2,
   "id": "5a80b8f7-49b5-480c-8877-62c247ddc8e5",
   "metadata": {},
   "outputs": [],
   "source": [
    "# load data\n",
    "\n",
    "original_train = pd.read_csv('data/Train.csv')\n",
    "original_test = pd.read_csv('data/Test.csv')\n",
    "variables = pd.read_csv('data/VariableDefinitions.csv')"
   ]
  },
  {
   "cell_type": "code",
   "execution_count": 3,
   "id": "70e1b82d-6bbb-4fbf-b911-8c5ecaf5bf4b",
   "metadata": {},
   "outputs": [
    {
     "data": {
      "text/html": [
       "<div>\n",
       "<style scoped>\n",
       "    .dataframe tbody tr th:only-of-type {\n",
       "        vertical-align: middle;\n",
       "    }\n",
       "\n",
       "    .dataframe tbody tr th {\n",
       "        vertical-align: top;\n",
       "    }\n",
       "\n",
       "    .dataframe thead th {\n",
       "        text-align: right;\n",
       "    }\n",
       "</style>\n",
       "<table border=\"1\" class=\"dataframe\">\n",
       "  <thead>\n",
       "    <tr style=\"text-align: right;\">\n",
       "      <th></th>\n",
       "      <th>Variable Definitions</th>\n",
       "      <th>Unnamed: 1</th>\n",
       "    </tr>\n",
       "  </thead>\n",
       "  <tbody>\n",
       "    <tr>\n",
       "      <th>0</th>\n",
       "      <td>country</td>\n",
       "      <td>Country interviewee is in.</td>\n",
       "    </tr>\n",
       "    <tr>\n",
       "      <th>1</th>\n",
       "      <td>year</td>\n",
       "      <td>Year survey was done in.</td>\n",
       "    </tr>\n",
       "    <tr>\n",
       "      <th>2</th>\n",
       "      <td>uniqueid</td>\n",
       "      <td>Unique identifier for each interviewee</td>\n",
       "    </tr>\n",
       "    <tr>\n",
       "      <th>3</th>\n",
       "      <td>location_type</td>\n",
       "      <td>Type of location: Rural, Urban</td>\n",
       "    </tr>\n",
       "    <tr>\n",
       "      <th>4</th>\n",
       "      <td>cellphone_access</td>\n",
       "      <td>If interviewee has access to a cellphone: Yes, No</td>\n",
       "    </tr>\n",
       "    <tr>\n",
       "      <th>5</th>\n",
       "      <td>household_size</td>\n",
       "      <td>Number of people living in one house</td>\n",
       "    </tr>\n",
       "    <tr>\n",
       "      <th>6</th>\n",
       "      <td>age_of_respondent</td>\n",
       "      <td>The age of the interviewee</td>\n",
       "    </tr>\n",
       "    <tr>\n",
       "      <th>7</th>\n",
       "      <td>gender_of_respondent</td>\n",
       "      <td>Gender of interviewee: Male, Female</td>\n",
       "    </tr>\n",
       "    <tr>\n",
       "      <th>8</th>\n",
       "      <td>relationship_with_head</td>\n",
       "      <td>The interviewee’s relationship with the head o...</td>\n",
       "    </tr>\n",
       "    <tr>\n",
       "      <th>9</th>\n",
       "      <td>marital_status</td>\n",
       "      <td>The martial status of the interviewee: Married...</td>\n",
       "    </tr>\n",
       "    <tr>\n",
       "      <th>10</th>\n",
       "      <td>education_level</td>\n",
       "      <td>Highest level of education: No formal educatio...</td>\n",
       "    </tr>\n",
       "    <tr>\n",
       "      <th>11</th>\n",
       "      <td>job_type</td>\n",
       "      <td>Type of job interviewee has: Farming and Fishi...</td>\n",
       "    </tr>\n",
       "  </tbody>\n",
       "</table>\n",
       "</div>"
      ],
      "text/plain": [
       "      Variable Definitions                                         Unnamed: 1\n",
       "0                  country                         Country interviewee is in.\n",
       "1                     year                           Year survey was done in.\n",
       "2                 uniqueid             Unique identifier for each interviewee\n",
       "3            location_type                     Type of location: Rural, Urban\n",
       "4         cellphone_access  If interviewee has access to a cellphone: Yes, No\n",
       "5           household_size               Number of people living in one house\n",
       "6        age_of_respondent                         The age of the interviewee\n",
       "7     gender_of_respondent                Gender of interviewee: Male, Female\n",
       "8   relationship_with_head  The interviewee’s relationship with the head o...\n",
       "9           marital_status  The martial status of the interviewee: Married...\n",
       "10         education_level  Highest level of education: No formal educatio...\n",
       "11                job_type  Type of job interviewee has: Farming and Fishi..."
      ]
     },
     "execution_count": 3,
     "metadata": {},
     "output_type": "execute_result"
    }
   ],
   "source": [
    "variables"
   ]
  },
  {
   "cell_type": "code",
   "execution_count": 4,
   "id": "63644ec3-1a05-49b4-814f-bd64571eb5dc",
   "metadata": {},
   "outputs": [
    {
     "data": {
      "text/html": [
       "<div>\n",
       "<style scoped>\n",
       "    .dataframe tbody tr th:only-of-type {\n",
       "        vertical-align: middle;\n",
       "    }\n",
       "\n",
       "    .dataframe tbody tr th {\n",
       "        vertical-align: top;\n",
       "    }\n",
       "\n",
       "    .dataframe thead th {\n",
       "        text-align: right;\n",
       "    }\n",
       "</style>\n",
       "<table border=\"1\" class=\"dataframe\">\n",
       "  <thead>\n",
       "    <tr style=\"text-align: right;\">\n",
       "      <th></th>\n",
       "      <th>country</th>\n",
       "      <th>year</th>\n",
       "      <th>uniqueid</th>\n",
       "      <th>bank_account</th>\n",
       "      <th>location</th>\n",
       "      <th>cellphone</th>\n",
       "      <th>household</th>\n",
       "      <th>age</th>\n",
       "      <th>gender</th>\n",
       "      <th>status_household</th>\n",
       "      <th>marital_status</th>\n",
       "      <th>education</th>\n",
       "      <th>job</th>\n",
       "    </tr>\n",
       "  </thead>\n",
       "  <tbody>\n",
       "    <tr>\n",
       "      <th>0</th>\n",
       "      <td>Kenya</td>\n",
       "      <td>2018</td>\n",
       "      <td>uniqueid_1</td>\n",
       "      <td>Yes</td>\n",
       "      <td>Rural</td>\n",
       "      <td>Yes</td>\n",
       "      <td>3</td>\n",
       "      <td>24</td>\n",
       "      <td>Female</td>\n",
       "      <td>Spouse</td>\n",
       "      <td>Married/Living together</td>\n",
       "      <td>Secondary education</td>\n",
       "      <td>Self employed</td>\n",
       "    </tr>\n",
       "    <tr>\n",
       "      <th>1</th>\n",
       "      <td>Kenya</td>\n",
       "      <td>2018</td>\n",
       "      <td>uniqueid_2</td>\n",
       "      <td>No</td>\n",
       "      <td>Rural</td>\n",
       "      <td>No</td>\n",
       "      <td>5</td>\n",
       "      <td>70</td>\n",
       "      <td>Female</td>\n",
       "      <td>Head of Household</td>\n",
       "      <td>Widowed</td>\n",
       "      <td>No formal education</td>\n",
       "      <td>Government Dependent</td>\n",
       "    </tr>\n",
       "  </tbody>\n",
       "</table>\n",
       "</div>"
      ],
      "text/plain": [
       "  country  year    uniqueid bank_account location cellphone  household  age  \\\n",
       "0   Kenya  2018  uniqueid_1          Yes    Rural       Yes          3   24   \n",
       "1   Kenya  2018  uniqueid_2           No    Rural        No          5   70   \n",
       "\n",
       "   gender   status_household           marital_status            education  \\\n",
       "0  Female             Spouse  Married/Living together  Secondary education   \n",
       "1  Female  Head of Household                  Widowed  No formal education   \n",
       "\n",
       "                    job  \n",
       "0         Self employed  \n",
       "1  Government Dependent  "
      ]
     },
     "execution_count": 4,
     "metadata": {},
     "output_type": "execute_result"
    }
   ],
   "source": [
    "original_train.columns = [\"country\", \"year\", \"uniqueid\", \"bank_account\", \"location\", \"cellphone\", \"household\", \"age\", \"gender\", \"status_household\", \"marital_status\", \"education\", \"job\"]\n",
    "original_train.head(2)"
   ]
  },
  {
   "cell_type": "code",
   "execution_count": 5,
   "id": "b02b15de-0757-42ac-9a26-6dea6c23ac2c",
   "metadata": {},
   "outputs": [
    {
     "data": {
      "text/plain": [
       "(23524, 13)"
      ]
     },
     "execution_count": 5,
     "metadata": {},
     "output_type": "execute_result"
    }
   ],
   "source": [
    "original_train.shape"
   ]
  },
  {
   "cell_type": "code",
   "execution_count": 6,
   "id": "160e36c2-39a5-43c0-adfb-c80487e0a45f",
   "metadata": {
    "tags": []
   },
   "outputs": [
    {
     "data": {
      "text/plain": [
       "country             0\n",
       "year                0\n",
       "uniqueid            0\n",
       "bank_account        0\n",
       "location            0\n",
       "cellphone           0\n",
       "household           0\n",
       "age                 0\n",
       "gender              0\n",
       "status_household    0\n",
       "marital_status      0\n",
       "education           0\n",
       "job                 0\n",
       "dtype: int64"
      ]
     },
     "execution_count": 6,
     "metadata": {},
     "output_type": "execute_result"
    }
   ],
   "source": [
    "# check for missing values \n",
    "\n",
    "original_train.isnull().sum()"
   ]
  },
  {
   "cell_type": "code",
   "execution_count": 7,
   "id": "489a29c8-f045-405c-bb23-e791d161e4e2",
   "metadata": {
    "tags": []
   },
   "outputs": [
    {
     "data": {
      "text/plain": [
       "country             0\n",
       "year                0\n",
       "uniqueid            0\n",
       "bank_account        0\n",
       "location            0\n",
       "cellphone           0\n",
       "household           0\n",
       "age                 0\n",
       "gender              0\n",
       "status_household    0\n",
       "marital_status      0\n",
       "education           0\n",
       "job                 0\n",
       "dtype: int64"
      ]
     },
     "execution_count": 7,
     "metadata": {},
     "output_type": "execute_result"
    }
   ],
   "source": [
    "original_train.isna().sum()"
   ]
  },
  {
   "cell_type": "code",
   "execution_count": 8,
   "id": "574dca77-7d1f-4c19-8359-cfdd44682282",
   "metadata": {},
   "outputs": [
    {
     "data": {
      "text/plain": [
       "country                4\n",
       "year                   3\n",
       "uniqueid            8735\n",
       "bank_account           2\n",
       "location               2\n",
       "cellphone              2\n",
       "household             20\n",
       "age                   85\n",
       "gender                 2\n",
       "status_household       6\n",
       "marital_status         5\n",
       "education              6\n",
       "job                   10\n",
       "dtype: int64"
      ]
     },
     "execution_count": 8,
     "metadata": {},
     "output_type": "execute_result"
    }
   ],
   "source": [
    "# check for unique values (to detect duplicates)\n",
    "\n",
    "original_train.nunique()"
   ]
  },
  {
   "cell_type": "code",
   "execution_count": 9,
   "id": "d608c527-ed7f-4fee-8162-de0e33acf3f1",
   "metadata": {},
   "outputs": [
    {
     "data": {
      "text/plain": [
       "14789"
      ]
     },
     "execution_count": 9,
     "metadata": {},
     "output_type": "execute_result"
    }
   ],
   "source": [
    "original_train['uniqueid'].duplicated().sum()"
   ]
  },
  {
   "cell_type": "code",
   "execution_count": 10,
   "id": "5084e334-f60e-400a-a6c3-66dbfacea1ce",
   "metadata": {},
   "outputs": [
    {
     "name": "stdout",
     "output_type": "stream",
     "text": [
      "<class 'pandas.core.frame.DataFrame'>\n",
      "RangeIndex: 23524 entries, 0 to 23523\n",
      "Data columns (total 13 columns):\n",
      " #   Column            Non-Null Count  Dtype \n",
      "---  ------            --------------  ----- \n",
      " 0   country           23524 non-null  object\n",
      " 1   year              23524 non-null  int64 \n",
      " 2   uniqueid          23524 non-null  object\n",
      " 3   bank_account      23524 non-null  object\n",
      " 4   location          23524 non-null  object\n",
      " 5   cellphone         23524 non-null  object\n",
      " 6   household         23524 non-null  int64 \n",
      " 7   age               23524 non-null  int64 \n",
      " 8   gender            23524 non-null  object\n",
      " 9   status_household  23524 non-null  object\n",
      " 10  marital_status    23524 non-null  object\n",
      " 11  education         23524 non-null  object\n",
      " 12  job               23524 non-null  object\n",
      "dtypes: int64(3), object(10)\n",
      "memory usage: 2.3+ MB\n"
     ]
    }
   ],
   "source": [
    "original_train.info()"
   ]
  },
  {
   "cell_type": "markdown",
   "id": "e559aa57-312f-4bc7-814d-4c3fcafa7329",
   "metadata": {},
   "source": [
    "# EDA\n",
    "\n",
    "## Hypotheses \n",
    "\n",
    "Likeliness to have a bank account:\n",
    "\n",
    "- country: more developed country higher than less developed country (Kenya, Tanzania, Rwanda, Uganda according to HDI)\n",
    "- location_type: urban more likely than rural \n",
    "- cellphone_access: cellphone more likely than no cellphone\n",
    "- household_size: the bigger the household, the less likely that this individual has a bank account (househould shares one account)\n",
    "- age: younger more likely than older \n",
    "- gender: men/women balanced \n",
    "- relationship_with_head: head of household more likely than anyone else in family \n",
    "- marital_status: many different effects equal each other so the impact is low \n",
    "- education: higher education more likely than lower \n",
    "- job_level: higher job level more likely than lower \n",
    "- irrelevant: uniqueid, year"
   ]
  },
  {
   "cell_type": "code",
   "execution_count": 11,
   "id": "8bf65d8b-79b5-467d-bf06-f899cf55f418",
   "metadata": {},
   "outputs": [
    {
     "data": {
      "text/html": [
       "<div>\n",
       "<style scoped>\n",
       "    .dataframe tbody tr th:only-of-type {\n",
       "        vertical-align: middle;\n",
       "    }\n",
       "\n",
       "    .dataframe tbody tr th {\n",
       "        vertical-align: top;\n",
       "    }\n",
       "\n",
       "    .dataframe thead th {\n",
       "        text-align: right;\n",
       "    }\n",
       "</style>\n",
       "<table border=\"1\" class=\"dataframe\">\n",
       "  <thead>\n",
       "    <tr style=\"text-align: right;\">\n",
       "      <th></th>\n",
       "      <th>year</th>\n",
       "      <th>household</th>\n",
       "      <th>age</th>\n",
       "    </tr>\n",
       "  </thead>\n",
       "  <tbody>\n",
       "    <tr>\n",
       "      <th>count</th>\n",
       "      <td>23524.000000</td>\n",
       "      <td>23524.000000</td>\n",
       "      <td>23524.000000</td>\n",
       "    </tr>\n",
       "    <tr>\n",
       "      <th>mean</th>\n",
       "      <td>2016.975939</td>\n",
       "      <td>3.797483</td>\n",
       "      <td>38.805220</td>\n",
       "    </tr>\n",
       "    <tr>\n",
       "      <th>std</th>\n",
       "      <td>0.847371</td>\n",
       "      <td>2.227613</td>\n",
       "      <td>16.520569</td>\n",
       "    </tr>\n",
       "    <tr>\n",
       "      <th>min</th>\n",
       "      <td>2016.000000</td>\n",
       "      <td>1.000000</td>\n",
       "      <td>16.000000</td>\n",
       "    </tr>\n",
       "    <tr>\n",
       "      <th>25%</th>\n",
       "      <td>2016.000000</td>\n",
       "      <td>2.000000</td>\n",
       "      <td>26.000000</td>\n",
       "    </tr>\n",
       "    <tr>\n",
       "      <th>50%</th>\n",
       "      <td>2017.000000</td>\n",
       "      <td>3.000000</td>\n",
       "      <td>35.000000</td>\n",
       "    </tr>\n",
       "    <tr>\n",
       "      <th>75%</th>\n",
       "      <td>2018.000000</td>\n",
       "      <td>5.000000</td>\n",
       "      <td>49.000000</td>\n",
       "    </tr>\n",
       "    <tr>\n",
       "      <th>max</th>\n",
       "      <td>2018.000000</td>\n",
       "      <td>21.000000</td>\n",
       "      <td>100.000000</td>\n",
       "    </tr>\n",
       "  </tbody>\n",
       "</table>\n",
       "</div>"
      ],
      "text/plain": [
       "               year     household           age\n",
       "count  23524.000000  23524.000000  23524.000000\n",
       "mean    2016.975939      3.797483     38.805220\n",
       "std        0.847371      2.227613     16.520569\n",
       "min     2016.000000      1.000000     16.000000\n",
       "25%     2016.000000      2.000000     26.000000\n",
       "50%     2017.000000      3.000000     35.000000\n",
       "75%     2018.000000      5.000000     49.000000\n",
       "max     2018.000000     21.000000    100.000000"
      ]
     },
     "execution_count": 11,
     "metadata": {},
     "output_type": "execute_result"
    }
   ],
   "source": [
    "original_train.describe()"
   ]
  },
  {
   "cell_type": "code",
   "execution_count": 12,
   "id": "87bac710-c0e4-44a7-b01d-303119d2e1b7",
   "metadata": {},
   "outputs": [
    {
     "data": {
      "text/plain": [
       "No     0.859208\n",
       "Yes    0.140792\n",
       "Name: bank_account, dtype: float64"
      ]
     },
     "execution_count": 12,
     "metadata": {},
     "output_type": "execute_result"
    }
   ],
   "source": [
    "original_train['bank_account'].value_counts(normalize=True)"
   ]
  },
  {
   "cell_type": "code",
   "execution_count": 13,
   "id": "7a7028d1-7a61-47ec-95d2-4bee85edc00a",
   "metadata": {},
   "outputs": [
    {
     "data": {
      "image/png": "[encoded data removed]",
      "text/plain": [
       "<Figure size 500x300 with 1 Axes>"
      ]
     },
     "metadata": {},
     "output_type": "display_data"
    }
   ],
   "source": [
    "plt.figure(figsize=(5, 3))\n",
    "original_train.household.hist(color='#599190') \n",
    "plt.xlabel('Household  size');"
   ]
  },
  {
   "cell_type": "code",
   "execution_count": 14,
   "id": "9bbc20e0-5de9-412c-a0af-842f4f8f2ccc",
   "metadata": {},
   "outputs": [
    {
     "data": {
      "image/png": "[encoded data removed]",
      "text/plain": [
       "<Figure size 500x300 with 1 Axes>"
      ]
     },
     "metadata": {},
     "output_type": "display_data"
    }
   ],
   "source": [
    "plt.figure(figsize=(5, 3))\n",
    "original_train.age.hist(color='#599190') \n",
    "plt.xlabel('Age');"
   ]
  },
  {
   "cell_type": "code",
   "execution_count": 15,
   "id": "0b79d05a-7e3e-45ad-8c5d-5fa0b8b70fbc",
   "metadata": {},
   "outputs": [],
   "source": [
    "### add more plots about distributions here, see notebook \"Johanna\""
   ]
  },
  {
   "cell_type": "code",
   "execution_count": 16,
   "id": "ce2f8f4a-d89f-4d26-a5ae-036c7f88ac74",
   "metadata": {},
   "outputs": [
    {
     "data": {
      "text/plain": [
       "<seaborn.axisgrid.FacetGrid at 0x165688d30>"
      ]
     },
     "execution_count": 16,
     "metadata": {},
     "output_type": "execute_result"
    },
    {
     "data": {
      "image/png": "[encoded data removed]",
      "text/plain": [
       "<Figure size 200x200 with 1 Axes>"
      ]
     },
     "metadata": {},
     "output_type": "display_data"
    }
   ],
   "source": [
    "sns.catplot(x=\"bank_account\", kind=\"count\", data=original_train, height=2,palette=c)"
   ]
  },
  {
   "cell_type": "code",
   "execution_count": 17,
   "id": "5dbd4760-8178-409c-a35d-ff08a298b152",
   "metadata": {
    "tags": []
   },
   "outputs": [
    {
     "name": "stdout",
     "output_type": "stream",
     "text": [
      "Rwanda      0.37\n",
      "Tanzania    0.28\n",
      "Kenya       0.26\n",
      "Uganda      0.09\n",
      "Name: country, dtype: float64\n",
      "Rural    0.61\n",
      "Urban    0.39\n",
      "Name: location, dtype: float64\n",
      "Yes    0.74\n",
      "No     0.26\n",
      "Name: cellphone, dtype: float64\n",
      "Female    0.59\n",
      "Male      0.41\n",
      "Name: gender, dtype: float64\n",
      "Head of Household      0.55\n",
      "Spouse                 0.28\n",
      "Child                  0.09\n",
      "Parent                 0.05\n",
      "Other relative         0.03\n",
      "Other non-relatives    0.01\n",
      "Name: status_household, dtype: float64\n",
      "Married/Living together    0.46\n",
      "Single/Never Married       0.34\n",
      "Widowed                    0.12\n",
      "Divorced/Seperated         0.09\n",
      "Dont know                  0.00\n",
      "Name: marital_status, dtype: float64\n",
      "Primary education                  0.54\n",
      "No formal education                0.19\n",
      "Secondary education                0.18\n",
      "Tertiary education                 0.05\n",
      "Vocational/Specialised training    0.03\n",
      "Other/Dont know/RTA                0.00\n",
      "Name: education, dtype: float64\n",
      "Self employed                   0.27\n",
      "Informally employed             0.24\n",
      "Farming and Fishing             0.23\n",
      "Remittance Dependent            0.11\n",
      "Other Income                    0.05\n",
      "Formally employed Private       0.04\n",
      "No Income                       0.03\n",
      "Formally employed Government    0.02\n",
      "Government Dependent            0.01\n",
      "Dont Know/Refuse to answer      0.01\n",
      "Name: job, dtype: float64\n"
     ]
    }
   ],
   "source": [
    "features = ['country','location', 'cellphone','gender', 'status_household', 'marital_status','education', 'job']\n",
    "\n",
    "for i in features:\n",
    "    print(original_train[i].value_counts(normalize=True).round(2))"
   ]
  },
  {
   "cell_type": "code",
   "execution_count": null,
   "id": "3790f4ae-00b7-4d1b-9cae-53f6e5963c34",
   "metadata": {},
   "outputs": [],
   "source": []
  },
  {
   "cell_type": "code",
   "execution_count": 18,
   "id": "7b478da4-d3a6-4331-89da-035cbf71c252",
   "metadata": {},
   "outputs": [],
   "source": [
    "d = {}\n",
    "for i in features:\n",
    "    d[i] = pd.crosstab(original_train[i], original_train['bank_account'], normalize='index').mul(100).round(2)"
   ]
  },
  {
   "cell_type": "code",
   "execution_count": 19,
   "id": "d44b4808-553b-4b2c-bc4f-fbf4808922e8",
   "metadata": {},
   "outputs": [
    {
     "data": {
      "text/html": [
       "<div>\n",
       "<style scoped>\n",
       "    .dataframe tbody tr th:only-of-type {\n",
       "        vertical-align: middle;\n",
       "    }\n",
       "\n",
       "    .dataframe tbody tr th {\n",
       "        vertical-align: top;\n",
       "    }\n",
       "\n",
       "    .dataframe thead th {\n",
       "        text-align: right;\n",
       "    }\n",
       "</style>\n",
       "<table border=\"1\" class=\"dataframe\">\n",
       "  <thead>\n",
       "    <tr style=\"text-align: right;\">\n",
       "      <th>bank_account</th>\n",
       "      <th>No</th>\n",
       "      <th>Yes</th>\n",
       "    </tr>\n",
       "    <tr>\n",
       "      <th>country</th>\n",
       "      <th></th>\n",
       "      <th></th>\n",
       "    </tr>\n",
       "  </thead>\n",
       "  <tbody>\n",
       "    <tr>\n",
       "      <th>Kenya</th>\n",
       "      <td>74.93</td>\n",
       "      <td>25.07</td>\n",
       "    </tr>\n",
       "    <tr>\n",
       "      <th>Rwanda</th>\n",
       "      <td>88.52</td>\n",
       "      <td>11.48</td>\n",
       "    </tr>\n",
       "    <tr>\n",
       "      <th>Tanzania</th>\n",
       "      <td>90.83</td>\n",
       "      <td>9.17</td>\n",
       "    </tr>\n",
       "    <tr>\n",
       "      <th>Uganda</th>\n",
       "      <td>91.39</td>\n",
       "      <td>8.61</td>\n",
       "    </tr>\n",
       "  </tbody>\n",
       "</table>\n",
       "</div>"
      ],
      "text/plain": [
       "bank_account     No    Yes\n",
       "country                   \n",
       "Kenya         74.93  25.07\n",
       "Rwanda        88.52  11.48\n",
       "Tanzania      90.83   9.17\n",
       "Uganda        91.39   8.61"
      ]
     },
     "execution_count": 19,
     "metadata": {},
     "output_type": "execute_result"
    }
   ],
   "source": [
    "d['country']"
   ]
  },
  {
   "cell_type": "code",
   "execution_count": 20,
   "id": "2dcd89f0-75c1-4118-bede-ad067a45bca3",
   "metadata": {},
   "outputs": [
    {
     "data": {
      "image/png": "[encoded data removed]",
      "text/plain": [
       "<Figure size 400x200 with 1 Axes>"
      ]
     },
     "metadata": {},
     "output_type": "display_data"
    }
   ],
   "source": [
    "d['country'].plot.bar(figsize=(4,2), rot=0);"
   ]
  },
  {
   "cell_type": "code",
   "execution_count": 21,
   "id": "b76090c7-d3fb-43a6-98ee-094ecd41b60e",
   "metadata": {},
   "outputs": [
    {
     "data": {
      "text/html": [
       "<div>\n",
       "<style scoped>\n",
       "    .dataframe tbody tr th:only-of-type {\n",
       "        vertical-align: middle;\n",
       "    }\n",
       "\n",
       "    .dataframe tbody tr th {\n",
       "        vertical-align: top;\n",
       "    }\n",
       "\n",
       "    .dataframe thead th {\n",
       "        text-align: right;\n",
       "    }\n",
       "</style>\n",
       "<table border=\"1\" class=\"dataframe\">\n",
       "  <thead>\n",
       "    <tr style=\"text-align: right;\">\n",
       "      <th>bank_account</th>\n",
       "      <th>No</th>\n",
       "      <th>Yes</th>\n",
       "    </tr>\n",
       "    <tr>\n",
       "      <th>location</th>\n",
       "      <th></th>\n",
       "      <th></th>\n",
       "    </tr>\n",
       "  </thead>\n",
       "  <tbody>\n",
       "    <tr>\n",
       "      <th>Rural</th>\n",
       "      <td>88.35</td>\n",
       "      <td>11.65</td>\n",
       "    </tr>\n",
       "    <tr>\n",
       "      <th>Urban</th>\n",
       "      <td>82.13</td>\n",
       "      <td>17.87</td>\n",
       "    </tr>\n",
       "  </tbody>\n",
       "</table>\n",
       "</div>"
      ],
      "text/plain": [
       "bank_account     No    Yes\n",
       "location                  \n",
       "Rural         88.35  11.65\n",
       "Urban         82.13  17.87"
      ]
     },
     "execution_count": 21,
     "metadata": {},
     "output_type": "execute_result"
    }
   ],
   "source": [
    "d['location']"
   ]
  },
  {
   "cell_type": "code",
   "execution_count": 22,
   "id": "5bba517a-5135-4ae1-8dc1-674fb9bbefdf",
   "metadata": {},
   "outputs": [
    {
     "data": {
      "image/png": "[encoded data removed]",
      "text/plain": [
       "<Figure size 400x200 with 1 Axes>"
      ]
     },
     "metadata": {},
     "output_type": "display_data"
    }
   ],
   "source": [
    "d['location'].plot.bar(figsize=(4,2), rot=0);"
   ]
  },
  {
   "cell_type": "code",
   "execution_count": 23,
   "id": "fc87d8ca-96d7-4183-89e4-85a47d9e0ddc",
   "metadata": {},
   "outputs": [
    {
     "data": {
      "text/html": [
       "<div>\n",
       "<style scoped>\n",
       "    .dataframe tbody tr th:only-of-type {\n",
       "        vertical-align: middle;\n",
       "    }\n",
       "\n",
       "    .dataframe tbody tr th {\n",
       "        vertical-align: top;\n",
       "    }\n",
       "\n",
       "    .dataframe thead th {\n",
       "        text-align: right;\n",
       "    }\n",
       "</style>\n",
       "<table border=\"1\" class=\"dataframe\">\n",
       "  <thead>\n",
       "    <tr style=\"text-align: right;\">\n",
       "      <th>bank_account</th>\n",
       "      <th>No</th>\n",
       "      <th>Yes</th>\n",
       "    </tr>\n",
       "    <tr>\n",
       "      <th>cellphone</th>\n",
       "      <th></th>\n",
       "      <th></th>\n",
       "    </tr>\n",
       "  </thead>\n",
       "  <tbody>\n",
       "    <tr>\n",
       "      <th>No</th>\n",
       "      <td>98.29</td>\n",
       "      <td>1.71</td>\n",
       "    </tr>\n",
       "    <tr>\n",
       "      <th>Yes</th>\n",
       "      <td>81.62</td>\n",
       "      <td>18.38</td>\n",
       "    </tr>\n",
       "  </tbody>\n",
       "</table>\n",
       "</div>"
      ],
      "text/plain": [
       "bank_account     No    Yes\n",
       "cellphone                 \n",
       "No            98.29   1.71\n",
       "Yes           81.62  18.38"
      ]
     },
     "execution_count": 23,
     "metadata": {},
     "output_type": "execute_result"
    }
   ],
   "source": [
    "d['cellphone']"
   ]
  },
  {
   "cell_type": "code",
   "execution_count": 24,
   "id": "394d910a-48e8-48a6-a387-0a15d74d23d5",
   "metadata": {},
   "outputs": [
    {
     "data": {
      "image/png": "[encoded data removed]",
      "text/plain": [
       "<Figure size 400x200 with 1 Axes>"
      ]
     },
     "metadata": {},
     "output_type": "display_data"
    }
   ],
   "source": [
    "d['cellphone'].plot.bar(figsize=(4,2), rot=0);"
   ]
  },
  {
   "cell_type": "code",
   "execution_count": 25,
   "id": "885d990b-79a5-49ac-b159-2769e7e4ba40",
   "metadata": {},
   "outputs": [
    {
     "data": {
      "text/html": [
       "<div>\n",
       "<style scoped>\n",
       "    .dataframe tbody tr th:only-of-type {\n",
       "        vertical-align: middle;\n",
       "    }\n",
       "\n",
       "    .dataframe tbody tr th {\n",
       "        vertical-align: top;\n",
       "    }\n",
       "\n",
       "    .dataframe thead th {\n",
       "        text-align: right;\n",
       "    }\n",
       "</style>\n",
       "<table border=\"1\" class=\"dataframe\">\n",
       "  <thead>\n",
       "    <tr style=\"text-align: right;\">\n",
       "      <th>bank_account</th>\n",
       "      <th>No</th>\n",
       "      <th>Yes</th>\n",
       "    </tr>\n",
       "    <tr>\n",
       "      <th>gender</th>\n",
       "      <th></th>\n",
       "      <th></th>\n",
       "    </tr>\n",
       "  </thead>\n",
       "  <tbody>\n",
       "    <tr>\n",
       "      <th>Female</th>\n",
       "      <td>89.32</td>\n",
       "      <td>10.68</td>\n",
       "    </tr>\n",
       "    <tr>\n",
       "      <th>Male</th>\n",
       "      <td>81.03</td>\n",
       "      <td>18.97</td>\n",
       "    </tr>\n",
       "  </tbody>\n",
       "</table>\n",
       "</div>"
      ],
      "text/plain": [
       "bank_account     No    Yes\n",
       "gender                    \n",
       "Female        89.32  10.68\n",
       "Male          81.03  18.97"
      ]
     },
     "execution_count": 25,
     "metadata": {},
     "output_type": "execute_result"
    }
   ],
   "source": [
    "d['gender']"
   ]
  },
  {
   "cell_type": "code",
   "execution_count": 26,
   "id": "41aede82-f7b4-4ea6-bf57-b37ca85ee51e",
   "metadata": {},
   "outputs": [
    {
     "data": {
      "image/png": "[encoded data removed]",
      "text/plain": [
       "<Figure size 400x200 with 1 Axes>"
      ]
     },
     "metadata": {},
     "output_type": "display_data"
    }
   ],
   "source": [
    "d['gender'].plot.bar(figsize=(4,2), rot=0);"
   ]
  },
  {
   "cell_type": "code",
   "execution_count": 27,
   "id": "b90c35e8-c878-4eed-805f-3a7a2a8fe116",
   "metadata": {},
   "outputs": [
    {
     "data": {
      "text/html": [
       "<div>\n",
       "<style scoped>\n",
       "    .dataframe tbody tr th:only-of-type {\n",
       "        vertical-align: middle;\n",
       "    }\n",
       "\n",
       "    .dataframe tbody tr th {\n",
       "        vertical-align: top;\n",
       "    }\n",
       "\n",
       "    .dataframe thead th {\n",
       "        text-align: right;\n",
       "    }\n",
       "</style>\n",
       "<table border=\"1\" class=\"dataframe\">\n",
       "  <thead>\n",
       "    <tr style=\"text-align: right;\">\n",
       "      <th>bank_account</th>\n",
       "      <th>No</th>\n",
       "      <th>Yes</th>\n",
       "    </tr>\n",
       "    <tr>\n",
       "      <th>status_household</th>\n",
       "      <th></th>\n",
       "      <th></th>\n",
       "    </tr>\n",
       "  </thead>\n",
       "  <tbody>\n",
       "    <tr>\n",
       "      <th>Child</th>\n",
       "      <td>91.34</td>\n",
       "      <td>8.66</td>\n",
       "    </tr>\n",
       "    <tr>\n",
       "      <th>Head of Household</th>\n",
       "      <td>82.29</td>\n",
       "      <td>17.71</td>\n",
       "    </tr>\n",
       "    <tr>\n",
       "      <th>Other non-relatives</th>\n",
       "      <td>89.47</td>\n",
       "      <td>10.53</td>\n",
       "    </tr>\n",
       "    <tr>\n",
       "      <th>Other relative</th>\n",
       "      <td>90.12</td>\n",
       "      <td>9.88</td>\n",
       "    </tr>\n",
       "    <tr>\n",
       "      <th>Parent</th>\n",
       "      <td>94.01</td>\n",
       "      <td>5.99</td>\n",
       "    </tr>\n",
       "    <tr>\n",
       "      <th>Spouse</th>\n",
       "      <td>89.34</td>\n",
       "      <td>10.66</td>\n",
       "    </tr>\n",
       "  </tbody>\n",
       "</table>\n",
       "</div>"
      ],
      "text/plain": [
       "bank_account            No    Yes\n",
       "status_household                 \n",
       "Child                91.34   8.66\n",
       "Head of Household    82.29  17.71\n",
       "Other non-relatives  89.47  10.53\n",
       "Other relative       90.12   9.88\n",
       "Parent               94.01   5.99\n",
       "Spouse               89.34  10.66"
      ]
     },
     "execution_count": 27,
     "metadata": {},
     "output_type": "execute_result"
    }
   ],
   "source": [
    "d['status_household']"
   ]
  },
  {
   "cell_type": "code",
   "execution_count": 28,
   "id": "a3d6d99d-11dd-4aa5-9147-93410cb9a5eb",
   "metadata": {},
   "outputs": [
    {
     "data": {
      "image/png": "[encoded data removed]",
      "text/plain": [
       "<Figure size 400x200 with 1 Axes>"
      ]
     },
     "metadata": {},
     "output_type": "display_data"
    }
   ],
   "source": [
    "d['status_household'].plot.bar(figsize=(4,2), rot=90);"
   ]
  },
  {
   "cell_type": "code",
   "execution_count": 29,
   "id": "00c1fd13-641b-46df-bc31-0ea930c0bbda",
   "metadata": {},
   "outputs": [
    {
     "data": {
      "text/html": [
       "<div>\n",
       "<style scoped>\n",
       "    .dataframe tbody tr th:only-of-type {\n",
       "        vertical-align: middle;\n",
       "    }\n",
       "\n",
       "    .dataframe tbody tr th {\n",
       "        vertical-align: top;\n",
       "    }\n",
       "\n",
       "    .dataframe thead th {\n",
       "        text-align: right;\n",
       "    }\n",
       "</style>\n",
       "<table border=\"1\" class=\"dataframe\">\n",
       "  <thead>\n",
       "    <tr style=\"text-align: right;\">\n",
       "      <th>bank_account</th>\n",
       "      <th>No</th>\n",
       "      <th>Yes</th>\n",
       "    </tr>\n",
       "    <tr>\n",
       "      <th>marital_status</th>\n",
       "      <th></th>\n",
       "      <th></th>\n",
       "    </tr>\n",
       "  </thead>\n",
       "  <tbody>\n",
       "    <tr>\n",
       "      <th>Divorced/Seperated</th>\n",
       "      <td>88.73</td>\n",
       "      <td>11.27</td>\n",
       "    </tr>\n",
       "    <tr>\n",
       "      <th>Dont know</th>\n",
       "      <td>75.00</td>\n",
       "      <td>25.00</td>\n",
       "    </tr>\n",
       "    <tr>\n",
       "      <th>Married/Living together</th>\n",
       "      <td>82.64</td>\n",
       "      <td>17.36</td>\n",
       "    </tr>\n",
       "    <tr>\n",
       "      <th>Single/Never Married</th>\n",
       "      <td>87.90</td>\n",
       "      <td>12.10</td>\n",
       "    </tr>\n",
       "    <tr>\n",
       "      <th>Widowed</th>\n",
       "      <td>90.99</td>\n",
       "      <td>9.01</td>\n",
       "    </tr>\n",
       "  </tbody>\n",
       "</table>\n",
       "</div>"
      ],
      "text/plain": [
       "bank_account                No    Yes\n",
       "marital_status                       \n",
       "Divorced/Seperated       88.73  11.27\n",
       "Dont know                75.00  25.00\n",
       "Married/Living together  82.64  17.36\n",
       "Single/Never Married     87.90  12.10\n",
       "Widowed                  90.99   9.01"
      ]
     },
     "execution_count": 29,
     "metadata": {},
     "output_type": "execute_result"
    }
   ],
   "source": [
    "d['marital_status'].head(10)"
   ]
  },
  {
   "cell_type": "code",
   "execution_count": 30,
   "id": "6f6232e9-9665-4250-9cf1-a023c3dd4cd6",
   "metadata": {},
   "outputs": [
    {
     "data": {
      "image/png": "[encoded data removed]",
      "text/plain": [
       "<Figure size 400x200 with 1 Axes>"
      ]
     },
     "metadata": {},
     "output_type": "display_data"
    }
   ],
   "source": [
    "d['marital_status'].plot.bar(figsize=(4,2), rot=90);"
   ]
  },
  {
   "cell_type": "code",
   "execution_count": 31,
   "id": "b8da45b4-8df7-4a16-84f2-d5d81291c9ff",
   "metadata": {},
   "outputs": [
    {
     "data": {
      "text/html": [
       "<div>\n",
       "<style scoped>\n",
       "    .dataframe tbody tr th:only-of-type {\n",
       "        vertical-align: middle;\n",
       "    }\n",
       "\n",
       "    .dataframe tbody tr th {\n",
       "        vertical-align: top;\n",
       "    }\n",
       "\n",
       "    .dataframe thead th {\n",
       "        text-align: right;\n",
       "    }\n",
       "</style>\n",
       "<table border=\"1\" class=\"dataframe\">\n",
       "  <thead>\n",
       "    <tr style=\"text-align: right;\">\n",
       "      <th>bank_account</th>\n",
       "      <th>No</th>\n",
       "      <th>Yes</th>\n",
       "    </tr>\n",
       "    <tr>\n",
       "      <th>education</th>\n",
       "      <th></th>\n",
       "      <th></th>\n",
       "    </tr>\n",
       "  </thead>\n",
       "  <tbody>\n",
       "    <tr>\n",
       "      <th>No formal education</th>\n",
       "      <td>96.10</td>\n",
       "      <td>3.90</td>\n",
       "    </tr>\n",
       "    <tr>\n",
       "      <th>Other/Dont know/RTA</th>\n",
       "      <td>68.57</td>\n",
       "      <td>31.43</td>\n",
       "    </tr>\n",
       "    <tr>\n",
       "      <th>Primary education</th>\n",
       "      <td>91.45</td>\n",
       "      <td>8.55</td>\n",
       "    </tr>\n",
       "    <tr>\n",
       "      <th>Secondary education</th>\n",
       "      <td>76.72</td>\n",
       "      <td>23.28</td>\n",
       "    </tr>\n",
       "    <tr>\n",
       "      <th>Tertiary education</th>\n",
       "      <td>48.92</td>\n",
       "      <td>51.08</td>\n",
       "    </tr>\n",
       "    <tr>\n",
       "      <th>Vocational/Specialised training</th>\n",
       "      <td>42.96</td>\n",
       "      <td>57.04</td>\n",
       "    </tr>\n",
       "  </tbody>\n",
       "</table>\n",
       "</div>"
      ],
      "text/plain": [
       "bank_account                        No    Yes\n",
       "education                                    \n",
       "No formal education              96.10   3.90\n",
       "Other/Dont know/RTA              68.57  31.43\n",
       "Primary education                91.45   8.55\n",
       "Secondary education              76.72  23.28\n",
       "Tertiary education               48.92  51.08\n",
       "Vocational/Specialised training  42.96  57.04"
      ]
     },
     "execution_count": 31,
     "metadata": {},
     "output_type": "execute_result"
    }
   ],
   "source": [
    "d['education']"
   ]
  },
  {
   "cell_type": "code",
   "execution_count": 32,
   "id": "3f37aa6b-b49e-4a94-b871-2cf6ddb335e3",
   "metadata": {},
   "outputs": [
    {
     "data": {
      "image/png": "[encoded data removed]",
      "text/plain": [
       "<Figure size 400x200 with 1 Axes>"
      ]
     },
     "metadata": {},
     "output_type": "display_data"
    }
   ],
   "source": [
    "d['education'].plot.bar(figsize=(4,2), rot=90);"
   ]
  },
  {
   "cell_type": "code",
   "execution_count": 33,
   "id": "80b469f7-1017-4275-9673-b92ed14674fb",
   "metadata": {},
   "outputs": [
    {
     "data": {
      "text/html": [
       "<div>\n",
       "<style scoped>\n",
       "    .dataframe tbody tr th:only-of-type {\n",
       "        vertical-align: middle;\n",
       "    }\n",
       "\n",
       "    .dataframe tbody tr th {\n",
       "        vertical-align: top;\n",
       "    }\n",
       "\n",
       "    .dataframe thead th {\n",
       "        text-align: right;\n",
       "    }\n",
       "</style>\n",
       "<table border=\"1\" class=\"dataframe\">\n",
       "  <thead>\n",
       "    <tr style=\"text-align: right;\">\n",
       "      <th>bank_account</th>\n",
       "      <th>No</th>\n",
       "      <th>Yes</th>\n",
       "    </tr>\n",
       "    <tr>\n",
       "      <th>job</th>\n",
       "      <th></th>\n",
       "      <th></th>\n",
       "    </tr>\n",
       "  </thead>\n",
       "  <tbody>\n",
       "    <tr>\n",
       "      <th>Dont Know/Refuse to answer</th>\n",
       "      <td>88.89</td>\n",
       "      <td>11.11</td>\n",
       "    </tr>\n",
       "    <tr>\n",
       "      <th>Farming and Fishing</th>\n",
       "      <td>88.33</td>\n",
       "      <td>11.67</td>\n",
       "    </tr>\n",
       "    <tr>\n",
       "      <th>Formally employed Government</th>\n",
       "      <td>22.48</td>\n",
       "      <td>77.52</td>\n",
       "    </tr>\n",
       "    <tr>\n",
       "      <th>Formally employed Private</th>\n",
       "      <td>45.88</td>\n",
       "      <td>54.12</td>\n",
       "    </tr>\n",
       "    <tr>\n",
       "      <th>Government Dependent</th>\n",
       "      <td>79.76</td>\n",
       "      <td>20.24</td>\n",
       "    </tr>\n",
       "    <tr>\n",
       "      <th>Informally employed</th>\n",
       "      <td>92.05</td>\n",
       "      <td>7.95</td>\n",
       "    </tr>\n",
       "    <tr>\n",
       "      <th>No Income</th>\n",
       "      <td>97.93</td>\n",
       "      <td>2.07</td>\n",
       "    </tr>\n",
       "    <tr>\n",
       "      <th>Other Income</th>\n",
       "      <td>81.85</td>\n",
       "      <td>18.15</td>\n",
       "    </tr>\n",
       "    <tr>\n",
       "      <th>Remittance Dependent</th>\n",
       "      <td>90.50</td>\n",
       "      <td>9.50</td>\n",
       "    </tr>\n",
       "    <tr>\n",
       "      <th>Self employed</th>\n",
       "      <td>86.83</td>\n",
       "      <td>13.17</td>\n",
       "    </tr>\n",
       "  </tbody>\n",
       "</table>\n",
       "</div>"
      ],
      "text/plain": [
       "bank_account                     No    Yes\n",
       "job                                       \n",
       "Dont Know/Refuse to answer    88.89  11.11\n",
       "Farming and Fishing           88.33  11.67\n",
       "Formally employed Government  22.48  77.52\n",
       "Formally employed Private     45.88  54.12\n",
       "Government Dependent          79.76  20.24\n",
       "Informally employed           92.05   7.95\n",
       "No Income                     97.93   2.07\n",
       "Other Income                  81.85  18.15\n",
       "Remittance Dependent          90.50   9.50\n",
       "Self employed                 86.83  13.17"
      ]
     },
     "execution_count": 33,
     "metadata": {},
     "output_type": "execute_result"
    }
   ],
   "source": [
    "d['job']"
   ]
  },
  {
   "cell_type": "code",
   "execution_count": 34,
   "id": "b0560af8-f91c-489e-a3b2-121f016ad05f",
   "metadata": {},
   "outputs": [
    {
     "data": {
      "image/png": "[encoded data removed]",
      "text/plain": [
       "<Figure size 400x200 with 1 Axes>"
      ]
     },
     "metadata": {},
     "output_type": "display_data"
    }
   ],
   "source": [
    "d['job'].plot.bar(figsize=(4,2), rot=90);"
   ]
  },
  {
   "cell_type": "code",
   "execution_count": 35,
   "id": "03d64aea-bd8d-46c0-9acb-e1e53070467a",
   "metadata": {},
   "outputs": [
    {
     "data": {
      "text/html": [
       "<div>\n",
       "<style scoped>\n",
       "    .dataframe tbody tr th:only-of-type {\n",
       "        vertical-align: middle;\n",
       "    }\n",
       "\n",
       "    .dataframe tbody tr th {\n",
       "        vertical-align: top;\n",
       "    }\n",
       "\n",
       "    .dataframe thead th {\n",
       "        text-align: right;\n",
       "    }\n",
       "</style>\n",
       "<table border=\"1\" class=\"dataframe\">\n",
       "  <thead>\n",
       "    <tr style=\"text-align: right;\">\n",
       "      <th>education</th>\n",
       "      <th>No formal education</th>\n",
       "      <th>Other/Dont know/RTA</th>\n",
       "      <th>Primary education</th>\n",
       "      <th>Secondary education</th>\n",
       "      <th>Tertiary education</th>\n",
       "      <th>Vocational/Specialised training</th>\n",
       "    </tr>\n",
       "    <tr>\n",
       "      <th>job</th>\n",
       "      <th></th>\n",
       "      <th></th>\n",
       "      <th></th>\n",
       "      <th></th>\n",
       "      <th></th>\n",
       "      <th></th>\n",
       "    </tr>\n",
       "  </thead>\n",
       "  <tbody>\n",
       "    <tr>\n",
       "      <th>Dont Know/Refuse to answer</th>\n",
       "      <td>14.29</td>\n",
       "      <td>0.00</td>\n",
       "      <td>59.52</td>\n",
       "      <td>23.81</td>\n",
       "      <td>1.59</td>\n",
       "      <td>0.79</td>\n",
       "    </tr>\n",
       "    <tr>\n",
       "      <th>Farming and Fishing</th>\n",
       "      <td>25.82</td>\n",
       "      <td>0.00</td>\n",
       "      <td>55.25</td>\n",
       "      <td>16.21</td>\n",
       "      <td>0.97</td>\n",
       "      <td>1.75</td>\n",
       "    </tr>\n",
       "    <tr>\n",
       "      <th>Formally employed Government</th>\n",
       "      <td>1.03</td>\n",
       "      <td>0.52</td>\n",
       "      <td>10.85</td>\n",
       "      <td>33.59</td>\n",
       "      <td>31.27</td>\n",
       "      <td>22.74</td>\n",
       "    </tr>\n",
       "    <tr>\n",
       "      <th>Formally employed Private</th>\n",
       "      <td>3.13</td>\n",
       "      <td>0.19</td>\n",
       "      <td>31.00</td>\n",
       "      <td>25.12</td>\n",
       "      <td>21.23</td>\n",
       "      <td>19.34</td>\n",
       "    </tr>\n",
       "    <tr>\n",
       "      <th>Government Dependent</th>\n",
       "      <td>53.04</td>\n",
       "      <td>0.40</td>\n",
       "      <td>37.25</td>\n",
       "      <td>3.64</td>\n",
       "      <td>3.24</td>\n",
       "      <td>2.43</td>\n",
       "    </tr>\n",
       "    <tr>\n",
       "      <th>Informally employed</th>\n",
       "      <td>20.19</td>\n",
       "      <td>0.29</td>\n",
       "      <td>60.87</td>\n",
       "      <td>14.11</td>\n",
       "      <td>3.14</td>\n",
       "      <td>1.39</td>\n",
       "    </tr>\n",
       "    <tr>\n",
       "      <th>No Income</th>\n",
       "      <td>18.50</td>\n",
       "      <td>0.48</td>\n",
       "      <td>49.92</td>\n",
       "      <td>22.49</td>\n",
       "      <td>7.50</td>\n",
       "      <td>1.12</td>\n",
       "    </tr>\n",
       "    <tr>\n",
       "      <th>Other Income</th>\n",
       "      <td>17.04</td>\n",
       "      <td>0.28</td>\n",
       "      <td>47.78</td>\n",
       "      <td>26.39</td>\n",
       "      <td>4.35</td>\n",
       "      <td>4.17</td>\n",
       "    </tr>\n",
       "    <tr>\n",
       "      <th>Remittance Dependent</th>\n",
       "      <td>19.55</td>\n",
       "      <td>0.08</td>\n",
       "      <td>37.87</td>\n",
       "      <td>31.78</td>\n",
       "      <td>6.89</td>\n",
       "      <td>3.84</td>\n",
       "    </tr>\n",
       "    <tr>\n",
       "      <th>Self employed</th>\n",
       "      <td>15.54</td>\n",
       "      <td>0.09</td>\n",
       "      <td>63.01</td>\n",
       "      <td>13.80</td>\n",
       "      <td>4.74</td>\n",
       "      <td>2.83</td>\n",
       "    </tr>\n",
       "  </tbody>\n",
       "</table>\n",
       "</div>"
      ],
      "text/plain": [
       "education                     No formal education  Other/Dont know/RTA  \\\n",
       "job                                                                      \n",
       "Dont Know/Refuse to answer                  14.29                 0.00   \n",
       "Farming and Fishing                         25.82                 0.00   \n",
       "Formally employed Government                 1.03                 0.52   \n",
       "Formally employed Private                    3.13                 0.19   \n",
       "Government Dependent                        53.04                 0.40   \n",
       "Informally employed                         20.19                 0.29   \n",
       "No Income                                   18.50                 0.48   \n",
       "Other Income                                17.04                 0.28   \n",
       "Remittance Dependent                        19.55                 0.08   \n",
       "Self employed                               15.54                 0.09   \n",
       "\n",
       "education                     Primary education  Secondary education  \\\n",
       "job                                                                    \n",
       "Dont Know/Refuse to answer                59.52                23.81   \n",
       "Farming and Fishing                       55.25                16.21   \n",
       "Formally employed Government              10.85                33.59   \n",
       "Formally employed Private                 31.00                25.12   \n",
       "Government Dependent                      37.25                 3.64   \n",
       "Informally employed                       60.87                14.11   \n",
       "No Income                                 49.92                22.49   \n",
       "Other Income                              47.78                26.39   \n",
       "Remittance Dependent                      37.87                31.78   \n",
       "Self employed                             63.01                13.80   \n",
       "\n",
       "education                     Tertiary education  \\\n",
       "job                                                \n",
       "Dont Know/Refuse to answer                  1.59   \n",
       "Farming and Fishing                         0.97   \n",
       "Formally employed Government               31.27   \n",
       "Formally employed Private                  21.23   \n",
       "Government Dependent                        3.24   \n",
       "Informally employed                         3.14   \n",
       "No Income                                   7.50   \n",
       "Other Income                                4.35   \n",
       "Remittance Dependent                        6.89   \n",
       "Self employed                               4.74   \n",
       "\n",
       "education                     Vocational/Specialised training  \n",
       "job                                                            \n",
       "Dont Know/Refuse to answer                               0.79  \n",
       "Farming and Fishing                                      1.75  \n",
       "Formally employed Government                            22.74  \n",
       "Formally employed Private                               19.34  \n",
       "Government Dependent                                     2.43  \n",
       "Informally employed                                      1.39  \n",
       "No Income                                                1.12  \n",
       "Other Income                                             4.17  \n",
       "Remittance Dependent                                     3.84  \n",
       "Self employed                                            2.83  "
      ]
     },
     "execution_count": 35,
     "metadata": {},
     "output_type": "execute_result"
    }
   ],
   "source": [
    "df_edu_job = pd.crosstab(original_train['job'], original_train['education'], normalize='index').mul(100).round(2)\n",
    "df_edu_job.head(10)"
   ]
  },
  {
   "cell_type": "code",
   "execution_count": 36,
   "id": "695616d2-5686-4262-993f-64dada1e0c04",
   "metadata": {},
   "outputs": [
    {
     "data": {
      "text/plain": [
       "<AxesSubplot:xlabel='job'>"
      ]
     },
     "execution_count": 36,
     "metadata": {},
     "output_type": "execute_result"
    },
    {
     "data": {
      "image/png": "[encoded data removed]",
      "text/plain": [
       "<Figure size 800x400 with 1 Axes>"
      ]
     },
     "metadata": {},
     "output_type": "display_data"
    }
   ],
   "source": [
    "df_edu_job.plot.bar(figsize=(8,4), rot=90)"
   ]
  },
  {
   "cell_type": "markdown",
   "id": "a6033c9b-9889-4ee0-b57f-c92b6f62c537",
   "metadata": {},
   "source": [
    "### Data Cleaning, Preprocessing #1"
   ]
  },
  {
   "cell_type": "code",
   "execution_count": 37,
   "id": "ca086b7c-9834-464b-8b19-315047323099",
   "metadata": {},
   "outputs": [
    {
     "data": {
      "text/html": [
       "<div>\n",
       "<style scoped>\n",
       "    .dataframe tbody tr th:only-of-type {\n",
       "        vertical-align: middle;\n",
       "    }\n",
       "\n",
       "    .dataframe tbody tr th {\n",
       "        vertical-align: top;\n",
       "    }\n",
       "\n",
       "    .dataframe thead th {\n",
       "        text-align: right;\n",
       "    }\n",
       "</style>\n",
       "<table border=\"1\" class=\"dataframe\">\n",
       "  <thead>\n",
       "    <tr style=\"text-align: right;\">\n",
       "      <th></th>\n",
       "      <th>country</th>\n",
       "      <th>year</th>\n",
       "      <th>uniqueid</th>\n",
       "      <th>bank_account</th>\n",
       "      <th>location</th>\n",
       "      <th>cellphone</th>\n",
       "      <th>household</th>\n",
       "      <th>age</th>\n",
       "      <th>gender</th>\n",
       "      <th>status_household</th>\n",
       "      <th>marital_status</th>\n",
       "      <th>education</th>\n",
       "      <th>job</th>\n",
       "    </tr>\n",
       "  </thead>\n",
       "  <tbody>\n",
       "    <tr>\n",
       "      <th>0</th>\n",
       "      <td>Kenya</td>\n",
       "      <td>2018</td>\n",
       "      <td>uniqueid_1</td>\n",
       "      <td>Yes</td>\n",
       "      <td>Rural</td>\n",
       "      <td>Yes</td>\n",
       "      <td>3</td>\n",
       "      <td>24</td>\n",
       "      <td>Female</td>\n",
       "      <td>Spouse</td>\n",
       "      <td>Married/Living together</td>\n",
       "      <td>Secondary education</td>\n",
       "      <td>Self employed</td>\n",
       "    </tr>\n",
       "    <tr>\n",
       "      <th>1</th>\n",
       "      <td>Kenya</td>\n",
       "      <td>2018</td>\n",
       "      <td>uniqueid_2</td>\n",
       "      <td>No</td>\n",
       "      <td>Rural</td>\n",
       "      <td>No</td>\n",
       "      <td>5</td>\n",
       "      <td>70</td>\n",
       "      <td>Female</td>\n",
       "      <td>Head of Household</td>\n",
       "      <td>Widowed</td>\n",
       "      <td>No formal education</td>\n",
       "      <td>Government Dependent</td>\n",
       "    </tr>\n",
       "  </tbody>\n",
       "</table>\n",
       "</div>"
      ],
      "text/plain": [
       "  country  year    uniqueid bank_account location cellphone  household  age  \\\n",
       "0   Kenya  2018  uniqueid_1          Yes    Rural       Yes          3   24   \n",
       "1   Kenya  2018  uniqueid_2           No    Rural        No          5   70   \n",
       "\n",
       "   gender   status_household           marital_status            education  \\\n",
       "0  Female             Spouse  Married/Living together  Secondary education   \n",
       "1  Female  Head of Household                  Widowed  No formal education   \n",
       "\n",
       "                    job  \n",
       "0         Self employed  \n",
       "1  Government Dependent  "
      ]
     },
     "execution_count": 37,
     "metadata": {},
     "output_type": "execute_result"
    }
   ],
   "source": [
    "original_train.head(2)"
   ]
  },
  {
   "cell_type": "code",
   "execution_count": 38,
   "id": "adceac32-152e-41a7-b971-112005856312",
   "metadata": {
    "tags": []
   },
   "outputs": [],
   "source": [
    "from sklearn.preprocessing import LabelEncoder\n",
    "from sklearn.preprocessing import MinMaxScaler\n",
    "from sklearn import metrics"
   ]
  },
  {
   "cell_type": "code",
   "execution_count": 39,
   "id": "ec35c4dc-8a60-4d60-a39f-9df6830582da",
   "metadata": {},
   "outputs": [],
   "source": [
    "#convert target variable to numeric\n",
    "le = LabelEncoder()\n",
    "original_train['bank_account'] = le.fit_transform(original_train['bank_account'])"
   ]
  },
  {
   "cell_type": "code",
   "execution_count": 40,
   "id": "3b15163f-64a8-4053-9560-18590049e639",
   "metadata": {},
   "outputs": [],
   "source": [
    "#Separate training features from target\n",
    "X_train = original_train.drop(['bank_account'], axis=1)\n",
    "y_train = original_train['bank_account']"
   ]
  },
  {
   "cell_type": "code",
   "execution_count": 41,
   "id": "00a40a5f-bec3-43fa-8158-fe366e6cc1b1",
   "metadata": {},
   "outputs": [],
   "source": [
    "X_train = X_train.drop([\"uniqueid\", \"year\"], axis=1)"
   ]
  },
  {
   "cell_type": "code",
   "execution_count": 42,
   "id": "a5fd6e0e-1817-47ee-be8d-3c7b0d30387c",
   "metadata": {},
   "outputs": [],
   "source": [
    "country_dummies = pd.get_dummies(X_train['country'], prefix='country', drop_first=True)\n",
    "location_dummies = pd.get_dummies(X_train['location'], prefix='location', drop_first=True)\n",
    "cellphone_dummies = pd.get_dummies(X_train['cellphone'], prefix='cellphone', drop_first=True)\n",
    "gender_dummies = pd.get_dummies(X_train['gender'], prefix='gender', drop_first=True)"
   ]
  },
  {
   "cell_type": "code",
   "execution_count": 43,
   "id": "d1753292-02f7-43c3-9df3-236160c00246",
   "metadata": {},
   "outputs": [],
   "source": [
    "job_dummies = pd.get_dummies(X_train['job'], prefix='job', drop_first=True)"
   ]
  },
  {
   "cell_type": "code",
   "execution_count": 44,
   "id": "afe3e9c7-02a6-4120-90fc-ffbd2416fe01",
   "metadata": {},
   "outputs": [],
   "source": [
    "X_train = pd.concat([X_train, country_dummies, location_dummies, cellphone_dummies, gender_dummies, job_dummies], axis=1)"
   ]
  },
  {
   "cell_type": "code",
   "execution_count": 45,
   "id": "61ce7d38-6244-46fb-a03e-f62cdce409cb",
   "metadata": {},
   "outputs": [],
   "source": [
    "X_train = X_train.drop(['country', 'location', 'cellphone', 'gender','job'], axis=1)"
   ]
  },
  {
   "cell_type": "code",
   "execution_count": 46,
   "id": "22ef14eb-5edc-4f76-9e0d-d8a3044df612",
   "metadata": {},
   "outputs": [],
   "source": [
    "edu_mapping = {'No formal education': 0, \n",
    "               'Primary education' : 2, \n",
    "               'Other/Dont know/RTA': 1,\n",
    "               'Vocational/Specialised training': 4, \n",
    "               'Secondary education': 3, \n",
    "               'Tertiary education' : 5}\n",
    "\n",
    "X_train = X_train.assign(edu_cat = X_train.education.map(edu_mapping))"
   ]
  },
  {
   "cell_type": "code",
   "execution_count": 47,
   "id": "b4ddb5bb-7423-4da8-ab96-03c4d3c09a60",
   "metadata": {},
   "outputs": [],
   "source": [
    "marital_mapping = {'Divorced/Seperated' : 0,\n",
    "                   'Dont know' : 0,\n",
    "                   'Married/Living together' : 1,\n",
    "                   'Single/Never Married' : 0,\n",
    "                   'Widowed' : 1}\n",
    "\n",
    "X_train = X_train.assign(marital_status = X_train.marital_status.map(marital_mapping))"
   ]
  },
  {
   "cell_type": "code",
   "execution_count": 48,
   "id": "674ea1dd-2de3-4956-93f1-7d41a1f6d294",
   "metadata": {},
   "outputs": [],
   "source": [
    "status_household_mapping = {'Child' : 0,\n",
    "                            'Head of Household' : 2,\n",
    "                            'Other non-relatives': 0,\n",
    "                            'Other relative' : 0,\n",
    "                            'Parent': 1,\n",
    "                            'Spouse': 1}\n",
    "\n",
    "X_train = X_train.assign(status_household = X_train.status_household.map(status_household_mapping))"
   ]
  },
  {
   "cell_type": "code",
   "execution_count": 49,
   "id": "2090a104-92ed-4eb6-bb0e-70f1db47b140",
   "metadata": {},
   "outputs": [
    {
     "data": {
      "text/plain": [
       "Index(['household', 'age', 'status_household', 'marital_status', 'education',\n",
       "       'country_Rwanda', 'country_Tanzania', 'country_Uganda',\n",
       "       'location_Urban', 'cellphone_Yes', 'gender_Male',\n",
       "       'job_Farming and Fishing', 'job_Formally employed Government',\n",
       "       'job_Formally employed Private', 'job_Government Dependent',\n",
       "       'job_Informally employed', 'job_No Income', 'job_Other Income',\n",
       "       'job_Remittance Dependent', 'job_Self employed', 'edu_cat'],\n",
       "      dtype='object')"
      ]
     },
     "execution_count": 49,
     "metadata": {},
     "output_type": "execute_result"
    }
   ],
   "source": [
    "X_train.columns"
   ]
  },
  {
   "cell_type": "code",
   "execution_count": 50,
   "id": "17d4c378-10b0-4124-be57-c7c55368f939",
   "metadata": {},
   "outputs": [],
   "source": [
    "bins=[0,25,40,65,101]\n",
    "labels = ['young adult', 'adult', 'middle age', 'elderly']\n",
    "X_train['age_group'] = pd.cut(X_train['age'], bins=bins, labels=labels)"
   ]
  },
  {
   "cell_type": "code",
   "execution_count": 51,
   "id": "77380332-b7d3-4278-a313-75a277388682",
   "metadata": {},
   "outputs": [],
   "source": [
    "X_train = X_train.drop(['age'], axis=1)"
   ]
  },
  {
   "cell_type": "code",
   "execution_count": 52,
   "id": "41312f55-aa96-460e-b633-c87b5aafe9e3",
   "metadata": {},
   "outputs": [],
   "source": [
    "age_mapping = {'young adult':0, \n",
    "               'adult':1, \n",
    "               'middle age':2,\n",
    "               'elderly':3}\n",
    "\n",
    "X_train = X_train.assign(age_cat = X_train.age_group.map(age_mapping))"
   ]
  },
  {
   "cell_type": "code",
   "execution_count": 53,
   "id": "9ffff1af-acbb-4a05-8244-7b04c3472491",
   "metadata": {},
   "outputs": [],
   "source": [
    "X_train = X_train.drop(['age_group'], axis=1)"
   ]
  },
  {
   "cell_type": "code",
   "execution_count": 54,
   "id": "0e6ef3a0-f8b6-4641-a46a-7109fb0e9ec8",
   "metadata": {},
   "outputs": [],
   "source": [
    "X_train = X_train.drop(['education'], axis=1)"
   ]
  },
  {
   "cell_type": "code",
   "execution_count": 55,
   "id": "b53cb6e4-854a-48c1-ac43-d081c5556799",
   "metadata": {},
   "outputs": [
    {
     "data": {
      "text/html": [
       "<div>\n",
       "<style scoped>\n",
       "    .dataframe tbody tr th:only-of-type {\n",
       "        vertical-align: middle;\n",
       "    }\n",
       "\n",
       "    .dataframe tbody tr th {\n",
       "        vertical-align: top;\n",
       "    }\n",
       "\n",
       "    .dataframe thead th {\n",
       "        text-align: right;\n",
       "    }\n",
       "</style>\n",
       "<table border=\"1\" class=\"dataframe\">\n",
       "  <thead>\n",
       "    <tr style=\"text-align: right;\">\n",
       "      <th></th>\n",
       "      <th>household</th>\n",
       "      <th>status_household</th>\n",
       "      <th>marital_status</th>\n",
       "      <th>country_Rwanda</th>\n",
       "      <th>country_Tanzania</th>\n",
       "      <th>country_Uganda</th>\n",
       "      <th>location_Urban</th>\n",
       "      <th>cellphone_Yes</th>\n",
       "      <th>gender_Male</th>\n",
       "      <th>job_Farming and Fishing</th>\n",
       "      <th>job_Formally employed Government</th>\n",
       "      <th>job_Formally employed Private</th>\n",
       "      <th>job_Government Dependent</th>\n",
       "      <th>job_Informally employed</th>\n",
       "      <th>job_No Income</th>\n",
       "      <th>job_Other Income</th>\n",
       "      <th>job_Remittance Dependent</th>\n",
       "      <th>job_Self employed</th>\n",
       "      <th>edu_cat</th>\n",
       "      <th>age_cat</th>\n",
       "    </tr>\n",
       "  </thead>\n",
       "  <tbody>\n",
       "    <tr>\n",
       "      <th>0</th>\n",
       "      <td>3</td>\n",
       "      <td>1</td>\n",
       "      <td>1</td>\n",
       "      <td>0</td>\n",
       "      <td>0</td>\n",
       "      <td>0</td>\n",
       "      <td>0</td>\n",
       "      <td>1</td>\n",
       "      <td>0</td>\n",
       "      <td>0</td>\n",
       "      <td>0</td>\n",
       "      <td>0</td>\n",
       "      <td>0</td>\n",
       "      <td>0</td>\n",
       "      <td>0</td>\n",
       "      <td>0</td>\n",
       "      <td>0</td>\n",
       "      <td>1</td>\n",
       "      <td>3</td>\n",
       "      <td>0</td>\n",
       "    </tr>\n",
       "    <tr>\n",
       "      <th>1</th>\n",
       "      <td>5</td>\n",
       "      <td>2</td>\n",
       "      <td>1</td>\n",
       "      <td>0</td>\n",
       "      <td>0</td>\n",
       "      <td>0</td>\n",
       "      <td>0</td>\n",
       "      <td>0</td>\n",
       "      <td>0</td>\n",
       "      <td>0</td>\n",
       "      <td>0</td>\n",
       "      <td>0</td>\n",
       "      <td>1</td>\n",
       "      <td>0</td>\n",
       "      <td>0</td>\n",
       "      <td>0</td>\n",
       "      <td>0</td>\n",
       "      <td>0</td>\n",
       "      <td>0</td>\n",
       "      <td>3</td>\n",
       "    </tr>\n",
       "    <tr>\n",
       "      <th>2</th>\n",
       "      <td>5</td>\n",
       "      <td>0</td>\n",
       "      <td>0</td>\n",
       "      <td>0</td>\n",
       "      <td>0</td>\n",
       "      <td>0</td>\n",
       "      <td>1</td>\n",
       "      <td>1</td>\n",
       "      <td>1</td>\n",
       "      <td>0</td>\n",
       "      <td>0</td>\n",
       "      <td>0</td>\n",
       "      <td>0</td>\n",
       "      <td>0</td>\n",
       "      <td>0</td>\n",
       "      <td>0</td>\n",
       "      <td>0</td>\n",
       "      <td>1</td>\n",
       "      <td>4</td>\n",
       "      <td>1</td>\n",
       "    </tr>\n",
       "    <tr>\n",
       "      <th>3</th>\n",
       "      <td>5</td>\n",
       "      <td>2</td>\n",
       "      <td>1</td>\n",
       "      <td>0</td>\n",
       "      <td>0</td>\n",
       "      <td>0</td>\n",
       "      <td>0</td>\n",
       "      <td>1</td>\n",
       "      <td>0</td>\n",
       "      <td>0</td>\n",
       "      <td>0</td>\n",
       "      <td>1</td>\n",
       "      <td>0</td>\n",
       "      <td>0</td>\n",
       "      <td>0</td>\n",
       "      <td>0</td>\n",
       "      <td>0</td>\n",
       "      <td>0</td>\n",
       "      <td>2</td>\n",
       "      <td>1</td>\n",
       "    </tr>\n",
       "    <tr>\n",
       "      <th>4</th>\n",
       "      <td>8</td>\n",
       "      <td>0</td>\n",
       "      <td>0</td>\n",
       "      <td>0</td>\n",
       "      <td>0</td>\n",
       "      <td>0</td>\n",
       "      <td>1</td>\n",
       "      <td>0</td>\n",
       "      <td>1</td>\n",
       "      <td>0</td>\n",
       "      <td>0</td>\n",
       "      <td>0</td>\n",
       "      <td>0</td>\n",
       "      <td>1</td>\n",
       "      <td>0</td>\n",
       "      <td>0</td>\n",
       "      <td>0</td>\n",
       "      <td>0</td>\n",
       "      <td>2</td>\n",
       "      <td>1</td>\n",
       "    </tr>\n",
       "  </tbody>\n",
       "</table>\n",
       "</div>"
      ],
      "text/plain": [
       "   household  status_household  marital_status  country_Rwanda  \\\n",
       "0          3                 1               1               0   \n",
       "1          5                 2               1               0   \n",
       "2          5                 0               0               0   \n",
       "3          5                 2               1               0   \n",
       "4          8                 0               0               0   \n",
       "\n",
       "   country_Tanzania  country_Uganda  location_Urban  cellphone_Yes  \\\n",
       "0                 0               0               0              1   \n",
       "1                 0               0               0              0   \n",
       "2                 0               0               1              1   \n",
       "3                 0               0               0              1   \n",
       "4                 0               0               1              0   \n",
       "\n",
       "   gender_Male  job_Farming and Fishing  job_Formally employed Government  \\\n",
       "0            0                        0                                 0   \n",
       "1            0                        0                                 0   \n",
       "2            1                        0                                 0   \n",
       "3            0                        0                                 0   \n",
       "4            1                        0                                 0   \n",
       "\n",
       "   job_Formally employed Private  job_Government Dependent  \\\n",
       "0                              0                         0   \n",
       "1                              0                         1   \n",
       "2                              0                         0   \n",
       "3                              1                         0   \n",
       "4                              0                         0   \n",
       "\n",
       "   job_Informally employed  job_No Income  job_Other Income  \\\n",
       "0                        0              0                 0   \n",
       "1                        0              0                 0   \n",
       "2                        0              0                 0   \n",
       "3                        0              0                 0   \n",
       "4                        1              0                 0   \n",
       "\n",
       "   job_Remittance Dependent  job_Self employed  edu_cat age_cat  \n",
       "0                         0                  1        3       0  \n",
       "1                         0                  0        0       3  \n",
       "2                         0                  1        4       1  \n",
       "3                         0                  0        2       1  \n",
       "4                         0                  0        2       1  "
      ]
     },
     "execution_count": 55,
     "metadata": {},
     "output_type": "execute_result"
    }
   ],
   "source": [
    "X_train.head()"
   ]
  },
  {
   "cell_type": "markdown",
   "id": "76e36762-ee13-41d8-858f-60f1b9b135a8",
   "metadata": {},
   "source": [
    "### Train Test Split stratified"
   ]
  },
  {
   "cell_type": "code",
   "execution_count": 56,
   "id": "79aa9ef8-9ec3-4cdb-9b58-b4f0202084b4",
   "metadata": {
    "tags": []
   },
   "outputs": [],
   "source": [
    "X_Train, X_Val, y_Train, y_Val = train_test_split(X_train, y_train, stratify = y_train, \n",
    "                                                  test_size = 0.3, random_state=RSEED)"
   ]
  },
  {
   "cell_type": "code",
   "execution_count": 57,
   "id": "eec789ff-db57-4d57-9ac7-6a5e3814ea55",
   "metadata": {},
   "outputs": [
    {
     "name": "stdout",
     "output_type": "stream",
     "text": [
      "Counter({0: 14148, 1: 2318})\n"
     ]
    }
   ],
   "source": [
    "from imblearn.under_sampling import RandomUnderSampler \n",
    "from imblearn.over_sampling import SMOTE\n",
    "from collections import Counter\n",
    "from numpy import where\n",
    "\n",
    "counter = Counter(y_Train)\n",
    "print(counter)"
   ]
  },
  {
   "cell_type": "code",
   "execution_count": 58,
   "id": "05d44666-a835-4372-af3e-38502de1e01c",
   "metadata": {},
   "outputs": [],
   "source": [
    "over = SMOTE(sampling_strategy=0.3, random_state=RSEED)"
   ]
  },
  {
   "cell_type": "code",
   "execution_count": 59,
   "id": "bdd44d52-1abb-4f5f-a7f9-4546709b5325",
   "metadata": {},
   "outputs": [],
   "source": [
    "X_Train, y_Train = over.fit_resample(X_Train, y_Train)"
   ]
  },
  {
   "cell_type": "code",
   "execution_count": 60,
   "id": "60be5a1a-5164-46ee-8830-edc280143603",
   "metadata": {},
   "outputs": [
    {
     "name": "stdout",
     "output_type": "stream",
     "text": [
      "Counter({0: 14148, 1: 4244})\n"
     ]
    }
   ],
   "source": [
    "counter = Counter(y_Train)\n",
    "print(counter)"
   ]
  },
  {
   "cell_type": "code",
   "execution_count": 61,
   "id": "5aa4f974-95d3-4868-987f-7ed14e11cba4",
   "metadata": {},
   "outputs": [],
   "source": [
    "scaler = MinMaxScaler(feature_range=(0, 1))\n",
    "processed_X_Train = pd.DataFrame(scaler.fit_transform(X_Train),index=X_Train.index, columns=X_Train.columns)"
   ]
  },
  {
   "cell_type": "code",
   "execution_count": 62,
   "id": "3f74ce99-6a60-4b7b-92bb-52e9d8e4ce61",
   "metadata": {},
   "outputs": [],
   "source": [
    "processed_X_Val = pd.DataFrame(scaler.transform(X_Val),index=X_Val.index, columns=X_Val.columns)"
   ]
  },
  {
   "cell_type": "markdown",
   "id": "89624bca-0cac-45d8-8d76-c915f6ec5d88",
   "metadata": {},
   "source": [
    "# Model 1 Decision Tree"
   ]
  },
  {
   "cell_type": "code",
   "execution_count": 63,
   "id": "261e0aaa-95ea-4b57-a5bb-30c682cf991b",
   "metadata": {},
   "outputs": [
    {
     "data": {
      "text/plain": [
       "DecisionTreeClassifier(max_depth=15, random_state=33)"
      ]
     },
     "execution_count": 63,
     "metadata": {},
     "output_type": "execute_result"
    }
   ],
   "source": [
    "Tree = DecisionTreeClassifier(criterion='gini', max_depth=15, random_state=RSEED)\n",
    "Tree.fit(processed_X_Train, y_Train) "
   ]
  },
  {
   "cell_type": "code",
   "execution_count": 64,
   "id": "ac0734d6-c864-4fd1-ac2d-90d98797501d",
   "metadata": {},
   "outputs": [],
   "source": [
    "y_pred_Train_tree = Tree.predict(processed_X_Train)\n",
    "y_pred_Val_tree = Tree.predict(processed_X_Val)\n",
    "y_pred_Val_tree_proba = Tree.predict_proba(processed_X_Val)"
   ]
  },
  {
   "cell_type": "code",
   "execution_count": 65,
   "id": "49d79b74-ca3a-4add-ad96-491531966de8",
   "metadata": {},
   "outputs": [],
   "source": [
    "y_pred_Val_tree_proba = y_pred_Val_tree_proba[:, 1]"
   ]
  },
  {
   "cell_type": "code",
   "execution_count": 66,
   "id": "7b5fc326-e3a2-40ab-b6dc-c02da11526bf",
   "metadata": {},
   "outputs": [
    {
     "name": "stdout",
     "output_type": "stream",
     "text": [
      "Accuracy Train:  0.8937037842540235\n",
      "Accuracy Test:  0.8481156134882403\n",
      "F1-score Train:  0.7452768729641693\n",
      "F1-score Test:  0.43638275499474233\n",
      "Recall Train:  0.6738925541941565\n",
      "Recall Test:  0.41750503018108653\n"
     ]
    }
   ],
   "source": [
    "print('Accuracy Train: ',metrics.accuracy_score(y_Train, y_pred_Train_tree))\n",
    "print('Accuracy Test: ',metrics.accuracy_score(y_Val, y_pred_Val_tree))\n",
    "print('F1-score Train: ',metrics.f1_score(y_Train, y_pred_Train_tree, pos_label=1))\n",
    "print('F1-score Test: ',metrics.f1_score(y_Val, y_pred_Val_tree, pos_label=1))\n",
    "print('Recall Train: ',metrics.recall_score(y_Train, y_pred_Train_tree, pos_label=1))\n",
    "print('Recall Test: ',metrics.recall_score(y_Val, y_pred_Val_tree, pos_label=1))"
   ]
  },
  {
   "cell_type": "code",
   "execution_count": 67,
   "id": "bedf5075-2de0-4d59-9451-75310856d811",
   "metadata": {},
   "outputs": [],
   "source": [
    "cfm_tree = metrics.confusion_matrix(y_Val, y_pred_Val_tree)"
   ]
  },
  {
   "cell_type": "code",
   "execution_count": 68,
   "id": "2b6d29e1-0308-459d-813e-5c36d6e161ae",
   "metadata": {},
   "outputs": [],
   "source": [
    "color_cfm = ['#eaf2f2', '#d9e8e8', '#ccdfdf', '#bcd6d5', \"#aacbca\", '#9ac1c1', '#83b3b2', '#77abaa', '#6ba4a3', '#5f9c9a', '#599190']"
   ]
  },
  {
   "cell_type": "code",
   "execution_count": 69,
   "id": "508a8188-3168-44dc-81c3-dd9330eaf224",
   "metadata": {},
   "outputs": [
    {
     "data": {
      "image/png": "[encoded data removed]",
      "text/plain": [
       "<Figure size 640x480 with 2 Axes>"
      ]
     },
     "metadata": {},
     "output_type": "display_data"
    }
   ],
   "source": [
    "group_names = ['True Neg','False Pos','False Neg','True Pos']\n",
    "group_counts = ['{0:0.0f}'.format(value) for value in\n",
    "                cfm_tree.flatten()]\n",
    "group_percentages = ['{0:.2%}'.format(value) for value in\n",
    "                     cfm_tree.flatten()/np.sum(cfm_tree)]\n",
    "labels = [f'{v1}\\n{v2}\\n{v3}' for v1, v2, v3 in\n",
    "          zip(group_names,group_counts,group_percentages)]\n",
    "labels = np.asarray(labels).reshape(2,2)\n",
    "ax = plt.axes()\n",
    "ax.set_title('Baseline')\n",
    "sns.heatmap(cfm_tree, annot=labels, fmt='', cmap=color_cfm);"
   ]
  },
  {
   "cell_type": "code",
   "execution_count": 70,
   "id": "098e7ac3-dd16-476f-8152-3a4228e4f968",
   "metadata": {},
   "outputs": [
    {
     "data": {
      "image/png": "[encoded data removed]",
      "text/plain": [
       "<Figure size 640x480 with 1 Axes>"
      ]
     },
     "metadata": {},
     "output_type": "display_data"
    }
   ],
   "source": [
    "def plot_feature_importances(model):\n",
    "    n_features = X_Train.shape[1]\n",
    "    plt.barh(np.arange(n_features),model.feature_importances_, align=\"center\")\n",
    "    plt.yticks(np.arange(n_features),X_train.columns)\n",
    "    plt.ylim(-1,n_features)\n",
    "    \n",
    "plot_feature_importances(Tree)"
   ]
  },
  {
   "cell_type": "markdown",
   "id": "601e133a-f1cb-4426-a98e-89cd3122a003",
   "metadata": {},
   "source": [
    "# XGB"
   ]
  },
  {
   "cell_type": "code",
   "execution_count": 71,
   "id": "8f66a12d-ca25-49a0-a9f5-7fae836e95a8",
   "metadata": {},
   "outputs": [],
   "source": [
    "from numpy import mean\n",
    "from sklearn.datasets import make_classification\n",
    "from sklearn.model_selection import cross_val_score\n",
    "from sklearn.model_selection import RepeatedStratifiedKFold\n",
    "from xgboost import XGBClassifier"
   ]
  },
  {
   "cell_type": "code",
   "execution_count": 72,
   "id": "a0ec4ae0-9e82-46f3-bcc0-79877f20e79b",
   "metadata": {
    "tags": []
   },
   "outputs": [],
   "source": [
    "xgb = XGBClassifier(subsample= 1,scale_pos_weight=15,min_child_weight=7,max_depth= 5,learning_rate= 0.05, gamma= 0.3, colsample_bytree= 0.4)"
   ]
  },
  {
   "cell_type": "code",
   "execution_count": 73,
   "id": "c6dcf903-cb48-4239-9338-80d070f728ec",
   "metadata": {},
   "outputs": [],
   "source": [
    "# (subsample= 0.5,scale_pos_weight=6,min_child_weight=7,max_depth= 8,learning_rate= 0.3, gamma= 0.3, colsample_bytree= 0.7)"
   ]
  },
  {
   "cell_type": "code",
   "execution_count": 74,
   "id": "0d7a1bfc-6132-4190-9a78-894b450ade63",
   "metadata": {
    "tags": []
   },
   "outputs": [
    {
     "data": {
      "text/plain": [
       "XGBClassifier(base_score=None, booster=None, callbacks=None,\n",
       "              colsample_bylevel=None, colsample_bynode=None,\n",
       "              colsample_bytree=0.4, early_stopping_rounds=None,\n",
       "              enable_categorical=False, eval_metric=None, feature_types=None,\n",
       "              gamma=0.3, gpu_id=None, grow_policy=None, importance_type=None,\n",
       "              interaction_constraints=None, learning_rate=0.05, max_bin=None,\n",
       "              max_cat_threshold=None, max_cat_to_onehot=None,\n",
       "              max_delta_step=None, max_depth=5, max_leaves=None,\n",
       "              min_child_weight=7, missing=nan, monotone_constraints=None,\n",
       "              n_estimators=100, n_jobs=None, num_parallel_tree=None,\n",
       "              predictor=None, random_state=None, ...)"
      ]
     },
     "execution_count": 74,
     "metadata": {},
     "output_type": "execute_result"
    }
   ],
   "source": [
    "xgb.fit(processed_X_Train, y_Train) "
   ]
  },
  {
   "cell_type": "code",
   "execution_count": 75,
   "id": "938763fb-1894-4d29-9750-82fc4ea1fa36",
   "metadata": {},
   "outputs": [],
   "source": [
    "y_pred_Train_xgb = xgb.predict(processed_X_Train)\n",
    "y_pred_Val_xgb = xgb.predict(processed_X_Val)\n",
    "y_pred_Val_xgb_proba = xgb.predict_proba(processed_X_Val)"
   ]
  },
  {
   "cell_type": "code",
   "execution_count": 76,
   "id": "3eeeb759-3f65-46b7-a75e-e67d804d74bf",
   "metadata": {
    "tags": []
   },
   "outputs": [],
   "source": [
    "y_pred_Val_xgb_proba = y_pred_Val_xgb_proba[:, 1]"
   ]
  },
  {
   "cell_type": "code",
   "execution_count": 77,
   "id": "020b7a2e-925e-4392-b484-ebc20a2ce7b5",
   "metadata": {},
   "outputs": [
    {
     "name": "stdout",
     "output_type": "stream",
     "text": [
      "Accuracy Train:  0.5157133536320139\n",
      "Accuracy Test:  0.4559365259280249\n",
      "F1-score Train:  0.48392143229619333\n",
      "F1-score Test:  0.33564013840830453\n",
      "Recall Train:  0.9839773798303487\n",
      "Recall Test:  0.9758551307847082\n"
     ]
    }
   ],
   "source": [
    "print('Accuracy Train: ',metrics.accuracy_score(y_Train, y_pred_Train_xgb))\n",
    "print('Accuracy Test: ',metrics.accuracy_score(y_Val, y_pred_Val_xgb))\n",
    "print('F1-score Train: ',metrics.f1_score(y_Train, y_pred_Train_xgb, pos_label=1))\n",
    "print('F1-score Test: ',metrics.f1_score(y_Val, y_pred_Val_xgb, pos_label=1))\n",
    "print('Recall Train: ',metrics.recall_score(y_Train, y_pred_Train_xgb, pos_label=1))\n",
    "print('Recall Test: ',metrics.recall_score(y_Val, y_pred_Val_xgb, pos_label=1))"
   ]
  },
  {
   "cell_type": "code",
   "execution_count": 78,
   "id": "f34a8315-2a33-4189-bd41-971eca83aa35",
   "metadata": {},
   "outputs": [],
   "source": [
    "cfm_xgb = metrics.confusion_matrix(y_Val, y_pred_Val_xgb)"
   ]
  },
  {
   "cell_type": "code",
   "execution_count": 79,
   "id": "e2990a55-0842-47c5-8900-3f4bbb4024e9",
   "metadata": {},
   "outputs": [
    {
     "data": {
      "image/png": "[encoded data removed]",
      "text/plain": [
       "<Figure size 640x480 with 2 Axes>"
      ]
     },
     "metadata": {},
     "output_type": "display_data"
    }
   ],
   "source": [
    "group_names = ['True Neg','False Pos','False Neg','True Pos']\n",
    "group_counts = ['{0:0.0f}'.format(value) for value in\n",
    "                cfm_xgb.flatten()]\n",
    "group_percentages = ['{0:.2%}'.format(value) for value in\n",
    "                     cfm_xgb.flatten()/np.sum(cfm_xgb)]\n",
    "labels = [f'{v1}\\n{v2}\\n{v3}' for v1, v2, v3 in\n",
    "          zip(group_names,group_counts,group_percentages)]\n",
    "labels = np.asarray(labels).reshape(2,2)\n",
    "sns.heatmap(cfm_xgb, annot=labels, fmt='', cmap = color_cfm);"
   ]
  },
  {
   "cell_type": "markdown",
   "id": "c5dfbefd-1e77-4ad0-869a-b89a4801653b",
   "metadata": {},
   "source": [
    "### with own threshold"
   ]
  },
  {
   "cell_type": "code",
   "execution_count": 80,
   "id": "5acd0902-e591-46a6-8c12-93f83646caab",
   "metadata": {},
   "outputs": [],
   "source": [
    "def own_prediction(probabilities, threshold):\n",
    "    new_list = []\n",
    "    for i in probabilities:\n",
    "        if i >= threshold:\n",
    "            new_list.append(1)\n",
    "        else:\n",
    "            new_list.append(0)\n",
    "    return new_list"
   ]
  },
  {
   "cell_type": "code",
   "execution_count": 81,
   "id": "841eb1f4-7a81-49fc-aa9b-2bba7150c16c",
   "metadata": {},
   "outputs": [],
   "source": [
    "own_y_pred_Val_xgb = own_prediction(y_pred_Val_xgb_proba, 0.738)"
   ]
  },
  {
   "cell_type": "code",
   "execution_count": 82,
   "id": "ff9f86f3-811a-4104-bf53-a18a8453f24c",
   "metadata": {},
   "outputs": [
    {
     "name": "stdout",
     "output_type": "stream",
     "text": [
      "Accuracy Train:  0.5157133536320139\n",
      "Accuracy Test:  0.7180504392179088\n",
      "F1-score Train:  0.48392143229619333\n",
      "F1-score Test:  0.45299615173172064\n",
      "Recall Train:  0.9839773798303487\n",
      "Recall Test:  0.8289738430583501\n"
     ]
    }
   ],
   "source": [
    "print('Accuracy Train: ',metrics.accuracy_score(y_Train, y_pred_Train_xgb))\n",
    "print('Accuracy Test: ',metrics.accuracy_score(y_Val, own_y_pred_Val_xgb))\n",
    "print('F1-score Train: ',metrics.f1_score(y_Train, y_pred_Train_xgb, pos_label=1))\n",
    "print('F1-score Test: ',metrics.f1_score(y_Val, own_y_pred_Val_xgb, pos_label=1))\n",
    "print('Recall Train: ',metrics.recall_score(y_Train, y_pred_Train_xgb, pos_label=1))\n",
    "print('Recall Test: ',metrics.recall_score(y_Val, own_y_pred_Val_xgb, pos_label=1))"
   ]
  },
  {
   "cell_type": "code",
   "execution_count": 83,
   "id": "cfa51ad8-cb65-4b92-b0c0-4667d9f15a5c",
   "metadata": {
    "tags": []
   },
   "outputs": [],
   "source": [
    "cfm_xgb_own_trs = metrics.confusion_matrix(y_Val, own_y_pred_Val_xgb)"
   ]
  },
  {
   "cell_type": "code",
   "execution_count": 84,
   "id": "ddbbde60-b739-4c63-95d6-478f3879a956",
   "metadata": {},
   "outputs": [
    {
     "data": {
      "image/png": "[encoded data removed]",
      "text/plain": [
       "<Figure size 640x480 with 2 Axes>"
      ]
     },
     "metadata": {},
     "output_type": "display_data"
    }
   ],
   "source": [
    "group_names = ['True Neg','False Pos','False Neg','True Pos']\n",
    "group_counts = ['{0:0.0f}'.format(value) for value in\n",
    "                cfm_xgb_own_trs.flatten()]\n",
    "group_percentages = ['{0:.2%}'.format(value) for value in\n",
    "                     cfm_xgb_own_trs.flatten()/np.sum(cfm_xgb_own_trs)]\n",
    "labels = [f'{v1}\\n{v2}\\n{v3}' for v1, v2, v3 in\n",
    "          zip(group_names,group_counts,group_percentages)]\n",
    "labels = np.asarray(labels).reshape(2,2)\n",
    "ax = plt.axes()\n",
    "ax.set_title('XGBoost')\n",
    "sns.heatmap(cfm_xgb_own_trs, annot=labels, fmt='', cmap= color_cfm);"
   ]
  },
  {
   "cell_type": "markdown",
   "id": "5f1ef974-ccef-4f17-91b1-ac78f6365895",
   "metadata": {},
   "source": [
    "### Hyper Parameter Tuning"
   ]
  },
  {
   "cell_type": "code",
   "execution_count": 85,
   "id": "9fafbc1d-1339-47da-8363-1e7a4a652974",
   "metadata": {},
   "outputs": [],
   "source": [
    "params = {\n",
    "    \"learning_rate\" : [0.05,0.10,0.15,0.20,0.25,0.30],\n",
    "    \"max_depth\" : [ 3, 4, 5, 6, 8, 10, 12, 15],\n",
    "    \"min_child_weight\" : [ 1, 3, 5, 7 ],\n",
    "    \"gamma\": [ 0.0, 0.1, 0.2 , 0.3, 0.4 ],\n",
    "    \"colsample_bytree\" : [ 0.3, 0.4, 0.5 , 0.7 ],\n",
    "    \"subsample\" : [0.5, 1],\n",
    "    \"scale_pos_weight\" : [1, 3, 6, 10, 15]\n",
    "    }"
   ]
  },
  {
   "cell_type": "code",
   "execution_count": 86,
   "id": "9a9661c5-72ee-43ad-b295-27b10a6643df",
   "metadata": {},
   "outputs": [],
   "source": [
    "rs_model=RandomizedSearchCV(xgb,param_distributions=params,n_iter=5,scoring='recall',n_jobs=-1,cv=5,verbose=3)"
   ]
  },
  {
   "cell_type": "code",
   "execution_count": 87,
   "id": "d31d97cd-fbc7-4781-931b-af0bd4cde267",
   "metadata": {},
   "outputs": [
    {
     "name": "stdout",
     "output_type": "stream",
     "text": [
      "Fitting 5 folds for each of 5 candidates, totalling 25 fits\n"
     ]
    },
    {
     "data": {
      "text/plain": [
       "RandomizedSearchCV(cv=5,\n",
       "                   estimator=XGBClassifier(base_score=None, booster=None,\n",
       "                                           callbacks=None,\n",
       "                                           colsample_bylevel=None,\n",
       "                                           colsample_bynode=None,\n",
       "                                           colsample_bytree=0.4,\n",
       "                                           early_stopping_rounds=None,\n",
       "                                           enable_categorical=False,\n",
       "                                           eval_metric=None, feature_types=None,\n",
       "                                           gamma=0.3, gpu_id=None,\n",
       "                                           grow_policy=None,\n",
       "                                           importance_type=None,\n",
       "                                           interaction_constraints=None,\n",
       "                                           learning_rate=0...\n",
       "                                           num_parallel_tree=None,\n",
       "                                           predictor=None, random_state=None, ...),\n",
       "                   n_iter=5, n_jobs=-1,\n",
       "                   param_distributions={'colsample_bytree': [0.3, 0.4, 0.5,\n",
       "                                                             0.7],\n",
       "                                        'gamma': [0.0, 0.1, 0.2, 0.3, 0.4],\n",
       "                                        'learning_rate': [0.05, 0.1, 0.15, 0.2,\n",
       "                                                          0.25, 0.3],\n",
       "                                        'max_depth': [3, 4, 5, 6, 8, 10, 12,\n",
       "                                                      15],\n",
       "                                        'min_child_weight': [1, 3, 5, 7],\n",
       "                                        'scale_pos_weight': [1, 3, 6, 10, 15],\n",
       "                                        'subsample': [0.5, 1]},\n",
       "                   scoring='recall', verbose=3)"
      ]
     },
     "execution_count": 87,
     "metadata": {},
     "output_type": "execute_result"
    }
   ],
   "source": [
    "rs_model.fit(processed_X_Train,y_Train)"
   ]
  },
  {
   "cell_type": "code",
   "execution_count": 88,
   "id": "58e93a14-a83b-4d51-afad-f0595885d35a",
   "metadata": {},
   "outputs": [
    {
     "data": {
      "text/plain": [
       "{'subsample': 0.5,\n",
       " 'scale_pos_weight': 15,\n",
       " 'min_child_weight': 7,\n",
       " 'max_depth': 8,\n",
       " 'learning_rate': 0.25,\n",
       " 'gamma': 0.2,\n",
       " 'colsample_bytree': 0.4}"
      ]
     },
     "execution_count": 88,
     "metadata": {},
     "output_type": "execute_result"
    }
   ],
   "source": [
    "rs_model.best_params_"
   ]
  },
  {
   "cell_type": "code",
   "execution_count": 89,
   "id": "4e54a88f-3d19-462c-89c5-39b392ff2b2b",
   "metadata": {},
   "outputs": [
    {
     "name": "stdout",
     "output_type": "stream",
     "text": [
      "0.9752589715131336\n"
     ]
    }
   ],
   "source": [
    "cv = RepeatedStratifiedKFold(n_splits=10, n_repeats=3, random_state=RSEED)\n",
    "scores = cross_val_score(xgb, processed_X_Train, y_Train, scoring='recall', cv=cv, n_jobs=-1)\n",
    "print(np.mean(scores))"
   ]
  },
  {
   "cell_type": "markdown",
   "id": "8c32078b-73fe-44e5-b4d7-5f6eb31efa49",
   "metadata": {},
   "source": [
    "### ROC AUC CURVE and Thresholding"
   ]
  },
  {
   "cell_type": "code",
   "execution_count": 90,
   "id": "8c7773a4-529c-4a52-a19f-7c35c6ab21e2",
   "metadata": {
    "tags": []
   },
   "outputs": [
    {
     "data": {
      "text/plain": [
       "0.8582835237015762"
      ]
     },
     "execution_count": 90,
     "metadata": {},
     "output_type": "execute_result"
    }
   ],
   "source": [
    "from sklearn.metrics import roc_auc_score, roc_curve\n",
    "xgb_auc = roc_auc_score(y_Val, y_pred_Val_xgb_proba)\n",
    "xgb_auc"
   ]
  },
  {
   "cell_type": "code",
   "execution_count": 91,
   "id": "4276786b-6d61-40f8-a8ba-f0f0b0f64343",
   "metadata": {},
   "outputs": [
    {
     "data": {
      "text/plain": [
       "0.7500043964313585"
      ]
     },
     "execution_count": 91,
     "metadata": {},
     "output_type": "execute_result"
    }
   ],
   "source": [
    "bl_auc = roc_auc_score(y_Val, y_pred_Val_tree_proba)\n",
    "bl_auc"
   ]
  },
  {
   "cell_type": "code",
   "execution_count": 93,
   "id": "0d0959d9-e501-497b-ad09-498f8defdc06",
   "metadata": {},
   "outputs": [],
   "source": [
    "fpr, tpr, thresholds = roc_curve(y_Val, y_pred_Val_xgb_proba)"
   ]
  },
  {
   "cell_type": "code",
   "execution_count": 94,
   "id": "82173cbd-ea0a-4223-b4e3-4666cb0276a5",
   "metadata": {},
   "outputs": [],
   "source": [
    "fprbl, tprbl, thresholdsbl = roc_curve(y_Val, y_pred_Val_tree_proba)"
   ]
  },
  {
   "cell_type": "code",
   "execution_count": 109,
   "id": "26dbe405-06b3-484a-9b05-f36e786f4cc8",
   "metadata": {},
   "outputs": [
    {
     "data": {
      "image/png": "[encoded data removed]",
      "text/plain": [
       "<Figure size 640x480 with 1 Axes>"
      ]
     },
     "metadata": {},
     "output_type": "display_data"
    }
   ],
   "source": [
    "from matplotlib import pyplot\n",
    "pyplot.plot(fprbl, tprbl, linestyle='--', label='Baseline', color='#599190')\n",
    "pyplot.plot(fpr, tpr, label='XGB', color = '#edafb8')\n",
    "pyplot.xlabel('False Positive Rate')\n",
    "pyplot.ylabel('True Positive Rate')\n",
    "pyplot.text(0.3,0.3,'Roc-Auc-Score improved from 0.75 to 0.86', bbox={\n",
    "        'facecolor': '#D9E8E8', 'alpha': 0.4, 'pad': 5})\n",
    "pyplot.legend()\n",
    "pyplot.show()"
   ]
  },
  {
   "cell_type": "code",
   "execution_count": 116,
   "id": "e68a15e8-6b01-4ad0-a3ea-f66e45eeef83",
   "metadata": {},
   "outputs": [
    {
     "name": "stdout",
     "output_type": "stream",
     "text": [
      "Best Threshold=0.778627, F-Score=0.503\n"
     ]
    }
   ],
   "source": [
    "from sklearn.metrics import precision_recall_curve\n",
    "from numpy import argmax\n",
    "precision, recall, thresholds = precision_recall_curve(y_Val, y_pred_Val_xgb_proba)\n",
    "fscore = (2 * precision * recall) / (precision + recall)\n",
    "ix=argmax(fscore)\n",
    "print('Best Threshold=%f, F-Score=%.3f' % (thresholds[ix], fscore[ix]))"
   ]
  },
  {
   "cell_type": "code",
   "execution_count": 118,
   "id": "fe1fbb9f-0b3b-44c1-b860-af70fdcc8484",
   "metadata": {},
   "outputs": [],
   "source": [
    "def to_labels(pos_probs, threshold):\n",
    " return (pos_probs >= threshold).astype('int')"
   ]
  },
  {
   "cell_type": "code",
   "execution_count": 119,
   "id": "e48f9374-3b82-47af-9cff-aa649a1bf188",
   "metadata": {},
   "outputs": [
    {
     "name": "stdout",
     "output_type": "stream",
     "text": [
      "Threshold=0.778, F-Score=0.50324\n"
     ]
    }
   ],
   "source": [
    "thresholds = np.arange(0, 1, 0.001)\n",
    "scores = [metrics.f1_score(y_Val, to_labels(y_pred_Val_xgb_proba, t)) for t in thresholds]\n",
    "ix = argmax(scores)\n",
    "print('Threshold=%.3f, F-Score=%.5f' % (thresholds[ix], scores[ix]))"
   ]
  },
  {
   "cell_type": "markdown",
   "id": "74d8800c-7aaa-4d40-9466-8001880f16d4",
   "metadata": {},
   "source": [
    "### Feature importance and feature selection"
   ]
  },
  {
   "cell_type": "code",
   "execution_count": 120,
   "id": "eeb5435a-f7e0-4002-a306-2fb4dfd83fb5",
   "metadata": {},
   "outputs": [
    {
     "data": {
      "image/png": "[encoded data removed]",
      "text/plain": [
       "<Figure size 640x480 with 1 Axes>"
      ]
     },
     "metadata": {},
     "output_type": "display_data"
    },
    {
     "name": "stdout",
     "output_type": "stream",
     "text": [
      "[CV 2/5] END colsample_bytree=0.5, gamma=0.2, learning_rate=0.1, max_depth=3, min_child_weight=5, scale_pos_weight=10, subsample=1;, score=0.528 total time=   0.5s\n",
      "[CV 4/5] END colsample_bytree=0.5, gamma=0.2, learning_rate=0.1, max_depth=3, min_child_weight=5, scale_pos_weight=10, subsample=1;, score=0.520 total time=   0.5s\n",
      "[CV 2/5] END colsample_bytree=0.3, gamma=0.3, learning_rate=0.25, max_depth=4, min_child_weight=5, scale_pos_weight=10, subsample=0.5;, score=0.545 total time=   0.7s\n",
      "[CV 1/5] END colsample_bytree=0.5, gamma=0.2, learning_rate=0.3, max_depth=10, min_child_weight=5, scale_pos_weight=15, subsample=0.5;, score=0.569 total time=   2.0s\n",
      "[CV 2/5] END colsample_bytree=0.3, gamma=0.1, learning_rate=0.25, max_depth=6, min_child_weight=5, scale_pos_weight=15, subsample=0.5;, score=0.529 total time=   0.9s\n",
      "[CV 4/5] END colsample_bytree=0.7, gamma=0.3, learning_rate=0.3, max_depth=8, min_child_weight=7, scale_pos_weight=6, subsample=0.5;, score=0.660 total time=   2.1s\n",
      "[CV 3/5] END colsample_bytree=0.3, gamma=0.1, learning_rate=0.25, max_depth=6, min_child_weight=5, scale_pos_weight=15, subsample=0.5;, score=0.520 total time=   0.9s\n",
      "[CV 3/5] END colsample_bytree=0.7, gamma=0.3, learning_rate=0.3, max_depth=8, min_child_weight=7, scale_pos_weight=6, subsample=0.5;, score=0.601 total time=   2.2s\n",
      "[CV 5/5] END colsample_bytree=0.3, gamma=0.1, learning_rate=0.25, max_depth=6, min_child_weight=5, scale_pos_weight=15, subsample=0.5;, score=0.529 total time=   0.9s\n",
      "[CV 5/5] END colsample_bytree=0.7, gamma=0.3, learning_rate=0.3, max_depth=8, min_child_weight=7, scale_pos_weight=6, subsample=0.5;, score=0.645 total time=   2.2s\n",
      "[CV 3/5] END colsample_bytree=0.5, gamma=0.2, learning_rate=0.1, max_depth=3, min_child_weight=5, scale_pos_weight=10, subsample=1;, score=0.505 total time=   0.5s\n",
      "[CV 1/5] END colsample_bytree=0.7, gamma=0.3, learning_rate=0.3, max_depth=8, min_child_weight=7, scale_pos_weight=6, subsample=0.5;, score=0.620 total time=   2.1s\n",
      "[CV 4/5] END colsample_bytree=0.5, gamma=0.2, learning_rate=0.3, max_depth=10, min_child_weight=5, scale_pos_weight=15, subsample=0.5;, score=0.591 total time=   1.7s\n",
      "[CV 1/5] END colsample_bytree=0.5, gamma=0.2, learning_rate=0.1, max_depth=3, min_child_weight=5, scale_pos_weight=10, subsample=1;, score=0.520 total time=   0.5s\n",
      "[CV 5/5] END colsample_bytree=0.5, gamma=0.2, learning_rate=0.1, max_depth=3, min_child_weight=5, scale_pos_weight=10, subsample=1;, score=0.527 total time=   0.5s\n",
      "[CV 3/5] END colsample_bytree=0.3, gamma=0.3, learning_rate=0.25, max_depth=4, min_child_weight=5, scale_pos_weight=10, subsample=0.5;, score=0.528 total time=   0.6s\n",
      "[CV 5/5] END colsample_bytree=0.3, gamma=0.3, learning_rate=0.25, max_depth=4, min_child_weight=5, scale_pos_weight=10, subsample=0.5;, score=0.541 total time=   0.6s\n",
      "[CV 2/5] END colsample_bytree=0.5, gamma=0.2, learning_rate=0.3, max_depth=10, min_child_weight=5, scale_pos_weight=15, subsample=0.5;, score=0.558 total time=   1.8s\n",
      "[CV 4/5] END colsample_bytree=0.3, gamma=0.1, learning_rate=0.25, max_depth=6, min_child_weight=5, scale_pos_weight=15, subsample=0.5;, score=0.532 total time=   0.9s\n",
      "[CV 1/5] END colsample_bytree=0.3, gamma=0.3, learning_rate=0.25, max_depth=4, min_child_weight=5, scale_pos_weight=10, subsample=0.5;, score=0.548 total time=   0.7s\n",
      "[CV 4/5] END colsample_bytree=0.3, gamma=0.3, learning_rate=0.25, max_depth=4, min_child_weight=5, scale_pos_weight=10, subsample=0.5;, score=0.553 total time=   0.7s\n",
      "[CV 3/5] END colsample_bytree=0.5, gamma=0.2, learning_rate=0.3, max_depth=10, min_child_weight=5, scale_pos_weight=15, subsample=0.5;, score=0.562 total time=   1.8s\n",
      "[CV 1/5] END colsample_bytree=0.3, gamma=0.1, learning_rate=0.25, max_depth=6, min_child_weight=5, scale_pos_weight=15, subsample=0.5;, score=0.523 total time=   0.9s\n",
      "[CV 2/5] END colsample_bytree=0.7, gamma=0.3, learning_rate=0.3, max_depth=8, min_child_weight=7, scale_pos_weight=6, subsample=0.5;, score=0.604 total time=   2.2s\n",
      "[CV 5/5] END colsample_bytree=0.5, gamma=0.2, learning_rate=0.3, max_depth=10, min_child_weight=5, scale_pos_weight=15, subsample=0.5;, score=0.585 total time=   1.6s\n"
     ]
    }
   ],
   "source": [
    "from xgboost import plot_importance\n",
    "from matplotlib import pyplot\n",
    "\n",
    "plot_importance(xgb)\n",
    "pyplot.show()"
   ]
  },
  {
   "cell_type": "code",
   "execution_count": 122,
   "id": "4451246e-ae31-4dbc-a144-3a51a56c1d40",
   "metadata": {
    "collapsed": true,
    "jupyter": {
     "outputs_hidden": true
    },
    "tags": []
   },
   "outputs": [
    {
     "name": "stderr",
     "output_type": "stream",
     "text": [
      "/Users/johannakruger/neuefische/ml_project/.venv/lib/python3.9/site-packages/sklearn/base.py:443: UserWarning: X has feature names, but SelectFromModel was fitted without feature names\n",
      "  warnings.warn(\n",
      "/Users/johannakruger/neuefische/ml_project/.venv/lib/python3.9/site-packages/sklearn/base.py:443: UserWarning: X has feature names, but SelectFromModel was fitted without feature names\n",
      "  warnings.warn(\n",
      "/Users/johannakruger/neuefische/ml_project/.venv/lib/python3.9/site-packages/sklearn/base.py:443: UserWarning: X has feature names, but SelectFromModel was fitted without feature names\n",
      "  warnings.warn(\n"
     ]
    },
    {
     "name": "stdout",
     "output_type": "stream",
     "text": [
      "Thresh=0.025, n=20, Recall: 31.79%\n"
     ]
    },
    {
     "name": "stderr",
     "output_type": "stream",
     "text": [
      "/Users/johannakruger/neuefische/ml_project/.venv/lib/python3.9/site-packages/sklearn/base.py:443: UserWarning: X has feature names, but SelectFromModel was fitted without feature names\n",
      "  warnings.warn(\n",
      "/Users/johannakruger/neuefische/ml_project/.venv/lib/python3.9/site-packages/sklearn/base.py:443: UserWarning: X has feature names, but SelectFromModel was fitted without feature names\n",
      "  warnings.warn(\n"
     ]
    },
    {
     "name": "stdout",
     "output_type": "stream",
     "text": [
      "Thresh=0.028, n=19, Recall: 41.65%\n"
     ]
    },
    {
     "name": "stderr",
     "output_type": "stream",
     "text": [
      "/Users/johannakruger/neuefische/ml_project/.venv/lib/python3.9/site-packages/sklearn/base.py:443: UserWarning: X has feature names, but SelectFromModel was fitted without feature names\n",
      "  warnings.warn(\n",
      "/Users/johannakruger/neuefische/ml_project/.venv/lib/python3.9/site-packages/sklearn/base.py:443: UserWarning: X has feature names, but SelectFromModel was fitted without feature names\n",
      "  warnings.warn(\n"
     ]
    },
    {
     "name": "stdout",
     "output_type": "stream",
     "text": [
      "Thresh=0.029, n=18, Recall: 77.46%\n"
     ]
    },
    {
     "name": "stderr",
     "output_type": "stream",
     "text": [
      "/Users/johannakruger/neuefische/ml_project/.venv/lib/python3.9/site-packages/sklearn/base.py:443: UserWarning: X has feature names, but SelectFromModel was fitted without feature names\n",
      "  warnings.warn(\n",
      "/Users/johannakruger/neuefische/ml_project/.venv/lib/python3.9/site-packages/sklearn/base.py:443: UserWarning: X has feature names, but SelectFromModel was fitted without feature names\n",
      "  warnings.warn(\n"
     ]
    },
    {
     "name": "stdout",
     "output_type": "stream",
     "text": [
      "Thresh=0.030, n=17, Recall: 76.26%\n"
     ]
    },
    {
     "name": "stderr",
     "output_type": "stream",
     "text": [
      "/Users/johannakruger/neuefische/ml_project/.venv/lib/python3.9/site-packages/sklearn/base.py:443: UserWarning: X has feature names, but SelectFromModel was fitted without feature names\n",
      "  warnings.warn(\n",
      "/Users/johannakruger/neuefische/ml_project/.venv/lib/python3.9/site-packages/sklearn/base.py:443: UserWarning: X has feature names, but SelectFromModel was fitted without feature names\n",
      "  warnings.warn(\n"
     ]
    },
    {
     "name": "stdout",
     "output_type": "stream",
     "text": [
      "Thresh=0.030, n=16, Recall: 76.76%\n"
     ]
    },
    {
     "name": "stderr",
     "output_type": "stream",
     "text": [
      "/Users/johannakruger/neuefische/ml_project/.venv/lib/python3.9/site-packages/sklearn/base.py:443: UserWarning: X has feature names, but SelectFromModel was fitted without feature names\n",
      "  warnings.warn(\n",
      "/Users/johannakruger/neuefische/ml_project/.venv/lib/python3.9/site-packages/sklearn/base.py:443: UserWarning: X has feature names, but SelectFromModel was fitted without feature names\n",
      "  warnings.warn(\n"
     ]
    },
    {
     "name": "stdout",
     "output_type": "stream",
     "text": [
      "Thresh=0.030, n=15, Recall: 76.66%\n"
     ]
    },
    {
     "name": "stderr",
     "output_type": "stream",
     "text": [
      "/Users/johannakruger/neuefische/ml_project/.venv/lib/python3.9/site-packages/sklearn/base.py:443: UserWarning: X has feature names, but SelectFromModel was fitted without feature names\n",
      "  warnings.warn(\n",
      "/Users/johannakruger/neuefische/ml_project/.venv/lib/python3.9/site-packages/sklearn/base.py:443: UserWarning: X has feature names, but SelectFromModel was fitted without feature names\n",
      "  warnings.warn(\n"
     ]
    },
    {
     "name": "stdout",
     "output_type": "stream",
     "text": [
      "Thresh=0.031, n=14, Recall: 74.04%\n"
     ]
    },
    {
     "name": "stderr",
     "output_type": "stream",
     "text": [
      "/Users/johannakruger/neuefische/ml_project/.venv/lib/python3.9/site-packages/sklearn/base.py:443: UserWarning: X has feature names, but SelectFromModel was fitted without feature names\n",
      "  warnings.warn(\n",
      "/Users/johannakruger/neuefische/ml_project/.venv/lib/python3.9/site-packages/sklearn/base.py:443: UserWarning: X has feature names, but SelectFromModel was fitted without feature names\n",
      "  warnings.warn(\n"
     ]
    },
    {
     "name": "stdout",
     "output_type": "stream",
     "text": [
      "Thresh=0.032, n=13, Recall: 74.04%\n"
     ]
    },
    {
     "name": "stderr",
     "output_type": "stream",
     "text": [
      "/Users/johannakruger/neuefische/ml_project/.venv/lib/python3.9/site-packages/sklearn/base.py:443: UserWarning: X has feature names, but SelectFromModel was fitted without feature names\n",
      "  warnings.warn(\n",
      "/Users/johannakruger/neuefische/ml_project/.venv/lib/python3.9/site-packages/sklearn/base.py:443: UserWarning: X has feature names, but SelectFromModel was fitted without feature names\n",
      "  warnings.warn(\n"
     ]
    },
    {
     "name": "stdout",
     "output_type": "stream",
     "text": [
      "Thresh=0.032, n=12, Recall: 86.42%\n"
     ]
    },
    {
     "name": "stderr",
     "output_type": "stream",
     "text": [
      "/Users/johannakruger/neuefische/ml_project/.venv/lib/python3.9/site-packages/sklearn/base.py:443: UserWarning: X has feature names, but SelectFromModel was fitted without feature names\n",
      "  warnings.warn(\n",
      "/Users/johannakruger/neuefische/ml_project/.venv/lib/python3.9/site-packages/sklearn/base.py:443: UserWarning: X has feature names, but SelectFromModel was fitted without feature names\n",
      "  warnings.warn(\n"
     ]
    },
    {
     "name": "stdout",
     "output_type": "stream",
     "text": [
      "Thresh=0.035, n=11, Recall: 82.49%\n"
     ]
    },
    {
     "name": "stderr",
     "output_type": "stream",
     "text": [
      "/Users/johannakruger/neuefische/ml_project/.venv/lib/python3.9/site-packages/sklearn/base.py:443: UserWarning: X has feature names, but SelectFromModel was fitted without feature names\n",
      "  warnings.warn(\n",
      "/Users/johannakruger/neuefische/ml_project/.venv/lib/python3.9/site-packages/sklearn/base.py:443: UserWarning: X has feature names, but SelectFromModel was fitted without feature names\n",
      "  warnings.warn(\n"
     ]
    },
    {
     "name": "stdout",
     "output_type": "stream",
     "text": [
      "Thresh=0.037, n=10, Recall: 82.29%\n"
     ]
    },
    {
     "name": "stderr",
     "output_type": "stream",
     "text": [
      "/Users/johannakruger/neuefische/ml_project/.venv/lib/python3.9/site-packages/sklearn/base.py:443: UserWarning: X has feature names, but SelectFromModel was fitted without feature names\n",
      "  warnings.warn(\n",
      "/Users/johannakruger/neuefische/ml_project/.venv/lib/python3.9/site-packages/sklearn/base.py:443: UserWarning: X has feature names, but SelectFromModel was fitted without feature names\n",
      "  warnings.warn(\n"
     ]
    },
    {
     "name": "stdout",
     "output_type": "stream",
     "text": [
      "Thresh=0.038, n=9, Recall: 82.70%\n"
     ]
    },
    {
     "name": "stderr",
     "output_type": "stream",
     "text": [
      "/Users/johannakruger/neuefische/ml_project/.venv/lib/python3.9/site-packages/sklearn/base.py:443: UserWarning: X has feature names, but SelectFromModel was fitted without feature names\n",
      "  warnings.warn(\n",
      "/Users/johannakruger/neuefische/ml_project/.venv/lib/python3.9/site-packages/sklearn/base.py:443: UserWarning: X has feature names, but SelectFromModel was fitted without feature names\n",
      "  warnings.warn(\n"
     ]
    },
    {
     "name": "stdout",
     "output_type": "stream",
     "text": [
      "Thresh=0.038, n=8, Recall: 82.39%\n"
     ]
    },
    {
     "name": "stderr",
     "output_type": "stream",
     "text": [
      "/Users/johannakruger/neuefische/ml_project/.venv/lib/python3.9/site-packages/sklearn/base.py:443: UserWarning: X has feature names, but SelectFromModel was fitted without feature names\n",
      "  warnings.warn(\n",
      "/Users/johannakruger/neuefische/ml_project/.venv/lib/python3.9/site-packages/sklearn/base.py:443: UserWarning: X has feature names, but SelectFromModel was fitted without feature names\n",
      "  warnings.warn(\n"
     ]
    },
    {
     "name": "stdout",
     "output_type": "stream",
     "text": [
      "Thresh=0.040, n=7, Recall: 81.39%\n"
     ]
    },
    {
     "name": "stderr",
     "output_type": "stream",
     "text": [
      "/Users/johannakruger/neuefische/ml_project/.venv/lib/python3.9/site-packages/sklearn/base.py:443: UserWarning: X has feature names, but SelectFromModel was fitted without feature names\n",
      "  warnings.warn(\n",
      "/Users/johannakruger/neuefische/ml_project/.venv/lib/python3.9/site-packages/sklearn/base.py:443: UserWarning: X has feature names, but SelectFromModel was fitted without feature names\n",
      "  warnings.warn(\n"
     ]
    },
    {
     "name": "stdout",
     "output_type": "stream",
     "text": [
      "Thresh=0.049, n=6, Recall: 92.56%\n"
     ]
    },
    {
     "name": "stderr",
     "output_type": "stream",
     "text": [
      "/Users/johannakruger/neuefische/ml_project/.venv/lib/python3.9/site-packages/sklearn/base.py:443: UserWarning: X has feature names, but SelectFromModel was fitted without feature names\n",
      "  warnings.warn(\n",
      "/Users/johannakruger/neuefische/ml_project/.venv/lib/python3.9/site-packages/sklearn/base.py:443: UserWarning: X has feature names, but SelectFromModel was fitted without feature names\n",
      "  warnings.warn(\n"
     ]
    },
    {
     "name": "stdout",
     "output_type": "stream",
     "text": [
      "Thresh=0.065, n=5, Recall: 92.56%\n"
     ]
    },
    {
     "name": "stderr",
     "output_type": "stream",
     "text": [
      "/Users/johannakruger/neuefische/ml_project/.venv/lib/python3.9/site-packages/sklearn/base.py:443: UserWarning: X has feature names, but SelectFromModel was fitted without feature names\n",
      "  warnings.warn(\n",
      "/Users/johannakruger/neuefische/ml_project/.venv/lib/python3.9/site-packages/sklearn/base.py:443: UserWarning: X has feature names, but SelectFromModel was fitted without feature names\n",
      "  warnings.warn(\n",
      "/Users/johannakruger/neuefische/ml_project/.venv/lib/python3.9/site-packages/sklearn/base.py:443: UserWarning: X has feature names, but SelectFromModel was fitted without feature names\n",
      "  warnings.warn(\n",
      "/Users/johannakruger/neuefische/ml_project/.venv/lib/python3.9/site-packages/sklearn/base.py:443: UserWarning: X has feature names, but SelectFromModel was fitted without feature names\n",
      "  warnings.warn(\n"
     ]
    },
    {
     "name": "stdout",
     "output_type": "stream",
     "text": [
      "Thresh=0.069, n=4, Recall: 92.76%\n",
      "Thresh=0.071, n=3, Recall: 24.45%\n",
      "Thresh=0.138, n=2, Recall: 6.94%\n",
      "Thresh=0.152, n=1, Recall: 7.24%\n"
     ]
    },
    {
     "name": "stderr",
     "output_type": "stream",
     "text": [
      "/Users/johannakruger/neuefische/ml_project/.venv/lib/python3.9/site-packages/sklearn/base.py:443: UserWarning: X has feature names, but SelectFromModel was fitted without feature names\n",
      "  warnings.warn(\n",
      "/Users/johannakruger/neuefische/ml_project/.venv/lib/python3.9/site-packages/sklearn/base.py:443: UserWarning: X has feature names, but SelectFromModel was fitted without feature names\n",
      "  warnings.warn(\n",
      "/Users/johannakruger/neuefische/ml_project/.venv/lib/python3.9/site-packages/sklearn/base.py:443: UserWarning: X has feature names, but SelectFromModel was fitted without feature names\n",
      "  warnings.warn(\n"
     ]
    }
   ],
   "source": [
    "from sklearn.feature_selection import SelectFromModel\n",
    "from numpy import sort\n",
    "\n",
    "thresholds = sort(xgb.feature_importances_)\n",
    "for thresh in thresholds:\n",
    "    # select features using threshold\n",
    "    selection = SelectFromModel(xgb, threshold=thresh, prefit=True)\n",
    "    select_X_Train = selection.transform(processed_X_Train)\n",
    "    # train model\n",
    "    selection_model = XGBClassifier()\n",
    "    selection_model.fit(select_X_Train, y_Train)\n",
    "    # eval model\n",
    "    select_X_Val = selection.transform(X_Val)\n",
    "    y_pred_eval = selection_model.predict(select_X_Val)\n",
    "    predictions = [round(value) for value in y_pred_eval]\n",
    "    Recall = metrics.recall_score(y_Val, predictions)\n",
    "    print(\"Thresh=%.3f, n=%d, Recall: %.2f%%\" % (thresh, select_X_Train.shape[1], Recall*100.0))"
   ]
  },
  {
   "cell_type": "code",
   "execution_count": 123,
   "id": "6217197f-3c9c-47d8-a574-1a5198ee813f",
   "metadata": {},
   "outputs": [
    {
     "name": "stderr",
     "output_type": "stream",
     "text": [
      "/Users/johannakruger/neuefische/ml_project/.venv/lib/python3.9/site-packages/sklearn/base.py:443: UserWarning: X has feature names, but SelectFromModel was fitted without feature names\n",
      "  warnings.warn(\n"
     ]
    }
   ],
   "source": [
    "selection = SelectFromModel(xgb, threshold=0.021, prefit=True)\n",
    "select_X_Train = selection.transform(processed_X_Train)"
   ]
  },
  {
   "cell_type": "code",
   "execution_count": 124,
   "id": "3a081dc0-c795-44f2-a6ae-8f61a76e9582",
   "metadata": {},
   "outputs": [
    {
     "data": {
      "text/plain": [
       "XGBClassifier(base_score=None, booster=None, callbacks=None,\n",
       "              colsample_bylevel=None, colsample_bynode=None,\n",
       "              colsample_bytree=None, early_stopping_rounds=None,\n",
       "              enable_categorical=False, eval_metric=None, feature_types=None,\n",
       "              gamma=None, gpu_id=None, grow_policy=None, importance_type=None,\n",
       "              interaction_constraints=None, learning_rate=None, max_bin=None,\n",
       "              max_cat_threshold=None, max_cat_to_onehot=None,\n",
       "              max_delta_step=None, max_depth=None, max_leaves=None,\n",
       "              min_child_weight=None, missing=nan, monotone_constraints=None,\n",
       "              n_estimators=100, n_jobs=None, num_parallel_tree=None,\n",
       "              predictor=None, random_state=None, ...)"
      ]
     },
     "execution_count": 124,
     "metadata": {},
     "output_type": "execute_result"
    }
   ],
   "source": [
    "selection_xgb = XGBClassifier()\n",
    "selection_xgb.fit(select_X_Train, y_Train)"
   ]
  },
  {
   "cell_type": "code",
   "execution_count": 125,
   "id": "0361b559-e33f-4a18-be5b-2c4982ce0a19",
   "metadata": {},
   "outputs": [
    {
     "name": "stderr",
     "output_type": "stream",
     "text": [
      "/Users/johannakruger/neuefische/ml_project/.venv/lib/python3.9/site-packages/sklearn/base.py:443: UserWarning: X has feature names, but SelectFromModel was fitted without feature names\n",
      "  warnings.warn(\n"
     ]
    }
   ],
   "source": [
    "select_X_Val = selection.transform(X_Val)"
   ]
  },
  {
   "cell_type": "markdown",
   "id": "4d8e6d7c-90c5-4c5a-9725-2204588d2c71",
   "metadata": {},
   "source": [
    "# Error Analysis"
   ]
  },
  {
   "cell_type": "code",
   "execution_count": 126,
   "id": "e492e5a9-739a-4ba9-9e75-ab5123246d08",
   "metadata": {},
   "outputs": [],
   "source": [
    "index = X_Val.index"
   ]
  },
  {
   "cell_type": "code",
   "execution_count": 127,
   "id": "54850f11-390e-4566-8982-66812fcf7322",
   "metadata": {
    "tags": []
   },
   "outputs": [],
   "source": [
    "yhats = pd.Series(y_pred_Val_xgb, name =\"Y_hats\", index=index)"
   ]
  },
  {
   "cell_type": "code",
   "execution_count": 128,
   "id": "1ea46b8f-f03d-4481-b826-0855420c0f9a",
   "metadata": {},
   "outputs": [],
   "source": [
    "X_Val_err_an = pd.concat([X_Val, yhats, y_Val], axis=1)"
   ]
  },
  {
   "cell_type": "code",
   "execution_count": 129,
   "id": "4d39a3a9-f07c-4241-9bd4-1e0e4072128c",
   "metadata": {},
   "outputs": [],
   "source": [
    "def error_analysis(row):\n",
    "    if row['bank_account'] == 0 and row['Y_hats'] == 0:\n",
    "        return \"TN\"\n",
    "    if row['bank_account'] == 1 and row['Y_hats'] == 1:\n",
    "        return \"TP\"\n",
    "    if row['bank_account'] == 0 and row['Y_hats'] == 1:\n",
    "        return \"FP\"\n",
    "    if row['bank_account'] == 1 and row['Y_hats'] == 0:\n",
    "        return \"FN\""
   ]
  },
  {
   "cell_type": "code",
   "execution_count": 130,
   "id": "326b9696-1b73-45bf-b58a-467d41604555",
   "metadata": {},
   "outputs": [],
   "source": [
    "X_Val_err_an['error_analysis'] = X_Val_err_an.apply(lambda row: error_analysis(row), axis=1)"
   ]
  },
  {
   "cell_type": "code",
   "execution_count": 131,
   "id": "f204764c-3717-4f4d-b717-11a921839946",
   "metadata": {},
   "outputs": [
    {
     "data": {
      "text/html": [
       "<div>\n",
       "<style scoped>\n",
       "    .dataframe tbody tr th:only-of-type {\n",
       "        vertical-align: middle;\n",
       "    }\n",
       "\n",
       "    .dataframe tbody tr th {\n",
       "        vertical-align: top;\n",
       "    }\n",
       "\n",
       "    .dataframe thead th {\n",
       "        text-align: right;\n",
       "    }\n",
       "</style>\n",
       "<table border=\"1\" class=\"dataframe\">\n",
       "  <thead>\n",
       "    <tr style=\"text-align: right;\">\n",
       "      <th></th>\n",
       "      <th>household</th>\n",
       "      <th>status_household</th>\n",
       "      <th>marital_status</th>\n",
       "      <th>country_Rwanda</th>\n",
       "      <th>country_Tanzania</th>\n",
       "      <th>country_Uganda</th>\n",
       "      <th>location_Urban</th>\n",
       "      <th>cellphone_Yes</th>\n",
       "      <th>gender_Male</th>\n",
       "      <th>job_Farming and Fishing</th>\n",
       "      <th>...</th>\n",
       "      <th>job_Formally employed Private</th>\n",
       "      <th>job_Government Dependent</th>\n",
       "      <th>job_Informally employed</th>\n",
       "      <th>job_No Income</th>\n",
       "      <th>job_Other Income</th>\n",
       "      <th>job_Remittance Dependent</th>\n",
       "      <th>job_Self employed</th>\n",
       "      <th>edu_cat</th>\n",
       "      <th>Y_hats</th>\n",
       "      <th>bank_account</th>\n",
       "    </tr>\n",
       "  </thead>\n",
       "  <tbody>\n",
       "    <tr>\n",
       "      <th>count</th>\n",
       "      <td>738.000000</td>\n",
       "      <td>738.000000</td>\n",
       "      <td>738.000000</td>\n",
       "      <td>738.000000</td>\n",
       "      <td>738.000000</td>\n",
       "      <td>738.000000</td>\n",
       "      <td>738.000000</td>\n",
       "      <td>738.00000</td>\n",
       "      <td>738.000000</td>\n",
       "      <td>738.000000</td>\n",
       "      <td>...</td>\n",
       "      <td>738.000000</td>\n",
       "      <td>738.000000</td>\n",
       "      <td>738.000000</td>\n",
       "      <td>738.0</td>\n",
       "      <td>738.000000</td>\n",
       "      <td>738.000000</td>\n",
       "      <td>738.000000</td>\n",
       "      <td>738.000000</td>\n",
       "      <td>738.0</td>\n",
       "      <td>738.0</td>\n",
       "    </tr>\n",
       "    <tr>\n",
       "      <th>mean</th>\n",
       "      <td>3.434959</td>\n",
       "      <td>1.651762</td>\n",
       "      <td>0.623306</td>\n",
       "      <td>0.280488</td>\n",
       "      <td>0.189702</td>\n",
       "      <td>0.043360</td>\n",
       "      <td>0.524390</td>\n",
       "      <td>0.98916</td>\n",
       "      <td>0.565041</td>\n",
       "      <td>0.182927</td>\n",
       "      <td>...</td>\n",
       "      <td>0.226287</td>\n",
       "      <td>0.017615</td>\n",
       "      <td>0.098916</td>\n",
       "      <td>0.0</td>\n",
       "      <td>0.058266</td>\n",
       "      <td>0.062331</td>\n",
       "      <td>0.257453</td>\n",
       "      <td>3.245257</td>\n",
       "      <td>1.0</td>\n",
       "      <td>1.0</td>\n",
       "    </tr>\n",
       "    <tr>\n",
       "      <th>std</th>\n",
       "      <td>2.152080</td>\n",
       "      <td>0.604711</td>\n",
       "      <td>0.484886</td>\n",
       "      <td>0.449542</td>\n",
       "      <td>0.392331</td>\n",
       "      <td>0.203805</td>\n",
       "      <td>0.499743</td>\n",
       "      <td>0.10362</td>\n",
       "      <td>0.496088</td>\n",
       "      <td>0.386869</td>\n",
       "      <td>...</td>\n",
       "      <td>0.418711</td>\n",
       "      <td>0.131637</td>\n",
       "      <td>0.298752</td>\n",
       "      <td>0.0</td>\n",
       "      <td>0.234404</td>\n",
       "      <td>0.241919</td>\n",
       "      <td>0.437527</td>\n",
       "      <td>1.208635</td>\n",
       "      <td>0.0</td>\n",
       "      <td>0.0</td>\n",
       "    </tr>\n",
       "    <tr>\n",
       "      <th>min</th>\n",
       "      <td>1.000000</td>\n",
       "      <td>0.000000</td>\n",
       "      <td>0.000000</td>\n",
       "      <td>0.000000</td>\n",
       "      <td>0.000000</td>\n",
       "      <td>0.000000</td>\n",
       "      <td>0.000000</td>\n",
       "      <td>0.00000</td>\n",
       "      <td>0.000000</td>\n",
       "      <td>0.000000</td>\n",
       "      <td>...</td>\n",
       "      <td>0.000000</td>\n",
       "      <td>0.000000</td>\n",
       "      <td>0.000000</td>\n",
       "      <td>0.0</td>\n",
       "      <td>0.000000</td>\n",
       "      <td>0.000000</td>\n",
       "      <td>0.000000</td>\n",
       "      <td>0.000000</td>\n",
       "      <td>1.0</td>\n",
       "      <td>1.0</td>\n",
       "    </tr>\n",
       "    <tr>\n",
       "      <th>25%</th>\n",
       "      <td>2.000000</td>\n",
       "      <td>1.000000</td>\n",
       "      <td>0.000000</td>\n",
       "      <td>0.000000</td>\n",
       "      <td>0.000000</td>\n",
       "      <td>0.000000</td>\n",
       "      <td>0.000000</td>\n",
       "      <td>1.00000</td>\n",
       "      <td>0.000000</td>\n",
       "      <td>0.000000</td>\n",
       "      <td>...</td>\n",
       "      <td>0.000000</td>\n",
       "      <td>0.000000</td>\n",
       "      <td>0.000000</td>\n",
       "      <td>0.0</td>\n",
       "      <td>0.000000</td>\n",
       "      <td>0.000000</td>\n",
       "      <td>0.000000</td>\n",
       "      <td>2.000000</td>\n",
       "      <td>1.0</td>\n",
       "      <td>1.0</td>\n",
       "    </tr>\n",
       "    <tr>\n",
       "      <th>50%</th>\n",
       "      <td>3.000000</td>\n",
       "      <td>2.000000</td>\n",
       "      <td>1.000000</td>\n",
       "      <td>0.000000</td>\n",
       "      <td>0.000000</td>\n",
       "      <td>0.000000</td>\n",
       "      <td>1.000000</td>\n",
       "      <td>1.00000</td>\n",
       "      <td>1.000000</td>\n",
       "      <td>0.000000</td>\n",
       "      <td>...</td>\n",
       "      <td>0.000000</td>\n",
       "      <td>0.000000</td>\n",
       "      <td>0.000000</td>\n",
       "      <td>0.0</td>\n",
       "      <td>0.000000</td>\n",
       "      <td>0.000000</td>\n",
       "      <td>0.000000</td>\n",
       "      <td>3.000000</td>\n",
       "      <td>1.0</td>\n",
       "      <td>1.0</td>\n",
       "    </tr>\n",
       "    <tr>\n",
       "      <th>75%</th>\n",
       "      <td>5.000000</td>\n",
       "      <td>2.000000</td>\n",
       "      <td>1.000000</td>\n",
       "      <td>1.000000</td>\n",
       "      <td>0.000000</td>\n",
       "      <td>0.000000</td>\n",
       "      <td>1.000000</td>\n",
       "      <td>1.00000</td>\n",
       "      <td>1.000000</td>\n",
       "      <td>0.000000</td>\n",
       "      <td>...</td>\n",
       "      <td>0.000000</td>\n",
       "      <td>0.000000</td>\n",
       "      <td>0.000000</td>\n",
       "      <td>0.0</td>\n",
       "      <td>0.000000</td>\n",
       "      <td>0.000000</td>\n",
       "      <td>1.000000</td>\n",
       "      <td>4.000000</td>\n",
       "      <td>1.0</td>\n",
       "      <td>1.0</td>\n",
       "    </tr>\n",
       "    <tr>\n",
       "      <th>max</th>\n",
       "      <td>17.000000</td>\n",
       "      <td>2.000000</td>\n",
       "      <td>1.000000</td>\n",
       "      <td>1.000000</td>\n",
       "      <td>1.000000</td>\n",
       "      <td>1.000000</td>\n",
       "      <td>1.000000</td>\n",
       "      <td>1.00000</td>\n",
       "      <td>1.000000</td>\n",
       "      <td>1.000000</td>\n",
       "      <td>...</td>\n",
       "      <td>1.000000</td>\n",
       "      <td>1.000000</td>\n",
       "      <td>1.000000</td>\n",
       "      <td>0.0</td>\n",
       "      <td>1.000000</td>\n",
       "      <td>1.000000</td>\n",
       "      <td>1.000000</td>\n",
       "      <td>5.000000</td>\n",
       "      <td>1.0</td>\n",
       "      <td>1.0</td>\n",
       "    </tr>\n",
       "  </tbody>\n",
       "</table>\n",
       "<p>8 rows × 21 columns</p>\n",
       "</div>"
      ],
      "text/plain": [
       "        household  status_household  marital_status  country_Rwanda  \\\n",
       "count  738.000000        738.000000      738.000000      738.000000   \n",
       "mean     3.434959          1.651762        0.623306        0.280488   \n",
       "std      2.152080          0.604711        0.484886        0.449542   \n",
       "min      1.000000          0.000000        0.000000        0.000000   \n",
       "25%      2.000000          1.000000        0.000000        0.000000   \n",
       "50%      3.000000          2.000000        1.000000        0.000000   \n",
       "75%      5.000000          2.000000        1.000000        1.000000   \n",
       "max     17.000000          2.000000        1.000000        1.000000   \n",
       "\n",
       "       country_Tanzania  country_Uganda  location_Urban  cellphone_Yes  \\\n",
       "count        738.000000      738.000000      738.000000      738.00000   \n",
       "mean           0.189702        0.043360        0.524390        0.98916   \n",
       "std            0.392331        0.203805        0.499743        0.10362   \n",
       "min            0.000000        0.000000        0.000000        0.00000   \n",
       "25%            0.000000        0.000000        0.000000        1.00000   \n",
       "50%            0.000000        0.000000        1.000000        1.00000   \n",
       "75%            0.000000        0.000000        1.000000        1.00000   \n",
       "max            1.000000        1.000000        1.000000        1.00000   \n",
       "\n",
       "       gender_Male  job_Farming and Fishing  ...  \\\n",
       "count   738.000000               738.000000  ...   \n",
       "mean      0.565041                 0.182927  ...   \n",
       "std       0.496088                 0.386869  ...   \n",
       "min       0.000000                 0.000000  ...   \n",
       "25%       0.000000                 0.000000  ...   \n",
       "50%       1.000000                 0.000000  ...   \n",
       "75%       1.000000                 0.000000  ...   \n",
       "max       1.000000                 1.000000  ...   \n",
       "\n",
       "       job_Formally employed Private  job_Government Dependent  \\\n",
       "count                     738.000000                738.000000   \n",
       "mean                        0.226287                  0.017615   \n",
       "std                         0.418711                  0.131637   \n",
       "min                         0.000000                  0.000000   \n",
       "25%                         0.000000                  0.000000   \n",
       "50%                         0.000000                  0.000000   \n",
       "75%                         0.000000                  0.000000   \n",
       "max                         1.000000                  1.000000   \n",
       "\n",
       "       job_Informally employed  job_No Income  job_Other Income  \\\n",
       "count               738.000000          738.0        738.000000   \n",
       "mean                  0.098916            0.0          0.058266   \n",
       "std                   0.298752            0.0          0.234404   \n",
       "min                   0.000000            0.0          0.000000   \n",
       "25%                   0.000000            0.0          0.000000   \n",
       "50%                   0.000000            0.0          0.000000   \n",
       "75%                   0.000000            0.0          0.000000   \n",
       "max                   1.000000            0.0          1.000000   \n",
       "\n",
       "       job_Remittance Dependent  job_Self employed     edu_cat  Y_hats  \\\n",
       "count                738.000000         738.000000  738.000000   738.0   \n",
       "mean                   0.062331           0.257453    3.245257     1.0   \n",
       "std                    0.241919           0.437527    1.208635     0.0   \n",
       "min                    0.000000           0.000000    0.000000     1.0   \n",
       "25%                    0.000000           0.000000    2.000000     1.0   \n",
       "50%                    0.000000           0.000000    3.000000     1.0   \n",
       "75%                    0.000000           1.000000    4.000000     1.0   \n",
       "max                    1.000000           1.000000    5.000000     1.0   \n",
       "\n",
       "       bank_account  \n",
       "count         738.0  \n",
       "mean            1.0  \n",
       "std             0.0  \n",
       "min             1.0  \n",
       "25%             1.0  \n",
       "50%             1.0  \n",
       "75%             1.0  \n",
       "max             1.0  \n",
       "\n",
       "[8 rows x 21 columns]"
      ]
     },
     "execution_count": 131,
     "metadata": {},
     "output_type": "execute_result"
    }
   ],
   "source": [
    "TP = X_Val_err_an.loc[(X_Val_err_an.error_analysis == \"TP\")]\n",
    "TP.describe()"
   ]
  },
  {
   "cell_type": "code",
   "execution_count": 132,
   "id": "338be87f-16a8-4388-8c81-f78c2d69d2ab",
   "metadata": {
    "tags": []
   },
   "outputs": [
    {
     "data": {
      "text/html": [
       "<div>\n",
       "<style scoped>\n",
       "    .dataframe tbody tr th:only-of-type {\n",
       "        vertical-align: middle;\n",
       "    }\n",
       "\n",
       "    .dataframe tbody tr th {\n",
       "        vertical-align: top;\n",
       "    }\n",
       "\n",
       "    .dataframe thead th {\n",
       "        text-align: right;\n",
       "    }\n",
       "</style>\n",
       "<table border=\"1\" class=\"dataframe\">\n",
       "  <thead>\n",
       "    <tr style=\"text-align: right;\">\n",
       "      <th></th>\n",
       "      <th>household</th>\n",
       "      <th>status_household</th>\n",
       "      <th>marital_status</th>\n",
       "      <th>country_Rwanda</th>\n",
       "      <th>country_Tanzania</th>\n",
       "      <th>country_Uganda</th>\n",
       "      <th>location_Urban</th>\n",
       "      <th>cellphone_Yes</th>\n",
       "      <th>gender_Male</th>\n",
       "      <th>job_Farming and Fishing</th>\n",
       "      <th>...</th>\n",
       "      <th>job_Formally employed Private</th>\n",
       "      <th>job_Government Dependent</th>\n",
       "      <th>job_Informally employed</th>\n",
       "      <th>job_No Income</th>\n",
       "      <th>job_Other Income</th>\n",
       "      <th>job_Remittance Dependent</th>\n",
       "      <th>job_Self employed</th>\n",
       "      <th>edu_cat</th>\n",
       "      <th>Y_hats</th>\n",
       "      <th>bank_account</th>\n",
       "    </tr>\n",
       "  </thead>\n",
       "  <tbody>\n",
       "    <tr>\n",
       "      <th>count</th>\n",
       "      <td>256.000000</td>\n",
       "      <td>256.000000</td>\n",
       "      <td>256.000000</td>\n",
       "      <td>256.000000</td>\n",
       "      <td>256.000000</td>\n",
       "      <td>256.000000</td>\n",
       "      <td>256.000000</td>\n",
       "      <td>256.000000</td>\n",
       "      <td>256.000000</td>\n",
       "      <td>256.000000</td>\n",
       "      <td>...</td>\n",
       "      <td>256.000000</td>\n",
       "      <td>256.000000</td>\n",
       "      <td>256.000000</td>\n",
       "      <td>256.000000</td>\n",
       "      <td>256.000000</td>\n",
       "      <td>256.000000</td>\n",
       "      <td>256.000000</td>\n",
       "      <td>256.000000</td>\n",
       "      <td>256.0</td>\n",
       "      <td>256.0</td>\n",
       "    </tr>\n",
       "    <tr>\n",
       "      <th>mean</th>\n",
       "      <td>3.843750</td>\n",
       "      <td>1.476562</td>\n",
       "      <td>0.605469</td>\n",
       "      <td>0.425781</td>\n",
       "      <td>0.210938</td>\n",
       "      <td>0.066406</td>\n",
       "      <td>0.328125</td>\n",
       "      <td>0.914062</td>\n",
       "      <td>0.414062</td>\n",
       "      <td>0.285156</td>\n",
       "      <td>...</td>\n",
       "      <td>0.027344</td>\n",
       "      <td>0.023438</td>\n",
       "      <td>0.257812</td>\n",
       "      <td>0.011719</td>\n",
       "      <td>0.054688</td>\n",
       "      <td>0.105469</td>\n",
       "      <td>0.226562</td>\n",
       "      <td>2.023438</td>\n",
       "      <td>0.0</td>\n",
       "      <td>1.0</td>\n",
       "    </tr>\n",
       "    <tr>\n",
       "      <th>std</th>\n",
       "      <td>2.269793</td>\n",
       "      <td>0.702543</td>\n",
       "      <td>0.489707</td>\n",
       "      <td>0.495429</td>\n",
       "      <td>0.408773</td>\n",
       "      <td>0.249479</td>\n",
       "      <td>0.470450</td>\n",
       "      <td>0.280821</td>\n",
       "      <td>0.493524</td>\n",
       "      <td>0.452373</td>\n",
       "      <td>...</td>\n",
       "      <td>0.163402</td>\n",
       "      <td>0.151585</td>\n",
       "      <td>0.438287</td>\n",
       "      <td>0.107828</td>\n",
       "      <td>0.227815</td>\n",
       "      <td>0.307758</td>\n",
       "      <td>0.419427</td>\n",
       "      <td>1.119978</td>\n",
       "      <td>0.0</td>\n",
       "      <td>0.0</td>\n",
       "    </tr>\n",
       "    <tr>\n",
       "      <th>min</th>\n",
       "      <td>1.000000</td>\n",
       "      <td>0.000000</td>\n",
       "      <td>0.000000</td>\n",
       "      <td>0.000000</td>\n",
       "      <td>0.000000</td>\n",
       "      <td>0.000000</td>\n",
       "      <td>0.000000</td>\n",
       "      <td>0.000000</td>\n",
       "      <td>0.000000</td>\n",
       "      <td>0.000000</td>\n",
       "      <td>...</td>\n",
       "      <td>0.000000</td>\n",
       "      <td>0.000000</td>\n",
       "      <td>0.000000</td>\n",
       "      <td>0.000000</td>\n",
       "      <td>0.000000</td>\n",
       "      <td>0.000000</td>\n",
       "      <td>0.000000</td>\n",
       "      <td>0.000000</td>\n",
       "      <td>0.0</td>\n",
       "      <td>1.0</td>\n",
       "    </tr>\n",
       "    <tr>\n",
       "      <th>25%</th>\n",
       "      <td>2.000000</td>\n",
       "      <td>1.000000</td>\n",
       "      <td>0.000000</td>\n",
       "      <td>0.000000</td>\n",
       "      <td>0.000000</td>\n",
       "      <td>0.000000</td>\n",
       "      <td>0.000000</td>\n",
       "      <td>1.000000</td>\n",
       "      <td>0.000000</td>\n",
       "      <td>0.000000</td>\n",
       "      <td>...</td>\n",
       "      <td>0.000000</td>\n",
       "      <td>0.000000</td>\n",
       "      <td>0.000000</td>\n",
       "      <td>0.000000</td>\n",
       "      <td>0.000000</td>\n",
       "      <td>0.000000</td>\n",
       "      <td>0.000000</td>\n",
       "      <td>2.000000</td>\n",
       "      <td>0.0</td>\n",
       "      <td>1.0</td>\n",
       "    </tr>\n",
       "    <tr>\n",
       "      <th>50%</th>\n",
       "      <td>3.500000</td>\n",
       "      <td>2.000000</td>\n",
       "      <td>1.000000</td>\n",
       "      <td>0.000000</td>\n",
       "      <td>0.000000</td>\n",
       "      <td>0.000000</td>\n",
       "      <td>0.000000</td>\n",
       "      <td>1.000000</td>\n",
       "      <td>0.000000</td>\n",
       "      <td>0.000000</td>\n",
       "      <td>...</td>\n",
       "      <td>0.000000</td>\n",
       "      <td>0.000000</td>\n",
       "      <td>0.000000</td>\n",
       "      <td>0.000000</td>\n",
       "      <td>0.000000</td>\n",
       "      <td>0.000000</td>\n",
       "      <td>0.000000</td>\n",
       "      <td>2.000000</td>\n",
       "      <td>0.0</td>\n",
       "      <td>1.0</td>\n",
       "    </tr>\n",
       "    <tr>\n",
       "      <th>75%</th>\n",
       "      <td>5.000000</td>\n",
       "      <td>2.000000</td>\n",
       "      <td>1.000000</td>\n",
       "      <td>1.000000</td>\n",
       "      <td>0.000000</td>\n",
       "      <td>0.000000</td>\n",
       "      <td>1.000000</td>\n",
       "      <td>1.000000</td>\n",
       "      <td>1.000000</td>\n",
       "      <td>1.000000</td>\n",
       "      <td>...</td>\n",
       "      <td>0.000000</td>\n",
       "      <td>0.000000</td>\n",
       "      <td>1.000000</td>\n",
       "      <td>0.000000</td>\n",
       "      <td>0.000000</td>\n",
       "      <td>0.000000</td>\n",
       "      <td>0.000000</td>\n",
       "      <td>2.250000</td>\n",
       "      <td>0.0</td>\n",
       "      <td>1.0</td>\n",
       "    </tr>\n",
       "    <tr>\n",
       "      <th>max</th>\n",
       "      <td>13.000000</td>\n",
       "      <td>2.000000</td>\n",
       "      <td>1.000000</td>\n",
       "      <td>1.000000</td>\n",
       "      <td>1.000000</td>\n",
       "      <td>1.000000</td>\n",
       "      <td>1.000000</td>\n",
       "      <td>1.000000</td>\n",
       "      <td>1.000000</td>\n",
       "      <td>1.000000</td>\n",
       "      <td>...</td>\n",
       "      <td>1.000000</td>\n",
       "      <td>1.000000</td>\n",
       "      <td>1.000000</td>\n",
       "      <td>1.000000</td>\n",
       "      <td>1.000000</td>\n",
       "      <td>1.000000</td>\n",
       "      <td>1.000000</td>\n",
       "      <td>5.000000</td>\n",
       "      <td>0.0</td>\n",
       "      <td>1.0</td>\n",
       "    </tr>\n",
       "  </tbody>\n",
       "</table>\n",
       "<p>8 rows × 21 columns</p>\n",
       "</div>"
      ],
      "text/plain": [
       "        household  status_household  marital_status  country_Rwanda  \\\n",
       "count  256.000000        256.000000      256.000000      256.000000   \n",
       "mean     3.843750          1.476562        0.605469        0.425781   \n",
       "std      2.269793          0.702543        0.489707        0.495429   \n",
       "min      1.000000          0.000000        0.000000        0.000000   \n",
       "25%      2.000000          1.000000        0.000000        0.000000   \n",
       "50%      3.500000          2.000000        1.000000        0.000000   \n",
       "75%      5.000000          2.000000        1.000000        1.000000   \n",
       "max     13.000000          2.000000        1.000000        1.000000   \n",
       "\n",
       "       country_Tanzania  country_Uganda  location_Urban  cellphone_Yes  \\\n",
       "count        256.000000      256.000000      256.000000     256.000000   \n",
       "mean           0.210938        0.066406        0.328125       0.914062   \n",
       "std            0.408773        0.249479        0.470450       0.280821   \n",
       "min            0.000000        0.000000        0.000000       0.000000   \n",
       "25%            0.000000        0.000000        0.000000       1.000000   \n",
       "50%            0.000000        0.000000        0.000000       1.000000   \n",
       "75%            0.000000        0.000000        1.000000       1.000000   \n",
       "max            1.000000        1.000000        1.000000       1.000000   \n",
       "\n",
       "       gender_Male  job_Farming and Fishing  ...  \\\n",
       "count   256.000000               256.000000  ...   \n",
       "mean      0.414062                 0.285156  ...   \n",
       "std       0.493524                 0.452373  ...   \n",
       "min       0.000000                 0.000000  ...   \n",
       "25%       0.000000                 0.000000  ...   \n",
       "50%       0.000000                 0.000000  ...   \n",
       "75%       1.000000                 1.000000  ...   \n",
       "max       1.000000                 1.000000  ...   \n",
       "\n",
       "       job_Formally employed Private  job_Government Dependent  \\\n",
       "count                     256.000000                256.000000   \n",
       "mean                        0.027344                  0.023438   \n",
       "std                         0.163402                  0.151585   \n",
       "min                         0.000000                  0.000000   \n",
       "25%                         0.000000                  0.000000   \n",
       "50%                         0.000000                  0.000000   \n",
       "75%                         0.000000                  0.000000   \n",
       "max                         1.000000                  1.000000   \n",
       "\n",
       "       job_Informally employed  job_No Income  job_Other Income  \\\n",
       "count               256.000000     256.000000        256.000000   \n",
       "mean                  0.257812       0.011719          0.054688   \n",
       "std                   0.438287       0.107828          0.227815   \n",
       "min                   0.000000       0.000000          0.000000   \n",
       "25%                   0.000000       0.000000          0.000000   \n",
       "50%                   0.000000       0.000000          0.000000   \n",
       "75%                   1.000000       0.000000          0.000000   \n",
       "max                   1.000000       1.000000          1.000000   \n",
       "\n",
       "       job_Remittance Dependent  job_Self employed     edu_cat  Y_hats  \\\n",
       "count                256.000000         256.000000  256.000000   256.0   \n",
       "mean                   0.105469           0.226562    2.023438     0.0   \n",
       "std                    0.307758           0.419427    1.119978     0.0   \n",
       "min                    0.000000           0.000000    0.000000     0.0   \n",
       "25%                    0.000000           0.000000    2.000000     0.0   \n",
       "50%                    0.000000           0.000000    2.000000     0.0   \n",
       "75%                    0.000000           0.000000    2.250000     0.0   \n",
       "max                    1.000000           1.000000    5.000000     0.0   \n",
       "\n",
       "       bank_account  \n",
       "count         256.0  \n",
       "mean            1.0  \n",
       "std             0.0  \n",
       "min             1.0  \n",
       "25%             1.0  \n",
       "50%             1.0  \n",
       "75%             1.0  \n",
       "max             1.0  \n",
       "\n",
       "[8 rows x 21 columns]"
      ]
     },
     "execution_count": 132,
     "metadata": {},
     "output_type": "execute_result"
    }
   ],
   "source": [
    "FN = X_Val_err_an.loc[(X_Val_err_an.error_analysis == \"FN\")]\n",
    "FN.describe()"
   ]
  },
  {
   "cell_type": "code",
   "execution_count": 135,
   "id": "9cdf37ac-9da3-4597-8c0c-f0459eb8f4a0",
   "metadata": {
    "tags": []
   },
   "outputs": [
    {
     "data": {
      "text/html": [
       "<div>\n",
       "<style scoped>\n",
       "    .dataframe tbody tr th:only-of-type {\n",
       "        vertical-align: middle;\n",
       "    }\n",
       "\n",
       "    .dataframe tbody tr th {\n",
       "        vertical-align: top;\n",
       "    }\n",
       "\n",
       "    .dataframe thead th {\n",
       "        text-align: right;\n",
       "    }\n",
       "</style>\n",
       "<table border=\"1\" class=\"dataframe\">\n",
       "  <thead>\n",
       "    <tr style=\"text-align: right;\">\n",
       "      <th></th>\n",
       "      <th>household</th>\n",
       "      <th>status_household</th>\n",
       "      <th>marital_status</th>\n",
       "      <th>country_Rwanda</th>\n",
       "      <th>country_Tanzania</th>\n",
       "      <th>country_Uganda</th>\n",
       "      <th>location_Urban</th>\n",
       "      <th>cellphone_Yes</th>\n",
       "      <th>gender_Male</th>\n",
       "      <th>job_Farming and Fishing</th>\n",
       "      <th>...</th>\n",
       "      <th>job_Formally employed Private</th>\n",
       "      <th>job_Government Dependent</th>\n",
       "      <th>job_Informally employed</th>\n",
       "      <th>job_No Income</th>\n",
       "      <th>job_Other Income</th>\n",
       "      <th>job_Remittance Dependent</th>\n",
       "      <th>job_Self employed</th>\n",
       "      <th>edu_cat</th>\n",
       "      <th>Y_hats</th>\n",
       "      <th>bank_account</th>\n",
       "    </tr>\n",
       "  </thead>\n",
       "  <tbody>\n",
       "    <tr>\n",
       "      <th>count</th>\n",
       "      <td>1538.000000</td>\n",
       "      <td>1538.000000</td>\n",
       "      <td>1538.000000</td>\n",
       "      <td>1538.000000</td>\n",
       "      <td>1538.000000</td>\n",
       "      <td>1538.000000</td>\n",
       "      <td>1538.000000</td>\n",
       "      <td>1538.000000</td>\n",
       "      <td>1538.000000</td>\n",
       "      <td>1538.000000</td>\n",
       "      <td>...</td>\n",
       "      <td>1538.000000</td>\n",
       "      <td>1538.000000</td>\n",
       "      <td>1538.000000</td>\n",
       "      <td>1538.000000</td>\n",
       "      <td>1538.000000</td>\n",
       "      <td>1538.000000</td>\n",
       "      <td>1538.000000</td>\n",
       "      <td>1538.000000</td>\n",
       "      <td>1538.0</td>\n",
       "      <td>1538.0</td>\n",
       "    </tr>\n",
       "    <tr>\n",
       "      <th>mean</th>\n",
       "      <td>4.014304</td>\n",
       "      <td>1.545514</td>\n",
       "      <td>0.700910</td>\n",
       "      <td>0.403121</td>\n",
       "      <td>0.133290</td>\n",
       "      <td>0.045514</td>\n",
       "      <td>0.328349</td>\n",
       "      <td>0.961638</td>\n",
       "      <td>0.517555</td>\n",
       "      <td>0.335501</td>\n",
       "      <td>...</td>\n",
       "      <td>0.069571</td>\n",
       "      <td>0.009753</td>\n",
       "      <td>0.198960</td>\n",
       "      <td>0.001951</td>\n",
       "      <td>0.039012</td>\n",
       "      <td>0.100130</td>\n",
       "      <td>0.223017</td>\n",
       "      <td>2.418726</td>\n",
       "      <td>1.0</td>\n",
       "      <td>0.0</td>\n",
       "    </tr>\n",
       "    <tr>\n",
       "      <th>std</th>\n",
       "      <td>2.212475</td>\n",
       "      <td>0.663832</td>\n",
       "      <td>0.458008</td>\n",
       "      <td>0.490684</td>\n",
       "      <td>0.339998</td>\n",
       "      <td>0.208496</td>\n",
       "      <td>0.469765</td>\n",
       "      <td>0.192130</td>\n",
       "      <td>0.499854</td>\n",
       "      <td>0.472319</td>\n",
       "      <td>...</td>\n",
       "      <td>0.254505</td>\n",
       "      <td>0.098306</td>\n",
       "      <td>0.399347</td>\n",
       "      <td>0.044137</td>\n",
       "      <td>0.193686</td>\n",
       "      <td>0.300271</td>\n",
       "      <td>0.416405</td>\n",
       "      <td>1.094833</td>\n",
       "      <td>0.0</td>\n",
       "      <td>0.0</td>\n",
       "    </tr>\n",
       "    <tr>\n",
       "      <th>min</th>\n",
       "      <td>1.000000</td>\n",
       "      <td>0.000000</td>\n",
       "      <td>0.000000</td>\n",
       "      <td>0.000000</td>\n",
       "      <td>0.000000</td>\n",
       "      <td>0.000000</td>\n",
       "      <td>0.000000</td>\n",
       "      <td>0.000000</td>\n",
       "      <td>0.000000</td>\n",
       "      <td>0.000000</td>\n",
       "      <td>...</td>\n",
       "      <td>0.000000</td>\n",
       "      <td>0.000000</td>\n",
       "      <td>0.000000</td>\n",
       "      <td>0.000000</td>\n",
       "      <td>0.000000</td>\n",
       "      <td>0.000000</td>\n",
       "      <td>0.000000</td>\n",
       "      <td>0.000000</td>\n",
       "      <td>1.0</td>\n",
       "      <td>0.0</td>\n",
       "    </tr>\n",
       "    <tr>\n",
       "      <th>25%</th>\n",
       "      <td>2.000000</td>\n",
       "      <td>1.000000</td>\n",
       "      <td>0.000000</td>\n",
       "      <td>0.000000</td>\n",
       "      <td>0.000000</td>\n",
       "      <td>0.000000</td>\n",
       "      <td>0.000000</td>\n",
       "      <td>1.000000</td>\n",
       "      <td>0.000000</td>\n",
       "      <td>0.000000</td>\n",
       "      <td>...</td>\n",
       "      <td>0.000000</td>\n",
       "      <td>0.000000</td>\n",
       "      <td>0.000000</td>\n",
       "      <td>0.000000</td>\n",
       "      <td>0.000000</td>\n",
       "      <td>0.000000</td>\n",
       "      <td>0.000000</td>\n",
       "      <td>2.000000</td>\n",
       "      <td>1.0</td>\n",
       "      <td>0.0</td>\n",
       "    </tr>\n",
       "    <tr>\n",
       "      <th>50%</th>\n",
       "      <td>4.000000</td>\n",
       "      <td>2.000000</td>\n",
       "      <td>1.000000</td>\n",
       "      <td>0.000000</td>\n",
       "      <td>0.000000</td>\n",
       "      <td>0.000000</td>\n",
       "      <td>0.000000</td>\n",
       "      <td>1.000000</td>\n",
       "      <td>1.000000</td>\n",
       "      <td>0.000000</td>\n",
       "      <td>...</td>\n",
       "      <td>0.000000</td>\n",
       "      <td>0.000000</td>\n",
       "      <td>0.000000</td>\n",
       "      <td>0.000000</td>\n",
       "      <td>0.000000</td>\n",
       "      <td>0.000000</td>\n",
       "      <td>0.000000</td>\n",
       "      <td>2.000000</td>\n",
       "      <td>1.0</td>\n",
       "      <td>0.0</td>\n",
       "    </tr>\n",
       "    <tr>\n",
       "      <th>75%</th>\n",
       "      <td>5.000000</td>\n",
       "      <td>2.000000</td>\n",
       "      <td>1.000000</td>\n",
       "      <td>1.000000</td>\n",
       "      <td>0.000000</td>\n",
       "      <td>0.000000</td>\n",
       "      <td>1.000000</td>\n",
       "      <td>1.000000</td>\n",
       "      <td>1.000000</td>\n",
       "      <td>1.000000</td>\n",
       "      <td>...</td>\n",
       "      <td>0.000000</td>\n",
       "      <td>0.000000</td>\n",
       "      <td>0.000000</td>\n",
       "      <td>0.000000</td>\n",
       "      <td>0.000000</td>\n",
       "      <td>0.000000</td>\n",
       "      <td>0.000000</td>\n",
       "      <td>3.000000</td>\n",
       "      <td>1.0</td>\n",
       "      <td>0.0</td>\n",
       "    </tr>\n",
       "    <tr>\n",
       "      <th>max</th>\n",
       "      <td>15.000000</td>\n",
       "      <td>2.000000</td>\n",
       "      <td>1.000000</td>\n",
       "      <td>1.000000</td>\n",
       "      <td>1.000000</td>\n",
       "      <td>1.000000</td>\n",
       "      <td>1.000000</td>\n",
       "      <td>1.000000</td>\n",
       "      <td>1.000000</td>\n",
       "      <td>1.000000</td>\n",
       "      <td>...</td>\n",
       "      <td>1.000000</td>\n",
       "      <td>1.000000</td>\n",
       "      <td>1.000000</td>\n",
       "      <td>1.000000</td>\n",
       "      <td>1.000000</td>\n",
       "      <td>1.000000</td>\n",
       "      <td>1.000000</td>\n",
       "      <td>5.000000</td>\n",
       "      <td>1.0</td>\n",
       "      <td>0.0</td>\n",
       "    </tr>\n",
       "  </tbody>\n",
       "</table>\n",
       "<p>8 rows × 21 columns</p>\n",
       "</div>"
      ],
      "text/plain": [
       "         household  status_household  marital_status  country_Rwanda  \\\n",
       "count  1538.000000       1538.000000     1538.000000     1538.000000   \n",
       "mean      4.014304          1.545514        0.700910        0.403121   \n",
       "std       2.212475          0.663832        0.458008        0.490684   \n",
       "min       1.000000          0.000000        0.000000        0.000000   \n",
       "25%       2.000000          1.000000        0.000000        0.000000   \n",
       "50%       4.000000          2.000000        1.000000        0.000000   \n",
       "75%       5.000000          2.000000        1.000000        1.000000   \n",
       "max      15.000000          2.000000        1.000000        1.000000   \n",
       "\n",
       "       country_Tanzania  country_Uganda  location_Urban  cellphone_Yes  \\\n",
       "count       1538.000000     1538.000000     1538.000000    1538.000000   \n",
       "mean           0.133290        0.045514        0.328349       0.961638   \n",
       "std            0.339998        0.208496        0.469765       0.192130   \n",
       "min            0.000000        0.000000        0.000000       0.000000   \n",
       "25%            0.000000        0.000000        0.000000       1.000000   \n",
       "50%            0.000000        0.000000        0.000000       1.000000   \n",
       "75%            0.000000        0.000000        1.000000       1.000000   \n",
       "max            1.000000        1.000000        1.000000       1.000000   \n",
       "\n",
       "       gender_Male  job_Farming and Fishing  ...  \\\n",
       "count  1538.000000              1538.000000  ...   \n",
       "mean      0.517555                 0.335501  ...   \n",
       "std       0.499854                 0.472319  ...   \n",
       "min       0.000000                 0.000000  ...   \n",
       "25%       0.000000                 0.000000  ...   \n",
       "50%       1.000000                 0.000000  ...   \n",
       "75%       1.000000                 1.000000  ...   \n",
       "max       1.000000                 1.000000  ...   \n",
       "\n",
       "       job_Formally employed Private  job_Government Dependent  \\\n",
       "count                    1538.000000               1538.000000   \n",
       "mean                        0.069571                  0.009753   \n",
       "std                         0.254505                  0.098306   \n",
       "min                         0.000000                  0.000000   \n",
       "25%                         0.000000                  0.000000   \n",
       "50%                         0.000000                  0.000000   \n",
       "75%                         0.000000                  0.000000   \n",
       "max                         1.000000                  1.000000   \n",
       "\n",
       "       job_Informally employed  job_No Income  job_Other Income  \\\n",
       "count              1538.000000    1538.000000       1538.000000   \n",
       "mean                  0.198960       0.001951          0.039012   \n",
       "std                   0.399347       0.044137          0.193686   \n",
       "min                   0.000000       0.000000          0.000000   \n",
       "25%                   0.000000       0.000000          0.000000   \n",
       "50%                   0.000000       0.000000          0.000000   \n",
       "75%                   0.000000       0.000000          0.000000   \n",
       "max                   1.000000       1.000000          1.000000   \n",
       "\n",
       "       job_Remittance Dependent  job_Self employed      edu_cat  Y_hats  \\\n",
       "count               1538.000000        1538.000000  1538.000000  1538.0   \n",
       "mean                   0.100130           0.223017     2.418726     1.0   \n",
       "std                    0.300271           0.416405     1.094833     0.0   \n",
       "min                    0.000000           0.000000     0.000000     1.0   \n",
       "25%                    0.000000           0.000000     2.000000     1.0   \n",
       "50%                    0.000000           0.000000     2.000000     1.0   \n",
       "75%                    0.000000           0.000000     3.000000     1.0   \n",
       "max                    1.000000           1.000000     5.000000     1.0   \n",
       "\n",
       "       bank_account  \n",
       "count        1538.0  \n",
       "mean            0.0  \n",
       "std             0.0  \n",
       "min             0.0  \n",
       "25%             0.0  \n",
       "50%             0.0  \n",
       "75%             0.0  \n",
       "max             0.0  \n",
       "\n",
       "[8 rows x 21 columns]"
      ]
     },
     "execution_count": 135,
     "metadata": {},
     "output_type": "execute_result"
    }
   ],
   "source": [
    "FP = X_Val_err_an.loc[(X_Val_err_an.error_analysis == \"FP\")]\n",
    "FP.describe()"
   ]
  },
  {
   "cell_type": "code",
   "execution_count": 133,
   "id": "9d632678-119a-406d-8cf8-48349c9b1d65",
   "metadata": {},
   "outputs": [
    {
     "data": {
      "text/html": [
       "<div>\n",
       "<style scoped>\n",
       "    .dataframe tbody tr th:only-of-type {\n",
       "        vertical-align: middle;\n",
       "    }\n",
       "\n",
       "    .dataframe tbody tr th {\n",
       "        vertical-align: top;\n",
       "    }\n",
       "\n",
       "    .dataframe thead th {\n",
       "        text-align: right;\n",
       "    }\n",
       "</style>\n",
       "<table border=\"1\" class=\"dataframe\">\n",
       "  <thead>\n",
       "    <tr style=\"text-align: right;\">\n",
       "      <th></th>\n",
       "      <th>household</th>\n",
       "      <th>status_household</th>\n",
       "      <th>marital_status</th>\n",
       "      <th>country_Rwanda</th>\n",
       "      <th>country_Tanzania</th>\n",
       "      <th>country_Uganda</th>\n",
       "      <th>location_Urban</th>\n",
       "      <th>cellphone_Yes</th>\n",
       "      <th>gender_Male</th>\n",
       "      <th>job_Farming and Fishing</th>\n",
       "      <th>...</th>\n",
       "      <th>job_Informally employed</th>\n",
       "      <th>job_No Income</th>\n",
       "      <th>job_Other Income</th>\n",
       "      <th>job_Remittance Dependent</th>\n",
       "      <th>job_Self employed</th>\n",
       "      <th>edu_cat</th>\n",
       "      <th>age_cat</th>\n",
       "      <th>Y_hats</th>\n",
       "      <th>bank_account</th>\n",
       "      <th>error_analysis</th>\n",
       "    </tr>\n",
       "  </thead>\n",
       "  <tbody>\n",
       "    <tr>\n",
       "      <th>22542</th>\n",
       "      <td>6</td>\n",
       "      <td>2</td>\n",
       "      <td>1</td>\n",
       "      <td>0</td>\n",
       "      <td>0</td>\n",
       "      <td>1</td>\n",
       "      <td>0</td>\n",
       "      <td>1</td>\n",
       "      <td>0</td>\n",
       "      <td>0</td>\n",
       "      <td>...</td>\n",
       "      <td>0</td>\n",
       "      <td>0</td>\n",
       "      <td>0</td>\n",
       "      <td>0</td>\n",
       "      <td>1</td>\n",
       "      <td>0</td>\n",
       "      <td>3</td>\n",
       "      <td>0</td>\n",
       "      <td>0</td>\n",
       "      <td>TN</td>\n",
       "    </tr>\n",
       "    <tr>\n",
       "      <th>14130</th>\n",
       "      <td>4</td>\n",
       "      <td>1</td>\n",
       "      <td>1</td>\n",
       "      <td>1</td>\n",
       "      <td>0</td>\n",
       "      <td>0</td>\n",
       "      <td>0</td>\n",
       "      <td>1</td>\n",
       "      <td>0</td>\n",
       "      <td>1</td>\n",
       "      <td>...</td>\n",
       "      <td>0</td>\n",
       "      <td>0</td>\n",
       "      <td>0</td>\n",
       "      <td>0</td>\n",
       "      <td>0</td>\n",
       "      <td>0</td>\n",
       "      <td>1</td>\n",
       "      <td>0</td>\n",
       "      <td>0</td>\n",
       "      <td>TN</td>\n",
       "    </tr>\n",
       "  </tbody>\n",
       "</table>\n",
       "<p>2 rows × 23 columns</p>\n",
       "</div>"
      ],
      "text/plain": [
       "       household  status_household  marital_status  country_Rwanda  \\\n",
       "22542          6                 2               1               0   \n",
       "14130          4                 1               1               1   \n",
       "\n",
       "       country_Tanzania  country_Uganda  location_Urban  cellphone_Yes  \\\n",
       "22542                 0               1               0              1   \n",
       "14130                 0               0               0              1   \n",
       "\n",
       "       gender_Male  job_Farming and Fishing  ...  job_Informally employed  \\\n",
       "22542            0                        0  ...                        0   \n",
       "14130            0                        1  ...                        0   \n",
       "\n",
       "       job_No Income  job_Other Income  job_Remittance Dependent  \\\n",
       "22542              0                 0                         0   \n",
       "14130              0                 0                         0   \n",
       "\n",
       "       job_Self employed  edu_cat  age_cat  Y_hats  bank_account  \\\n",
       "22542                  1        0        3       0             0   \n",
       "14130                  0        0        1       0             0   \n",
       "\n",
       "      error_analysis  \n",
       "22542             TN  \n",
       "14130             TN  \n",
       "\n",
       "[2 rows x 23 columns]"
      ]
     },
     "execution_count": 133,
     "metadata": {},
     "output_type": "execute_result"
    }
   ],
   "source": [
    "TN = X_Val_err_an.loc[(X_Val_err_an.error_analysis == \"TN\")]\n",
    "TN.head(2)"
   ]
  },
  {
   "cell_type": "code",
   "execution_count": null,
   "id": "04f421ea-5461-4543-98c3-86fc15b4ed68",
   "metadata": {},
   "outputs": [],
   "source": []
  }
 ],
 "metadata": {
  "kernelspec": {
   "display_name": "Python 3 (ipykernel)",
   "language": "python",
   "name": "python3"
  },
  "language_info": {
   "codemirror_mode": {
    "name": "ipython",
    "version": 3
   },
   "file_extension": ".py",
   "mimetype": "text/x-python",
   "name": "python",
   "nbconvert_exporter": "python",
   "pygments_lexer": "ipython3",
   "version": "3.9.8"
  }
 },
 "nbformat": 4,
 "nbformat_minor": 5
}
