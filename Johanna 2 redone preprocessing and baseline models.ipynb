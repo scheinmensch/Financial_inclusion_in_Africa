{
 "cells": [
  {
   "cell_type": "markdown",
   "id": "52ddf755-f8c2-4571-9015-6ae870765907",
   "metadata": {},
   "source": [
    "# Business Understanding\n",
    "\n",
    "Access to bank accounts enable households to save and make payments while also helping businesses build up their credit-worthiness and improve their access to loans, insurance, and related services. Therefore, access to bank accounts is an essential contributor to long-term economic growth.\n",
    "\n",
    "The objective of this project is to create a machine learning model to predict which individuals are most likely to have or use a bank account. The models and solutions developed can provide an indication of the state of financial inclusion in Kenya, Rwanda, Tanzania and Uganda, while providing insights into some of the key factors driving individuals’ financial security.\n",
    "\n",
    "## Stakeholder and Evaluation metric\n",
    "\n",
    "*TBA*"
   ]
  },
  {
   "cell_type": "markdown",
   "id": "dc973a54-9e19-4ad7-ad88-d637c179f812",
   "metadata": {},
   "source": [
    "# Basics"
   ]
  },
  {
   "cell_type": "code",
   "execution_count": 1,
   "id": "858573b6-5675-4d6a-907f-856cd3cf4de0",
   "metadata": {},
   "outputs": [],
   "source": [
    "# import libraries\n",
    "\n",
    "import pandas as pd\n",
    "import numpy as np\n",
    "import seaborn as sns\n",
    "import matplotlib.pyplot as plt\n",
    "from sklearn.model_selection import train_test_split, GridSearchCV, RandomizedSearchCV\n",
    "from sklearn.metrics import accuracy_score, classification_report, confusion_matrix\n",
    "from sklearn.tree import DecisionTreeClassifier, plot_tree\n",
    "from sklearn.linear_model import LogisticRegression, SGDClassifier\n",
    "from sklearn.cluster import KMeans\n",
    "\n",
    "RSEED=33\n",
    "\n",
    "c = ['#599190', '#EDAFB8', '#666A86', '#95B8D1', '#E8DDB5']\n",
    "color_cfm = ['#EAF2F2', '#D9E8E8', '#CCDFDF', '#BCD6D5', \"#AACBCA\", '#9AC1C1', '#83B3B2', '#77ABAA', '#6BA4A3', '#5F9C9A', '#599190']"
   ]
  },
  {
   "cell_type": "code",
   "execution_count": 2,
   "id": "5a80b8f7-49b5-480c-8877-62c247ddc8e5",
   "metadata": {},
   "outputs": [],
   "source": [
    "# load data\n",
    "\n",
    "original_train = pd.read_csv('data/Train.csv')\n",
    "original_test = pd.read_csv('data/Test.csv')\n",
    "variables = pd.read_csv('data/VariableDefinitions.csv')"
   ]
  },
  {
   "cell_type": "code",
   "execution_count": 3,
   "id": "70e1b82d-6bbb-4fbf-b911-8c5ecaf5bf4b",
   "metadata": {},
   "outputs": [
    {
     "data": {
      "text/html": [
       "<div>\n",
       "<style scoped>\n",
       "    .dataframe tbody tr th:only-of-type {\n",
       "        vertical-align: middle;\n",
       "    }\n",
       "\n",
       "    .dataframe tbody tr th {\n",
       "        vertical-align: top;\n",
       "    }\n",
       "\n",
       "    .dataframe thead th {\n",
       "        text-align: right;\n",
       "    }\n",
       "</style>\n",
       "<table border=\"1\" class=\"dataframe\">\n",
       "  <thead>\n",
       "    <tr style=\"text-align: right;\">\n",
       "      <th></th>\n",
       "      <th>Variable Definitions</th>\n",
       "      <th>Unnamed: 1</th>\n",
       "    </tr>\n",
       "  </thead>\n",
       "  <tbody>\n",
       "    <tr>\n",
       "      <th>0</th>\n",
       "      <td>country</td>\n",
       "      <td>Country interviewee is in.</td>\n",
       "    </tr>\n",
       "    <tr>\n",
       "      <th>1</th>\n",
       "      <td>year</td>\n",
       "      <td>Year survey was done in.</td>\n",
       "    </tr>\n",
       "    <tr>\n",
       "      <th>2</th>\n",
       "      <td>uniqueid</td>\n",
       "      <td>Unique identifier for each interviewee</td>\n",
       "    </tr>\n",
       "    <tr>\n",
       "      <th>3</th>\n",
       "      <td>location_type</td>\n",
       "      <td>Type of location: Rural, Urban</td>\n",
       "    </tr>\n",
       "    <tr>\n",
       "      <th>4</th>\n",
       "      <td>cellphone_access</td>\n",
       "      <td>If interviewee has access to a cellphone: Yes, No</td>\n",
       "    </tr>\n",
       "    <tr>\n",
       "      <th>5</th>\n",
       "      <td>household_size</td>\n",
       "      <td>Number of people living in one house</td>\n",
       "    </tr>\n",
       "    <tr>\n",
       "      <th>6</th>\n",
       "      <td>age_of_respondent</td>\n",
       "      <td>The age of the interviewee</td>\n",
       "    </tr>\n",
       "    <tr>\n",
       "      <th>7</th>\n",
       "      <td>gender_of_respondent</td>\n",
       "      <td>Gender of interviewee: Male, Female</td>\n",
       "    </tr>\n",
       "    <tr>\n",
       "      <th>8</th>\n",
       "      <td>relationship_with_head</td>\n",
       "      <td>The interviewee’s relationship with the head o...</td>\n",
       "    </tr>\n",
       "    <tr>\n",
       "      <th>9</th>\n",
       "      <td>marital_status</td>\n",
       "      <td>The martial status of the interviewee: Married...</td>\n",
       "    </tr>\n",
       "    <tr>\n",
       "      <th>10</th>\n",
       "      <td>education_level</td>\n",
       "      <td>Highest level of education: No formal educatio...</td>\n",
       "    </tr>\n",
       "    <tr>\n",
       "      <th>11</th>\n",
       "      <td>job_type</td>\n",
       "      <td>Type of job interviewee has: Farming and Fishi...</td>\n",
       "    </tr>\n",
       "  </tbody>\n",
       "</table>\n",
       "</div>"
      ],
      "text/plain": [
       "      Variable Definitions                                         Unnamed: 1\n",
       "0                  country                         Country interviewee is in.\n",
       "1                     year                           Year survey was done in.\n",
       "2                 uniqueid             Unique identifier for each interviewee\n",
       "3            location_type                     Type of location: Rural, Urban\n",
       "4         cellphone_access  If interviewee has access to a cellphone: Yes, No\n",
       "5           household_size               Number of people living in one house\n",
       "6        age_of_respondent                         The age of the interviewee\n",
       "7     gender_of_respondent                Gender of interviewee: Male, Female\n",
       "8   relationship_with_head  The interviewee’s relationship with the head o...\n",
       "9           marital_status  The martial status of the interviewee: Married...\n",
       "10         education_level  Highest level of education: No formal educatio...\n",
       "11                job_type  Type of job interviewee has: Farming and Fishi..."
      ]
     },
     "execution_count": 3,
     "metadata": {},
     "output_type": "execute_result"
    }
   ],
   "source": [
    "variables"
   ]
  },
  {
   "cell_type": "code",
   "execution_count": 4,
   "id": "63644ec3-1a05-49b4-814f-bd64571eb5dc",
   "metadata": {},
   "outputs": [
    {
     "data": {
      "text/html": [
       "<div>\n",
       "<style scoped>\n",
       "    .dataframe tbody tr th:only-of-type {\n",
       "        vertical-align: middle;\n",
       "    }\n",
       "\n",
       "    .dataframe tbody tr th {\n",
       "        vertical-align: top;\n",
       "    }\n",
       "\n",
       "    .dataframe thead th {\n",
       "        text-align: right;\n",
       "    }\n",
       "</style>\n",
       "<table border=\"1\" class=\"dataframe\">\n",
       "  <thead>\n",
       "    <tr style=\"text-align: right;\">\n",
       "      <th></th>\n",
       "      <th>country</th>\n",
       "      <th>year</th>\n",
       "      <th>uniqueid</th>\n",
       "      <th>bank_account</th>\n",
       "      <th>location</th>\n",
       "      <th>cellphone</th>\n",
       "      <th>household</th>\n",
       "      <th>age</th>\n",
       "      <th>gender</th>\n",
       "      <th>status_household</th>\n",
       "      <th>marital_status</th>\n",
       "      <th>education</th>\n",
       "      <th>job</th>\n",
       "    </tr>\n",
       "  </thead>\n",
       "  <tbody>\n",
       "    <tr>\n",
       "      <th>0</th>\n",
       "      <td>Kenya</td>\n",
       "      <td>2018</td>\n",
       "      <td>uniqueid_1</td>\n",
       "      <td>Yes</td>\n",
       "      <td>Rural</td>\n",
       "      <td>Yes</td>\n",
       "      <td>3</td>\n",
       "      <td>24</td>\n",
       "      <td>Female</td>\n",
       "      <td>Spouse</td>\n",
       "      <td>Married/Living together</td>\n",
       "      <td>Secondary education</td>\n",
       "      <td>Self employed</td>\n",
       "    </tr>\n",
       "    <tr>\n",
       "      <th>1</th>\n",
       "      <td>Kenya</td>\n",
       "      <td>2018</td>\n",
       "      <td>uniqueid_2</td>\n",
       "      <td>No</td>\n",
       "      <td>Rural</td>\n",
       "      <td>No</td>\n",
       "      <td>5</td>\n",
       "      <td>70</td>\n",
       "      <td>Female</td>\n",
       "      <td>Head of Household</td>\n",
       "      <td>Widowed</td>\n",
       "      <td>No formal education</td>\n",
       "      <td>Government Dependent</td>\n",
       "    </tr>\n",
       "  </tbody>\n",
       "</table>\n",
       "</div>"
      ],
      "text/plain": [
       "  country  year    uniqueid bank_account location cellphone  household  age  \\\n",
       "0   Kenya  2018  uniqueid_1          Yes    Rural       Yes          3   24   \n",
       "1   Kenya  2018  uniqueid_2           No    Rural        No          5   70   \n",
       "\n",
       "   gender   status_household           marital_status            education  \\\n",
       "0  Female             Spouse  Married/Living together  Secondary education   \n",
       "1  Female  Head of Household                  Widowed  No formal education   \n",
       "\n",
       "                    job  \n",
       "0         Self employed  \n",
       "1  Government Dependent  "
      ]
     },
     "execution_count": 4,
     "metadata": {},
     "output_type": "execute_result"
    }
   ],
   "source": [
    "original_train.columns = [\"country\", \"year\", \"uniqueid\", \"bank_account\", \"location\", \"cellphone\", \"household\", \"age\", \"gender\", \"status_household\", \"marital_status\", \"education\", \"job\"]\n",
    "original_train.head(2)"
   ]
  },
  {
   "cell_type": "code",
   "execution_count": 5,
   "id": "b02b15de-0757-42ac-9a26-6dea6c23ac2c",
   "metadata": {},
   "outputs": [
    {
     "data": {
      "text/plain": [
       "(23524, 13)"
      ]
     },
     "execution_count": 5,
     "metadata": {},
     "output_type": "execute_result"
    }
   ],
   "source": [
    "original_train.shape"
   ]
  },
  {
   "cell_type": "code",
   "execution_count": 6,
   "id": "160e36c2-39a5-43c0-adfb-c80487e0a45f",
   "metadata": {
    "tags": []
   },
   "outputs": [
    {
     "data": {
      "text/plain": [
       "country             0\n",
       "year                0\n",
       "uniqueid            0\n",
       "bank_account        0\n",
       "location            0\n",
       "cellphone           0\n",
       "household           0\n",
       "age                 0\n",
       "gender              0\n",
       "status_household    0\n",
       "marital_status      0\n",
       "education           0\n",
       "job                 0\n",
       "dtype: int64"
      ]
     },
     "execution_count": 6,
     "metadata": {},
     "output_type": "execute_result"
    }
   ],
   "source": [
    "# check for missing values \n",
    "\n",
    "original_train.isnull().sum()"
   ]
  },
  {
   "cell_type": "code",
   "execution_count": 7,
   "id": "489a29c8-f045-405c-bb23-e791d161e4e2",
   "metadata": {
    "tags": []
   },
   "outputs": [
    {
     "data": {
      "text/plain": [
       "country             0\n",
       "year                0\n",
       "uniqueid            0\n",
       "bank_account        0\n",
       "location            0\n",
       "cellphone           0\n",
       "household           0\n",
       "age                 0\n",
       "gender              0\n",
       "status_household    0\n",
       "marital_status      0\n",
       "education           0\n",
       "job                 0\n",
       "dtype: int64"
      ]
     },
     "execution_count": 7,
     "metadata": {},
     "output_type": "execute_result"
    }
   ],
   "source": [
    "original_train.isna().sum()"
   ]
  },
  {
   "cell_type": "code",
   "execution_count": 8,
   "id": "574dca77-7d1f-4c19-8359-cfdd44682282",
   "metadata": {},
   "outputs": [
    {
     "data": {
      "text/plain": [
       "country                4\n",
       "year                   3\n",
       "uniqueid            8735\n",
       "bank_account           2\n",
       "location               2\n",
       "cellphone              2\n",
       "household             20\n",
       "age                   85\n",
       "gender                 2\n",
       "status_household       6\n",
       "marital_status         5\n",
       "education              6\n",
       "job                   10\n",
       "dtype: int64"
      ]
     },
     "execution_count": 8,
     "metadata": {},
     "output_type": "execute_result"
    }
   ],
   "source": [
    "# check for unique values (to detect duplicates)\n",
    "\n",
    "original_train.nunique()"
   ]
  },
  {
   "cell_type": "code",
   "execution_count": 9,
   "id": "d608c527-ed7f-4fee-8162-de0e33acf3f1",
   "metadata": {},
   "outputs": [
    {
     "data": {
      "text/plain": [
       "14789"
      ]
     },
     "execution_count": 9,
     "metadata": {},
     "output_type": "execute_result"
    }
   ],
   "source": [
    "original_train['uniqueid'].duplicated().sum()"
   ]
  },
  {
   "cell_type": "code",
   "execution_count": 10,
   "id": "5084e334-f60e-400a-a6c3-66dbfacea1ce",
   "metadata": {},
   "outputs": [
    {
     "name": "stdout",
     "output_type": "stream",
     "text": [
      "<class 'pandas.core.frame.DataFrame'>\n",
      "RangeIndex: 23524 entries, 0 to 23523\n",
      "Data columns (total 13 columns):\n",
      " #   Column            Non-Null Count  Dtype \n",
      "---  ------            --------------  ----- \n",
      " 0   country           23524 non-null  object\n",
      " 1   year              23524 non-null  int64 \n",
      " 2   uniqueid          23524 non-null  object\n",
      " 3   bank_account      23524 non-null  object\n",
      " 4   location          23524 non-null  object\n",
      " 5   cellphone         23524 non-null  object\n",
      " 6   household         23524 non-null  int64 \n",
      " 7   age               23524 non-null  int64 \n",
      " 8   gender            23524 non-null  object\n",
      " 9   status_household  23524 non-null  object\n",
      " 10  marital_status    23524 non-null  object\n",
      " 11  education         23524 non-null  object\n",
      " 12  job               23524 non-null  object\n",
      "dtypes: int64(3), object(10)\n",
      "memory usage: 2.3+ MB\n"
     ]
    }
   ],
   "source": [
    "original_train.info()"
   ]
  },
  {
   "cell_type": "markdown",
   "id": "e559aa57-312f-4bc7-814d-4c3fcafa7329",
   "metadata": {},
   "source": [
    "# EDA\n",
    "\n",
    "## Hypotheses \n",
    "\n",
    "Likeliness to have a bank account:\n",
    "\n",
    "- country: more developed country higher than less developed country (Kenya, Tanzania, Rwanda, Uganda according to HDI)\n",
    "- location_type: urban more likely than rural \n",
    "- cellphone_access: cellphone more likely than no cellphone\n",
    "- household_size: the bigger the household, the less likely that this individual has a bank account (househould shares one account)\n",
    "- age: younger more likely than older \n",
    "- gender: men/women balanced \n",
    "- relationship_with_head: head of household more likely than anyone else in family \n",
    "- marital_status: many different effects equal each other so the impact is low \n",
    "- education: higher education more likely than lower \n",
    "- job_level: higher job level more likely than lower \n",
    "- irrelevant: uniqueid, year"
   ]
  },
  {
   "cell_type": "code",
   "execution_count": 11,
   "id": "8bf65d8b-79b5-467d-bf06-f899cf55f418",
   "metadata": {},
   "outputs": [
    {
     "data": {
      "text/html": [
       "<div>\n",
       "<style scoped>\n",
       "    .dataframe tbody tr th:only-of-type {\n",
       "        vertical-align: middle;\n",
       "    }\n",
       "\n",
       "    .dataframe tbody tr th {\n",
       "        vertical-align: top;\n",
       "    }\n",
       "\n",
       "    .dataframe thead th {\n",
       "        text-align: right;\n",
       "    }\n",
       "</style>\n",
       "<table border=\"1\" class=\"dataframe\">\n",
       "  <thead>\n",
       "    <tr style=\"text-align: right;\">\n",
       "      <th></th>\n",
       "      <th>year</th>\n",
       "      <th>household</th>\n",
       "      <th>age</th>\n",
       "    </tr>\n",
       "  </thead>\n",
       "  <tbody>\n",
       "    <tr>\n",
       "      <th>count</th>\n",
       "      <td>23524.000000</td>\n",
       "      <td>23524.000000</td>\n",
       "      <td>23524.000000</td>\n",
       "    </tr>\n",
       "    <tr>\n",
       "      <th>mean</th>\n",
       "      <td>2016.975939</td>\n",
       "      <td>3.797483</td>\n",
       "      <td>38.805220</td>\n",
       "    </tr>\n",
       "    <tr>\n",
       "      <th>std</th>\n",
       "      <td>0.847371</td>\n",
       "      <td>2.227613</td>\n",
       "      <td>16.520569</td>\n",
       "    </tr>\n",
       "    <tr>\n",
       "      <th>min</th>\n",
       "      <td>2016.000000</td>\n",
       "      <td>1.000000</td>\n",
       "      <td>16.000000</td>\n",
       "    </tr>\n",
       "    <tr>\n",
       "      <th>25%</th>\n",
       "      <td>2016.000000</td>\n",
       "      <td>2.000000</td>\n",
       "      <td>26.000000</td>\n",
       "    </tr>\n",
       "    <tr>\n",
       "      <th>50%</th>\n",
       "      <td>2017.000000</td>\n",
       "      <td>3.000000</td>\n",
       "      <td>35.000000</td>\n",
       "    </tr>\n",
       "    <tr>\n",
       "      <th>75%</th>\n",
       "      <td>2018.000000</td>\n",
       "      <td>5.000000</td>\n",
       "      <td>49.000000</td>\n",
       "    </tr>\n",
       "    <tr>\n",
       "      <th>max</th>\n",
       "      <td>2018.000000</td>\n",
       "      <td>21.000000</td>\n",
       "      <td>100.000000</td>\n",
       "    </tr>\n",
       "  </tbody>\n",
       "</table>\n",
       "</div>"
      ],
      "text/plain": [
       "               year     household           age\n",
       "count  23524.000000  23524.000000  23524.000000\n",
       "mean    2016.975939      3.797483     38.805220\n",
       "std        0.847371      2.227613     16.520569\n",
       "min     2016.000000      1.000000     16.000000\n",
       "25%     2016.000000      2.000000     26.000000\n",
       "50%     2017.000000      3.000000     35.000000\n",
       "75%     2018.000000      5.000000     49.000000\n",
       "max     2018.000000     21.000000    100.000000"
      ]
     },
     "execution_count": 11,
     "metadata": {},
     "output_type": "execute_result"
    }
   ],
   "source": [
    "original_train.describe()"
   ]
  },
  {
   "cell_type": "code",
   "execution_count": 12,
   "id": "87bac710-c0e4-44a7-b01d-303119d2e1b7",
   "metadata": {},
   "outputs": [
    {
     "data": {
      "text/plain": [
       "No     0.859208\n",
       "Yes    0.140792\n",
       "Name: bank_account, dtype: float64"
      ]
     },
     "execution_count": 12,
     "metadata": {},
     "output_type": "execute_result"
    }
   ],
   "source": [
    "original_train['bank_account'].value_counts(normalize=True)"
   ]
  },
  {
   "cell_type": "code",
   "execution_count": 13,
   "id": "7a7028d1-7a61-47ec-95d2-4bee85edc00a",
   "metadata": {},
   "outputs": [
    {
     "data": {
      "image/png": "[encoded data removed]",
      "text/plain": [
       "<Figure size 500x300 with 1 Axes>"
      ]
     },
     "metadata": {},
     "output_type": "display_data"
    }
   ],
   "source": [
    "plt.figure(figsize=(5, 3))\n",
    "original_train.household.hist(color='#599190') \n",
    "plt.xlabel('Household  size');"
   ]
  },
  {
   "cell_type": "code",
   "execution_count": 14,
   "id": "9bbc20e0-5de9-412c-a0af-842f4f8f2ccc",
   "metadata": {},
   "outputs": [
    {
     "data": {
      "image/png": "[encoded data removed]",
      "text/plain": [
       "<Figure size 500x300 with 1 Axes>"
      ]
     },
     "metadata": {},
     "output_type": "display_data"
    }
   ],
   "source": [
    "plt.figure(figsize=(5, 3))\n",
    "original_train.age.hist(color='#599190') \n",
    "plt.xlabel('Age');"
   ]
  },
  {
   "cell_type": "code",
   "execution_count": 15,
   "id": "0b79d05a-7e3e-45ad-8c5d-5fa0b8b70fbc",
   "metadata": {},
   "outputs": [],
   "source": [
    "### add more plots about distributions here, see notebook \"Johanna\""
   ]
  },
  {
   "cell_type": "code",
   "execution_count": 16,
   "id": "ce2f8f4a-d89f-4d26-a5ae-036c7f88ac74",
   "metadata": {},
   "outputs": [
    {
     "data": {
      "text/plain": [
       "<seaborn.axisgrid.FacetGrid at 0x15c04d5e0>"
      ]
     },
     "execution_count": 16,
     "metadata": {},
     "output_type": "execute_result"
    },
    {
     "data": {
      "image/png": "[encoded data removed]",
      "text/plain": [
       "<Figure size 200x200 with 1 Axes>"
      ]
     },
     "metadata": {},
     "output_type": "display_data"
    }
   ],
   "source": [
    "sns.catplot(x=\"bank_account\", kind=\"count\", data=original_train, height=2, palette=c)"
   ]
  },
  {
   "cell_type": "code",
   "execution_count": 17,
   "id": "5dbd4760-8178-409c-a35d-ff08a298b152",
   "metadata": {
    "tags": []
   },
   "outputs": [
    {
     "name": "stdout",
     "output_type": "stream",
     "text": [
      "Rwanda      0.37\n",
      "Tanzania    0.28\n",
      "Kenya       0.26\n",
      "Uganda      0.09\n",
      "Name: country, dtype: float64\n",
      "Rural    0.61\n",
      "Urban    0.39\n",
      "Name: location, dtype: float64\n",
      "Yes    0.74\n",
      "No     0.26\n",
      "Name: cellphone, dtype: float64\n",
      "Female    0.59\n",
      "Male      0.41\n",
      "Name: gender, dtype: float64\n",
      "Head of Household      0.55\n",
      "Spouse                 0.28\n",
      "Child                  0.09\n",
      "Parent                 0.05\n",
      "Other relative         0.03\n",
      "Other non-relatives    0.01\n",
      "Name: status_household, dtype: float64\n",
      "Married/Living together    0.46\n",
      "Single/Never Married       0.34\n",
      "Widowed                    0.12\n",
      "Divorced/Seperated         0.09\n",
      "Dont know                  0.00\n",
      "Name: marital_status, dtype: float64\n",
      "Primary education                  0.54\n",
      "No formal education                0.19\n",
      "Secondary education                0.18\n",
      "Tertiary education                 0.05\n",
      "Vocational/Specialised training    0.03\n",
      "Other/Dont know/RTA                0.00\n",
      "Name: education, dtype: float64\n",
      "Self employed                   0.27\n",
      "Informally employed             0.24\n",
      "Farming and Fishing             0.23\n",
      "Remittance Dependent            0.11\n",
      "Other Income                    0.05\n",
      "Formally employed Private       0.04\n",
      "No Income                       0.03\n",
      "Formally employed Government    0.02\n",
      "Government Dependent            0.01\n",
      "Dont Know/Refuse to answer      0.01\n",
      "Name: job, dtype: float64\n"
     ]
    }
   ],
   "source": [
    "features = ['country','location', 'cellphone','gender', 'status_household', 'marital_status','education', 'job']\n",
    "\n",
    "for i in features:\n",
    "    print(original_train[i].value_counts(normalize=True).round(2))"
   ]
  },
  {
   "cell_type": "code",
   "execution_count": 18,
   "id": "7b478da4-d3a6-4331-89da-035cbf71c252",
   "metadata": {},
   "outputs": [],
   "source": [
    "d = {}\n",
    "for i in features:\n",
    "    d[i] = pd.crosstab(original_train[i], original_train['bank_account'], normalize='index').mul(100).round(2)"
   ]
  },
  {
   "cell_type": "code",
   "execution_count": 19,
   "id": "d44b4808-553b-4b2c-bc4f-fbf4808922e8",
   "metadata": {},
   "outputs": [
    {
     "data": {
      "text/html": [
       "<div>\n",
       "<style scoped>\n",
       "    .dataframe tbody tr th:only-of-type {\n",
       "        vertical-align: middle;\n",
       "    }\n",
       "\n",
       "    .dataframe tbody tr th {\n",
       "        vertical-align: top;\n",
       "    }\n",
       "\n",
       "    .dataframe thead th {\n",
       "        text-align: right;\n",
       "    }\n",
       "</style>\n",
       "<table border=\"1\" class=\"dataframe\">\n",
       "  <thead>\n",
       "    <tr style=\"text-align: right;\">\n",
       "      <th>bank_account</th>\n",
       "      <th>No</th>\n",
       "      <th>Yes</th>\n",
       "    </tr>\n",
       "    <tr>\n",
       "      <th>country</th>\n",
       "      <th></th>\n",
       "      <th></th>\n",
       "    </tr>\n",
       "  </thead>\n",
       "  <tbody>\n",
       "    <tr>\n",
       "      <th>Kenya</th>\n",
       "      <td>74.93</td>\n",
       "      <td>25.07</td>\n",
       "    </tr>\n",
       "    <tr>\n",
       "      <th>Rwanda</th>\n",
       "      <td>88.52</td>\n",
       "      <td>11.48</td>\n",
       "    </tr>\n",
       "    <tr>\n",
       "      <th>Tanzania</th>\n",
       "      <td>90.83</td>\n",
       "      <td>9.17</td>\n",
       "    </tr>\n",
       "    <tr>\n",
       "      <th>Uganda</th>\n",
       "      <td>91.39</td>\n",
       "      <td>8.61</td>\n",
       "    </tr>\n",
       "  </tbody>\n",
       "</table>\n",
       "</div>"
      ],
      "text/plain": [
       "bank_account     No    Yes\n",
       "country                   \n",
       "Kenya         74.93  25.07\n",
       "Rwanda        88.52  11.48\n",
       "Tanzania      90.83   9.17\n",
       "Uganda        91.39   8.61"
      ]
     },
     "execution_count": 19,
     "metadata": {},
     "output_type": "execute_result"
    }
   ],
   "source": [
    "d['country']"
   ]
  },
  {
   "cell_type": "code",
   "execution_count": 20,
   "id": "2dcd89f0-75c1-4118-bede-ad067a45bca3",
   "metadata": {},
   "outputs": [
    {
     "data": {
      "image/png": "[encoded data removed]",
      "text/plain": [
       "<Figure size 400x200 with 1 Axes>"
      ]
     },
     "metadata": {},
     "output_type": "display_data"
    }
   ],
   "source": [
    "d['country'].plot.bar(figsize=(4,2), rot=0, color=c);"
   ]
  },
  {
   "cell_type": "code",
   "execution_count": 21,
   "id": "b76090c7-d3fb-43a6-98ee-094ecd41b60e",
   "metadata": {},
   "outputs": [
    {
     "data": {
      "text/html": [
       "<div>\n",
       "<style scoped>\n",
       "    .dataframe tbody tr th:only-of-type {\n",
       "        vertical-align: middle;\n",
       "    }\n",
       "\n",
       "    .dataframe tbody tr th {\n",
       "        vertical-align: top;\n",
       "    }\n",
       "\n",
       "    .dataframe thead th {\n",
       "        text-align: right;\n",
       "    }\n",
       "</style>\n",
       "<table border=\"1\" class=\"dataframe\">\n",
       "  <thead>\n",
       "    <tr style=\"text-align: right;\">\n",
       "      <th>bank_account</th>\n",
       "      <th>No</th>\n",
       "      <th>Yes</th>\n",
       "    </tr>\n",
       "    <tr>\n",
       "      <th>location</th>\n",
       "      <th></th>\n",
       "      <th></th>\n",
       "    </tr>\n",
       "  </thead>\n",
       "  <tbody>\n",
       "    <tr>\n",
       "      <th>Rural</th>\n",
       "      <td>88.35</td>\n",
       "      <td>11.65</td>\n",
       "    </tr>\n",
       "    <tr>\n",
       "      <th>Urban</th>\n",
       "      <td>82.13</td>\n",
       "      <td>17.87</td>\n",
       "    </tr>\n",
       "  </tbody>\n",
       "</table>\n",
       "</div>"
      ],
      "text/plain": [
       "bank_account     No    Yes\n",
       "location                  \n",
       "Rural         88.35  11.65\n",
       "Urban         82.13  17.87"
      ]
     },
     "execution_count": 21,
     "metadata": {},
     "output_type": "execute_result"
    }
   ],
   "source": [
    "d['location']"
   ]
  },
  {
   "cell_type": "code",
   "execution_count": 22,
   "id": "5bba517a-5135-4ae1-8dc1-674fb9bbefdf",
   "metadata": {},
   "outputs": [
    {
     "data": {
      "image/png": "[encoded data removed]",
      "text/plain": [
       "<Figure size 400x200 with 1 Axes>"
      ]
     },
     "metadata": {},
     "output_type": "display_data"
    }
   ],
   "source": [
    "d['location'].plot.bar(figsize=(4,2), rot=0);"
   ]
  },
  {
   "cell_type": "code",
   "execution_count": 23,
   "id": "fc87d8ca-96d7-4183-89e4-85a47d9e0ddc",
   "metadata": {},
   "outputs": [
    {
     "data": {
      "text/html": [
       "<div>\n",
       "<style scoped>\n",
       "    .dataframe tbody tr th:only-of-type {\n",
       "        vertical-align: middle;\n",
       "    }\n",
       "\n",
       "    .dataframe tbody tr th {\n",
       "        vertical-align: top;\n",
       "    }\n",
       "\n",
       "    .dataframe thead th {\n",
       "        text-align: right;\n",
       "    }\n",
       "</style>\n",
       "<table border=\"1\" class=\"dataframe\">\n",
       "  <thead>\n",
       "    <tr style=\"text-align: right;\">\n",
       "      <th>bank_account</th>\n",
       "      <th>No</th>\n",
       "      <th>Yes</th>\n",
       "    </tr>\n",
       "    <tr>\n",
       "      <th>cellphone</th>\n",
       "      <th></th>\n",
       "      <th></th>\n",
       "    </tr>\n",
       "  </thead>\n",
       "  <tbody>\n",
       "    <tr>\n",
       "      <th>No</th>\n",
       "      <td>98.29</td>\n",
       "      <td>1.71</td>\n",
       "    </tr>\n",
       "    <tr>\n",
       "      <th>Yes</th>\n",
       "      <td>81.62</td>\n",
       "      <td>18.38</td>\n",
       "    </tr>\n",
       "  </tbody>\n",
       "</table>\n",
       "</div>"
      ],
      "text/plain": [
       "bank_account     No    Yes\n",
       "cellphone                 \n",
       "No            98.29   1.71\n",
       "Yes           81.62  18.38"
      ]
     },
     "execution_count": 23,
     "metadata": {},
     "output_type": "execute_result"
    }
   ],
   "source": [
    "d['cellphone']"
   ]
  },
  {
   "cell_type": "code",
   "execution_count": 24,
   "id": "394d910a-48e8-48a6-a387-0a15d74d23d5",
   "metadata": {},
   "outputs": [
    {
     "data": {
      "image/png": "[encoded data removed]",
      "text/plain": [
       "<Figure size 400x200 with 1 Axes>"
      ]
     },
     "metadata": {},
     "output_type": "display_data"
    }
   ],
   "source": [
    "d['cellphone'].plot.bar(figsize=(4,2), rot=0);"
   ]
  },
  {
   "cell_type": "code",
   "execution_count": 25,
   "id": "885d990b-79a5-49ac-b159-2769e7e4ba40",
   "metadata": {},
   "outputs": [
    {
     "data": {
      "text/html": [
       "<div>\n",
       "<style scoped>\n",
       "    .dataframe tbody tr th:only-of-type {\n",
       "        vertical-align: middle;\n",
       "    }\n",
       "\n",
       "    .dataframe tbody tr th {\n",
       "        vertical-align: top;\n",
       "    }\n",
       "\n",
       "    .dataframe thead th {\n",
       "        text-align: right;\n",
       "    }\n",
       "</style>\n",
       "<table border=\"1\" class=\"dataframe\">\n",
       "  <thead>\n",
       "    <tr style=\"text-align: right;\">\n",
       "      <th>bank_account</th>\n",
       "      <th>No</th>\n",
       "      <th>Yes</th>\n",
       "    </tr>\n",
       "    <tr>\n",
       "      <th>gender</th>\n",
       "      <th></th>\n",
       "      <th></th>\n",
       "    </tr>\n",
       "  </thead>\n",
       "  <tbody>\n",
       "    <tr>\n",
       "      <th>Female</th>\n",
       "      <td>89.32</td>\n",
       "      <td>10.68</td>\n",
       "    </tr>\n",
       "    <tr>\n",
       "      <th>Male</th>\n",
       "      <td>81.03</td>\n",
       "      <td>18.97</td>\n",
       "    </tr>\n",
       "  </tbody>\n",
       "</table>\n",
       "</div>"
      ],
      "text/plain": [
       "bank_account     No    Yes\n",
       "gender                    \n",
       "Female        89.32  10.68\n",
       "Male          81.03  18.97"
      ]
     },
     "execution_count": 25,
     "metadata": {},
     "output_type": "execute_result"
    }
   ],
   "source": [
    "d['gender']"
   ]
  },
  {
   "cell_type": "code",
   "execution_count": 26,
   "id": "41aede82-f7b4-4ea6-bf57-b37ca85ee51e",
   "metadata": {},
   "outputs": [
    {
     "data": {
      "image/png": "[encoded data removed]",
      "text/plain": [
       "<Figure size 400x200 with 1 Axes>"
      ]
     },
     "metadata": {},
     "output_type": "display_data"
    }
   ],
   "source": [
    "d['gender'].plot.bar(figsize=(4,2), rot=0);"
   ]
  },
  {
   "cell_type": "code",
   "execution_count": 27,
   "id": "b90c35e8-c878-4eed-805f-3a7a2a8fe116",
   "metadata": {},
   "outputs": [
    {
     "data": {
      "text/html": [
       "<div>\n",
       "<style scoped>\n",
       "    .dataframe tbody tr th:only-of-type {\n",
       "        vertical-align: middle;\n",
       "    }\n",
       "\n",
       "    .dataframe tbody tr th {\n",
       "        vertical-align: top;\n",
       "    }\n",
       "\n",
       "    .dataframe thead th {\n",
       "        text-align: right;\n",
       "    }\n",
       "</style>\n",
       "<table border=\"1\" class=\"dataframe\">\n",
       "  <thead>\n",
       "    <tr style=\"text-align: right;\">\n",
       "      <th>bank_account</th>\n",
       "      <th>No</th>\n",
       "      <th>Yes</th>\n",
       "    </tr>\n",
       "    <tr>\n",
       "      <th>status_household</th>\n",
       "      <th></th>\n",
       "      <th></th>\n",
       "    </tr>\n",
       "  </thead>\n",
       "  <tbody>\n",
       "    <tr>\n",
       "      <th>Child</th>\n",
       "      <td>91.34</td>\n",
       "      <td>8.66</td>\n",
       "    </tr>\n",
       "    <tr>\n",
       "      <th>Head of Household</th>\n",
       "      <td>82.29</td>\n",
       "      <td>17.71</td>\n",
       "    </tr>\n",
       "    <tr>\n",
       "      <th>Other non-relatives</th>\n",
       "      <td>89.47</td>\n",
       "      <td>10.53</td>\n",
       "    </tr>\n",
       "    <tr>\n",
       "      <th>Other relative</th>\n",
       "      <td>90.12</td>\n",
       "      <td>9.88</td>\n",
       "    </tr>\n",
       "    <tr>\n",
       "      <th>Parent</th>\n",
       "      <td>94.01</td>\n",
       "      <td>5.99</td>\n",
       "    </tr>\n",
       "    <tr>\n",
       "      <th>Spouse</th>\n",
       "      <td>89.34</td>\n",
       "      <td>10.66</td>\n",
       "    </tr>\n",
       "  </tbody>\n",
       "</table>\n",
       "</div>"
      ],
      "text/plain": [
       "bank_account            No    Yes\n",
       "status_household                 \n",
       "Child                91.34   8.66\n",
       "Head of Household    82.29  17.71\n",
       "Other non-relatives  89.47  10.53\n",
       "Other relative       90.12   9.88\n",
       "Parent               94.01   5.99\n",
       "Spouse               89.34  10.66"
      ]
     },
     "execution_count": 27,
     "metadata": {},
     "output_type": "execute_result"
    }
   ],
   "source": [
    "d['status_household']"
   ]
  },
  {
   "cell_type": "code",
   "execution_count": 28,
   "id": "a3d6d99d-11dd-4aa5-9147-93410cb9a5eb",
   "metadata": {},
   "outputs": [
    {
     "data": {
      "image/png": "[encoded data removed]",
      "text/plain": [
       "<Figure size 400x200 with 1 Axes>"
      ]
     },
     "metadata": {},
     "output_type": "display_data"
    }
   ],
   "source": [
    "d['status_household'].plot.bar(figsize=(4,2), rot=90);"
   ]
  },
  {
   "cell_type": "code",
   "execution_count": 29,
   "id": "00c1fd13-641b-46df-bc31-0ea930c0bbda",
   "metadata": {},
   "outputs": [
    {
     "data": {
      "text/html": [
       "<div>\n",
       "<style scoped>\n",
       "    .dataframe tbody tr th:only-of-type {\n",
       "        vertical-align: middle;\n",
       "    }\n",
       "\n",
       "    .dataframe tbody tr th {\n",
       "        vertical-align: top;\n",
       "    }\n",
       "\n",
       "    .dataframe thead th {\n",
       "        text-align: right;\n",
       "    }\n",
       "</style>\n",
       "<table border=\"1\" class=\"dataframe\">\n",
       "  <thead>\n",
       "    <tr style=\"text-align: right;\">\n",
       "      <th>bank_account</th>\n",
       "      <th>No</th>\n",
       "      <th>Yes</th>\n",
       "    </tr>\n",
       "    <tr>\n",
       "      <th>marital_status</th>\n",
       "      <th></th>\n",
       "      <th></th>\n",
       "    </tr>\n",
       "  </thead>\n",
       "  <tbody>\n",
       "    <tr>\n",
       "      <th>Divorced/Seperated</th>\n",
       "      <td>88.73</td>\n",
       "      <td>11.27</td>\n",
       "    </tr>\n",
       "    <tr>\n",
       "      <th>Dont know</th>\n",
       "      <td>75.00</td>\n",
       "      <td>25.00</td>\n",
       "    </tr>\n",
       "    <tr>\n",
       "      <th>Married/Living together</th>\n",
       "      <td>82.64</td>\n",
       "      <td>17.36</td>\n",
       "    </tr>\n",
       "    <tr>\n",
       "      <th>Single/Never Married</th>\n",
       "      <td>87.90</td>\n",
       "      <td>12.10</td>\n",
       "    </tr>\n",
       "    <tr>\n",
       "      <th>Widowed</th>\n",
       "      <td>90.99</td>\n",
       "      <td>9.01</td>\n",
       "    </tr>\n",
       "  </tbody>\n",
       "</table>\n",
       "</div>"
      ],
      "text/plain": [
       "bank_account                No    Yes\n",
       "marital_status                       \n",
       "Divorced/Seperated       88.73  11.27\n",
       "Dont know                75.00  25.00\n",
       "Married/Living together  82.64  17.36\n",
       "Single/Never Married     87.90  12.10\n",
       "Widowed                  90.99   9.01"
      ]
     },
     "execution_count": 29,
     "metadata": {},
     "output_type": "execute_result"
    }
   ],
   "source": [
    "d['marital_status'].head(10)"
   ]
  },
  {
   "cell_type": "code",
   "execution_count": 30,
   "id": "6f6232e9-9665-4250-9cf1-a023c3dd4cd6",
   "metadata": {},
   "outputs": [
    {
     "data": {
      "image/png": "[encoded data removed]",
      "text/plain": [
       "<Figure size 400x200 with 1 Axes>"
      ]
     },
     "metadata": {},
     "output_type": "display_data"
    }
   ],
   "source": [
    "d['marital_status'].plot.bar(figsize=(4,2), rot=90);"
   ]
  },
  {
   "cell_type": "code",
   "execution_count": 31,
   "id": "b8da45b4-8df7-4a16-84f2-d5d81291c9ff",
   "metadata": {},
   "outputs": [
    {
     "data": {
      "text/html": [
       "<div>\n",
       "<style scoped>\n",
       "    .dataframe tbody tr th:only-of-type {\n",
       "        vertical-align: middle;\n",
       "    }\n",
       "\n",
       "    .dataframe tbody tr th {\n",
       "        vertical-align: top;\n",
       "    }\n",
       "\n",
       "    .dataframe thead th {\n",
       "        text-align: right;\n",
       "    }\n",
       "</style>\n",
       "<table border=\"1\" class=\"dataframe\">\n",
       "  <thead>\n",
       "    <tr style=\"text-align: right;\">\n",
       "      <th>bank_account</th>\n",
       "      <th>No</th>\n",
       "      <th>Yes</th>\n",
       "    </tr>\n",
       "    <tr>\n",
       "      <th>education</th>\n",
       "      <th></th>\n",
       "      <th></th>\n",
       "    </tr>\n",
       "  </thead>\n",
       "  <tbody>\n",
       "    <tr>\n",
       "      <th>No formal education</th>\n",
       "      <td>96.10</td>\n",
       "      <td>3.90</td>\n",
       "    </tr>\n",
       "    <tr>\n",
       "      <th>Other/Dont know/RTA</th>\n",
       "      <td>68.57</td>\n",
       "      <td>31.43</td>\n",
       "    </tr>\n",
       "    <tr>\n",
       "      <th>Primary education</th>\n",
       "      <td>91.45</td>\n",
       "      <td>8.55</td>\n",
       "    </tr>\n",
       "    <tr>\n",
       "      <th>Secondary education</th>\n",
       "      <td>76.72</td>\n",
       "      <td>23.28</td>\n",
       "    </tr>\n",
       "    <tr>\n",
       "      <th>Tertiary education</th>\n",
       "      <td>48.92</td>\n",
       "      <td>51.08</td>\n",
       "    </tr>\n",
       "    <tr>\n",
       "      <th>Vocational/Specialised training</th>\n",
       "      <td>42.96</td>\n",
       "      <td>57.04</td>\n",
       "    </tr>\n",
       "  </tbody>\n",
       "</table>\n",
       "</div>"
      ],
      "text/plain": [
       "bank_account                        No    Yes\n",
       "education                                    \n",
       "No formal education              96.10   3.90\n",
       "Other/Dont know/RTA              68.57  31.43\n",
       "Primary education                91.45   8.55\n",
       "Secondary education              76.72  23.28\n",
       "Tertiary education               48.92  51.08\n",
       "Vocational/Specialised training  42.96  57.04"
      ]
     },
     "execution_count": 31,
     "metadata": {},
     "output_type": "execute_result"
    }
   ],
   "source": [
    "d['education']"
   ]
  },
  {
   "cell_type": "code",
   "execution_count": 32,
   "id": "3f37aa6b-b49e-4a94-b871-2cf6ddb335e3",
   "metadata": {},
   "outputs": [
    {
     "data": {
      "image/png": "[encoded data removed]",
      "text/plain": [
       "<Figure size 400x200 with 1 Axes>"
      ]
     },
     "metadata": {},
     "output_type": "display_data"
    }
   ],
   "source": [
    "d['education'].plot.bar(figsize=(4,2), rot=90);"
   ]
  },
  {
   "cell_type": "code",
   "execution_count": 33,
   "id": "80b469f7-1017-4275-9673-b92ed14674fb",
   "metadata": {},
   "outputs": [
    {
     "data": {
      "text/html": [
       "<div>\n",
       "<style scoped>\n",
       "    .dataframe tbody tr th:only-of-type {\n",
       "        vertical-align: middle;\n",
       "    }\n",
       "\n",
       "    .dataframe tbody tr th {\n",
       "        vertical-align: top;\n",
       "    }\n",
       "\n",
       "    .dataframe thead th {\n",
       "        text-align: right;\n",
       "    }\n",
       "</style>\n",
       "<table border=\"1\" class=\"dataframe\">\n",
       "  <thead>\n",
       "    <tr style=\"text-align: right;\">\n",
       "      <th>bank_account</th>\n",
       "      <th>No</th>\n",
       "      <th>Yes</th>\n",
       "    </tr>\n",
       "    <tr>\n",
       "      <th>job</th>\n",
       "      <th></th>\n",
       "      <th></th>\n",
       "    </tr>\n",
       "  </thead>\n",
       "  <tbody>\n",
       "    <tr>\n",
       "      <th>Dont Know/Refuse to answer</th>\n",
       "      <td>88.89</td>\n",
       "      <td>11.11</td>\n",
       "    </tr>\n",
       "    <tr>\n",
       "      <th>Farming and Fishing</th>\n",
       "      <td>88.33</td>\n",
       "      <td>11.67</td>\n",
       "    </tr>\n",
       "    <tr>\n",
       "      <th>Formally employed Government</th>\n",
       "      <td>22.48</td>\n",
       "      <td>77.52</td>\n",
       "    </tr>\n",
       "    <tr>\n",
       "      <th>Formally employed Private</th>\n",
       "      <td>45.88</td>\n",
       "      <td>54.12</td>\n",
       "    </tr>\n",
       "    <tr>\n",
       "      <th>Government Dependent</th>\n",
       "      <td>79.76</td>\n",
       "      <td>20.24</td>\n",
       "    </tr>\n",
       "    <tr>\n",
       "      <th>Informally employed</th>\n",
       "      <td>92.05</td>\n",
       "      <td>7.95</td>\n",
       "    </tr>\n",
       "    <tr>\n",
       "      <th>No Income</th>\n",
       "      <td>97.93</td>\n",
       "      <td>2.07</td>\n",
       "    </tr>\n",
       "    <tr>\n",
       "      <th>Other Income</th>\n",
       "      <td>81.85</td>\n",
       "      <td>18.15</td>\n",
       "    </tr>\n",
       "    <tr>\n",
       "      <th>Remittance Dependent</th>\n",
       "      <td>90.50</td>\n",
       "      <td>9.50</td>\n",
       "    </tr>\n",
       "    <tr>\n",
       "      <th>Self employed</th>\n",
       "      <td>86.83</td>\n",
       "      <td>13.17</td>\n",
       "    </tr>\n",
       "  </tbody>\n",
       "</table>\n",
       "</div>"
      ],
      "text/plain": [
       "bank_account                     No    Yes\n",
       "job                                       \n",
       "Dont Know/Refuse to answer    88.89  11.11\n",
       "Farming and Fishing           88.33  11.67\n",
       "Formally employed Government  22.48  77.52\n",
       "Formally employed Private     45.88  54.12\n",
       "Government Dependent          79.76  20.24\n",
       "Informally employed           92.05   7.95\n",
       "No Income                     97.93   2.07\n",
       "Other Income                  81.85  18.15\n",
       "Remittance Dependent          90.50   9.50\n",
       "Self employed                 86.83  13.17"
      ]
     },
     "execution_count": 33,
     "metadata": {},
     "output_type": "execute_result"
    }
   ],
   "source": [
    "d['job']"
   ]
  },
  {
   "cell_type": "code",
   "execution_count": 34,
   "id": "b0560af8-f91c-489e-a3b2-121f016ad05f",
   "metadata": {},
   "outputs": [
    {
     "data": {
      "image/png": "[encoded data removed]",
      "text/plain": [
       "<Figure size 400x200 with 1 Axes>"
      ]
     },
     "metadata": {},
     "output_type": "display_data"
    }
   ],
   "source": [
    "d['job'].plot.bar(figsize=(4,2), rot=90);"
   ]
  },
  {
   "cell_type": "code",
   "execution_count": 35,
   "id": "03d64aea-bd8d-46c0-9acb-e1e53070467a",
   "metadata": {},
   "outputs": [
    {
     "data": {
      "text/html": [
       "<div>\n",
       "<style scoped>\n",
       "    .dataframe tbody tr th:only-of-type {\n",
       "        vertical-align: middle;\n",
       "    }\n",
       "\n",
       "    .dataframe tbody tr th {\n",
       "        vertical-align: top;\n",
       "    }\n",
       "\n",
       "    .dataframe thead th {\n",
       "        text-align: right;\n",
       "    }\n",
       "</style>\n",
       "<table border=\"1\" class=\"dataframe\">\n",
       "  <thead>\n",
       "    <tr style=\"text-align: right;\">\n",
       "      <th>education</th>\n",
       "      <th>No formal education</th>\n",
       "      <th>Other/Dont know/RTA</th>\n",
       "      <th>Primary education</th>\n",
       "      <th>Secondary education</th>\n",
       "      <th>Tertiary education</th>\n",
       "      <th>Vocational/Specialised training</th>\n",
       "    </tr>\n",
       "    <tr>\n",
       "      <th>job</th>\n",
       "      <th></th>\n",
       "      <th></th>\n",
       "      <th></th>\n",
       "      <th></th>\n",
       "      <th></th>\n",
       "      <th></th>\n",
       "    </tr>\n",
       "  </thead>\n",
       "  <tbody>\n",
       "    <tr>\n",
       "      <th>Dont Know/Refuse to answer</th>\n",
       "      <td>14.29</td>\n",
       "      <td>0.00</td>\n",
       "      <td>59.52</td>\n",
       "      <td>23.81</td>\n",
       "      <td>1.59</td>\n",
       "      <td>0.79</td>\n",
       "    </tr>\n",
       "    <tr>\n",
       "      <th>Farming and Fishing</th>\n",
       "      <td>25.82</td>\n",
       "      <td>0.00</td>\n",
       "      <td>55.25</td>\n",
       "      <td>16.21</td>\n",
       "      <td>0.97</td>\n",
       "      <td>1.75</td>\n",
       "    </tr>\n",
       "    <tr>\n",
       "      <th>Formally employed Government</th>\n",
       "      <td>1.03</td>\n",
       "      <td>0.52</td>\n",
       "      <td>10.85</td>\n",
       "      <td>33.59</td>\n",
       "      <td>31.27</td>\n",
       "      <td>22.74</td>\n",
       "    </tr>\n",
       "    <tr>\n",
       "      <th>Formally employed Private</th>\n",
       "      <td>3.13</td>\n",
       "      <td>0.19</td>\n",
       "      <td>31.00</td>\n",
       "      <td>25.12</td>\n",
       "      <td>21.23</td>\n",
       "      <td>19.34</td>\n",
       "    </tr>\n",
       "    <tr>\n",
       "      <th>Government Dependent</th>\n",
       "      <td>53.04</td>\n",
       "      <td>0.40</td>\n",
       "      <td>37.25</td>\n",
       "      <td>3.64</td>\n",
       "      <td>3.24</td>\n",
       "      <td>2.43</td>\n",
       "    </tr>\n",
       "    <tr>\n",
       "      <th>Informally employed</th>\n",
       "      <td>20.19</td>\n",
       "      <td>0.29</td>\n",
       "      <td>60.87</td>\n",
       "      <td>14.11</td>\n",
       "      <td>3.14</td>\n",
       "      <td>1.39</td>\n",
       "    </tr>\n",
       "    <tr>\n",
       "      <th>No Income</th>\n",
       "      <td>18.50</td>\n",
       "      <td>0.48</td>\n",
       "      <td>49.92</td>\n",
       "      <td>22.49</td>\n",
       "      <td>7.50</td>\n",
       "      <td>1.12</td>\n",
       "    </tr>\n",
       "    <tr>\n",
       "      <th>Other Income</th>\n",
       "      <td>17.04</td>\n",
       "      <td>0.28</td>\n",
       "      <td>47.78</td>\n",
       "      <td>26.39</td>\n",
       "      <td>4.35</td>\n",
       "      <td>4.17</td>\n",
       "    </tr>\n",
       "    <tr>\n",
       "      <th>Remittance Dependent</th>\n",
       "      <td>19.55</td>\n",
       "      <td>0.08</td>\n",
       "      <td>37.87</td>\n",
       "      <td>31.78</td>\n",
       "      <td>6.89</td>\n",
       "      <td>3.84</td>\n",
       "    </tr>\n",
       "    <tr>\n",
       "      <th>Self employed</th>\n",
       "      <td>15.54</td>\n",
       "      <td>0.09</td>\n",
       "      <td>63.01</td>\n",
       "      <td>13.80</td>\n",
       "      <td>4.74</td>\n",
       "      <td>2.83</td>\n",
       "    </tr>\n",
       "  </tbody>\n",
       "</table>\n",
       "</div>"
      ],
      "text/plain": [
       "education                     No formal education  Other/Dont know/RTA  \\\n",
       "job                                                                      \n",
       "Dont Know/Refuse to answer                  14.29                 0.00   \n",
       "Farming and Fishing                         25.82                 0.00   \n",
       "Formally employed Government                 1.03                 0.52   \n",
       "Formally employed Private                    3.13                 0.19   \n",
       "Government Dependent                        53.04                 0.40   \n",
       "Informally employed                         20.19                 0.29   \n",
       "No Income                                   18.50                 0.48   \n",
       "Other Income                                17.04                 0.28   \n",
       "Remittance Dependent                        19.55                 0.08   \n",
       "Self employed                               15.54                 0.09   \n",
       "\n",
       "education                     Primary education  Secondary education  \\\n",
       "job                                                                    \n",
       "Dont Know/Refuse to answer                59.52                23.81   \n",
       "Farming and Fishing                       55.25                16.21   \n",
       "Formally employed Government              10.85                33.59   \n",
       "Formally employed Private                 31.00                25.12   \n",
       "Government Dependent                      37.25                 3.64   \n",
       "Informally employed                       60.87                14.11   \n",
       "No Income                                 49.92                22.49   \n",
       "Other Income                              47.78                26.39   \n",
       "Remittance Dependent                      37.87                31.78   \n",
       "Self employed                             63.01                13.80   \n",
       "\n",
       "education                     Tertiary education  \\\n",
       "job                                                \n",
       "Dont Know/Refuse to answer                  1.59   \n",
       "Farming and Fishing                         0.97   \n",
       "Formally employed Government               31.27   \n",
       "Formally employed Private                  21.23   \n",
       "Government Dependent                        3.24   \n",
       "Informally employed                         3.14   \n",
       "No Income                                   7.50   \n",
       "Other Income                                4.35   \n",
       "Remittance Dependent                        6.89   \n",
       "Self employed                               4.74   \n",
       "\n",
       "education                     Vocational/Specialised training  \n",
       "job                                                            \n",
       "Dont Know/Refuse to answer                               0.79  \n",
       "Farming and Fishing                                      1.75  \n",
       "Formally employed Government                            22.74  \n",
       "Formally employed Private                               19.34  \n",
       "Government Dependent                                     2.43  \n",
       "Informally employed                                      1.39  \n",
       "No Income                                                1.12  \n",
       "Other Income                                             4.17  \n",
       "Remittance Dependent                                     3.84  \n",
       "Self employed                                            2.83  "
      ]
     },
     "execution_count": 35,
     "metadata": {},
     "output_type": "execute_result"
    }
   ],
   "source": [
    "df_edu_job = pd.crosstab(original_train['job'], original_train['education'], normalize='index').mul(100).round(2)\n",
    "df_edu_job.head(10)"
   ]
  },
  {
   "cell_type": "code",
   "execution_count": 36,
   "id": "695616d2-5686-4262-993f-64dada1e0c04",
   "metadata": {},
   "outputs": [
    {
     "data": {
      "text/plain": [
       "<AxesSubplot:xlabel='job'>"
      ]
     },
     "execution_count": 36,
     "metadata": {},
     "output_type": "execute_result"
    },
    {
     "data": {
      "image/png": "[encoded data removed]",
      "text/plain": [
       "<Figure size 800x400 with 1 Axes>"
      ]
     },
     "metadata": {},
     "output_type": "display_data"
    }
   ],
   "source": [
    "df_edu_job.plot.bar(figsize=(8,4), rot=90)"
   ]
  },
  {
   "cell_type": "markdown",
   "id": "e6f63f1c-305d-4696-8b57-1d9cc71373ce",
   "metadata": {},
   "source": [
    "## Clustering"
   ]
  },
  {
   "cell_type": "code",
   "execution_count": 84,
   "id": "aece3436-6e75-42e4-a5b0-d4901061c775",
   "metadata": {
    "tags": []
   },
   "outputs": [],
   "source": [
    "from sklearn import preprocessing\n",
    "\n",
    "bank_customers = original_train.loc[(original_scaled.bank_account == \"Yes\")]\n",
    "bank_customers_scaled = bank_customers.drop(['country', 'year', 'uniqueid'], axis=1)\n",
    "scaler = preprocessing.MinMaxScaler()\n",
    "bank_customers_scaled[['age','household']] = scaler.fit_transform(bank_customers[['age','household']])"
   ]
  },
  {
   "cell_type": "code",
   "execution_count": 86,
   "id": "43479ec7-bd8b-4a40-b2b4-d1cd29d0e1e1",
   "metadata": {},
   "outputs": [
    {
     "data": {
      "text/plain": [
       "(3312, 10)"
      ]
     },
     "execution_count": 86,
     "metadata": {},
     "output_type": "execute_result"
    }
   ],
   "source": [
    "bank_customers_scaled.shape"
   ]
  },
  {
   "cell_type": "code",
   "execution_count": 87,
   "id": "dfd82dbf-3462-430e-bb80-f4f574617d73",
   "metadata": {},
   "outputs": [],
   "source": [
    "bank_customers_scaled2 = bank_customers_scaled.drop(['bank_account'], axis=1)"
   ]
  },
  {
   "cell_type": "code",
   "execution_count": 49,
   "id": "ce9db33f-f4d9-4472-9618-6647d4d0a6ab",
   "metadata": {
    "tags": []
   },
   "outputs": [],
   "source": [
    "from kmodes.kprototypes import KPrototypes"
   ]
  },
  {
   "cell_type": "markdown",
   "id": "c97cc055-4e04-424d-aed9-de254f07074a",
   "metadata": {
    "tags": []
   },
   "source": [
    "this takes too long\n",
    "\n",
    "```\n",
    "cost = []\n",
    "K = range(1,6)\n",
    "for num_clusters in list(K):\n",
    "    kproto = KPrototypes (n_clusters=num_clusters, init = \"Cao\", n_init = 5, verbose=1)\n",
    "    kproto.fit_predict(bank_customers, categorical=[0,1,4,5,6,7,8])\n",
    "    cost.append(kproto.cost_)\n",
    "```"
   ]
  },
  {
   "cell_type": "code",
   "execution_count": 50,
   "id": "677e594f-6aff-4999-92a8-59162f3a5cb1",
   "metadata": {},
   "outputs": [],
   "source": [
    "# cost for categorical = [0,1,4,5,6,7,8]\n",
    "\n",
    "K = range(1,6)\n",
    "cost = [861.9096379127745,\n",
    " 706.6471529581682,\n",
    " 626.3374351760665,\n",
    " 581.6180868797991,\n",
    " 556.8295447906916]"
   ]
  },
  {
   "cell_type": "code",
   "execution_count": 44,
   "id": "d6c330d3-9f29-4a16-90b2-4bcd5a602871",
   "metadata": {},
   "outputs": [
    {
     "data": {
      "image/png": "[encoded data removed]",
      "text/plain": [
       "<Figure size 640x480 with 1 Axes>"
      ]
     },
     "metadata": {},
     "output_type": "display_data"
    }
   ],
   "source": [
    "plt.plot(K, cost, 'bx-')\n",
    "plt.xlabel('No. of clusters')\n",
    "plt.ylabel('Cost')\n",
    "plt.title('Elbow Method For Optimal k')\n",
    "plt.show()"
   ]
  },
  {
   "cell_type": "code",
   "execution_count": 89,
   "id": "aeebb4c0-2a2d-4aa4-91aa-1abd4d597d6e",
   "metadata": {},
   "outputs": [],
   "source": [
    "kproto = KPrototypes(n_clusters=4, init='Cao')\n",
    "clusters = kproto.fit_predict(bank_customers_scaled2, categorical=[0,1,4,5,6,7,8])"
   ]
  },
  {
   "cell_type": "code",
   "execution_count": 90,
   "id": "a77ab4c9-3dd8-46c7-a0f0-7d7a79be898d",
   "metadata": {},
   "outputs": [
    {
     "data": {
      "text/plain": [
       "(3312,)"
      ]
     },
     "execution_count": 90,
     "metadata": {},
     "output_type": "execute_result"
    }
   ],
   "source": [
    "clusters.shape"
   ]
  },
  {
   "cell_type": "code",
   "execution_count": 93,
   "id": "c4d7b697-f7f3-4565-8359-bd0f9ca329f4",
   "metadata": {},
   "outputs": [],
   "source": [
    "bank_customers.reset_index(drop=True, inplace=True)"
   ]
  },
  {
   "cell_type": "code",
   "execution_count": 94,
   "id": "ba03a96c-704e-4ca9-b714-133a2a6612ed",
   "metadata": {},
   "outputs": [
    {
     "data": {
      "text/html": [
       "<div>\n",
       "<style scoped>\n",
       "    .dataframe tbody tr th:only-of-type {\n",
       "        vertical-align: middle;\n",
       "    }\n",
       "\n",
       "    .dataframe tbody tr th {\n",
       "        vertical-align: top;\n",
       "    }\n",
       "\n",
       "    .dataframe thead th {\n",
       "        text-align: right;\n",
       "    }\n",
       "</style>\n",
       "<table border=\"1\" class=\"dataframe\">\n",
       "  <thead>\n",
       "    <tr style=\"text-align: right;\">\n",
       "      <th></th>\n",
       "      <th>country</th>\n",
       "      <th>year</th>\n",
       "      <th>uniqueid</th>\n",
       "      <th>bank_account</th>\n",
       "      <th>location</th>\n",
       "      <th>cellphone</th>\n",
       "      <th>household</th>\n",
       "      <th>age</th>\n",
       "      <th>gender</th>\n",
       "      <th>status_household</th>\n",
       "      <th>marital_status</th>\n",
       "      <th>education</th>\n",
       "      <th>job</th>\n",
       "    </tr>\n",
       "  </thead>\n",
       "  <tbody>\n",
       "    <tr>\n",
       "      <th>0</th>\n",
       "      <td>Kenya</td>\n",
       "      <td>2018</td>\n",
       "      <td>uniqueid_1</td>\n",
       "      <td>Yes</td>\n",
       "      <td>Rural</td>\n",
       "      <td>Yes</td>\n",
       "      <td>3</td>\n",
       "      <td>24</td>\n",
       "      <td>Female</td>\n",
       "      <td>Spouse</td>\n",
       "      <td>Married/Living together</td>\n",
       "      <td>Secondary education</td>\n",
       "      <td>Self employed</td>\n",
       "    </tr>\n",
       "    <tr>\n",
       "      <th>1</th>\n",
       "      <td>Kenya</td>\n",
       "      <td>2018</td>\n",
       "      <td>uniqueid_3</td>\n",
       "      <td>Yes</td>\n",
       "      <td>Urban</td>\n",
       "      <td>Yes</td>\n",
       "      <td>5</td>\n",
       "      <td>26</td>\n",
       "      <td>Male</td>\n",
       "      <td>Other relative</td>\n",
       "      <td>Single/Never Married</td>\n",
       "      <td>Vocational/Specialised training</td>\n",
       "      <td>Self employed</td>\n",
       "    </tr>\n",
       "    <tr>\n",
       "      <th>2</th>\n",
       "      <td>Kenya</td>\n",
       "      <td>2018</td>\n",
       "      <td>uniqueid_9</td>\n",
       "      <td>Yes</td>\n",
       "      <td>Rural</td>\n",
       "      <td>Yes</td>\n",
       "      <td>3</td>\n",
       "      <td>54</td>\n",
       "      <td>Male</td>\n",
       "      <td>Head of Household</td>\n",
       "      <td>Married/Living together</td>\n",
       "      <td>Secondary education</td>\n",
       "      <td>Farming and Fishing</td>\n",
       "    </tr>\n",
       "    <tr>\n",
       "      <th>3</th>\n",
       "      <td>Kenya</td>\n",
       "      <td>2018</td>\n",
       "      <td>uniqueid_12</td>\n",
       "      <td>Yes</td>\n",
       "      <td>Rural</td>\n",
       "      <td>Yes</td>\n",
       "      <td>3</td>\n",
       "      <td>69</td>\n",
       "      <td>Male</td>\n",
       "      <td>Head of Household</td>\n",
       "      <td>Married/Living together</td>\n",
       "      <td>Secondary education</td>\n",
       "      <td>Other Income</td>\n",
       "    </tr>\n",
       "    <tr>\n",
       "      <th>4</th>\n",
       "      <td>Kenya</td>\n",
       "      <td>2018</td>\n",
       "      <td>uniqueid_18</td>\n",
       "      <td>Yes</td>\n",
       "      <td>Rural</td>\n",
       "      <td>Yes</td>\n",
       "      <td>6</td>\n",
       "      <td>27</td>\n",
       "      <td>Female</td>\n",
       "      <td>Head of Household</td>\n",
       "      <td>Married/Living together</td>\n",
       "      <td>Secondary education</td>\n",
       "      <td>Self employed</td>\n",
       "    </tr>\n",
       "    <tr>\n",
       "      <th>...</th>\n",
       "      <td>...</td>\n",
       "      <td>...</td>\n",
       "      <td>...</td>\n",
       "      <td>...</td>\n",
       "      <td>...</td>\n",
       "      <td>...</td>\n",
       "      <td>...</td>\n",
       "      <td>...</td>\n",
       "      <td>...</td>\n",
       "      <td>...</td>\n",
       "      <td>...</td>\n",
       "      <td>...</td>\n",
       "      <td>...</td>\n",
       "    </tr>\n",
       "    <tr>\n",
       "      <th>3307</th>\n",
       "      <td>Uganda</td>\n",
       "      <td>2018</td>\n",
       "      <td>uniqueid_1905</td>\n",
       "      <td>Yes</td>\n",
       "      <td>Urban</td>\n",
       "      <td>Yes</td>\n",
       "      <td>1</td>\n",
       "      <td>24</td>\n",
       "      <td>Female</td>\n",
       "      <td>Head of Household</td>\n",
       "      <td>Single/Never Married</td>\n",
       "      <td>Secondary education</td>\n",
       "      <td>Other Income</td>\n",
       "    </tr>\n",
       "    <tr>\n",
       "      <th>3308</th>\n",
       "      <td>Uganda</td>\n",
       "      <td>2018</td>\n",
       "      <td>uniqueid_1909</td>\n",
       "      <td>Yes</td>\n",
       "      <td>Rural</td>\n",
       "      <td>Yes</td>\n",
       "      <td>3</td>\n",
       "      <td>26</td>\n",
       "      <td>Female</td>\n",
       "      <td>Head of Household</td>\n",
       "      <td>Married/Living together</td>\n",
       "      <td>Secondary education</td>\n",
       "      <td>Other Income</td>\n",
       "    </tr>\n",
       "    <tr>\n",
       "      <th>3309</th>\n",
       "      <td>Uganda</td>\n",
       "      <td>2018</td>\n",
       "      <td>uniqueid_1929</td>\n",
       "      <td>Yes</td>\n",
       "      <td>Rural</td>\n",
       "      <td>Yes</td>\n",
       "      <td>5</td>\n",
       "      <td>36</td>\n",
       "      <td>Female</td>\n",
       "      <td>Head of Household</td>\n",
       "      <td>Widowed</td>\n",
       "      <td>Primary education</td>\n",
       "      <td>No Income</td>\n",
       "    </tr>\n",
       "    <tr>\n",
       "      <th>3310</th>\n",
       "      <td>Uganda</td>\n",
       "      <td>2018</td>\n",
       "      <td>uniqueid_1936</td>\n",
       "      <td>Yes</td>\n",
       "      <td>Rural</td>\n",
       "      <td>Yes</td>\n",
       "      <td>10</td>\n",
       "      <td>50</td>\n",
       "      <td>Female</td>\n",
       "      <td>Head of Household</td>\n",
       "      <td>Widowed</td>\n",
       "      <td>Primary education</td>\n",
       "      <td>Self employed</td>\n",
       "    </tr>\n",
       "    <tr>\n",
       "      <th>3311</th>\n",
       "      <td>Uganda</td>\n",
       "      <td>2018</td>\n",
       "      <td>uniqueid_1940</td>\n",
       "      <td>Yes</td>\n",
       "      <td>Urban</td>\n",
       "      <td>No</td>\n",
       "      <td>7</td>\n",
       "      <td>18</td>\n",
       "      <td>Female</td>\n",
       "      <td>Parent</td>\n",
       "      <td>Single/Never Married</td>\n",
       "      <td>Secondary education</td>\n",
       "      <td>Other Income</td>\n",
       "    </tr>\n",
       "  </tbody>\n",
       "</table>\n",
       "<p>3312 rows × 13 columns</p>\n",
       "</div>"
      ],
      "text/plain": [
       "     country  year       uniqueid bank_account location cellphone  household  \\\n",
       "0      Kenya  2018     uniqueid_1          Yes    Rural       Yes          3   \n",
       "1      Kenya  2018     uniqueid_3          Yes    Urban       Yes          5   \n",
       "2      Kenya  2018     uniqueid_9          Yes    Rural       Yes          3   \n",
       "3      Kenya  2018    uniqueid_12          Yes    Rural       Yes          3   \n",
       "4      Kenya  2018    uniqueid_18          Yes    Rural       Yes          6   \n",
       "...      ...   ...            ...          ...      ...       ...        ...   \n",
       "3307  Uganda  2018  uniqueid_1905          Yes    Urban       Yes          1   \n",
       "3308  Uganda  2018  uniqueid_1909          Yes    Rural       Yes          3   \n",
       "3309  Uganda  2018  uniqueid_1929          Yes    Rural       Yes          5   \n",
       "3310  Uganda  2018  uniqueid_1936          Yes    Rural       Yes         10   \n",
       "3311  Uganda  2018  uniqueid_1940          Yes    Urban        No          7   \n",
       "\n",
       "      age  gender   status_household           marital_status  \\\n",
       "0      24  Female             Spouse  Married/Living together   \n",
       "1      26    Male     Other relative     Single/Never Married   \n",
       "2      54    Male  Head of Household  Married/Living together   \n",
       "3      69    Male  Head of Household  Married/Living together   \n",
       "4      27  Female  Head of Household  Married/Living together   \n",
       "...   ...     ...                ...                      ...   \n",
       "3307   24  Female  Head of Household     Single/Never Married   \n",
       "3308   26  Female  Head of Household  Married/Living together   \n",
       "3309   36  Female  Head of Household                  Widowed   \n",
       "3310   50  Female  Head of Household                  Widowed   \n",
       "3311   18  Female             Parent     Single/Never Married   \n",
       "\n",
       "                            education                  job  \n",
       "0                 Secondary education        Self employed  \n",
       "1     Vocational/Specialised training        Self employed  \n",
       "2                 Secondary education  Farming and Fishing  \n",
       "3                 Secondary education         Other Income  \n",
       "4                 Secondary education        Self employed  \n",
       "...                               ...                  ...  \n",
       "3307              Secondary education         Other Income  \n",
       "3308              Secondary education         Other Income  \n",
       "3309                Primary education            No Income  \n",
       "3310                Primary education        Self employed  \n",
       "3311              Secondary education         Other Income  \n",
       "\n",
       "[3312 rows x 13 columns]"
      ]
     },
     "execution_count": 94,
     "metadata": {},
     "output_type": "execute_result"
    }
   ],
   "source": [
    "bank_customers"
   ]
  },
  {
   "cell_type": "code",
   "execution_count": 95,
   "id": "8dd31026-abeb-4a87-b8f4-7be79c52022d",
   "metadata": {},
   "outputs": [],
   "source": [
    "df_cluster = pd.Series(clusters, name='Cluster')\n",
    "df_clustered = pd.concat([bank_customers, df_cluster], axis=1)"
   ]
  },
  {
   "cell_type": "code",
   "execution_count": 96,
   "id": "9eb24abc-8300-456c-833f-344a4461ecc4",
   "metadata": {},
   "outputs": [
    {
     "data": {
      "text/html": [
       "<div>\n",
       "<style scoped>\n",
       "    .dataframe tbody tr th:only-of-type {\n",
       "        vertical-align: middle;\n",
       "    }\n",
       "\n",
       "    .dataframe tbody tr th {\n",
       "        vertical-align: top;\n",
       "    }\n",
       "\n",
       "    .dataframe thead th {\n",
       "        text-align: right;\n",
       "    }\n",
       "</style>\n",
       "<table border=\"1\" class=\"dataframe\">\n",
       "  <thead>\n",
       "    <tr style=\"text-align: right;\">\n",
       "      <th></th>\n",
       "      <th>country</th>\n",
       "      <th>year</th>\n",
       "      <th>uniqueid</th>\n",
       "      <th>bank_account</th>\n",
       "      <th>location</th>\n",
       "      <th>cellphone</th>\n",
       "      <th>household</th>\n",
       "      <th>age</th>\n",
       "      <th>gender</th>\n",
       "      <th>status_household</th>\n",
       "      <th>marital_status</th>\n",
       "      <th>education</th>\n",
       "      <th>job</th>\n",
       "      <th>Cluster</th>\n",
       "    </tr>\n",
       "  </thead>\n",
       "  <tbody>\n",
       "    <tr>\n",
       "      <th>0</th>\n",
       "      <td>Kenya</td>\n",
       "      <td>2018</td>\n",
       "      <td>uniqueid_1</td>\n",
       "      <td>Yes</td>\n",
       "      <td>Rural</td>\n",
       "      <td>Yes</td>\n",
       "      <td>3</td>\n",
       "      <td>24</td>\n",
       "      <td>Female</td>\n",
       "      <td>Spouse</td>\n",
       "      <td>Married/Living together</td>\n",
       "      <td>Secondary education</td>\n",
       "      <td>Self employed</td>\n",
       "      <td>2</td>\n",
       "    </tr>\n",
       "    <tr>\n",
       "      <th>1</th>\n",
       "      <td>Kenya</td>\n",
       "      <td>2018</td>\n",
       "      <td>uniqueid_3</td>\n",
       "      <td>Yes</td>\n",
       "      <td>Urban</td>\n",
       "      <td>Yes</td>\n",
       "      <td>5</td>\n",
       "      <td>26</td>\n",
       "      <td>Male</td>\n",
       "      <td>Other relative</td>\n",
       "      <td>Single/Never Married</td>\n",
       "      <td>Vocational/Specialised training</td>\n",
       "      <td>Self employed</td>\n",
       "      <td>3</td>\n",
       "    </tr>\n",
       "    <tr>\n",
       "      <th>2</th>\n",
       "      <td>Kenya</td>\n",
       "      <td>2018</td>\n",
       "      <td>uniqueid_9</td>\n",
       "      <td>Yes</td>\n",
       "      <td>Rural</td>\n",
       "      <td>Yes</td>\n",
       "      <td>3</td>\n",
       "      <td>54</td>\n",
       "      <td>Male</td>\n",
       "      <td>Head of Household</td>\n",
       "      <td>Married/Living together</td>\n",
       "      <td>Secondary education</td>\n",
       "      <td>Farming and Fishing</td>\n",
       "      <td>0</td>\n",
       "    </tr>\n",
       "    <tr>\n",
       "      <th>3</th>\n",
       "      <td>Kenya</td>\n",
       "      <td>2018</td>\n",
       "      <td>uniqueid_12</td>\n",
       "      <td>Yes</td>\n",
       "      <td>Rural</td>\n",
       "      <td>Yes</td>\n",
       "      <td>3</td>\n",
       "      <td>69</td>\n",
       "      <td>Male</td>\n",
       "      <td>Head of Household</td>\n",
       "      <td>Married/Living together</td>\n",
       "      <td>Secondary education</td>\n",
       "      <td>Other Income</td>\n",
       "      <td>0</td>\n",
       "    </tr>\n",
       "    <tr>\n",
       "      <th>4</th>\n",
       "      <td>Kenya</td>\n",
       "      <td>2018</td>\n",
       "      <td>uniqueid_18</td>\n",
       "      <td>Yes</td>\n",
       "      <td>Rural</td>\n",
       "      <td>Yes</td>\n",
       "      <td>6</td>\n",
       "      <td>27</td>\n",
       "      <td>Female</td>\n",
       "      <td>Head of Household</td>\n",
       "      <td>Married/Living together</td>\n",
       "      <td>Secondary education</td>\n",
       "      <td>Self employed</td>\n",
       "      <td>2</td>\n",
       "    </tr>\n",
       "    <tr>\n",
       "      <th>...</th>\n",
       "      <td>...</td>\n",
       "      <td>...</td>\n",
       "      <td>...</td>\n",
       "      <td>...</td>\n",
       "      <td>...</td>\n",
       "      <td>...</td>\n",
       "      <td>...</td>\n",
       "      <td>...</td>\n",
       "      <td>...</td>\n",
       "      <td>...</td>\n",
       "      <td>...</td>\n",
       "      <td>...</td>\n",
       "      <td>...</td>\n",
       "      <td>...</td>\n",
       "    </tr>\n",
       "    <tr>\n",
       "      <th>3307</th>\n",
       "      <td>Uganda</td>\n",
       "      <td>2018</td>\n",
       "      <td>uniqueid_1905</td>\n",
       "      <td>Yes</td>\n",
       "      <td>Urban</td>\n",
       "      <td>Yes</td>\n",
       "      <td>1</td>\n",
       "      <td>24</td>\n",
       "      <td>Female</td>\n",
       "      <td>Head of Household</td>\n",
       "      <td>Single/Never Married</td>\n",
       "      <td>Secondary education</td>\n",
       "      <td>Other Income</td>\n",
       "      <td>3</td>\n",
       "    </tr>\n",
       "    <tr>\n",
       "      <th>3308</th>\n",
       "      <td>Uganda</td>\n",
       "      <td>2018</td>\n",
       "      <td>uniqueid_1909</td>\n",
       "      <td>Yes</td>\n",
       "      <td>Rural</td>\n",
       "      <td>Yes</td>\n",
       "      <td>3</td>\n",
       "      <td>26</td>\n",
       "      <td>Female</td>\n",
       "      <td>Head of Household</td>\n",
       "      <td>Married/Living together</td>\n",
       "      <td>Secondary education</td>\n",
       "      <td>Other Income</td>\n",
       "      <td>2</td>\n",
       "    </tr>\n",
       "    <tr>\n",
       "      <th>3309</th>\n",
       "      <td>Uganda</td>\n",
       "      <td>2018</td>\n",
       "      <td>uniqueid_1929</td>\n",
       "      <td>Yes</td>\n",
       "      <td>Rural</td>\n",
       "      <td>Yes</td>\n",
       "      <td>5</td>\n",
       "      <td>36</td>\n",
       "      <td>Female</td>\n",
       "      <td>Head of Household</td>\n",
       "      <td>Widowed</td>\n",
       "      <td>Primary education</td>\n",
       "      <td>No Income</td>\n",
       "      <td>1</td>\n",
       "    </tr>\n",
       "    <tr>\n",
       "      <th>3310</th>\n",
       "      <td>Uganda</td>\n",
       "      <td>2018</td>\n",
       "      <td>uniqueid_1936</td>\n",
       "      <td>Yes</td>\n",
       "      <td>Rural</td>\n",
       "      <td>Yes</td>\n",
       "      <td>10</td>\n",
       "      <td>50</td>\n",
       "      <td>Female</td>\n",
       "      <td>Head of Household</td>\n",
       "      <td>Widowed</td>\n",
       "      <td>Primary education</td>\n",
       "      <td>Self employed</td>\n",
       "      <td>0</td>\n",
       "    </tr>\n",
       "    <tr>\n",
       "      <th>3311</th>\n",
       "      <td>Uganda</td>\n",
       "      <td>2018</td>\n",
       "      <td>uniqueid_1940</td>\n",
       "      <td>Yes</td>\n",
       "      <td>Urban</td>\n",
       "      <td>No</td>\n",
       "      <td>7</td>\n",
       "      <td>18</td>\n",
       "      <td>Female</td>\n",
       "      <td>Parent</td>\n",
       "      <td>Single/Never Married</td>\n",
       "      <td>Secondary education</td>\n",
       "      <td>Other Income</td>\n",
       "      <td>2</td>\n",
       "    </tr>\n",
       "  </tbody>\n",
       "</table>\n",
       "<p>3312 rows × 14 columns</p>\n",
       "</div>"
      ],
      "text/plain": [
       "     country  year       uniqueid bank_account location cellphone  household  \\\n",
       "0      Kenya  2018     uniqueid_1          Yes    Rural       Yes          3   \n",
       "1      Kenya  2018     uniqueid_3          Yes    Urban       Yes          5   \n",
       "2      Kenya  2018     uniqueid_9          Yes    Rural       Yes          3   \n",
       "3      Kenya  2018    uniqueid_12          Yes    Rural       Yes          3   \n",
       "4      Kenya  2018    uniqueid_18          Yes    Rural       Yes          6   \n",
       "...      ...   ...            ...          ...      ...       ...        ...   \n",
       "3307  Uganda  2018  uniqueid_1905          Yes    Urban       Yes          1   \n",
       "3308  Uganda  2018  uniqueid_1909          Yes    Rural       Yes          3   \n",
       "3309  Uganda  2018  uniqueid_1929          Yes    Rural       Yes          5   \n",
       "3310  Uganda  2018  uniqueid_1936          Yes    Rural       Yes         10   \n",
       "3311  Uganda  2018  uniqueid_1940          Yes    Urban        No          7   \n",
       "\n",
       "      age  gender   status_household           marital_status  \\\n",
       "0      24  Female             Spouse  Married/Living together   \n",
       "1      26    Male     Other relative     Single/Never Married   \n",
       "2      54    Male  Head of Household  Married/Living together   \n",
       "3      69    Male  Head of Household  Married/Living together   \n",
       "4      27  Female  Head of Household  Married/Living together   \n",
       "...   ...     ...                ...                      ...   \n",
       "3307   24  Female  Head of Household     Single/Never Married   \n",
       "3308   26  Female  Head of Household  Married/Living together   \n",
       "3309   36  Female  Head of Household                  Widowed   \n",
       "3310   50  Female  Head of Household                  Widowed   \n",
       "3311   18  Female             Parent     Single/Never Married   \n",
       "\n",
       "                            education                  job  Cluster  \n",
       "0                 Secondary education        Self employed        2  \n",
       "1     Vocational/Specialised training        Self employed        3  \n",
       "2                 Secondary education  Farming and Fishing        0  \n",
       "3                 Secondary education         Other Income        0  \n",
       "4                 Secondary education        Self employed        2  \n",
       "...                               ...                  ...      ...  \n",
       "3307              Secondary education         Other Income        3  \n",
       "3308              Secondary education         Other Income        2  \n",
       "3309                Primary education            No Income        1  \n",
       "3310                Primary education        Self employed        0  \n",
       "3311              Secondary education         Other Income        2  \n",
       "\n",
       "[3312 rows x 14 columns]"
      ]
     },
     "execution_count": 96,
     "metadata": {},
     "output_type": "execute_result"
    }
   ],
   "source": [
    "df_clustered"
   ]
  },
  {
   "cell_type": "code",
   "execution_count": 97,
   "id": "1c73fbac-9251-4479-bf5e-550d2f67f0d5",
   "metadata": {},
   "outputs": [
    {
     "data": {
      "text/html": [
       "<div>\n",
       "<style scoped>\n",
       "    .dataframe tbody tr th:only-of-type {\n",
       "        vertical-align: middle;\n",
       "    }\n",
       "\n",
       "    .dataframe tbody tr th {\n",
       "        vertical-align: top;\n",
       "    }\n",
       "\n",
       "    .dataframe thead th {\n",
       "        text-align: right;\n",
       "    }\n",
       "</style>\n",
       "<table border=\"1\" class=\"dataframe\">\n",
       "  <thead>\n",
       "    <tr style=\"text-align: right;\">\n",
       "      <th></th>\n",
       "      <th>Segment</th>\n",
       "      <th>Cluster</th>\n",
       "      <th>location</th>\n",
       "      <th>cellphone</th>\n",
       "      <th>household</th>\n",
       "      <th>age</th>\n",
       "      <th>gender</th>\n",
       "      <th>status_household</th>\n",
       "      <th>marital_status</th>\n",
       "      <th>education</th>\n",
       "      <th>job</th>\n",
       "    </tr>\n",
       "  </thead>\n",
       "  <tbody>\n",
       "    <tr>\n",
       "      <th>0</th>\n",
       "      <td>First</td>\n",
       "      <td>1103</td>\n",
       "      <td>Rural</td>\n",
       "      <td>Yes</td>\n",
       "      <td>4.393472</td>\n",
       "      <td>41.878513</td>\n",
       "      <td>Male</td>\n",
       "      <td>Head of Household</td>\n",
       "      <td>Married/Living together</td>\n",
       "      <td>Primary education</td>\n",
       "      <td>Self employed</td>\n",
       "    </tr>\n",
       "    <tr>\n",
       "      <th>1</th>\n",
       "      <td>Fourth</td>\n",
       "      <td>954</td>\n",
       "      <td>Urban</td>\n",
       "      <td>Yes</td>\n",
       "      <td>2.430818</td>\n",
       "      <td>32.119497</td>\n",
       "      <td>Male</td>\n",
       "      <td>Head of Household</td>\n",
       "      <td>Single/Never Married</td>\n",
       "      <td>Tertiary education</td>\n",
       "      <td>Formally employed Private</td>\n",
       "    </tr>\n",
       "    <tr>\n",
       "      <th>2</th>\n",
       "      <td>Second</td>\n",
       "      <td>421</td>\n",
       "      <td>Rural</td>\n",
       "      <td>Yes</td>\n",
       "      <td>3.026128</td>\n",
       "      <td>62.570071</td>\n",
       "      <td>Female</td>\n",
       "      <td>Head of Household</td>\n",
       "      <td>Widowed</td>\n",
       "      <td>Primary education</td>\n",
       "      <td>Farming and Fishing</td>\n",
       "    </tr>\n",
       "    <tr>\n",
       "      <th>3</th>\n",
       "      <td>Third</td>\n",
       "      <td>834</td>\n",
       "      <td>Urban</td>\n",
       "      <td>Yes</td>\n",
       "      <td>4.342926</td>\n",
       "      <td>33.540767</td>\n",
       "      <td>Female</td>\n",
       "      <td>Spouse</td>\n",
       "      <td>Married/Living together</td>\n",
       "      <td>Secondary education</td>\n",
       "      <td>Self employed</td>\n",
       "    </tr>\n",
       "  </tbody>\n",
       "</table>\n",
       "</div>"
      ],
      "text/plain": [
       "  Segment  Cluster location cellphone  household        age  gender  \\\n",
       "0   First     1103    Rural       Yes   4.393472  41.878513    Male   \n",
       "1  Fourth      954    Urban       Yes   2.430818  32.119497    Male   \n",
       "2  Second      421    Rural       Yes   3.026128  62.570071  Female   \n",
       "3   Third      834    Urban       Yes   4.342926  33.540767  Female   \n",
       "\n",
       "    status_household           marital_status            education  \\\n",
       "0  Head of Household  Married/Living together    Primary education   \n",
       "1  Head of Household     Single/Never Married   Tertiary education   \n",
       "2  Head of Household                  Widowed    Primary education   \n",
       "3             Spouse  Married/Living together  Secondary education   \n",
       "\n",
       "                         job  \n",
       "0              Self employed  \n",
       "1  Formally employed Private  \n",
       "2        Farming and Fishing  \n",
       "3              Self employed  "
      ]
     },
     "execution_count": 97,
     "metadata": {},
     "output_type": "execute_result"
    }
   ],
   "source": [
    "df_clustered['Segment'] = df_clustered['Cluster'].map({0:'First', 1:'Second', 2:'Third', 3: 'Fourth'})\n",
    "df_clustered['Segment'] = df_clustered['Segment'].astype('category')\n",
    "\n",
    "df_clustered.groupby('Segment').agg(\n",
    "    {'Cluster':'count',\n",
    "    'location': lambda x: x.value_counts().index[0],\n",
    "    'cellphone': lambda x: x.value_counts().index[0],\n",
    "    'household': 'mean',\n",
    "    'age': 'mean',\n",
    "    'gender': lambda x: x.value_counts().index[0],\n",
    "    'status_household': lambda x: x.value_counts().index[0],\n",
    "    'marital_status': lambda x: x.value_counts().index[0],\n",
    "    'education': lambda x: x.value_counts().index[0],\n",
    "    'job': lambda x: x.value_counts().index[0],\n",
    "    }\n",
    ").reset_index()"
   ]
  },
  {
   "cell_type": "markdown",
   "id": "a6033c9b-9889-4ee0-b57f-c92b6f62c537",
   "metadata": {},
   "source": [
    "### Data Cleaning, Preprocessing #1"
   ]
  },
  {
   "cell_type": "code",
   "execution_count": 42,
   "id": "ca086b7c-9834-464b-8b19-315047323099",
   "metadata": {},
   "outputs": [
    {
     "data": {
      "text/html": [
       "<div>\n",
       "<style scoped>\n",
       "    .dataframe tbody tr th:only-of-type {\n",
       "        vertical-align: middle;\n",
       "    }\n",
       "\n",
       "    .dataframe tbody tr th {\n",
       "        vertical-align: top;\n",
       "    }\n",
       "\n",
       "    .dataframe thead th {\n",
       "        text-align: right;\n",
       "    }\n",
       "</style>\n",
       "<table border=\"1\" class=\"dataframe\">\n",
       "  <thead>\n",
       "    <tr style=\"text-align: right;\">\n",
       "      <th></th>\n",
       "      <th>country</th>\n",
       "      <th>year</th>\n",
       "      <th>uniqueid</th>\n",
       "      <th>bank_account</th>\n",
       "      <th>location</th>\n",
       "      <th>cellphone</th>\n",
       "      <th>household</th>\n",
       "      <th>age</th>\n",
       "      <th>gender</th>\n",
       "      <th>status_household</th>\n",
       "      <th>marital_status</th>\n",
       "      <th>education</th>\n",
       "      <th>job</th>\n",
       "    </tr>\n",
       "  </thead>\n",
       "  <tbody>\n",
       "    <tr>\n",
       "      <th>0</th>\n",
       "      <td>Kenya</td>\n",
       "      <td>2018</td>\n",
       "      <td>uniqueid_1</td>\n",
       "      <td>Yes</td>\n",
       "      <td>Rural</td>\n",
       "      <td>Yes</td>\n",
       "      <td>3</td>\n",
       "      <td>24</td>\n",
       "      <td>Female</td>\n",
       "      <td>Spouse</td>\n",
       "      <td>Married/Living together</td>\n",
       "      <td>Secondary education</td>\n",
       "      <td>Self employed</td>\n",
       "    </tr>\n",
       "    <tr>\n",
       "      <th>1</th>\n",
       "      <td>Kenya</td>\n",
       "      <td>2018</td>\n",
       "      <td>uniqueid_2</td>\n",
       "      <td>No</td>\n",
       "      <td>Rural</td>\n",
       "      <td>No</td>\n",
       "      <td>5</td>\n",
       "      <td>70</td>\n",
       "      <td>Female</td>\n",
       "      <td>Head of Household</td>\n",
       "      <td>Widowed</td>\n",
       "      <td>No formal education</td>\n",
       "      <td>Government Dependent</td>\n",
       "    </tr>\n",
       "  </tbody>\n",
       "</table>\n",
       "</div>"
      ],
      "text/plain": [
       "  country  year    uniqueid bank_account location cellphone  household  age  \\\n",
       "0   Kenya  2018  uniqueid_1          Yes    Rural       Yes          3   24   \n",
       "1   Kenya  2018  uniqueid_2           No    Rural        No          5   70   \n",
       "\n",
       "   gender   status_household           marital_status            education  \\\n",
       "0  Female             Spouse  Married/Living together  Secondary education   \n",
       "1  Female  Head of Household                  Widowed  No formal education   \n",
       "\n",
       "                    job  \n",
       "0         Self employed  \n",
       "1  Government Dependent  "
      ]
     },
     "execution_count": 42,
     "metadata": {},
     "output_type": "execute_result"
    }
   ],
   "source": [
    "original_train.head(2)"
   ]
  },
  {
   "cell_type": "code",
   "execution_count": 43,
   "id": "adceac32-152e-41a7-b971-112005856312",
   "metadata": {
    "tags": []
   },
   "outputs": [],
   "source": [
    "from sklearn.preprocessing import LabelEncoder\n",
    "from sklearn.preprocessing import MinMaxScaler\n",
    "from sklearn import metrics"
   ]
  },
  {
   "cell_type": "code",
   "execution_count": 44,
   "id": "ec35c4dc-8a60-4d60-a39f-9df6830582da",
   "metadata": {},
   "outputs": [],
   "source": [
    "#convert target variable to numeric\n",
    "le = LabelEncoder()\n",
    "original_train['bank_account'] = le.fit_transform(original_train['bank_account'])"
   ]
  },
  {
   "cell_type": "code",
   "execution_count": 45,
   "id": "3b15163f-64a8-4053-9560-18590049e639",
   "metadata": {},
   "outputs": [],
   "source": [
    "#Separate training features from target\n",
    "X_train = original_train.drop(['bank_account'], axis=1)\n",
    "y_train = original_train['bank_account']"
   ]
  },
  {
   "cell_type": "code",
   "execution_count": 46,
   "id": "5aa4f974-95d3-4868-987f-7ed14e11cba4",
   "metadata": {},
   "outputs": [],
   "source": [
    "# this has to be repeated for original_test!\n",
    "\n",
    "X_train = X_train.drop([\"uniqueid\", \"year\"], axis=1)\n",
    "\n",
    "country_dummies = pd.get_dummies(X_train['country'], prefix='country', drop_first=True)\n",
    "location_dummies = pd.get_dummies(X_train['location'], prefix='location', drop_first=True)\n",
    "cellphone_dummies = pd.get_dummies(X_train['cellphone'], prefix='cellphone', drop_first=True)\n",
    "gender_dummies = pd.get_dummies(X_train['gender'], prefix='gender', drop_first=True)\n",
    "marital_status_dummies = pd.get_dummies(X_train['marital_status'], prefix='marital_status', drop_first=True)\n",
    "job_dummies = pd.get_dummies(X_train['job'], prefix='job', drop_first=True)\n",
    "status_household_dummies = pd.get_dummies(X_train['status_household'], prefix='status_household', drop_first=True)\n",
    "\n",
    "X_train = pd.concat([X_train, country_dummies, location_dummies, cellphone_dummies, gender_dummies, marital_status_dummies, job_dummies, status_household_dummies], axis=1)\n",
    "\n",
    "edu_mapping = {'No formal education': 0, \n",
    "               'Primary education' : 2, \n",
    "               'Other/Dont know/RTA': 1,\n",
    "               'Vocational/Specialised training': 4, \n",
    "               'Secondary education': 3, \n",
    "               'Tertiary education' : 5}\n",
    "\n",
    "X_train = X_train.assign(edu_cat = X_train.education.map(edu_mapping))\n",
    "\n",
    "X_train = X_train.drop(['country', 'location', 'cellphone', 'gender', 'marital_status', 'education', 'job', 'status_household'], axis=1)\n",
    "\n",
    "scaler = MinMaxScaler(feature_range=(0, 1))\n",
    "columns_to_scale = ['household', 'age', 'country_Rwanda', 'country_Tanzania',\n",
    "       'country_Uganda', 'location_Urban', 'cellphone_Yes', 'gender_Male',\n",
    "       'marital_status_Dont know', 'marital_status_Married/Living together',\n",
    "       'marital_status_Single/Never Married', 'marital_status_Widowed',\n",
    "       'job_Farming and Fishing', 'job_Formally employed Government',\n",
    "       'job_Formally employed Private', 'job_Government Dependent',\n",
    "       'job_Informally employed', 'job_No Income', 'job_Other Income',\n",
    "       'job_Remittance Dependent', 'job_Self employed',\n",
    "       'status_household_Head of Household',\n",
    "       'status_household_Other non-relatives',\n",
    "       'status_household_Other relative', 'status_household_Parent',\n",
    "       'status_household_Spouse', 'edu_cat']\n",
    "processed_X_train = scaler.fit_transform(X_train[columns_to_scale])"
   ]
  },
  {
   "cell_type": "markdown",
   "id": "5198f4ca-e0e3-4102-8c34-2dc3bbc9ec51",
   "metadata": {},
   "source": [
    "# Train Test Split (stratified)"
   ]
  },
  {
   "cell_type": "code",
   "execution_count": 47,
   "id": "37d0b0d6-a559-48ad-9af5-74d8f5019222",
   "metadata": {},
   "outputs": [],
   "source": [
    "X_Train, X_Val, y_Train, y_Val = train_test_split(processed_X_train, y_train, stratify = y_train, \n",
    "                                                  test_size = 0.2, random_state=RSEED)"
   ]
  },
  {
   "cell_type": "markdown",
   "id": "89624bca-0cac-45d8-8d76-c915f6ec5d88",
   "metadata": {},
   "source": [
    "# Baseline Model 1 Simple decision tree"
   ]
  },
  {
   "cell_type": "code",
   "execution_count": 48,
   "id": "261e0aaa-95ea-4b57-a5bb-30c682cf991b",
   "metadata": {},
   "outputs": [
    {
     "data": {
      "text/plain": [
       "DecisionTreeClassifier(max_depth=15, random_state=33)"
      ]
     },
     "execution_count": 48,
     "metadata": {},
     "output_type": "execute_result"
    }
   ],
   "source": [
    "Tree = DecisionTreeClassifier(criterion='gini', max_depth=15, random_state=RSEED)\n",
    "Tree.fit(X_Train, y_Train) "
   ]
  },
  {
   "cell_type": "code",
   "execution_count": 49,
   "id": "ac0734d6-c864-4fd1-ac2d-90d98797501d",
   "metadata": {},
   "outputs": [],
   "source": [
    "y_pred_Train_tree = Tree.predict(X_Train)\n",
    "y_pred_Val_tree = Tree.predict(X_Val)"
   ]
  },
  {
   "cell_type": "code",
   "execution_count": 50,
   "id": "7b5fc326-e3a2-40ab-b6dc-c02da11526bf",
   "metadata": {},
   "outputs": [
    {
     "name": "stdout",
     "output_type": "stream",
     "text": [
      "Accuracy Train:  0.9323024602795048\n",
      "Accuracy Test:  0.8650371944739639\n",
      "F1-score Train:  0.7021972884525479\n",
      "F1-score Test:  0.40709617180205415\n",
      "Recall Train:  0.5667924528301886\n",
      "Recall Test:  0.3293051359516616\n"
     ]
    }
   ],
   "source": [
    "print('Accuracy Train: ',metrics.accuracy_score(y_Train, y_pred_Train_tree))\n",
    "print('Accuracy Test: ',metrics.accuracy_score(y_Val, y_pred_Val_tree))\n",
    "print('F1-score Train: ',metrics.f1_score(y_Train, y_pred_Train_tree, pos_label=1))\n",
    "print('F1-score Test: ',metrics.f1_score(y_Val, y_pred_Val_tree, pos_label=1))\n",
    "print('Recall Train: ',metrics.recall_score(y_Train, y_pred_Train_tree, pos_label=1))\n",
    "print('Recall Test: ',metrics.recall_score(y_Val, y_pred_Val_tree, pos_label=1))"
   ]
  },
  {
   "cell_type": "code",
   "execution_count": 76,
   "id": "bedf5075-2de0-4d59-9451-75310856d811",
   "metadata": {},
   "outputs": [],
   "source": [
    "cfm_tree = metrics.confusion_matrix(y_Val, y_pred_Val_tree)"
   ]
  },
  {
   "cell_type": "code",
   "execution_count": 77,
   "id": "4fee0986-bc0f-41fa-8e08-5e3488b64f8f",
   "metadata": {},
   "outputs": [
    {
     "data": {
      "image/png": "[encoded data removed]",
      "text/plain": [
       "<Figure size 640x480 with 2 Axes>"
      ]
     },
     "metadata": {},
     "output_type": "display_data"
    }
   ],
   "source": [
    "group_names = ['True Neg','False Pos','False Neg','True Pos']\n",
    "group_counts = ['{0:0.0f}'.format(value) for value in\n",
    "                cfm_tree.flatten()]\n",
    "group_percentages = ['{0:.2%}'.format(value) for value in\n",
    "                     cfm_tree.flatten()/np.sum(cfm_tree)]\n",
    "labels = [f'{v1}\\n{v2}\\n{v3}' for v1, v2, v3 in\n",
    "          zip(group_names,group_counts,group_percentages)]\n",
    "labels = np.asarray(labels).reshape(2,2)\n",
    "sns.heatmap(cfm_tree, annot=labels, fmt='', cmap='Blues');"
   ]
  },
  {
   "cell_type": "markdown",
   "id": "e2464239-f980-4667-8c7e-94c380f6e4e2",
   "metadata": {},
   "source": [
    "# Baseline Model 2 Logistic Regression"
   ]
  },
  {
   "cell_type": "code",
   "execution_count": 52,
   "id": "c36055a8-fbfb-4e9e-ba5a-1749909af0c5",
   "metadata": {
    "tags": []
   },
   "outputs": [
    {
     "data": {
      "text/plain": [
       "LogisticRegression(random_state=33)"
      ]
     },
     "execution_count": 52,
     "metadata": {},
     "output_type": "execute_result"
    }
   ],
   "source": [
    "logreg = LogisticRegression(random_state=RSEED)\n",
    "logreg.fit(X_Train, y_Train) "
   ]
  },
  {
   "cell_type": "code",
   "execution_count": 53,
   "id": "041e4f59-0064-4831-8f8a-4785b20939e3",
   "metadata": {},
   "outputs": [],
   "source": [
    "y_pred_Train_log = logreg.predict(X_Train)\n",
    "y_pred_Val_log = logreg.predict(X_Val)"
   ]
  },
  {
   "cell_type": "code",
   "execution_count": 54,
   "id": "34519d78-e0b9-4c03-88d2-464f11ddac8f",
   "metadata": {},
   "outputs": [
    {
     "name": "stdout",
     "output_type": "stream",
     "text": [
      "Accuracy Train:  0.8859131728572188\n",
      "Accuracy Test:  0.8801275239107332\n",
      "F1-score Train:  0.449345986150295\n",
      "F1-score Test:  0.4088050314465409\n",
      "Recall Train:  0.3305660377358491\n",
      "Recall Test:  0.2945619335347432\n"
     ]
    }
   ],
   "source": [
    "print('Accuracy Train: ',metrics.accuracy_score(y_Train, y_pred_Train_log))\n",
    "print('Accuracy Test: ',metrics.accuracy_score(y_Val, y_pred_Val_log))\n",
    "print('F1-score Train: ',metrics.f1_score(y_Train, y_pred_Train_log, pos_label=1))\n",
    "print('F1-score Test: ',metrics.f1_score(y_Val, y_pred_Val_log, pos_label=1))\n",
    "print('Recall Train: ',metrics.recall_score(y_Train, y_pred_Train_log, pos_label=1))\n",
    "print('Recall Test: ',metrics.recall_score(y_Val, y_pred_Val_log, pos_label=1))"
   ]
  },
  {
   "cell_type": "code",
   "execution_count": 55,
   "id": "ce5805d7-1a3f-4e1e-9efc-d89ede80951a",
   "metadata": {},
   "outputs": [],
   "source": [
    "cfm_log = metrics.confusion_matrix(y_Val, y_pred_Val_log)"
   ]
  },
  {
   "cell_type": "code",
   "execution_count": 67,
   "id": "0f731f18-f77d-4431-b6af-6531c649253c",
   "metadata": {},
   "outputs": [
    {
     "data": {
      "image/png": "[encoded data removed]",
      "text/plain": [
       "<Figure size 640x480 with 2 Axes>"
      ]
     },
     "metadata": {},
     "output_type": "display_data"
    }
   ],
   "source": [
    "group_names = ['True Neg','False Pos','False Neg','True Pos']\n",
    "group_counts = ['{0:0.0f}'.format(value) for value in\n",
    "                cfm_tree.flatten()]\n",
    "group_percentages = ['{0:.2%}'.format(value) for value in\n",
    "                     cfm_tree.flatten()/np.sum(cfm_tree)]\n",
    "labels = [f'{v1}\\n{v2}\\n{v3}' for v1, v2, v3 in\n",
    "          zip(group_names,group_counts,group_percentages)]\n",
    "labels = np.asarray(labels).reshape(2,2)\n",
    "sns.heatmap(cfm_tree, annot=labels, fmt='', cmap='Blues');"
   ]
  },
  {
   "cell_type": "code",
   "execution_count": 56,
   "id": "89d1774b-1215-45bb-96bd-18dc9e9877b3",
   "metadata": {},
   "outputs": [
    {
     "data": {
      "image/png": "[encoded data removed]",
      "text/plain": [
       "<Figure size 640x480 with 2 Axes>"
      ]
     },
     "metadata": {},
     "output_type": "display_data"
    }
   ],
   "source": [
    "group_names = ['True Neg','False Pos','False Neg','True Pos']\n",
    "group_counts = ['{0:0.0f}'.format(value) for value in\n",
    "                cfm_log.flatten()]\n",
    "group_percentages = ['{0:.2%}'.format(value) for value in\n",
    "                     cfm_log.flatten()/np.sum(cfm_log)]\n",
    "labels = [f'{v1}\\n{v2}\\n{v3}' for v1, v2, v3 in\n",
    "          zip(group_names,group_counts,group_percentages)]\n",
    "labels = np.asarray(labels).reshape(2,2)\n",
    "sns.heatmap(cfm_log, annot=labels, fmt='', cmap='Blues');"
   ]
  },
  {
   "cell_type": "markdown",
   "id": "6ef1f9c5-8106-4e47-a344-cbaf10e7dc7a",
   "metadata": {},
   "source": [
    "# Baseline Model 3 Random Forest"
   ]
  },
  {
   "cell_type": "code",
   "execution_count": 61,
   "id": "69526c78-314c-4357-b6f4-13d2036cda30",
   "metadata": {},
   "outputs": [],
   "source": [
    "from sklearn.ensemble import RandomForestClassifier"
   ]
  },
  {
   "cell_type": "code",
   "execution_count": 68,
   "id": "560b71f2-232b-4f15-8ed6-bea80afc7379",
   "metadata": {
    "tags": []
   },
   "outputs": [
    {
     "data": {
      "text/plain": [
       "RandomForestClassifier(n_estimators=1000, random_state=33)"
      ]
     },
     "execution_count": 68,
     "metadata": {},
     "output_type": "execute_result"
    }
   ],
   "source": [
    "rf = RandomForestClassifier(n_estimators = 1000, random_state = RSEED)\n",
    "rf.fit(X_Train, y_Train) "
   ]
  },
  {
   "cell_type": "code",
   "execution_count": 69,
   "id": "902316e1-a9c4-424d-8e3f-67e862b9251d",
   "metadata": {},
   "outputs": [],
   "source": [
    "y_pred_Train_rf = rf.predict(X_Train)\n",
    "y_pred_Val_rf = rf.predict(X_Val)"
   ]
  },
  {
   "cell_type": "code",
   "execution_count": 73,
   "id": "15a73993-55af-4ea6-b98f-bb3215101f5d",
   "metadata": {},
   "outputs": [
    {
     "name": "stdout",
     "output_type": "stream",
     "text": [
      "Accuracy Train:  0.9799139167862266\n",
      "Accuracy Test:  0.867375132837407\n",
      "F1-score Train:  0.9249404289118347\n",
      "F1-score Test:  0.42857142857142855\n",
      "Recall Train:  0.8788679245283019\n",
      "Recall Test:  0.35347432024169184\n",
      "Precision Train:  0.9761106454316848\n",
      "Precision Test:  0.5441860465116279\n"
     ]
    }
   ],
   "source": [
    "print('Accuracy Train: ',metrics.accuracy_score(y_Train, y_pred_Train_rf))\n",
    "print('Accuracy Test: ',metrics.accuracy_score(y_Val, y_pred_Val_rf))\n",
    "print('F1-score Train: ',metrics.f1_score(y_Train, y_pred_Train_rf, pos_label=1))\n",
    "print('F1-score Test: ',metrics.f1_score(y_Val, y_pred_Val_rf, pos_label=1))\n",
    "print('Recall Train: ',metrics.recall_score(y_Train, y_pred_Train_rf, pos_label=1))\n",
    "print('Recall Test: ',metrics.recall_score(y_Val, y_pred_Val_rf, pos_label=1))\n",
    "print('Precision Train: ',metrics.precision_score(y_Train, y_pred_Train_rf, pos_label=1))\n",
    "print('Precision Test: ',metrics.precision_score(y_Val, y_pred_Val_rf, pos_label=1))"
   ]
  },
  {
   "cell_type": "code",
   "execution_count": 74,
   "id": "246a855f-9c18-499d-826b-cb9be291827d",
   "metadata": {
    "tags": []
   },
   "outputs": [],
   "source": [
    "cfm_rf = metrics.confusion_matrix(y_Val, y_pred_Val_rf)"
   ]
  },
  {
   "cell_type": "code",
   "execution_count": 75,
   "id": "49e65e2a-ca86-4664-86c7-3d09bbf3b421",
   "metadata": {},
   "outputs": [
    {
     "data": {
      "image/png": "[encoded data removed]",
      "text/plain": [
       "<Figure size 640x480 with 2 Axes>"
      ]
     },
     "metadata": {},
     "output_type": "display_data"
    }
   ],
   "source": [
    "group_names = ['True Neg','False Pos','False Neg','True Pos']\n",
    "group_counts = ['{0:0.0f}'.format(value) for value in\n",
    "                cfm_rf.flatten()]\n",
    "group_percentages = ['{0:.2%}'.format(value) for value in\n",
    "                     cfm_rf.flatten()/np.sum(cfm_rf)]\n",
    "labels = [f'{v1}\\n{v2}\\n{v3}' for v1, v2, v3 in\n",
    "          zip(group_names,group_counts,group_percentages)]\n",
    "labels = np.asarray(labels).reshape(2,2)\n",
    "sns.heatmap(cfm_rf, annot=labels, fmt='', cmap='Blues');"
   ]
  }
 ],
 "metadata": {
  "kernelspec": {
   "display_name": "Python 3 (ipykernel)",
   "language": "python",
   "name": "python3"
  },
  "language_info": {
   "codemirror_mode": {
    "name": "ipython",
    "version": 3
   },
   "file_extension": ".py",
   "mimetype": "text/x-python",
   "name": "python",
   "nbconvert_exporter": "python",
   "pygments_lexer": "ipython3",
   "version": "3.9.8"
  }
 },
 "nbformat": 4,
 "nbformat_minor": 5
}
